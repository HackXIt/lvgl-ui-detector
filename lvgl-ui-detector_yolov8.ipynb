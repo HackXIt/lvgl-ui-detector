{
 "cells": [
  {
   "cell_type": "markdown",
   "metadata": {},
   "source": [
    "# General notebook preparation"
   ]
  },
  {
   "cell_type": "code",
   "execution_count": 2,
   "metadata": {},
   "outputs": [],
   "source": [
    "# Standard library imports\n",
    "import os\n",
    "import sys\n",
    "import yaml"
   ]
  },
  {
   "cell_type": "code",
   "execution_count": 3,
   "metadata": {},
   "outputs": [],
   "source": [
    "# Set constants for environment\n",
    "IN_COLAB = 'google.colab' in sys.modules\n",
    "IN_LOCAL_CONTAINER = 'HOMELAB' in os.environ\n",
    "env = {\n",
    "    'PROJECT_NAME': 'LVGL UI Detector',\n",
    "    'PROJECT_TAG': 'lvgl-ui-detector',\n",
    "    'IN_COLAB': IN_COLAB,\n",
    "    'IN_LOCAL_CONTAINER': IN_LOCAL_CONTAINER,\n",
    "    'DIRS': {},\n",
    "    'FILES': {},\n",
    "    'ENV': os.environ,\n",
    "}\n",
    "required_modules = ['ultralytics', 'clearml']"
   ]
  },
  {
   "cell_type": "markdown",
   "metadata": {},
   "source": [
    "# Environment setups"
   ]
  },
  {
   "cell_type": "code",
   "execution_count": 4,
   "metadata": {},
   "outputs": [],
   "source": [
    "if IN_COLAB:\n",
    "    from google.colab import drive\n",
    "    drive.mount('/content/drive') # Mount Google Drive\n",
    "    env['DIRS']['root'] = os.path.join(\"/content/drive/MyDrive/project\")\n",
    "elif IN_LOCAL_CONTAINER:\n",
    "    # Local container already comes with the required modules pre-installed\n",
    "    env['DIRS']['root'] = \"/usr/src\"\n",
    "else:\n",
    "    # Local development environment needs to have the required modules installed\n",
    "    env['DIRS']['root'] = os.path.curdir"
   ]
  },
  {
   "cell_type": "code",
   "execution_count": 5,
   "metadata": {},
   "outputs": [],
   "source": [
    "# Import all dependencies\n",
    "missing_deps = False\n",
    "try:\n",
    "    from ultralytics import YOLO\n",
    "    from clearml import Task, TaskTypes, Dataset, StorageManager, Logger\n",
    "    import yaml\n",
    "except ImportError as e:\n",
    "    print(f\"Failed to import required dependencies: {e}\")\n",
    "    missing_deps = True\n",
    "    print(\"Run the next cell to install the required dependencies and then restart the runtime.\")"
   ]
  },
  {
   "cell_type": "code",
   "execution_count": 6,
   "metadata": {},
   "outputs": [],
   "source": [
    "if missing_deps:\n",
    "    %pip install -q {*required_modules}"
   ]
  },
  {
   "cell_type": "code",
   "execution_count": 7,
   "metadata": {},
   "outputs": [
    {
     "name": "stdout",
     "output_type": "stream",
     "text": [
      "Name: ultralytics\n",
      "Version: 8.1.47\n",
      "Summary: Ultralytics YOLOv8 for SOTA object detection, multi-object tracking, instance segmentation, pose estimation and image classification.\n",
      "Home-page: \n",
      "Author: Glenn Jocher, Ayush Chaurasia, Jing Qiu\n",
      "Author-email: \n",
      "License: AGPL-3.0\n",
      "Location: /home/rini-debian/git-stash/lvgl-ui-detector/.venv/lib/python3.11/site-packages\n",
      "Requires: matplotlib, opencv-python, pandas, pillow, psutil, py-cpuinfo, pyyaml, requests, scipy, seaborn, thop, torch, torchvision, tqdm\n",
      "Required-by: \n",
      "Note: you may need to restart the kernel to use updated packages.\n",
      "Name: clearml\n",
      "Version: 1.15.1\n",
      "Summary: ClearML - Auto-Magical Experiment Manager, Version Control, and MLOps for AI\n",
      "Home-page: https://github.com/allegroai/clearml\n",
      "Author: ClearML\n",
      "Author-email: support@clear.ml\n",
      "License: Apache License 2.0\n",
      "Location: /home/rini-debian/git-stash/lvgl-ui-detector/.venv/lib/python3.11/site-packages\n",
      "Requires: attrs, furl, jsonschema, numpy, pathlib2, Pillow, psutil, pyjwt, pyparsing, python-dateutil, PyYAML, referencing, requests, six, urllib3\n",
      "Required-by: \n",
      "Note: you may need to restart the kernel to use updated packages.\n"
     ]
    }
   ],
   "source": [
    "# Show the used versions of the required modules\n",
    "for module in required_modules:\n",
    "    %pip show {module}"
   ]
  },
  {
   "cell_type": "code",
   "execution_count": 8,
   "metadata": {},
   "outputs": [],
   "source": [
    "# Configure folders\n",
    "env['DIRS']['data'] = os.path.join(env['DIRS']['root'], \"datasets\")"
   ]
  },
  {
   "cell_type": "code",
   "execution_count": 9,
   "metadata": {},
   "outputs": [],
   "source": [
    "# Query ClearML for available datasets\n",
    "datasets = Dataset.list_datasets(env['PROJECT_NAME'], partial_name=\"UI Randomizer\", tags=[env['PROJECT_TAG']], only_completed=True)\n",
    "# Store dataset filenames per dataset\n",
    "env['DATASETS'] = {}\n",
    "for dataset in datasets:\n",
    "    env['FILES'][dataset['id']] = Dataset.get(dataset['id']).list_files(\"*.yaml\")\n",
    "    env['DATASETS'][dataset['id']] = dataset\n"
   ]
  },
  {
   "cell_type": "code",
   "execution_count": 10,
   "metadata": {},
   "outputs": [
    {
     "name": "stdout",
     "output_type": "stream",
     "text": [
      "{'d1c4ec5c8f7e4492ab7b2a8d0b584c88': ['ui_randoms.yaml'], 'e7f05a856ca34cd88940c4b8774f4c45': ['ui_randoms.yaml'], '50e10f640d7548458d9c38ab9aac571b': ['ui_randoms.yaml'], 'e113a14fec574025a15a5c9868746c4b': ['dataset_upload_test.yaml'], 'c520737c392c47608ffd52f33fc593f6': ['dataset_upload_test.yaml'], '12f2a7ee7a7f45b8866d2c5f75e92413': ['dataset_upload_test.yaml'], '640fc2e67b3b4b498fe6d9b1da764911': ['dataset_upload_test.yaml'], 'cef7f5e021484b089a5eccf0c014d150': ['dataset_upload_test.yaml'], '28b1c17f1fef47a793f9ac086b2d6b10': ['dataset_upload_test.yaml'], 'af33141c123843d4bf0c50db76635bba': ['dataset_upload_test.yaml'], '2b561087cf974658b576fbd17a87bc87': ['dataset_upload_test.yaml'], '366058db107e485ca273a11601e68e7a': ['dataset_upload_test.yaml'], 'f4d7bdcb58534f1ebbc5c5578b6801a5': ['dataset_upload_test.yaml'], '90648781cf4f4848a2a66ca572e1edf5': ['dataset_upload_test.yaml'], 'a4b6cc7161334df1ad94143a819842d6': ['dataset_upload_test.yaml'], '853a677148c5417e8cc003d6761236e3': ['dataset_upload_test.yaml'], 'b4f89b652b1940848f186c5ab9e2de3f': ['dataset_upload_test.yaml'], '231b526d445b416fa487fc902a1ebb0e': ['dataset_upload_test.yaml'], '55a19d9bd15c4c67a6931e3eba7b454a': ['dataset_upload_test.yaml'], 'e8289fd5259c4e78830fd2e2d88a6d51': ['dataset_upload_test.yaml'], '55fba0728c3d4af1953fa0fe04b30ce6': ['dataset_upload_test.yaml'], 'abc76956f1de41b386fa805e8858c884': ['ui_widgets.yaml'], '326ea43fc9ff4e6db5209218b6020ca6': ['ui_widgets.yaml'], '172affc0c4bb4a369e75f685782b5ad8': ['ui_widgets.yaml']}\n",
      "{'d1c4ec5c8f7e4492ab7b2a8d0b584c88': {'name': 'UI Randomizer - ui_randoms', 'created': datetime.datetime(2024, 4, 14, 11, 22, 26, 188000, tzinfo=tzutc()), 'project': 'LVGL UI Detector', 'id': 'd1c4ec5c8f7e4492ab7b2a8d0b584c88', 'tags': ['lvgl-ui-detector', 'random'], 'version': '1.0.0'}, 'e7f05a856ca34cd88940c4b8774f4c45': {'name': 'UI Randomizer - ui_randoms', 'created': datetime.datetime(2024, 4, 14, 11, 27, 37, 196000, tzinfo=tzutc()), 'project': 'LVGL UI Detector', 'id': 'e7f05a856ca34cd88940c4b8774f4c45', 'tags': ['lvgl-ui-detector', 'random'], 'version': '1.0.1'}, '50e10f640d7548458d9c38ab9aac571b': {'name': 'UI Randomizer - ui_randoms', 'created': datetime.datetime(2024, 4, 15, 20, 42, 11, 688000, tzinfo=tzutc()), 'project': 'LVGL UI Detector', 'id': '50e10f640d7548458d9c38ab9aac571b', 'tags': ['lvgl-ui-detector', 'random'], 'version': '1.0.2'}, 'e113a14fec574025a15a5c9868746c4b': {'name': 'UI Randomizer - dataset_upload_test', 'created': datetime.datetime(2024, 4, 8, 22, 57, 58, 314000, tzinfo=tzutc()), 'project': 'LVGL UI Detector', 'id': 'e113a14fec574025a15a5c9868746c4b', 'tags': ['lvgl-ui-detector', 'random'], 'version': '1.0.0'}, 'c520737c392c47608ffd52f33fc593f6': {'name': 'UI Randomizer - dataset_upload_test', 'created': datetime.datetime(2024, 4, 8, 23, 31, 19, 726000, tzinfo=tzutc()), 'project': 'LVGL UI Detector', 'id': 'c520737c392c47608ffd52f33fc593f6', 'tags': ['lvgl-ui-detector', 'random'], 'version': '1.0.1'}, '12f2a7ee7a7f45b8866d2c5f75e92413': {'name': 'UI Randomizer - dataset_upload_test', 'created': datetime.datetime(2024, 4, 8, 23, 33, 35, 792000, tzinfo=tzutc()), 'project': 'LVGL UI Detector', 'id': '12f2a7ee7a7f45b8866d2c5f75e92413', 'tags': ['lvgl-ui-detector', 'random'], 'version': '1.0.2'}, '640fc2e67b3b4b498fe6d9b1da764911': {'name': 'UI Randomizer - dataset_upload_test', 'created': datetime.datetime(2024, 4, 8, 23, 38, 33, 361000, tzinfo=tzutc()), 'project': 'LVGL UI Detector', 'id': '640fc2e67b3b4b498fe6d9b1da764911', 'tags': ['lvgl-ui-detector', 'random'], 'version': '1.0.3'}, 'cef7f5e021484b089a5eccf0c014d150': {'name': 'UI Randomizer - dataset_upload_test', 'created': datetime.datetime(2024, 4, 8, 23, 41, 2, 462000, tzinfo=tzutc()), 'project': 'LVGL UI Detector', 'id': 'cef7f5e021484b089a5eccf0c014d150', 'tags': ['lvgl-ui-detector', 'random'], 'version': '1.0.4'}, '28b1c17f1fef47a793f9ac086b2d6b10': {'name': 'UI Randomizer - dataset_upload_test', 'created': datetime.datetime(2024, 4, 14, 14, 43, 47, 138000, tzinfo=tzutc()), 'project': 'LVGL UI Detector', 'id': '28b1c17f1fef47a793f9ac086b2d6b10', 'tags': ['lvgl-ui-detector', 'random'], 'version': '1.0.5'}, 'af33141c123843d4bf0c50db76635bba': {'name': 'UI Randomizer - dataset_upload_test', 'created': datetime.datetime(2024, 4, 14, 18, 25, 16, 614000, tzinfo=tzutc()), 'project': 'LVGL UI Detector', 'id': 'af33141c123843d4bf0c50db76635bba', 'tags': ['lvgl-ui-detector', 'random'], 'version': '1.0.6'}, '2b561087cf974658b576fbd17a87bc87': {'name': 'UI Randomizer - dataset_upload_test', 'created': datetime.datetime(2024, 4, 14, 18, 36, 40, 142000, tzinfo=tzutc()), 'project': 'LVGL UI Detector', 'id': '2b561087cf974658b576fbd17a87bc87', 'tags': ['lvgl-ui-detector', 'random'], 'version': '1.0.7'}, '366058db107e485ca273a11601e68e7a': {'name': 'UI Randomizer - dataset_upload_test', 'created': datetime.datetime(2024, 4, 14, 19, 40, 59, 124000, tzinfo=tzutc()), 'project': 'LVGL UI Detector', 'id': '366058db107e485ca273a11601e68e7a', 'tags': ['lvgl-ui-detector', 'random'], 'version': '1.0.8'}, 'f4d7bdcb58534f1ebbc5c5578b6801a5': {'name': 'UI Randomizer - dataset_upload_test', 'created': datetime.datetime(2024, 4, 14, 19, 44, 19, 717000, tzinfo=tzutc()), 'project': 'LVGL UI Detector', 'id': 'f4d7bdcb58534f1ebbc5c5578b6801a5', 'tags': ['lvgl-ui-detector', 'random'], 'version': '1.0.9'}, '90648781cf4f4848a2a66ca572e1edf5': {'name': 'UI Randomizer - dataset_upload_test', 'created': datetime.datetime(2024, 4, 14, 21, 56, 9, 275000, tzinfo=tzutc()), 'project': 'LVGL UI Detector', 'id': '90648781cf4f4848a2a66ca572e1edf5', 'tags': ['lvgl-ui-detector', 'random'], 'version': '1.0.10'}, 'a4b6cc7161334df1ad94143a819842d6': {'name': 'UI Randomizer - dataset_upload_test', 'created': datetime.datetime(2024, 4, 14, 22, 10, 22, 980000, tzinfo=tzutc()), 'project': 'LVGL UI Detector', 'id': 'a4b6cc7161334df1ad94143a819842d6', 'tags': ['lvgl-ui-detector', 'random'], 'version': '1.0.11'}, '853a677148c5417e8cc003d6761236e3': {'name': 'UI Randomizer - dataset_upload_test', 'created': datetime.datetime(2024, 4, 14, 23, 30, 48, 998000, tzinfo=tzutc()), 'project': 'LVGL UI Detector', 'id': '853a677148c5417e8cc003d6761236e3', 'tags': ['lvgl-ui-detector', 'random'], 'version': '1.0.12'}, 'b4f89b652b1940848f186c5ab9e2de3f': {'name': 'UI Randomizer - dataset_upload_test', 'created': datetime.datetime(2024, 4, 14, 23, 49, 37, 994000, tzinfo=tzutc()), 'project': 'LVGL UI Detector', 'id': 'b4f89b652b1940848f186c5ab9e2de3f', 'tags': ['lvgl-ui-detector', 'random'], 'version': '1.0.13'}, '231b526d445b416fa487fc902a1ebb0e': {'name': 'UI Randomizer - dataset_upload_test', 'created': datetime.datetime(2024, 4, 14, 23, 54, 50, 828000, tzinfo=tzutc()), 'project': 'LVGL UI Detector', 'id': '231b526d445b416fa487fc902a1ebb0e', 'tags': ['lvgl-ui-detector', 'random'], 'version': '1.0.14'}, '55a19d9bd15c4c67a6931e3eba7b454a': {'name': 'UI Randomizer - dataset_upload_test', 'created': datetime.datetime(2024, 4, 15, 0, 38, 34, 542000, tzinfo=tzutc()), 'project': 'LVGL UI Detector', 'id': '55a19d9bd15c4c67a6931e3eba7b454a', 'tags': ['lvgl-ui-detector', 'random'], 'version': '1.0.15'}, 'e8289fd5259c4e78830fd2e2d88a6d51': {'name': 'UI Randomizer - dataset_upload_test', 'created': datetime.datetime(2024, 4, 15, 0, 56, 6, 270000, tzinfo=tzutc()), 'project': 'LVGL UI Detector', 'id': 'e8289fd5259c4e78830fd2e2d88a6d51', 'tags': ['lvgl-ui-detector', 'random'], 'version': '1.0.16'}, '55fba0728c3d4af1953fa0fe04b30ce6': {'name': 'UI Randomizer - dataset_upload_test', 'created': datetime.datetime(2024, 4, 15, 1, 53, 57, 715000, tzinfo=tzutc()), 'project': 'LVGL UI Detector', 'id': '55fba0728c3d4af1953fa0fe04b30ce6', 'tags': ['lvgl-ui-detector', 'random'], 'version': '1.0.18'}, 'abc76956f1de41b386fa805e8858c884': {'name': 'UI Randomizer - ui_widgets', 'created': datetime.datetime(2024, 4, 13, 14, 48, 17, 211000, tzinfo=tzutc()), 'project': 'LVGL UI Detector', 'id': 'abc76956f1de41b386fa805e8858c884', 'tags': ['lvgl-ui-detector', 'random'], 'version': '1.0.0'}, '326ea43fc9ff4e6db5209218b6020ca6': {'name': 'UI Randomizer - ui_widgets', 'created': datetime.datetime(2024, 4, 13, 15, 20, 13, 649000, tzinfo=tzutc()), 'project': 'LVGL UI Detector', 'id': '326ea43fc9ff4e6db5209218b6020ca6', 'tags': ['lvgl-ui-detector', 'random'], 'version': '1.0.1'}, '172affc0c4bb4a369e75f685782b5ad8': {'name': 'UI Randomizer - ui_widgets', 'created': datetime.datetime(2024, 4, 13, 16, 7, 33, 413000, tzinfo=tzutc()), 'project': 'LVGL UI Detector', 'id': '172affc0c4bb4a369e75f685782b5ad8', 'tags': ['lvgl-ui-detector', 'random'], 'version': '1.0.2'}}\n"
     ]
    }
   ],
   "source": [
    "# Debugging output\n",
    "\n",
    "print(env['FILES'])\n",
    "print(env['DATASETS'])"
   ]
  },
  {
   "cell_type": "markdown",
   "metadata": {},
   "source": [
    "# Helper functions"
   ]
  },
  {
   "cell_type": "code",
   "execution_count": 11,
   "metadata": {},
   "outputs": [],
   "source": [
    "def download_dataset(id: str, overwrite: bool = True):\n",
    "    dataset = Dataset.get(id)\n",
    "    return dataset.get_mutable_local_copy(env['DIRS']['data'], overwrite=overwrite)"
   ]
  },
  {
   "cell_type": "code",
   "execution_count": 12,
   "metadata": {},
   "outputs": [],
   "source": [
    "def fix_dataset_path(file: str, replacement_path: str):\n",
    "    # Replace path in dataset file to match current environment\n",
    "    with open(file, 'r+') as f:\n",
    "        dataset_content = yaml.safe_load(f)\n",
    "        dataset_content['path'] = replacement_path\n",
    "        print(f\"Original dataset:\\n{dataset_content}\")\n",
    "        f.seek(0)\n",
    "        yaml.dump(dataset_content, f)\n",
    "        f.truncate()\n",
    "        f.seek(0)\n",
    "        print(f\"Adjusted dataset:\\n{f.read()}\")\n",
    "        return dataset_content"
   ]
  },
  {
   "cell_type": "code",
   "execution_count": 13,
   "metadata": {},
   "outputs": [],
   "source": [
    "def training_task(model_variant: str, dataset_id: str, args: dict, project: str = \"LVGL UI Detector\"):\n",
    "    # Download & modify dataset\n",
    "    env['DIRS']['target'] = download_dataset(dataset_id)\n",
    "    dataset_file = os.path.join(env['DIRS']['target'], env['FILES'][dataset_id][0])\n",
    "    dataset_content = fix_dataset_path(dataset_file, env['DIRS']['target'])\n",
    "    args['data'] = os.path.join(env['DIRS']['target'], env['FILES'][dataset_id][0])\n",
    "    # Create a ClearML Task\n",
    "    task = Task.init(\n",
    "        project_name=\"LVGL UI Detector\",\n",
    "        task_name=f\"Train {model_variant} ({env['DATASETS'][dataset_id]['name']})\",\n",
    "        task_type=TaskTypes.training,\n",
    "    )\n",
    "    # Log \"model_variant\" parameter to task\n",
    "    task.set_parameter(\"model_variant\", model_variant)\n",
    "    task.connect_configuration(name=\"Dataset YAML\", configuration=args['data'])\n",
    "    task.connect_configuration(name=\"Dataset Content\", configuration=dataset_content)\n",
    "\n",
    "    # Load the YOLOv8 model\n",
    "    model = YOLO(f'{model_variant}.pt')\n",
    "    task.connect(args)\n",
    "\n",
    "    # Train the model \n",
    "    # If running remotely, the arguments may be overridden by ClearML if they were changed in the UI\n",
    "    try:\n",
    "        results = model.train(**args)\n",
    "    except Exception as e:\n",
    "        raise e\n",
    "    finally:\n",
    "        task.close()\n",
    "    return results"
   ]
  },
  {
   "cell_type": "markdown",
   "metadata": {},
   "source": [
    "# Choose dataset"
   ]
  },
  {
   "cell_type": "code",
   "execution_count": 14,
   "metadata": {},
   "outputs": [],
   "source": [
    "valid_choice = False\n",
    "while not valid_choice:\n",
    "    dataset_choice = '50e10f640d7548458d9c38ab9aac571b'#@param {type:\"string\"}\n",
    "    if dataset_choice in env['DATASETS'].keys():\n",
    "        valid_choice = True\n",
    "    else:\n",
    "        print(\"Dataset ID not found, please try again.\")"
   ]
  },
  {
   "cell_type": "markdown",
   "metadata": {},
   "source": [
    "# Model training"
   ]
  },
  {
   "cell_type": "code",
   "execution_count": 15,
   "metadata": {},
   "outputs": [
    {
     "name": "stdout",
     "output_type": "stream",
     "text": [
      "Original dataset:\n",
      "{'names': {0: 'arc', 1: 'bar', 2: 'button', 3: 'buttonmatrix', 4: 'calendar', 5: 'chart', 6: 'checkbox', 7: 'dropdown', 8: 'image', 9: 'imagebutton', 10: 'keyboard', 11: 'label', 12: 'led', 13: 'line', 14: 'list', 15: 'menu', 16: 'messagebox', 17: 'roller', 18: 'scale', 19: 'slider', 20: 'spangroup', 21: 'spinbox', 22: 'spinner', 23: 'switch', 24: 'table', 25: 'tabview', 26: 'textarea', 27: 'tileview', 28: 'window'}, 'path': '/home/rini-debian/git-stash/lvgl-ui-detector/datasets', 'test': 'images/test', 'train': 'images/train', 'val': 'images/val'}\n",
      "Adjusted dataset:\n",
      "names:\n",
      "  0: arc\n",
      "  1: bar\n",
      "  2: button\n",
      "  3: buttonmatrix\n",
      "  4: calendar\n",
      "  5: chart\n",
      "  6: checkbox\n",
      "  7: dropdown\n",
      "  8: image\n",
      "  9: imagebutton\n",
      "  10: keyboard\n",
      "  11: label\n",
      "  12: led\n",
      "  13: line\n",
      "  14: list\n",
      "  15: menu\n",
      "  16: messagebox\n",
      "  17: roller\n",
      "  18: scale\n",
      "  19: slider\n",
      "  20: spangroup\n",
      "  21: spinbox\n",
      "  22: spinner\n",
      "  23: switch\n",
      "  24: table\n",
      "  25: tabview\n",
      "  26: textarea\n",
      "  27: tileview\n",
      "  28: window\n",
      "path: /home/rini-debian/git-stash/lvgl-ui-detector/datasets\n",
      "test: images/test\n",
      "train: images/train\n",
      "val: images/val\n",
      "\n",
      "ClearML Task: created new task id=a46cc25506e44b6d8a4d38a5c0226c24\n",
      "2024-04-16 04:42:15,343 - clearml.Task - INFO - Storing jupyter notebook directly as code\n",
      "ClearML results page: https://app.clear.ml/projects/5606a5f963624e2991df71add8ec09ce/experiments/a46cc25506e44b6d8a4d38a5c0226c24/output/log\n",
      "2024-04-16 04:42:25,217 - clearml.model - INFO - Selected model id: 40c589e1df76473abf94d430ece7f2dd\n",
      "Ultralytics YOLOv8.1.47 🚀 Python-3.11.2 torch-2.2.2+cu121 CUDA:0 (NVIDIA GeForce RTX 2060 with Max-Q Design, 6144MiB)\n",
      "\u001b[34m\u001b[1mengine/trainer: \u001b[0mtask=detect, mode=train, model=yolov8n.pt, data=/home/rini-debian/git-stash/lvgl-ui-detector/datasets/ui_randoms.yaml, epochs=100, time=None, patience=100, batch=16, imgsz=480, save=True, save_period=-1, cache=False, device=None, workers=8, project=None, name=train5, exist_ok=False, pretrained=True, optimizer=auto, verbose=True, seed=0, deterministic=True, single_cls=False, rect=False, cos_lr=False, close_mosaic=10, resume=False, amp=True, fraction=1.0, profile=False, freeze=None, multi_scale=False, overlap_mask=True, mask_ratio=4, dropout=0.0, val=True, split=val, save_json=False, save_hybrid=False, conf=None, iou=0.7, max_det=300, half=False, dnn=False, plots=True, source=None, vid_stride=1, stream_buffer=False, visualize=False, augment=False, agnostic_nms=False, classes=None, retina_masks=False, embed=None, show=False, save_frames=False, save_txt=False, save_conf=False, save_crop=False, show_labels=True, show_conf=True, show_boxes=True, line_width=None, format=torchscript, keras=False, optimize=False, int8=False, dynamic=False, simplify=False, opset=None, workspace=4, nms=False, lr0=0.01, lrf=0.01, momentum=0.937, weight_decay=0.0005, warmup_epochs=3.0, warmup_momentum=0.8, warmup_bias_lr=0.1, box=7.5, cls=0.5, dfl=1.5, pose=12.0, kobj=1.0, label_smoothing=0.0, nbs=64, hsv_h=0.015, hsv_s=0.7, hsv_v=0.4, degrees=0.0, translate=0.1, scale=0.5, shear=0.0, perspective=0.0, flipud=0.0, fliplr=0.5, bgr=0.0, mosaic=1.0, mixup=0.0, copy_paste=0.0, auto_augment=randaugment, erasing=0.4, crop_fraction=1.0, cfg=None, tracker=botsort.yaml, save_dir=/home/rini-debian/git-stash/lvgl-ui-detector/runs/detect/train5\n",
      "Overriding model.yaml nc=80 with nc=29\n",
      "\n",
      "                   from  n    params  module                                       arguments                     \n",
      "  0                  -1  1       464  ultralytics.nn.modules.conv.Conv             [3, 16, 3, 2]                 \n",
      "  1                  -1  1      4672  ultralytics.nn.modules.conv.Conv             [16, 32, 3, 2]                \n",
      "  2                  -1  1      7360  ultralytics.nn.modules.block.C2f             [32, 32, 1, True]             \n",
      "  3                  -1  1     18560  ultralytics.nn.modules.conv.Conv             [32, 64, 3, 2]                \n",
      "  4                  -1  2     49664  ultralytics.nn.modules.block.C2f             [64, 64, 2, True]             \n",
      "  5                  -1  1     73984  ultralytics.nn.modules.conv.Conv             [64, 128, 3, 2]               \n",
      "  6                  -1  2    197632  ultralytics.nn.modules.block.C2f             [128, 128, 2, True]           \n",
      "  7                  -1  1    295424  ultralytics.nn.modules.conv.Conv             [128, 256, 3, 2]              \n",
      "  8                  -1  1    460288  ultralytics.nn.modules.block.C2f             [256, 256, 1, True]           \n",
      "  9                  -1  1    164608  ultralytics.nn.modules.block.SPPF            [256, 256, 5]                 \n",
      " 10                  -1  1         0  torch.nn.modules.upsampling.Upsample         [None, 2, 'nearest']          \n",
      " 11             [-1, 6]  1         0  ultralytics.nn.modules.conv.Concat           [1]                           \n",
      " 12                  -1  1    148224  ultralytics.nn.modules.block.C2f             [384, 128, 1]                 \n",
      " 13                  -1  1         0  torch.nn.modules.upsampling.Upsample         [None, 2, 'nearest']          \n",
      " 14             [-1, 4]  1         0  ultralytics.nn.modules.conv.Concat           [1]                           \n",
      " 15                  -1  1     37248  ultralytics.nn.modules.block.C2f             [192, 64, 1]                  \n",
      " 16                  -1  1     36992  ultralytics.nn.modules.conv.Conv             [64, 64, 3, 2]                \n",
      " 17            [-1, 12]  1         0  ultralytics.nn.modules.conv.Concat           [1]                           \n",
      " 18                  -1  1    123648  ultralytics.nn.modules.block.C2f             [192, 128, 1]                 \n",
      " 19                  -1  1    147712  ultralytics.nn.modules.conv.Conv             [128, 128, 3, 2]              \n",
      " 20             [-1, 9]  1         0  ultralytics.nn.modules.conv.Concat           [1]                           \n",
      " 21                  -1  1    493056  ultralytics.nn.modules.block.C2f             [384, 256, 1]                 \n",
      " 22        [15, 18, 21]  1    756967  ultralytics.nn.modules.head.Detect           [29, [64, 128, 256]]          \n",
      "Model summary: 225 layers, 3016503 parameters, 3016487 gradients, 8.2 GFLOPs\n",
      "\n",
      "Transferred 319/355 items from pretrained weights\n",
      "Freezing layer 'model.22.dfl.conv.weight'\n",
      "\u001b[34m\u001b[1mAMP: \u001b[0mrunning Automatic Mixed Precision (AMP) checks with YOLOv8n...\n",
      "\u001b[34m\u001b[1mAMP: \u001b[0mchecks passed ✅\n"
     ]
    },
    {
     "name": "stderr",
     "output_type": "stream",
     "text": [
      "\u001b[34m\u001b[1mtrain: \u001b[0mScanning /home/rini-debian/git-stash/lvgl-ui-detector/datasets/labels/train... 370 images, 0 backgrounds, 6 corrupt: 100%|██████████| 370/370 [00:00<00:00, 543.88it/s]"
     ]
    },
    {
     "name": "stdout",
     "output_type": "stream",
     "text": [
      "\u001b[34m\u001b[1mtrain: \u001b[0mWARNING ⚠️ /home/rini-debian/git-stash/lvgl-ui-detector/datasets/images/train/ui_21.jpg: ignoring corrupt image/label: non-normalized or out of bounds coordinates [     1.0042]\n",
      "\u001b[34m\u001b[1mtrain: \u001b[0mWARNING ⚠️ /home/rini-debian/git-stash/lvgl-ui-detector/datasets/images/train/ui_236.jpg: ignoring corrupt image/label: non-normalized or out of bounds coordinates [     1.0063]\n",
      "\u001b[34m\u001b[1mtrain: \u001b[0mWARNING ⚠️ /home/rini-debian/git-stash/lvgl-ui-detector/datasets/images/train/ui_252.jpg: ignoring corrupt image/label: non-normalized or out of bounds coordinates [     1.0125]\n",
      "\u001b[34m\u001b[1mtrain: \u001b[0mWARNING ⚠️ /home/rini-debian/git-stash/lvgl-ui-detector/datasets/images/train/ui_294.jpg: ignoring corrupt image/label: non-normalized or out of bounds coordinates [     1.0187]\n",
      "\u001b[34m\u001b[1mtrain: \u001b[0mWARNING ⚠️ /home/rini-debian/git-stash/lvgl-ui-detector/datasets/images/train/ui_475.jpg: ignoring corrupt image/label: non-normalized or out of bounds coordinates [     1.0063]\n",
      "\u001b[34m\u001b[1mtrain: \u001b[0mWARNING ⚠️ /home/rini-debian/git-stash/lvgl-ui-detector/datasets/images/train/ui_91.jpg: ignoring corrupt image/label: non-normalized or out of bounds coordinates [     1.0146]\n",
      "\u001b[34m\u001b[1mtrain: \u001b[0mNew cache created: /home/rini-debian/git-stash/lvgl-ui-detector/datasets/labels/train.cache\n"
     ]
    },
    {
     "name": "stderr",
     "output_type": "stream",
     "text": [
      "\n",
      "\u001b[34m\u001b[1mval: \u001b[0mScanning /home/rini-debian/git-stash/lvgl-ui-detector/datasets/labels/val... 65 images, 0 backgrounds, 0 corrupt: 100%|██████████| 65/65 [00:00<00:00, 821.40it/s]"
     ]
    },
    {
     "name": "stdout",
     "output_type": "stream",
     "text": [
      "\u001b[34m\u001b[1mval: \u001b[0mNew cache created: /home/rini-debian/git-stash/lvgl-ui-detector/datasets/labels/val.cache\n"
     ]
    },
    {
     "name": "stderr",
     "output_type": "stream",
     "text": [
      "\n"
     ]
    },
    {
     "name": "stdout",
     "output_type": "stream",
     "text": [
      "Plotting labels to /home/rini-debian/git-stash/lvgl-ui-detector/runs/detect/train5/labels.jpg... \n",
      "\u001b[34m\u001b[1moptimizer:\u001b[0m 'optimizer=auto' found, ignoring 'lr0=0.01' and 'momentum=0.937' and determining best 'optimizer', 'lr0' and 'momentum' automatically... \n",
      "\u001b[34m\u001b[1moptimizer:\u001b[0m AdamW(lr=0.000303, momentum=0.9) with parameter groups 57 weight(decay=0.0), 64 weight(decay=0.0005), 63 bias(decay=0.0)\n",
      "Image sizes 480 train, 480 val\n",
      "Using 4 dataloader workers\n",
      "Logging results to \u001b[1m/home/rini-debian/git-stash/lvgl-ui-detector/runs/detect/train5\u001b[0m\n",
      "Starting training for 100 epochs...\n",
      "\n",
      "      Epoch    GPU_mem   box_loss   cls_loss   dfl_loss  Instances       Size\n"
     ]
    },
    {
     "name": "stderr",
     "output_type": "stream",
     "text": [
      "      1/100       1.5G      1.181      4.635      1.112         46        480: 100%|██████████| 23/23 [00:08<00:00,  2.58it/s]\n",
      "                 Class     Images  Instances      Box(P          R      mAP50  mAP50-95): 100%|██████████| 3/3 [00:00<00:00,  3.63it/s]"
     ]
    },
    {
     "name": "stdout",
     "output_type": "stream",
     "text": [
      "                   all         65        195          0          0          0          0\n"
     ]
    },
    {
     "name": "stderr",
     "output_type": "stream",
     "text": [
      "\n"
     ]
    },
    {
     "name": "stdout",
     "output_type": "stream",
     "text": [
      "\n",
      "      Epoch    GPU_mem   box_loss   cls_loss   dfl_loss  Instances       Size\n"
     ]
    },
    {
     "name": "stderr",
     "output_type": "stream",
     "text": [
      "      2/100      1.49G      1.025      3.919      1.061         49        480: 100%|██████████| 23/23 [00:04<00:00,  4.85it/s]\n",
      "                 Class     Images  Instances      Box(P          R      mAP50  mAP50-95): 100%|██████████| 3/3 [00:00<00:00,  4.44it/s]"
     ]
    },
    {
     "name": "stdout",
     "output_type": "stream",
     "text": [
      "                   all         65        195      0.172      0.464      0.316      0.284\n"
     ]
    },
    {
     "name": "stderr",
     "output_type": "stream",
     "text": [
      "\n"
     ]
    },
    {
     "name": "stdout",
     "output_type": "stream",
     "text": [
      "\n",
      "      Epoch    GPU_mem   box_loss   cls_loss   dfl_loss  Instances       Size\n"
     ]
    },
    {
     "name": "stderr",
     "output_type": "stream",
     "text": [
      "      3/100      1.51G      1.052      2.933      1.082         64        480: 100%|██████████| 23/23 [00:04<00:00,  4.98it/s]\n",
      "                 Class     Images  Instances      Box(P          R      mAP50  mAP50-95): 100%|██████████| 3/3 [00:00<00:00,  4.72it/s]"
     ]
    },
    {
     "name": "stdout",
     "output_type": "stream",
     "text": [
      "                   all         65        195      0.704      0.278      0.521      0.449\n"
     ]
    },
    {
     "name": "stderr",
     "output_type": "stream",
     "text": [
      "\n"
     ]
    },
    {
     "name": "stdout",
     "output_type": "stream",
     "text": [
      "\n",
      "      Epoch    GPU_mem   box_loss   cls_loss   dfl_loss  Instances       Size\n"
     ]
    },
    {
     "name": "stderr",
     "output_type": "stream",
     "text": [
      "      4/100      1.49G      1.003       2.32      1.079         66        480: 100%|██████████| 23/23 [00:04<00:00,  5.09it/s]\n",
      "                 Class     Images  Instances      Box(P          R      mAP50  mAP50-95): 100%|██████████| 3/3 [00:00<00:00,  4.37it/s]"
     ]
    },
    {
     "name": "stdout",
     "output_type": "stream",
     "text": [
      "                   all         65        195      0.605      0.489      0.633      0.529\n"
     ]
    },
    {
     "name": "stderr",
     "output_type": "stream",
     "text": [
      "\n"
     ]
    },
    {
     "name": "stdout",
     "output_type": "stream",
     "text": [
      "\n",
      "      Epoch    GPU_mem   box_loss   cls_loss   dfl_loss  Instances       Size\n"
     ]
    },
    {
     "name": "stderr",
     "output_type": "stream",
     "text": [
      "      5/100      1.49G      1.002      1.947      1.088         54        480: 100%|██████████| 23/23 [00:04<00:00,  5.12it/s]\n",
      "                 Class     Images  Instances      Box(P          R      mAP50  mAP50-95): 100%|██████████| 3/3 [00:00<00:00,  4.27it/s]"
     ]
    },
    {
     "name": "stdout",
     "output_type": "stream",
     "text": [
      "                   all         65        195      0.626      0.701      0.711       0.58\n"
     ]
    },
    {
     "name": "stderr",
     "output_type": "stream",
     "text": [
      "\n"
     ]
    },
    {
     "name": "stdout",
     "output_type": "stream",
     "text": [
      "\n",
      "      Epoch    GPU_mem   box_loss   cls_loss   dfl_loss  Instances       Size\n"
     ]
    },
    {
     "name": "stderr",
     "output_type": "stream",
     "text": [
      "      6/100      1.49G     0.9327      1.738      1.042         73        480: 100%|██████████| 23/23 [00:05<00:00,  4.56it/s]\n",
      "                 Class     Images  Instances      Box(P          R      mAP50  mAP50-95): 100%|██████████| 3/3 [00:00<00:00,  4.86it/s]"
     ]
    },
    {
     "name": "stdout",
     "output_type": "stream",
     "text": [
      "                   all         65        195      0.671      0.751      0.781      0.623\n"
     ]
    },
    {
     "name": "stderr",
     "output_type": "stream",
     "text": [
      "\n"
     ]
    },
    {
     "name": "stdout",
     "output_type": "stream",
     "text": [
      "\n",
      "      Epoch    GPU_mem   box_loss   cls_loss   dfl_loss  Instances       Size\n"
     ]
    },
    {
     "name": "stderr",
     "output_type": "stream",
     "text": [
      "      7/100       1.5G     0.9374      1.636      1.051         57        480: 100%|██████████| 23/23 [00:04<00:00,  4.95it/s]\n",
      "                 Class     Images  Instances      Box(P          R      mAP50  mAP50-95): 100%|██████████| 3/3 [00:00<00:00,  4.93it/s]"
     ]
    },
    {
     "name": "stdout",
     "output_type": "stream",
     "text": [
      "                   all         65        195       0.73      0.792      0.823      0.672\n"
     ]
    },
    {
     "name": "stderr",
     "output_type": "stream",
     "text": [
      "\n"
     ]
    },
    {
     "name": "stdout",
     "output_type": "stream",
     "text": [
      "\n",
      "      Epoch    GPU_mem   box_loss   cls_loss   dfl_loss  Instances       Size\n"
     ]
    },
    {
     "name": "stderr",
     "output_type": "stream",
     "text": [
      "      8/100      1.51G     0.8632      1.464      1.019         59        480: 100%|██████████| 23/23 [00:04<00:00,  5.05it/s]\n",
      "                 Class     Images  Instances      Box(P          R      mAP50  mAP50-95): 100%|██████████| 3/3 [00:00<00:00,  4.07it/s]"
     ]
    },
    {
     "name": "stdout",
     "output_type": "stream",
     "text": [
      "                   all         65        195      0.714      0.781      0.816      0.683\n"
     ]
    },
    {
     "name": "stderr",
     "output_type": "stream",
     "text": [
      "\n"
     ]
    },
    {
     "name": "stdout",
     "output_type": "stream",
     "text": [
      "\n",
      "      Epoch    GPU_mem   box_loss   cls_loss   dfl_loss  Instances       Size\n"
     ]
    },
    {
     "name": "stderr",
     "output_type": "stream",
     "text": [
      "      9/100       1.5G     0.9048      1.456      1.022         64        480: 100%|██████████| 23/23 [00:04<00:00,  5.02it/s]\n",
      "                 Class     Images  Instances      Box(P          R      mAP50  mAP50-95): 100%|██████████| 3/3 [00:00<00:00,  4.41it/s]"
     ]
    },
    {
     "name": "stdout",
     "output_type": "stream",
     "text": [
      "                   all         65        195      0.638      0.793      0.792       0.66\n"
     ]
    },
    {
     "name": "stderr",
     "output_type": "stream",
     "text": [
      "\n"
     ]
    },
    {
     "name": "stdout",
     "output_type": "stream",
     "text": [
      "\n",
      "      Epoch    GPU_mem   box_loss   cls_loss   dfl_loss  Instances       Size\n"
     ]
    },
    {
     "name": "stderr",
     "output_type": "stream",
     "text": [
      "     10/100      1.49G     0.8427      1.306      1.009         56        480: 100%|██████████| 23/23 [00:04<00:00,  4.81it/s]\n",
      "                 Class     Images  Instances      Box(P          R      mAP50  mAP50-95): 100%|██████████| 3/3 [00:00<00:00,  4.75it/s]"
     ]
    },
    {
     "name": "stdout",
     "output_type": "stream",
     "text": [
      "                   all         65        195      0.804      0.852      0.877      0.744\n"
     ]
    },
    {
     "name": "stderr",
     "output_type": "stream",
     "text": [
      "\n"
     ]
    },
    {
     "name": "stdout",
     "output_type": "stream",
     "text": [
      "\n",
      "      Epoch    GPU_mem   box_loss   cls_loss   dfl_loss  Instances       Size\n"
     ]
    },
    {
     "name": "stderr",
     "output_type": "stream",
     "text": [
      "     11/100      1.48G     0.8154      1.265      1.009         59        480: 100%|██████████| 23/23 [00:04<00:00,  5.22it/s]\n",
      "                 Class     Images  Instances      Box(P          R      mAP50  mAP50-95): 100%|██████████| 3/3 [00:00<00:00,  4.47it/s]"
     ]
    },
    {
     "name": "stdout",
     "output_type": "stream",
     "text": [
      "                   all         65        195       0.82      0.845      0.887      0.741\n"
     ]
    },
    {
     "name": "stderr",
     "output_type": "stream",
     "text": [
      "\n"
     ]
    },
    {
     "name": "stdout",
     "output_type": "stream",
     "text": [
      "\n",
      "      Epoch    GPU_mem   box_loss   cls_loss   dfl_loss  Instances       Size\n"
     ]
    },
    {
     "name": "stderr",
     "output_type": "stream",
     "text": [
      "     12/100      1.51G     0.7682      1.184      0.972         55        480: 100%|██████████| 23/23 [00:04<00:00,  5.07it/s]\n",
      "                 Class     Images  Instances      Box(P          R      mAP50  mAP50-95): 100%|██████████| 3/3 [00:00<00:00,  3.60it/s]"
     ]
    },
    {
     "name": "stdout",
     "output_type": "stream",
     "text": [
      "                   all         65        195      0.807      0.864      0.898      0.767\n"
     ]
    },
    {
     "name": "stderr",
     "output_type": "stream",
     "text": [
      "\n"
     ]
    },
    {
     "name": "stdout",
     "output_type": "stream",
     "text": [
      "\n",
      "      Epoch    GPU_mem   box_loss   cls_loss   dfl_loss  Instances       Size\n"
     ]
    },
    {
     "name": "stderr",
     "output_type": "stream",
     "text": [
      "     13/100       1.5G      0.788      1.174     0.9912         64        480: 100%|██████████| 23/23 [00:04<00:00,  5.03it/s]\n",
      "                 Class     Images  Instances      Box(P          R      mAP50  mAP50-95): 100%|██████████| 3/3 [00:00<00:00,  4.40it/s]"
     ]
    },
    {
     "name": "stdout",
     "output_type": "stream",
     "text": [
      "                   all         65        195      0.797      0.878      0.897       0.77\n"
     ]
    },
    {
     "name": "stderr",
     "output_type": "stream",
     "text": [
      "\n"
     ]
    },
    {
     "name": "stdout",
     "output_type": "stream",
     "text": [
      "\n",
      "      Epoch    GPU_mem   box_loss   cls_loss   dfl_loss  Instances       Size\n"
     ]
    },
    {
     "name": "stderr",
     "output_type": "stream",
     "text": [
      "     14/100      1.49G     0.7787      1.164     0.9883         48        480: 100%|██████████| 23/23 [00:04<00:00,  4.96it/s]\n",
      "                 Class     Images  Instances      Box(P          R      mAP50  mAP50-95): 100%|██████████| 3/3 [00:00<00:00,  4.54it/s]"
     ]
    },
    {
     "name": "stdout",
     "output_type": "stream",
     "text": [
      "                   all         65        195      0.756      0.861      0.889       0.76\n"
     ]
    },
    {
     "name": "stderr",
     "output_type": "stream",
     "text": [
      "\n"
     ]
    },
    {
     "name": "stdout",
     "output_type": "stream",
     "text": [
      "\n",
      "      Epoch    GPU_mem   box_loss   cls_loss   dfl_loss  Instances       Size\n"
     ]
    },
    {
     "name": "stderr",
     "output_type": "stream",
     "text": [
      "     15/100      1.49G     0.7484      1.111      0.976         83        480: 100%|██████████| 23/23 [00:04<00:00,  4.94it/s]\n",
      "                 Class     Images  Instances      Box(P          R      mAP50  mAP50-95): 100%|██████████| 3/3 [00:00<00:00,  4.31it/s]"
     ]
    },
    {
     "name": "stdout",
     "output_type": "stream",
     "text": [
      "                   all         65        195      0.828      0.889      0.899      0.768\n"
     ]
    },
    {
     "name": "stderr",
     "output_type": "stream",
     "text": [
      "\n"
     ]
    },
    {
     "name": "stdout",
     "output_type": "stream",
     "text": [
      "\n",
      "      Epoch    GPU_mem   box_loss   cls_loss   dfl_loss  Instances       Size\n"
     ]
    },
    {
     "name": "stderr",
     "output_type": "stream",
     "text": [
      "     16/100      1.49G     0.7602      1.079      0.975         50        480: 100%|██████████| 23/23 [00:04<00:00,  5.12it/s]\n",
      "                 Class     Images  Instances      Box(P          R      mAP50  mAP50-95): 100%|██████████| 3/3 [00:00<00:00,  4.83it/s]"
     ]
    },
    {
     "name": "stdout",
     "output_type": "stream",
     "text": [
      "                   all         65        195      0.826      0.902      0.902       0.77\n"
     ]
    },
    {
     "name": "stderr",
     "output_type": "stream",
     "text": [
      "\n"
     ]
    },
    {
     "name": "stdout",
     "output_type": "stream",
     "text": [
      "\n",
      "      Epoch    GPU_mem   box_loss   cls_loss   dfl_loss  Instances       Size\n"
     ]
    },
    {
     "name": "stderr",
     "output_type": "stream",
     "text": [
      "     17/100      1.49G     0.7461      1.032     0.9683         47        480: 100%|██████████| 23/23 [00:04<00:00,  5.02it/s]\n",
      "                 Class     Images  Instances      Box(P          R      mAP50  mAP50-95): 100%|██████████| 3/3 [00:00<00:00,  4.33it/s]"
     ]
    },
    {
     "name": "stdout",
     "output_type": "stream",
     "text": [
      "                   all         65        195        0.8      0.909      0.904      0.776\n"
     ]
    },
    {
     "name": "stderr",
     "output_type": "stream",
     "text": [
      "\n"
     ]
    },
    {
     "name": "stdout",
     "output_type": "stream",
     "text": [
      "\n",
      "      Epoch    GPU_mem   box_loss   cls_loss   dfl_loss  Instances       Size\n"
     ]
    },
    {
     "name": "stderr",
     "output_type": "stream",
     "text": [
      "     18/100      1.49G     0.7611      1.072     0.9764         37        480: 100%|██████████| 23/23 [00:04<00:00,  5.13it/s]\n",
      "                 Class     Images  Instances      Box(P          R      mAP50  mAP50-95): 100%|██████████| 3/3 [00:00<00:00,  4.18it/s]"
     ]
    },
    {
     "name": "stdout",
     "output_type": "stream",
     "text": [
      "                   all         65        195       0.84      0.933      0.911      0.811\n"
     ]
    },
    {
     "name": "stderr",
     "output_type": "stream",
     "text": [
      "\n"
     ]
    },
    {
     "name": "stdout",
     "output_type": "stream",
     "text": [
      "\n",
      "      Epoch    GPU_mem   box_loss   cls_loss   dfl_loss  Instances       Size\n"
     ]
    },
    {
     "name": "stderr",
     "output_type": "stream",
     "text": [
      "     19/100      1.49G     0.7235      1.035     0.9609         59        480: 100%|██████████| 23/23 [00:05<00:00,  4.56it/s]\n",
      "                 Class     Images  Instances      Box(P          R      mAP50  mAP50-95): 100%|██████████| 3/3 [00:00<00:00,  4.68it/s]"
     ]
    },
    {
     "name": "stdout",
     "output_type": "stream",
     "text": [
      "                   all         65        195      0.778      0.891      0.902      0.791\n"
     ]
    },
    {
     "name": "stderr",
     "output_type": "stream",
     "text": [
      "\n"
     ]
    },
    {
     "name": "stdout",
     "output_type": "stream",
     "text": [
      "\n",
      "      Epoch    GPU_mem   box_loss   cls_loss   dfl_loss  Instances       Size\n"
     ]
    },
    {
     "name": "stderr",
     "output_type": "stream",
     "text": [
      "     20/100      1.51G     0.7394      1.034     0.9716         52        480: 100%|██████████| 23/23 [00:04<00:00,  4.94it/s]\n",
      "                 Class     Images  Instances      Box(P          R      mAP50  mAP50-95): 100%|██████████| 3/3 [00:00<00:00,  4.83it/s]"
     ]
    },
    {
     "name": "stdout",
     "output_type": "stream",
     "text": [
      "                   all         65        195       0.81      0.934      0.902      0.786\n"
     ]
    },
    {
     "name": "stderr",
     "output_type": "stream",
     "text": [
      "\n"
     ]
    },
    {
     "name": "stdout",
     "output_type": "stream",
     "text": [
      "\n",
      "      Epoch    GPU_mem   box_loss   cls_loss   dfl_loss  Instances       Size\n"
     ]
    },
    {
     "name": "stderr",
     "output_type": "stream",
     "text": [
      "     21/100      1.49G     0.7072     0.9814     0.9553         48        480: 100%|██████████| 23/23 [00:04<00:00,  4.85it/s]\n",
      "                 Class     Images  Instances      Box(P          R      mAP50  mAP50-95): 100%|██████████| 3/3 [00:00<00:00,  4.58it/s]"
     ]
    },
    {
     "name": "stdout",
     "output_type": "stream",
     "text": [
      "                   all         65        195      0.822      0.918      0.913      0.793\n"
     ]
    },
    {
     "name": "stderr",
     "output_type": "stream",
     "text": [
      "\n"
     ]
    },
    {
     "name": "stdout",
     "output_type": "stream",
     "text": [
      "\n",
      "      Epoch    GPU_mem   box_loss   cls_loss   dfl_loss  Instances       Size\n"
     ]
    },
    {
     "name": "stderr",
     "output_type": "stream",
     "text": [
      "     22/100      1.49G     0.7253     0.9986     0.9633         61        480: 100%|██████████| 23/23 [00:04<00:00,  5.09it/s]\n",
      "                 Class     Images  Instances      Box(P          R      mAP50  mAP50-95): 100%|██████████| 3/3 [00:00<00:00,  4.34it/s]"
     ]
    },
    {
     "name": "stdout",
     "output_type": "stream",
     "text": [
      "                   all         65        195      0.872      0.924      0.925      0.815\n"
     ]
    },
    {
     "name": "stderr",
     "output_type": "stream",
     "text": [
      "\n"
     ]
    },
    {
     "name": "stdout",
     "output_type": "stream",
     "text": [
      "\n",
      "      Epoch    GPU_mem   box_loss   cls_loss   dfl_loss  Instances       Size\n"
     ]
    },
    {
     "name": "stderr",
     "output_type": "stream",
     "text": [
      "     23/100      1.49G     0.7053     0.9775     0.9494         59        480: 100%|██████████| 23/23 [00:04<00:00,  4.73it/s]\n",
      "                 Class     Images  Instances      Box(P          R      mAP50  mAP50-95): 100%|██████████| 3/3 [00:00<00:00,  4.76it/s]"
     ]
    },
    {
     "name": "stdout",
     "output_type": "stream",
     "text": [
      "                   all         65        195      0.858      0.924      0.937      0.808\n"
     ]
    },
    {
     "name": "stderr",
     "output_type": "stream",
     "text": [
      "\n"
     ]
    },
    {
     "name": "stdout",
     "output_type": "stream",
     "text": [
      "\n",
      "      Epoch    GPU_mem   box_loss   cls_loss   dfl_loss  Instances       Size\n"
     ]
    },
    {
     "name": "stderr",
     "output_type": "stream",
     "text": [
      "     24/100      1.51G     0.6883     0.9484     0.9508         56        480: 100%|██████████| 23/23 [00:04<00:00,  4.64it/s]\n",
      "                 Class     Images  Instances      Box(P          R      mAP50  mAP50-95): 100%|██████████| 3/3 [00:00<00:00,  3.90it/s]"
     ]
    },
    {
     "name": "stdout",
     "output_type": "stream",
     "text": [
      "                   all         65        195      0.885      0.902      0.926      0.812\n"
     ]
    },
    {
     "name": "stderr",
     "output_type": "stream",
     "text": [
      "\n"
     ]
    },
    {
     "name": "stdout",
     "output_type": "stream",
     "text": [
      "\n",
      "      Epoch    GPU_mem   box_loss   cls_loss   dfl_loss  Instances       Size\n"
     ]
    },
    {
     "name": "stderr",
     "output_type": "stream",
     "text": [
      "     25/100      1.49G     0.6816     0.9302     0.9412         52        480: 100%|██████████| 23/23 [00:05<00:00,  4.11it/s]\n",
      "                 Class     Images  Instances      Box(P          R      mAP50  mAP50-95): 100%|██████████| 3/3 [00:00<00:00,  3.83it/s]"
     ]
    },
    {
     "name": "stdout",
     "output_type": "stream",
     "text": [
      "                   all         65        195      0.871      0.943      0.939      0.824\n"
     ]
    },
    {
     "name": "stderr",
     "output_type": "stream",
     "text": [
      "\n"
     ]
    },
    {
     "name": "stdout",
     "output_type": "stream",
     "text": [
      "\n",
      "      Epoch    GPU_mem   box_loss   cls_loss   dfl_loss  Instances       Size\n"
     ]
    },
    {
     "name": "stderr",
     "output_type": "stream",
     "text": [
      "     26/100      1.49G     0.6845     0.9283     0.9479         63        480: 100%|██████████| 23/23 [00:04<00:00,  4.75it/s]\n",
      "                 Class     Images  Instances      Box(P          R      mAP50  mAP50-95): 100%|██████████| 3/3 [00:00<00:00,  4.27it/s]"
     ]
    },
    {
     "name": "stdout",
     "output_type": "stream",
     "text": [
      "                   all         65        195      0.901       0.92      0.955      0.823\n"
     ]
    },
    {
     "name": "stderr",
     "output_type": "stream",
     "text": [
      "\n"
     ]
    },
    {
     "name": "stdout",
     "output_type": "stream",
     "text": [
      "\n",
      "      Epoch    GPU_mem   box_loss   cls_loss   dfl_loss  Instances       Size\n"
     ]
    },
    {
     "name": "stderr",
     "output_type": "stream",
     "text": [
      "     27/100      1.49G     0.6983     0.9424     0.9562         57        480: 100%|██████████| 23/23 [00:04<00:00,  4.77it/s]\n",
      "                 Class     Images  Instances      Box(P          R      mAP50  mAP50-95): 100%|██████████| 3/3 [00:00<00:00,  4.66it/s]"
     ]
    },
    {
     "name": "stdout",
     "output_type": "stream",
     "text": [
      "                   all         65        195        0.9      0.929      0.958      0.849\n"
     ]
    },
    {
     "name": "stderr",
     "output_type": "stream",
     "text": [
      "\n"
     ]
    },
    {
     "name": "stdout",
     "output_type": "stream",
     "text": [
      "\n",
      "      Epoch    GPU_mem   box_loss   cls_loss   dfl_loss  Instances       Size\n"
     ]
    },
    {
     "name": "stderr",
     "output_type": "stream",
     "text": [
      "     28/100      1.51G     0.6775     0.8965     0.9499         63        480: 100%|██████████| 23/23 [00:04<00:00,  4.96it/s]\n",
      "                 Class     Images  Instances      Box(P          R      mAP50  mAP50-95): 100%|██████████| 3/3 [00:00<00:00,  4.68it/s]"
     ]
    },
    {
     "name": "stdout",
     "output_type": "stream",
     "text": [
      "                   all         65        195      0.875      0.937       0.96      0.843\n"
     ]
    },
    {
     "name": "stderr",
     "output_type": "stream",
     "text": [
      "\n"
     ]
    },
    {
     "name": "stdout",
     "output_type": "stream",
     "text": [
      "\n",
      "      Epoch    GPU_mem   box_loss   cls_loss   dfl_loss  Instances       Size\n"
     ]
    },
    {
     "name": "stderr",
     "output_type": "stream",
     "text": [
      "     29/100      1.49G     0.6593      0.896     0.9349         61        480: 100%|██████████| 23/23 [00:04<00:00,  4.81it/s]\n",
      "                 Class     Images  Instances      Box(P          R      mAP50  mAP50-95): 100%|██████████| 3/3 [00:00<00:00,  4.36it/s]"
     ]
    },
    {
     "name": "stdout",
     "output_type": "stream",
     "text": [
      "                   all         65        195      0.907       0.92      0.961      0.853\n"
     ]
    },
    {
     "name": "stderr",
     "output_type": "stream",
     "text": [
      "\n"
     ]
    },
    {
     "name": "stdout",
     "output_type": "stream",
     "text": [
      "\n",
      "      Epoch    GPU_mem   box_loss   cls_loss   dfl_loss  Instances       Size\n"
     ]
    },
    {
     "name": "stderr",
     "output_type": "stream",
     "text": [
      "     30/100      1.49G     0.6758      0.896      0.946         38        480: 100%|██████████| 23/23 [00:04<00:00,  4.92it/s]\n",
      "                 Class     Images  Instances      Box(P          R      mAP50  mAP50-95): 100%|██████████| 3/3 [00:00<00:00,  4.54it/s]"
     ]
    },
    {
     "name": "stdout",
     "output_type": "stream",
     "text": [
      "                   all         65        195       0.89      0.944      0.959      0.848\n"
     ]
    },
    {
     "name": "stderr",
     "output_type": "stream",
     "text": [
      "\n"
     ]
    },
    {
     "name": "stdout",
     "output_type": "stream",
     "text": [
      "\n",
      "      Epoch    GPU_mem   box_loss   cls_loss   dfl_loss  Instances       Size\n"
     ]
    },
    {
     "name": "stderr",
     "output_type": "stream",
     "text": [
      "     31/100       1.5G     0.6541     0.8389     0.9344         54        480: 100%|██████████| 23/23 [00:04<00:00,  5.24it/s]\n",
      "                 Class     Images  Instances      Box(P          R      mAP50  mAP50-95): 100%|██████████| 3/3 [00:00<00:00,  4.12it/s]"
     ]
    },
    {
     "name": "stdout",
     "output_type": "stream",
     "text": [
      "                   all         65        195      0.912       0.94       0.96      0.863\n"
     ]
    },
    {
     "name": "stderr",
     "output_type": "stream",
     "text": [
      "\n"
     ]
    },
    {
     "name": "stdout",
     "output_type": "stream",
     "text": [
      "\n",
      "      Epoch    GPU_mem   box_loss   cls_loss   dfl_loss  Instances       Size\n"
     ]
    },
    {
     "name": "stderr",
     "output_type": "stream",
     "text": [
      "     32/100      1.51G      0.642     0.8809      0.939         58        480: 100%|██████████| 23/23 [00:04<00:00,  5.11it/s]\n",
      "                 Class     Images  Instances      Box(P          R      mAP50  mAP50-95): 100%|██████████| 3/3 [00:00<00:00,  4.19it/s]"
     ]
    },
    {
     "name": "stdout",
     "output_type": "stream",
     "text": [
      "                   all         65        195      0.921      0.925      0.958      0.857\n"
     ]
    },
    {
     "name": "stderr",
     "output_type": "stream",
     "text": [
      "\n"
     ]
    },
    {
     "name": "stdout",
     "output_type": "stream",
     "text": [
      "\n",
      "      Epoch    GPU_mem   box_loss   cls_loss   dfl_loss  Instances       Size\n"
     ]
    },
    {
     "name": "stderr",
     "output_type": "stream",
     "text": [
      "     33/100      1.49G     0.6511     0.8425     0.9345         52        480: 100%|██████████| 23/23 [00:04<00:00,  5.01it/s]\n",
      "                 Class     Images  Instances      Box(P          R      mAP50  mAP50-95): 100%|██████████| 3/3 [00:00<00:00,  4.25it/s]"
     ]
    },
    {
     "name": "stdout",
     "output_type": "stream",
     "text": [
      "                   all         65        195      0.906      0.944      0.964      0.862\n"
     ]
    },
    {
     "name": "stderr",
     "output_type": "stream",
     "text": [
      "\n"
     ]
    },
    {
     "name": "stdout",
     "output_type": "stream",
     "text": [
      "\n",
      "      Epoch    GPU_mem   box_loss   cls_loss   dfl_loss  Instances       Size\n"
     ]
    },
    {
     "name": "stderr",
     "output_type": "stream",
     "text": [
      "     34/100      1.49G     0.6173     0.8431     0.9309         55        480: 100%|██████████| 23/23 [00:04<00:00,  5.12it/s]\n",
      "                 Class     Images  Instances      Box(P          R      mAP50  mAP50-95): 100%|██████████| 3/3 [00:00<00:00,  4.84it/s]"
     ]
    },
    {
     "name": "stdout",
     "output_type": "stream",
     "text": [
      "                   all         65        195      0.933       0.92      0.969      0.854\n"
     ]
    },
    {
     "name": "stderr",
     "output_type": "stream",
     "text": [
      "\n"
     ]
    },
    {
     "name": "stdout",
     "output_type": "stream",
     "text": [
      "\n",
      "      Epoch    GPU_mem   box_loss   cls_loss   dfl_loss  Instances       Size\n"
     ]
    },
    {
     "name": "stderr",
     "output_type": "stream",
     "text": [
      "     35/100      1.49G     0.6523     0.8597     0.9349         43        480: 100%|██████████| 23/23 [00:04<00:00,  4.93it/s]\n",
      "                 Class     Images  Instances      Box(P          R      mAP50  mAP50-95): 100%|██████████| 3/3 [00:00<00:00,  4.24it/s]"
     ]
    },
    {
     "name": "stdout",
     "output_type": "stream",
     "text": [
      "                   all         65        195      0.918      0.926      0.963      0.848\n"
     ]
    },
    {
     "name": "stderr",
     "output_type": "stream",
     "text": [
      "\n"
     ]
    },
    {
     "name": "stdout",
     "output_type": "stream",
     "text": [
      "\n",
      "      Epoch    GPU_mem   box_loss   cls_loss   dfl_loss  Instances       Size\n"
     ]
    },
    {
     "name": "stderr",
     "output_type": "stream",
     "text": [
      "     36/100      1.51G     0.6354     0.8243     0.9247         50        480: 100%|██████████| 23/23 [00:04<00:00,  5.01it/s]\n",
      "                 Class     Images  Instances      Box(P          R      mAP50  mAP50-95): 100%|██████████| 3/3 [00:00<00:00,  4.48it/s]"
     ]
    },
    {
     "name": "stdout",
     "output_type": "stream",
     "text": [
      "                   all         65        195        0.9      0.933      0.957      0.849\n"
     ]
    },
    {
     "name": "stderr",
     "output_type": "stream",
     "text": [
      "\n"
     ]
    },
    {
     "name": "stdout",
     "output_type": "stream",
     "text": [
      "\n",
      "      Epoch    GPU_mem   box_loss   cls_loss   dfl_loss  Instances       Size\n"
     ]
    },
    {
     "name": "stderr",
     "output_type": "stream",
     "text": [
      "     37/100       1.5G     0.6304     0.8468     0.9408         50        480: 100%|██████████| 23/23 [00:05<00:00,  4.55it/s]\n",
      "                 Class     Images  Instances      Box(P          R      mAP50  mAP50-95): 100%|██████████| 3/3 [00:00<00:00,  4.49it/s]"
     ]
    },
    {
     "name": "stdout",
     "output_type": "stream",
     "text": [
      "                   all         65        195      0.908      0.943      0.965      0.853\n"
     ]
    },
    {
     "name": "stderr",
     "output_type": "stream",
     "text": [
      "\n"
     ]
    },
    {
     "name": "stdout",
     "output_type": "stream",
     "text": [
      "\n",
      "      Epoch    GPU_mem   box_loss   cls_loss   dfl_loss  Instances       Size\n"
     ]
    },
    {
     "name": "stderr",
     "output_type": "stream",
     "text": [
      "     38/100      1.49G     0.6383     0.8234     0.9314         42        480: 100%|██████████| 23/23 [00:04<00:00,  5.16it/s]\n",
      "                 Class     Images  Instances      Box(P          R      mAP50  mAP50-95): 100%|██████████| 3/3 [00:00<00:00,  4.18it/s]"
     ]
    },
    {
     "name": "stdout",
     "output_type": "stream",
     "text": [
      "                   all         65        195      0.917      0.934       0.96      0.841\n"
     ]
    },
    {
     "name": "stderr",
     "output_type": "stream",
     "text": [
      "\n"
     ]
    },
    {
     "name": "stdout",
     "output_type": "stream",
     "text": [
      "\n",
      "      Epoch    GPU_mem   box_loss   cls_loss   dfl_loss  Instances       Size\n"
     ]
    },
    {
     "name": "stderr",
     "output_type": "stream",
     "text": [
      "     39/100      1.49G     0.6481      0.865     0.9422         63        480: 100%|██████████| 23/23 [00:04<00:00,  5.02it/s]\n",
      "                 Class     Images  Instances      Box(P          R      mAP50  mAP50-95): 100%|██████████| 3/3 [00:00<00:00,  3.97it/s]"
     ]
    },
    {
     "name": "stdout",
     "output_type": "stream",
     "text": [
      "                   all         65        195      0.901      0.939      0.961      0.837\n"
     ]
    },
    {
     "name": "stderr",
     "output_type": "stream",
     "text": [
      "\n"
     ]
    },
    {
     "name": "stdout",
     "output_type": "stream",
     "text": [
      "\n",
      "      Epoch    GPU_mem   box_loss   cls_loss   dfl_loss  Instances       Size\n"
     ]
    },
    {
     "name": "stderr",
     "output_type": "stream",
     "text": [
      "     40/100      1.51G     0.6601     0.8672     0.9466         45        480: 100%|██████████| 23/23 [00:05<00:00,  4.59it/s]\n",
      "                 Class     Images  Instances      Box(P          R      mAP50  mAP50-95): 100%|██████████| 3/3 [00:00<00:00,  3.62it/s]"
     ]
    },
    {
     "name": "stdout",
     "output_type": "stream",
     "text": [
      "                   all         65        195      0.928      0.926      0.966      0.857\n"
     ]
    },
    {
     "name": "stderr",
     "output_type": "stream",
     "text": [
      "\n"
     ]
    },
    {
     "name": "stdout",
     "output_type": "stream",
     "text": [
      "\n",
      "      Epoch    GPU_mem   box_loss   cls_loss   dfl_loss  Instances       Size\n"
     ]
    },
    {
     "name": "stderr",
     "output_type": "stream",
     "text": [
      "     41/100      1.49G     0.6132     0.8135     0.9358         49        480: 100%|██████████| 23/23 [00:04<00:00,  4.97it/s]\n",
      "                 Class     Images  Instances      Box(P          R      mAP50  mAP50-95): 100%|██████████| 3/3 [00:00<00:00,  4.61it/s]"
     ]
    },
    {
     "name": "stdout",
     "output_type": "stream",
     "text": [
      "                   all         65        195      0.935      0.923      0.962      0.854\n"
     ]
    },
    {
     "name": "stderr",
     "output_type": "stream",
     "text": [
      "\n"
     ]
    },
    {
     "name": "stdout",
     "output_type": "stream",
     "text": [
      "\n",
      "      Epoch    GPU_mem   box_loss   cls_loss   dfl_loss  Instances       Size\n"
     ]
    },
    {
     "name": "stderr",
     "output_type": "stream",
     "text": [
      "     42/100      1.49G     0.6085      0.781     0.9155         64        480: 100%|██████████| 23/23 [00:04<00:00,  5.11it/s]\n",
      "                 Class     Images  Instances      Box(P          R      mAP50  mAP50-95): 100%|██████████| 3/3 [00:00<00:00,  4.02it/s]"
     ]
    },
    {
     "name": "stdout",
     "output_type": "stream",
     "text": [
      "                   all         65        195      0.899       0.95      0.968      0.856\n"
     ]
    },
    {
     "name": "stderr",
     "output_type": "stream",
     "text": [
      "\n"
     ]
    },
    {
     "name": "stdout",
     "output_type": "stream",
     "text": [
      "\n",
      "      Epoch    GPU_mem   box_loss   cls_loss   dfl_loss  Instances       Size\n"
     ]
    },
    {
     "name": "stderr",
     "output_type": "stream",
     "text": [
      "     43/100      1.49G     0.6013     0.7884     0.9122         54        480: 100%|██████████| 23/23 [00:04<00:00,  5.10it/s]\n",
      "                 Class     Images  Instances      Box(P          R      mAP50  mAP50-95): 100%|██████████| 3/3 [00:00<00:00,  4.35it/s]"
     ]
    },
    {
     "name": "stdout",
     "output_type": "stream",
     "text": [
      "                   all         65        195      0.937      0.941       0.97      0.862\n"
     ]
    },
    {
     "name": "stderr",
     "output_type": "stream",
     "text": [
      "\n"
     ]
    },
    {
     "name": "stdout",
     "output_type": "stream",
     "text": [
      "\n",
      "      Epoch    GPU_mem   box_loss   cls_loss   dfl_loss  Instances       Size\n"
     ]
    },
    {
     "name": "stderr",
     "output_type": "stream",
     "text": [
      "     44/100      1.51G     0.6098     0.8177     0.9335         51        480: 100%|██████████| 23/23 [00:04<00:00,  5.20it/s]\n",
      "                 Class     Images  Instances      Box(P          R      mAP50  mAP50-95): 100%|██████████| 3/3 [00:00<00:00,  3.89it/s]"
     ]
    },
    {
     "name": "stdout",
     "output_type": "stream",
     "text": [
      "                   all         65        195       0.92      0.936      0.964      0.864\n"
     ]
    },
    {
     "name": "stderr",
     "output_type": "stream",
     "text": [
      "\n"
     ]
    },
    {
     "name": "stdout",
     "output_type": "stream",
     "text": [
      "\n",
      "      Epoch    GPU_mem   box_loss   cls_loss   dfl_loss  Instances       Size\n"
     ]
    },
    {
     "name": "stderr",
     "output_type": "stream",
     "text": [
      "     45/100      1.48G     0.6316     0.8097     0.9212         65        480: 100%|██████████| 23/23 [00:04<00:00,  5.40it/s]\n",
      "                 Class     Images  Instances      Box(P          R      mAP50  mAP50-95): 100%|██████████| 3/3 [00:00<00:00,  3.93it/s]"
     ]
    },
    {
     "name": "stdout",
     "output_type": "stream",
     "text": [
      "                   all         65        195      0.923      0.944      0.969      0.866\n"
     ]
    },
    {
     "name": "stderr",
     "output_type": "stream",
     "text": [
      "\n"
     ]
    },
    {
     "name": "stdout",
     "output_type": "stream",
     "text": [
      "\n",
      "      Epoch    GPU_mem   box_loss   cls_loss   dfl_loss  Instances       Size\n"
     ]
    },
    {
     "name": "stderr",
     "output_type": "stream",
     "text": [
      "     46/100      1.49G     0.5909     0.7729     0.9128         74        480: 100%|██████████| 23/23 [00:04<00:00,  4.99it/s]\n",
      "                 Class     Images  Instances      Box(P          R      mAP50  mAP50-95): 100%|██████████| 3/3 [00:00<00:00,  4.69it/s]"
     ]
    },
    {
     "name": "stdout",
     "output_type": "stream",
     "text": [
      "                   all         65        195      0.913      0.951      0.967      0.861\n"
     ]
    },
    {
     "name": "stderr",
     "output_type": "stream",
     "text": [
      "\n"
     ]
    },
    {
     "name": "stdout",
     "output_type": "stream",
     "text": [
      "\n",
      "      Epoch    GPU_mem   box_loss   cls_loss   dfl_loss  Instances       Size\n"
     ]
    },
    {
     "name": "stderr",
     "output_type": "stream",
     "text": [
      "     47/100      1.49G     0.5895     0.7798     0.9147         44        480: 100%|██████████| 23/23 [00:04<00:00,  5.23it/s]\n",
      "                 Class     Images  Instances      Box(P          R      mAP50  mAP50-95): 100%|██████████| 3/3 [00:00<00:00,  4.14it/s]"
     ]
    },
    {
     "name": "stdout",
     "output_type": "stream",
     "text": [
      "                   all         65        195      0.934       0.95      0.971      0.862\n"
     ]
    },
    {
     "name": "stderr",
     "output_type": "stream",
     "text": [
      "\n"
     ]
    },
    {
     "name": "stdout",
     "output_type": "stream",
     "text": [
      "\n",
      "      Epoch    GPU_mem   box_loss   cls_loss   dfl_loss  Instances       Size\n"
     ]
    },
    {
     "name": "stderr",
     "output_type": "stream",
     "text": [
      "     48/100      1.51G     0.6173     0.7901     0.9212         57        480: 100%|██████████| 23/23 [00:04<00:00,  5.32it/s]\n",
      "                 Class     Images  Instances      Box(P          R      mAP50  mAP50-95): 100%|██████████| 3/3 [00:00<00:00,  4.69it/s]"
     ]
    },
    {
     "name": "stdout",
     "output_type": "stream",
     "text": [
      "                   all         65        195      0.927      0.954      0.975       0.87\n"
     ]
    },
    {
     "name": "stderr",
     "output_type": "stream",
     "text": [
      "\n"
     ]
    },
    {
     "name": "stdout",
     "output_type": "stream",
     "text": [
      "\n",
      "      Epoch    GPU_mem   box_loss   cls_loss   dfl_loss  Instances       Size\n"
     ]
    },
    {
     "name": "stderr",
     "output_type": "stream",
     "text": [
      "     49/100      1.49G      0.592     0.7764     0.9172         46        480: 100%|██████████| 23/23 [00:04<00:00,  5.12it/s]\n",
      "                 Class     Images  Instances      Box(P          R      mAP50  mAP50-95): 100%|██████████| 3/3 [00:00<00:00,  4.81it/s]"
     ]
    },
    {
     "name": "stdout",
     "output_type": "stream",
     "text": [
      "                   all         65        195      0.941       0.93      0.966      0.863\n"
     ]
    },
    {
     "name": "stderr",
     "output_type": "stream",
     "text": [
      "\n"
     ]
    },
    {
     "name": "stdout",
     "output_type": "stream",
     "text": [
      "\n",
      "      Epoch    GPU_mem   box_loss   cls_loss   dfl_loss  Instances       Size\n"
     ]
    },
    {
     "name": "stderr",
     "output_type": "stream",
     "text": [
      "     50/100      1.49G     0.6212     0.8066      0.931         72        480: 100%|██████████| 23/23 [00:04<00:00,  5.35it/s]\n",
      "                 Class     Images  Instances      Box(P          R      mAP50  mAP50-95): 100%|██████████| 3/3 [00:00<00:00,  5.00it/s]"
     ]
    },
    {
     "name": "stdout",
     "output_type": "stream",
     "text": [
      "                   all         65        195      0.929      0.948      0.967      0.863\n"
     ]
    },
    {
     "name": "stderr",
     "output_type": "stream",
     "text": [
      "\n"
     ]
    },
    {
     "name": "stdout",
     "output_type": "stream",
     "text": [
      "\n",
      "      Epoch    GPU_mem   box_loss   cls_loss   dfl_loss  Instances       Size\n"
     ]
    },
    {
     "name": "stderr",
     "output_type": "stream",
     "text": [
      "     51/100      1.49G     0.5703     0.7598     0.9087         57        480: 100%|██████████| 23/23 [00:04<00:00,  5.00it/s]\n",
      "                 Class     Images  Instances      Box(P          R      mAP50  mAP50-95): 100%|██████████| 3/3 [00:00<00:00,  3.97it/s]"
     ]
    },
    {
     "name": "stdout",
     "output_type": "stream",
     "text": [
      "                   all         65        195      0.913       0.95      0.964      0.865\n"
     ]
    },
    {
     "name": "stderr",
     "output_type": "stream",
     "text": [
      "\n"
     ]
    },
    {
     "name": "stdout",
     "output_type": "stream",
     "text": [
      "\n",
      "      Epoch    GPU_mem   box_loss   cls_loss   dfl_loss  Instances       Size\n"
     ]
    },
    {
     "name": "stderr",
     "output_type": "stream",
     "text": [
      "     52/100      1.51G     0.5839     0.7651     0.9143         69        480: 100%|██████████| 23/23 [00:04<00:00,  4.99it/s]\n",
      "                 Class     Images  Instances      Box(P          R      mAP50  mAP50-95): 100%|██████████| 3/3 [00:00<00:00,  4.62it/s]"
     ]
    },
    {
     "name": "stdout",
     "output_type": "stream",
     "text": [
      "                   all         65        195      0.924      0.936      0.962      0.845\n"
     ]
    },
    {
     "name": "stderr",
     "output_type": "stream",
     "text": [
      "\n"
     ]
    },
    {
     "name": "stdout",
     "output_type": "stream",
     "text": [
      "\n",
      "      Epoch    GPU_mem   box_loss   cls_loss   dfl_loss  Instances       Size\n"
     ]
    },
    {
     "name": "stderr",
     "output_type": "stream",
     "text": [
      "     53/100      1.49G     0.5973     0.7795     0.9243         40        480: 100%|██████████| 23/23 [00:04<00:00,  5.11it/s]\n",
      "                 Class     Images  Instances      Box(P          R      mAP50  mAP50-95): 100%|██████████| 3/3 [00:00<00:00,  4.76it/s]"
     ]
    },
    {
     "name": "stdout",
     "output_type": "stream",
     "text": [
      "                   all         65        195      0.933      0.935      0.967      0.857\n"
     ]
    },
    {
     "name": "stderr",
     "output_type": "stream",
     "text": [
      "\n"
     ]
    },
    {
     "name": "stdout",
     "output_type": "stream",
     "text": [
      "\n",
      "      Epoch    GPU_mem   box_loss   cls_loss   dfl_loss  Instances       Size\n"
     ]
    },
    {
     "name": "stderr",
     "output_type": "stream",
     "text": [
      "     54/100      1.49G     0.5792     0.7356     0.9045         54        480: 100%|██████████| 23/23 [00:04<00:00,  5.35it/s]\n",
      "                 Class     Images  Instances      Box(P          R      mAP50  mAP50-95): 100%|██████████| 3/3 [00:00<00:00,  4.61it/s]"
     ]
    },
    {
     "name": "stdout",
     "output_type": "stream",
     "text": [
      "                   all         65        195      0.935      0.924      0.963      0.858\n"
     ]
    },
    {
     "name": "stderr",
     "output_type": "stream",
     "text": [
      "\n"
     ]
    },
    {
     "name": "stdout",
     "output_type": "stream",
     "text": [
      "\n",
      "      Epoch    GPU_mem   box_loss   cls_loss   dfl_loss  Instances       Size\n"
     ]
    },
    {
     "name": "stderr",
     "output_type": "stream",
     "text": [
      "     55/100      1.49G     0.5711     0.7522     0.9149         70        480: 100%|██████████| 23/23 [00:04<00:00,  5.28it/s]\n",
      "                 Class     Images  Instances      Box(P          R      mAP50  mAP50-95): 100%|██████████| 3/3 [00:00<00:00,  4.94it/s]"
     ]
    },
    {
     "name": "stdout",
     "output_type": "stream",
     "text": [
      "                   all         65        195      0.905      0.934      0.963      0.855\n"
     ]
    },
    {
     "name": "stderr",
     "output_type": "stream",
     "text": [
      "\n"
     ]
    },
    {
     "name": "stdout",
     "output_type": "stream",
     "text": [
      "\n",
      "      Epoch    GPU_mem   box_loss   cls_loss   dfl_loss  Instances       Size\n"
     ]
    },
    {
     "name": "stderr",
     "output_type": "stream",
     "text": [
      "     56/100      1.51G     0.5598      0.745     0.9021         56        480: 100%|██████████| 23/23 [00:04<00:00,  4.92it/s]\n",
      "                 Class     Images  Instances      Box(P          R      mAP50  mAP50-95): 100%|██████████| 3/3 [00:00<00:00,  4.77it/s]"
     ]
    },
    {
     "name": "stdout",
     "output_type": "stream",
     "text": [
      "                   all         65        195      0.904      0.954       0.96      0.854\n"
     ]
    },
    {
     "name": "stderr",
     "output_type": "stream",
     "text": [
      "\n"
     ]
    },
    {
     "name": "stdout",
     "output_type": "stream",
     "text": [
      "\n",
      "      Epoch    GPU_mem   box_loss   cls_loss   dfl_loss  Instances       Size\n"
     ]
    },
    {
     "name": "stderr",
     "output_type": "stream",
     "text": [
      "     57/100      1.49G     0.5751     0.7409     0.9135         50        480: 100%|██████████| 23/23 [00:04<00:00,  4.73it/s]\n",
      "                 Class     Images  Instances      Box(P          R      mAP50  mAP50-95): 100%|██████████| 3/3 [00:00<00:00,  4.22it/s]"
     ]
    },
    {
     "name": "stdout",
     "output_type": "stream",
     "text": [
      "                   all         65        195      0.927      0.937      0.959       0.86\n"
     ]
    },
    {
     "name": "stderr",
     "output_type": "stream",
     "text": [
      "\n"
     ]
    },
    {
     "name": "stdout",
     "output_type": "stream",
     "text": [
      "\n",
      "      Epoch    GPU_mem   box_loss   cls_loss   dfl_loss  Instances       Size\n"
     ]
    },
    {
     "name": "stderr",
     "output_type": "stream",
     "text": [
      "     58/100      1.49G     0.5633     0.7428     0.9156         49        480: 100%|██████████| 23/23 [00:04<00:00,  5.13it/s]\n",
      "                 Class     Images  Instances      Box(P          R      mAP50  mAP50-95): 100%|██████████| 3/3 [00:00<00:00,  4.49it/s]"
     ]
    },
    {
     "name": "stdout",
     "output_type": "stream",
     "text": [
      "                   all         65        195      0.936      0.924      0.961      0.861\n"
     ]
    },
    {
     "name": "stderr",
     "output_type": "stream",
     "text": [
      "\n"
     ]
    },
    {
     "name": "stdout",
     "output_type": "stream",
     "text": [
      "\n",
      "      Epoch    GPU_mem   box_loss   cls_loss   dfl_loss  Instances       Size\n"
     ]
    },
    {
     "name": "stderr",
     "output_type": "stream",
     "text": [
      "     59/100      1.49G      0.579     0.7148     0.9048         61        480: 100%|██████████| 23/23 [00:04<00:00,  5.27it/s]\n",
      "                 Class     Images  Instances      Box(P          R      mAP50  mAP50-95): 100%|██████████| 3/3 [00:00<00:00,  4.89it/s]"
     ]
    },
    {
     "name": "stdout",
     "output_type": "stream",
     "text": [
      "                   all         65        195      0.916      0.944      0.959      0.855\n"
     ]
    },
    {
     "name": "stderr",
     "output_type": "stream",
     "text": [
      "\n"
     ]
    },
    {
     "name": "stdout",
     "output_type": "stream",
     "text": [
      "\n",
      "      Epoch    GPU_mem   box_loss   cls_loss   dfl_loss  Instances       Size\n"
     ]
    },
    {
     "name": "stderr",
     "output_type": "stream",
     "text": [
      "     60/100      1.51G     0.5349     0.7058     0.8995         57        480: 100%|██████████| 23/23 [00:04<00:00,  5.18it/s]\n",
      "                 Class     Images  Instances      Box(P          R      mAP50  mAP50-95): 100%|██████████| 3/3 [00:00<00:00,  4.32it/s]"
     ]
    },
    {
     "name": "stdout",
     "output_type": "stream",
     "text": [
      "                   all         65        195      0.929      0.947      0.966      0.873\n"
     ]
    },
    {
     "name": "stderr",
     "output_type": "stream",
     "text": [
      "\n"
     ]
    },
    {
     "name": "stdout",
     "output_type": "stream",
     "text": [
      "\n",
      "      Epoch    GPU_mem   box_loss   cls_loss   dfl_loss  Instances       Size\n"
     ]
    },
    {
     "name": "stderr",
     "output_type": "stream",
     "text": [
      "     61/100      1.49G     0.5836      0.732     0.9107         56        480: 100%|██████████| 23/23 [00:04<00:00,  5.20it/s]\n",
      "                 Class     Images  Instances      Box(P          R      mAP50  mAP50-95): 100%|██████████| 3/3 [00:00<00:00,  4.78it/s]"
     ]
    },
    {
     "name": "stdout",
     "output_type": "stream",
     "text": [
      "                   all         65        195      0.929      0.951      0.965      0.876\n"
     ]
    },
    {
     "name": "stderr",
     "output_type": "stream",
     "text": [
      "\n"
     ]
    },
    {
     "name": "stdout",
     "output_type": "stream",
     "text": [
      "\n",
      "      Epoch    GPU_mem   box_loss   cls_loss   dfl_loss  Instances       Size\n"
     ]
    },
    {
     "name": "stderr",
     "output_type": "stream",
     "text": [
      "     62/100      1.49G     0.5845     0.7574     0.9145         58        480: 100%|██████████| 23/23 [00:04<00:00,  5.03it/s]\n",
      "                 Class     Images  Instances      Box(P          R      mAP50  mAP50-95): 100%|██████████| 3/3 [00:00<00:00,  5.02it/s]"
     ]
    },
    {
     "name": "stdout",
     "output_type": "stream",
     "text": [
      "                   all         65        195       0.94      0.944      0.971      0.872\n"
     ]
    },
    {
     "name": "stderr",
     "output_type": "stream",
     "text": [
      "\n"
     ]
    },
    {
     "name": "stdout",
     "output_type": "stream",
     "text": [
      "\n",
      "      Epoch    GPU_mem   box_loss   cls_loss   dfl_loss  Instances       Size\n"
     ]
    },
    {
     "name": "stderr",
     "output_type": "stream",
     "text": [
      "     63/100       1.5G     0.5741     0.7323     0.9101         78        480: 100%|██████████| 23/23 [00:04<00:00,  4.83it/s]\n",
      "                 Class     Images  Instances      Box(P          R      mAP50  mAP50-95): 100%|██████████| 3/3 [00:00<00:00,  4.43it/s]"
     ]
    },
    {
     "name": "stdout",
     "output_type": "stream",
     "text": [
      "                   all         65        195      0.943       0.94      0.972      0.869\n"
     ]
    },
    {
     "name": "stderr",
     "output_type": "stream",
     "text": [
      "\n"
     ]
    },
    {
     "name": "stdout",
     "output_type": "stream",
     "text": [
      "\n",
      "      Epoch    GPU_mem   box_loss   cls_loss   dfl_loss  Instances       Size\n"
     ]
    },
    {
     "name": "stderr",
     "output_type": "stream",
     "text": [
      "     64/100      1.51G     0.5503     0.7299     0.9068         29        480: 100%|██████████| 23/23 [00:04<00:00,  5.09it/s]\n",
      "                 Class     Images  Instances      Box(P          R      mAP50  mAP50-95): 100%|██████████| 3/3 [00:00<00:00,  4.78it/s]"
     ]
    },
    {
     "name": "stdout",
     "output_type": "stream",
     "text": [
      "                   all         65        195      0.923      0.962      0.973       0.88\n"
     ]
    },
    {
     "name": "stderr",
     "output_type": "stream",
     "text": [
      "\n"
     ]
    },
    {
     "name": "stdout",
     "output_type": "stream",
     "text": [
      "\n",
      "      Epoch    GPU_mem   box_loss   cls_loss   dfl_loss  Instances       Size\n"
     ]
    },
    {
     "name": "stderr",
     "output_type": "stream",
     "text": [
      "     65/100       1.5G       0.53     0.6773     0.8971         56        480: 100%|██████████| 23/23 [00:04<00:00,  5.13it/s]\n",
      "                 Class     Images  Instances      Box(P          R      mAP50  mAP50-95): 100%|██████████| 3/3 [00:00<00:00,  4.72it/s]"
     ]
    },
    {
     "name": "stdout",
     "output_type": "stream",
     "text": [
      "                   all         65        195      0.954      0.945      0.977      0.885\n"
     ]
    },
    {
     "name": "stderr",
     "output_type": "stream",
     "text": [
      "\n"
     ]
    },
    {
     "name": "stdout",
     "output_type": "stream",
     "text": [
      "\n",
      "      Epoch    GPU_mem   box_loss   cls_loss   dfl_loss  Instances       Size\n"
     ]
    },
    {
     "name": "stderr",
     "output_type": "stream",
     "text": [
      "     66/100      1.49G     0.5423     0.7168     0.9023         65        480: 100%|██████████| 23/23 [00:04<00:00,  5.01it/s]\n",
      "                 Class     Images  Instances      Box(P          R      mAP50  mAP50-95): 100%|██████████| 3/3 [00:00<00:00,  4.31it/s]"
     ]
    },
    {
     "name": "stdout",
     "output_type": "stream",
     "text": [
      "                   all         65        195      0.948      0.924      0.976      0.883\n"
     ]
    },
    {
     "name": "stderr",
     "output_type": "stream",
     "text": [
      "\n"
     ]
    },
    {
     "name": "stdout",
     "output_type": "stream",
     "text": [
      "\n",
      "      Epoch    GPU_mem   box_loss   cls_loss   dfl_loss  Instances       Size\n"
     ]
    },
    {
     "name": "stderr",
     "output_type": "stream",
     "text": [
      "     67/100      1.49G     0.5752     0.7022     0.9051         49        480: 100%|██████████| 23/23 [00:04<00:00,  4.70it/s]\n",
      "                 Class     Images  Instances      Box(P          R      mAP50  mAP50-95): 100%|██████████| 3/3 [00:00<00:00,  4.12it/s]"
     ]
    },
    {
     "name": "stdout",
     "output_type": "stream",
     "text": [
      "                   all         65        195      0.967      0.944      0.979      0.879\n"
     ]
    },
    {
     "name": "stderr",
     "output_type": "stream",
     "text": [
      "\n"
     ]
    },
    {
     "name": "stdout",
     "output_type": "stream",
     "text": [
      "\n",
      "      Epoch    GPU_mem   box_loss   cls_loss   dfl_loss  Instances       Size\n"
     ]
    },
    {
     "name": "stderr",
     "output_type": "stream",
     "text": [
      "     68/100      1.51G     0.5528      0.684      0.904         53        480: 100%|██████████| 23/23 [00:04<00:00,  5.08it/s]\n",
      "                 Class     Images  Instances      Box(P          R      mAP50  mAP50-95): 100%|██████████| 3/3 [00:00<00:00,  3.49it/s]"
     ]
    },
    {
     "name": "stdout",
     "output_type": "stream",
     "text": [
      "                   all         65        195       0.94      0.932      0.978      0.885\n"
     ]
    },
    {
     "name": "stderr",
     "output_type": "stream",
     "text": [
      "\n"
     ]
    },
    {
     "name": "stdout",
     "output_type": "stream",
     "text": [
      "\n",
      "      Epoch    GPU_mem   box_loss   cls_loss   dfl_loss  Instances       Size\n"
     ]
    },
    {
     "name": "stderr",
     "output_type": "stream",
     "text": [
      "     69/100      1.49G     0.5528      0.682     0.9019         56        480: 100%|██████████| 23/23 [00:04<00:00,  4.95it/s]\n",
      "                 Class     Images  Instances      Box(P          R      mAP50  mAP50-95): 100%|██████████| 3/3 [00:00<00:00,  4.55it/s]"
     ]
    },
    {
     "name": "stdout",
     "output_type": "stream",
     "text": [
      "                   all         65        195      0.917      0.954      0.975      0.875\n"
     ]
    },
    {
     "name": "stderr",
     "output_type": "stream",
     "text": [
      "\n"
     ]
    },
    {
     "name": "stdout",
     "output_type": "stream",
     "text": [
      "\n",
      "      Epoch    GPU_mem   box_loss   cls_loss   dfl_loss  Instances       Size\n"
     ]
    },
    {
     "name": "stderr",
     "output_type": "stream",
     "text": [
      "     70/100      1.49G     0.5483     0.7092     0.9035         59        480: 100%|██████████| 23/23 [00:04<00:00,  5.24it/s]\n",
      "                 Class     Images  Instances      Box(P          R      mAP50  mAP50-95): 100%|██████████| 3/3 [00:00<00:00,  4.24it/s]"
     ]
    },
    {
     "name": "stdout",
     "output_type": "stream",
     "text": [
      "                   all         65        195      0.921      0.951      0.975      0.879\n"
     ]
    },
    {
     "name": "stderr",
     "output_type": "stream",
     "text": [
      "\n"
     ]
    },
    {
     "name": "stdout",
     "output_type": "stream",
     "text": [
      "\n",
      "      Epoch    GPU_mem   box_loss   cls_loss   dfl_loss  Instances       Size\n"
     ]
    },
    {
     "name": "stderr",
     "output_type": "stream",
     "text": [
      "     71/100       1.5G     0.5543     0.7148     0.9076         58        480: 100%|██████████| 23/23 [00:04<00:00,  5.23it/s]\n",
      "                 Class     Images  Instances      Box(P          R      mAP50  mAP50-95): 100%|██████████| 3/3 [00:00<00:00,  4.40it/s]"
     ]
    },
    {
     "name": "stdout",
     "output_type": "stream",
     "text": [
      "                   all         65        195      0.938      0.935      0.971      0.884\n"
     ]
    },
    {
     "name": "stderr",
     "output_type": "stream",
     "text": [
      "\n"
     ]
    },
    {
     "name": "stdout",
     "output_type": "stream",
     "text": [
      "\n",
      "      Epoch    GPU_mem   box_loss   cls_loss   dfl_loss  Instances       Size\n"
     ]
    },
    {
     "name": "stderr",
     "output_type": "stream",
     "text": [
      "     72/100      1.51G      0.545     0.7048     0.9043         70        480: 100%|██████████| 23/23 [00:04<00:00,  5.11it/s]\n",
      "                 Class     Images  Instances      Box(P          R      mAP50  mAP50-95): 100%|██████████| 3/3 [00:00<00:00,  4.51it/s]"
     ]
    },
    {
     "name": "stdout",
     "output_type": "stream",
     "text": [
      "                   all         65        195      0.945      0.953      0.975      0.889\n"
     ]
    },
    {
     "name": "stderr",
     "output_type": "stream",
     "text": [
      "\n"
     ]
    },
    {
     "name": "stdout",
     "output_type": "stream",
     "text": [
      "\n",
      "      Epoch    GPU_mem   box_loss   cls_loss   dfl_loss  Instances       Size\n"
     ]
    },
    {
     "name": "stderr",
     "output_type": "stream",
     "text": [
      "     73/100      1.49G     0.5441     0.7011     0.9047         69        480: 100%|██████████| 23/23 [00:04<00:00,  4.96it/s]\n",
      "                 Class     Images  Instances      Box(P          R      mAP50  mAP50-95): 100%|██████████| 3/3 [00:00<00:00,  4.62it/s]"
     ]
    },
    {
     "name": "stdout",
     "output_type": "stream",
     "text": [
      "                   all         65        195      0.921      0.959      0.966      0.883\n"
     ]
    },
    {
     "name": "stderr",
     "output_type": "stream",
     "text": [
      "\n"
     ]
    },
    {
     "name": "stdout",
     "output_type": "stream",
     "text": [
      "\n",
      "      Epoch    GPU_mem   box_loss   cls_loss   dfl_loss  Instances       Size\n"
     ]
    },
    {
     "name": "stderr",
     "output_type": "stream",
     "text": [
      "     74/100      1.49G     0.5388     0.6902     0.8905         42        480: 100%|██████████| 23/23 [00:04<00:00,  5.30it/s]\n",
      "                 Class     Images  Instances      Box(P          R      mAP50  mAP50-95): 100%|██████████| 3/3 [00:00<00:00,  4.56it/s]"
     ]
    },
    {
     "name": "stdout",
     "output_type": "stream",
     "text": [
      "                   all         65        195      0.942      0.941      0.972       0.88\n"
     ]
    },
    {
     "name": "stderr",
     "output_type": "stream",
     "text": [
      "\n"
     ]
    },
    {
     "name": "stdout",
     "output_type": "stream",
     "text": [
      "\n",
      "      Epoch    GPU_mem   box_loss   cls_loss   dfl_loss  Instances       Size\n"
     ]
    },
    {
     "name": "stderr",
     "output_type": "stream",
     "text": [
      "     75/100      1.49G     0.5554     0.6846      0.905         66        480: 100%|██████████| 23/23 [00:04<00:00,  4.90it/s]\n",
      "                 Class     Images  Instances      Box(P          R      mAP50  mAP50-95): 100%|██████████| 3/3 [00:00<00:00,  5.04it/s]"
     ]
    },
    {
     "name": "stdout",
     "output_type": "stream",
     "text": [
      "                   all         65        195      0.936      0.952      0.976      0.873\n"
     ]
    },
    {
     "name": "stderr",
     "output_type": "stream",
     "text": [
      "\n"
     ]
    },
    {
     "name": "stdout",
     "output_type": "stream",
     "text": [
      "\n",
      "      Epoch    GPU_mem   box_loss   cls_loss   dfl_loss  Instances       Size\n"
     ]
    },
    {
     "name": "stderr",
     "output_type": "stream",
     "text": [
      "     76/100      1.51G     0.5323     0.6824      0.899         39        480: 100%|██████████| 23/23 [00:04<00:00,  5.05it/s]\n",
      "                 Class     Images  Instances      Box(P          R      mAP50  mAP50-95): 100%|██████████| 3/3 [00:00<00:00,  4.69it/s]"
     ]
    },
    {
     "name": "stdout",
     "output_type": "stream",
     "text": [
      "                   all         65        195      0.927      0.956      0.973      0.879\n"
     ]
    },
    {
     "name": "stderr",
     "output_type": "stream",
     "text": [
      "\n"
     ]
    },
    {
     "name": "stdout",
     "output_type": "stream",
     "text": [
      "\n",
      "      Epoch    GPU_mem   box_loss   cls_loss   dfl_loss  Instances       Size\n"
     ]
    },
    {
     "name": "stderr",
     "output_type": "stream",
     "text": [
      "     77/100      1.49G     0.5652     0.7009     0.9035         59        480: 100%|██████████| 23/23 [00:04<00:00,  5.00it/s]\n",
      "                 Class     Images  Instances      Box(P          R      mAP50  mAP50-95): 100%|██████████| 3/3 [00:00<00:00,  3.93it/s]"
     ]
    },
    {
     "name": "stdout",
     "output_type": "stream",
     "text": [
      "                   all         65        195      0.935      0.954      0.977      0.881\n"
     ]
    },
    {
     "name": "stderr",
     "output_type": "stream",
     "text": [
      "\n"
     ]
    },
    {
     "name": "stdout",
     "output_type": "stream",
     "text": [
      "\n",
      "      Epoch    GPU_mem   box_loss   cls_loss   dfl_loss  Instances       Size\n"
     ]
    },
    {
     "name": "stderr",
     "output_type": "stream",
     "text": [
      "     78/100      1.49G     0.5482     0.6759     0.8958         75        480: 100%|██████████| 23/23 [00:04<00:00,  5.10it/s]\n",
      "                 Class     Images  Instances      Box(P          R      mAP50  mAP50-95): 100%|██████████| 3/3 [00:00<00:00,  4.68it/s]"
     ]
    },
    {
     "name": "stdout",
     "output_type": "stream",
     "text": [
      "                   all         65        195      0.932       0.95      0.974      0.874\n"
     ]
    },
    {
     "name": "stderr",
     "output_type": "stream",
     "text": [
      "\n"
     ]
    },
    {
     "name": "stdout",
     "output_type": "stream",
     "text": [
      "\n",
      "      Epoch    GPU_mem   box_loss   cls_loss   dfl_loss  Instances       Size\n"
     ]
    },
    {
     "name": "stderr",
     "output_type": "stream",
     "text": [
      "     79/100      1.49G     0.5225       0.66     0.8956         47        480: 100%|██████████| 23/23 [00:04<00:00,  5.16it/s]\n",
      "                 Class     Images  Instances      Box(P          R      mAP50  mAP50-95): 100%|██████████| 3/3 [00:00<00:00,  4.40it/s]"
     ]
    },
    {
     "name": "stdout",
     "output_type": "stream",
     "text": [
      "                   all         65        195      0.936      0.953      0.975       0.88\n"
     ]
    },
    {
     "name": "stderr",
     "output_type": "stream",
     "text": [
      "\n"
     ]
    },
    {
     "name": "stdout",
     "output_type": "stream",
     "text": [
      "\n",
      "      Epoch    GPU_mem   box_loss   cls_loss   dfl_loss  Instances       Size\n"
     ]
    },
    {
     "name": "stderr",
     "output_type": "stream",
     "text": [
      "     80/100      1.49G     0.5136     0.6679     0.8957         62        480: 100%|██████████| 23/23 [00:04<00:00,  5.01it/s]\n",
      "                 Class     Images  Instances      Box(P          R      mAP50  mAP50-95): 100%|██████████| 3/3 [00:00<00:00,  4.89it/s]"
     ]
    },
    {
     "name": "stdout",
     "output_type": "stream",
     "text": [
      "                   all         65        195      0.932      0.952      0.976      0.888\n"
     ]
    },
    {
     "name": "stderr",
     "output_type": "stream",
     "text": [
      "\n"
     ]
    },
    {
     "name": "stdout",
     "output_type": "stream",
     "text": [
      "\n",
      "      Epoch    GPU_mem   box_loss   cls_loss   dfl_loss  Instances       Size\n"
     ]
    },
    {
     "name": "stderr",
     "output_type": "stream",
     "text": [
      "     81/100      1.48G     0.5316     0.6813     0.8963         54        480: 100%|██████████| 23/23 [00:04<00:00,  5.04it/s]\n",
      "                 Class     Images  Instances      Box(P          R      mAP50  mAP50-95): 100%|██████████| 3/3 [00:00<00:00,  4.66it/s]"
     ]
    },
    {
     "name": "stdout",
     "output_type": "stream",
     "text": [
      "                   all         65        195      0.957       0.93      0.977      0.889\n"
     ]
    },
    {
     "name": "stderr",
     "output_type": "stream",
     "text": [
      "\n"
     ]
    },
    {
     "name": "stdout",
     "output_type": "stream",
     "text": [
      "\n",
      "      Epoch    GPU_mem   box_loss   cls_loss   dfl_loss  Instances       Size\n"
     ]
    },
    {
     "name": "stderr",
     "output_type": "stream",
     "text": [
      "     82/100      1.49G     0.5405     0.6754     0.8935         56        480: 100%|██████████| 23/23 [00:04<00:00,  5.10it/s]\n",
      "                 Class     Images  Instances      Box(P          R      mAP50  mAP50-95): 100%|██████████| 3/3 [00:00<00:00,  4.81it/s]"
     ]
    },
    {
     "name": "stdout",
     "output_type": "stream",
     "text": [
      "                   all         65        195       0.95      0.926      0.972      0.887\n"
     ]
    },
    {
     "name": "stderr",
     "output_type": "stream",
     "text": [
      "\n"
     ]
    },
    {
     "name": "stdout",
     "output_type": "stream",
     "text": [
      "\n",
      "      Epoch    GPU_mem   box_loss   cls_loss   dfl_loss  Instances       Size\n"
     ]
    },
    {
     "name": "stderr",
     "output_type": "stream",
     "text": [
      "     83/100      1.49G     0.5249     0.6678     0.8967         56        480: 100%|██████████| 23/23 [00:04<00:00,  5.24it/s]\n",
      "                 Class     Images  Instances      Box(P          R      mAP50  mAP50-95): 100%|██████████| 3/3 [00:00<00:00,  4.34it/s]"
     ]
    },
    {
     "name": "stdout",
     "output_type": "stream",
     "text": [
      "                   all         65        195      0.904      0.955      0.971      0.888\n"
     ]
    },
    {
     "name": "stderr",
     "output_type": "stream",
     "text": [
      "\n"
     ]
    },
    {
     "name": "stdout",
     "output_type": "stream",
     "text": [
      "\n",
      "      Epoch    GPU_mem   box_loss   cls_loss   dfl_loss  Instances       Size\n"
     ]
    },
    {
     "name": "stderr",
     "output_type": "stream",
     "text": [
      "     84/100      1.51G     0.5225     0.6627     0.8956         59        480: 100%|██████████| 23/23 [00:04<00:00,  4.89it/s]\n",
      "                 Class     Images  Instances      Box(P          R      mAP50  mAP50-95): 100%|██████████| 3/3 [00:00<00:00,  4.27it/s]"
     ]
    },
    {
     "name": "stdout",
     "output_type": "stream",
     "text": [
      "                   all         65        195      0.947      0.938      0.975      0.891\n"
     ]
    },
    {
     "name": "stderr",
     "output_type": "stream",
     "text": [
      "\n"
     ]
    },
    {
     "name": "stdout",
     "output_type": "stream",
     "text": [
      "\n",
      "      Epoch    GPU_mem   box_loss   cls_loss   dfl_loss  Instances       Size\n"
     ]
    },
    {
     "name": "stderr",
     "output_type": "stream",
     "text": [
      "     85/100      1.49G     0.5256     0.6761     0.8933         51        480: 100%|██████████| 23/23 [00:04<00:00,  5.14it/s]\n",
      "                 Class     Images  Instances      Box(P          R      mAP50  mAP50-95): 100%|██████████| 3/3 [00:00<00:00,  4.91it/s]"
     ]
    },
    {
     "name": "stdout",
     "output_type": "stream",
     "text": [
      "                   all         65        195      0.935      0.956      0.976      0.893\n"
     ]
    },
    {
     "name": "stderr",
     "output_type": "stream",
     "text": [
      "\n"
     ]
    },
    {
     "name": "stdout",
     "output_type": "stream",
     "text": [
      "\n",
      "      Epoch    GPU_mem   box_loss   cls_loss   dfl_loss  Instances       Size\n"
     ]
    },
    {
     "name": "stderr",
     "output_type": "stream",
     "text": [
      "     86/100      1.49G     0.5355     0.6808     0.9057         59        480: 100%|██████████| 23/23 [00:04<00:00,  5.06it/s]\n",
      "                 Class     Images  Instances      Box(P          R      mAP50  mAP50-95): 100%|██████████| 3/3 [00:00<00:00,  4.85it/s]"
     ]
    },
    {
     "name": "stdout",
     "output_type": "stream",
     "text": [
      "                   all         65        195      0.938      0.949      0.978      0.895\n"
     ]
    },
    {
     "name": "stderr",
     "output_type": "stream",
     "text": [
      "\n"
     ]
    },
    {
     "name": "stdout",
     "output_type": "stream",
     "text": [
      "\n",
      "      Epoch    GPU_mem   box_loss   cls_loss   dfl_loss  Instances       Size\n"
     ]
    },
    {
     "name": "stderr",
     "output_type": "stream",
     "text": [
      "     87/100      1.49G     0.5254     0.6819     0.9076         48        480: 100%|██████████| 23/23 [00:04<00:00,  5.07it/s]\n",
      "                 Class     Images  Instances      Box(P          R      mAP50  mAP50-95): 100%|██████████| 3/3 [00:00<00:00,  4.68it/s]"
     ]
    },
    {
     "name": "stdout",
     "output_type": "stream",
     "text": [
      "                   all         65        195      0.936      0.945      0.977      0.896\n"
     ]
    },
    {
     "name": "stderr",
     "output_type": "stream",
     "text": [
      "\n"
     ]
    },
    {
     "name": "stdout",
     "output_type": "stream",
     "text": [
      "\n",
      "      Epoch    GPU_mem   box_loss   cls_loss   dfl_loss  Instances       Size\n"
     ]
    },
    {
     "name": "stderr",
     "output_type": "stream",
     "text": [
      "     88/100      1.49G     0.5211     0.6708      0.893         62        480: 100%|██████████| 23/23 [00:04<00:00,  5.29it/s]\n",
      "                 Class     Images  Instances      Box(P          R      mAP50  mAP50-95): 100%|██████████| 3/3 [00:00<00:00,  4.89it/s]"
     ]
    },
    {
     "name": "stdout",
     "output_type": "stream",
     "text": [
      "                   all         65        195      0.944      0.942      0.977      0.888\n"
     ]
    },
    {
     "name": "stderr",
     "output_type": "stream",
     "text": [
      "\n"
     ]
    },
    {
     "name": "stdout",
     "output_type": "stream",
     "text": [
      "\n",
      "      Epoch    GPU_mem   box_loss   cls_loss   dfl_loss  Instances       Size\n"
     ]
    },
    {
     "name": "stderr",
     "output_type": "stream",
     "text": [
      "     89/100      1.49G     0.5215     0.6651      0.895         65        480: 100%|██████████| 23/23 [00:04<00:00,  5.24it/s]\n",
      "                 Class     Images  Instances      Box(P          R      mAP50  mAP50-95): 100%|██████████| 3/3 [00:00<00:00,  4.71it/s]"
     ]
    },
    {
     "name": "stdout",
     "output_type": "stream",
     "text": [
      "                   all         65        195      0.929      0.958      0.977      0.891\n"
     ]
    },
    {
     "name": "stderr",
     "output_type": "stream",
     "text": [
      "\n"
     ]
    },
    {
     "name": "stdout",
     "output_type": "stream",
     "text": [
      "\n",
      "      Epoch    GPU_mem   box_loss   cls_loss   dfl_loss  Instances       Size\n"
     ]
    },
    {
     "name": "stderr",
     "output_type": "stream",
     "text": [
      "     90/100      1.49G      0.522     0.6791     0.8985         45        480: 100%|██████████| 23/23 [00:04<00:00,  4.98it/s]\n",
      "                 Class     Images  Instances      Box(P          R      mAP50  mAP50-95): 100%|██████████| 3/3 [00:00<00:00,  4.59it/s]"
     ]
    },
    {
     "name": "stdout",
     "output_type": "stream",
     "text": [
      "                   all         65        195       0.95      0.945      0.982      0.892\n"
     ]
    },
    {
     "name": "stderr",
     "output_type": "stream",
     "text": [
      "\n"
     ]
    },
    {
     "name": "stdout",
     "output_type": "stream",
     "text": [
      "Closing dataloader mosaic\n",
      "\n",
      "      Epoch    GPU_mem   box_loss   cls_loss   dfl_loss  Instances       Size\n"
     ]
    },
    {
     "name": "stderr",
     "output_type": "stream",
     "text": [
      "     91/100      1.48G     0.4799     0.6141     0.8688         33        480: 100%|██████████| 23/23 [00:05<00:00,  4.29it/s]\n",
      "                 Class     Images  Instances      Box(P          R      mAP50  mAP50-95): 100%|██████████| 3/3 [00:00<00:00,  4.39it/s]"
     ]
    },
    {
     "name": "stdout",
     "output_type": "stream",
     "text": [
      "                   all         65        195      0.945      0.943      0.982      0.891\n"
     ]
    },
    {
     "name": "stderr",
     "output_type": "stream",
     "text": [
      "\n"
     ]
    },
    {
     "name": "stdout",
     "output_type": "stream",
     "text": [
      "\n",
      "      Epoch    GPU_mem   box_loss   cls_loss   dfl_loss  Instances       Size\n"
     ]
    },
    {
     "name": "stderr",
     "output_type": "stream",
     "text": [
      "     92/100       1.5G     0.5056     0.6414     0.8878         31        480: 100%|██████████| 23/23 [00:04<00:00,  5.14it/s]\n",
      "                 Class     Images  Instances      Box(P          R      mAP50  mAP50-95): 100%|██████████| 3/3 [00:00<00:00,  4.26it/s]"
     ]
    },
    {
     "name": "stdout",
     "output_type": "stream",
     "text": [
      "                   all         65        195      0.951      0.945       0.98      0.894\n"
     ]
    },
    {
     "name": "stderr",
     "output_type": "stream",
     "text": [
      "\n"
     ]
    },
    {
     "name": "stdout",
     "output_type": "stream",
     "text": [
      "\n",
      "      Epoch    GPU_mem   box_loss   cls_loss   dfl_loss  Instances       Size\n"
     ]
    },
    {
     "name": "stderr",
     "output_type": "stream",
     "text": [
      "     93/100      1.48G     0.4721     0.6116     0.8702         31        480: 100%|██████████| 23/23 [00:05<00:00,  4.59it/s]\n",
      "                 Class     Images  Instances      Box(P          R      mAP50  mAP50-95): 100%|██████████| 3/3 [00:00<00:00,  4.15it/s]"
     ]
    },
    {
     "name": "stdout",
     "output_type": "stream",
     "text": [
      "                   all         65        195      0.957      0.948      0.979      0.896\n"
     ]
    },
    {
     "name": "stderr",
     "output_type": "stream",
     "text": [
      "\n"
     ]
    },
    {
     "name": "stdout",
     "output_type": "stream",
     "text": [
      "\n",
      "      Epoch    GPU_mem   box_loss   cls_loss   dfl_loss  Instances       Size\n"
     ]
    },
    {
     "name": "stderr",
     "output_type": "stream",
     "text": [
      "     94/100      1.48G     0.5049     0.6251     0.8764         33        480: 100%|██████████| 23/23 [00:04<00:00,  5.31it/s]\n",
      "                 Class     Images  Instances      Box(P          R      mAP50  mAP50-95): 100%|██████████| 3/3 [00:00<00:00,  3.84it/s]"
     ]
    },
    {
     "name": "stdout",
     "output_type": "stream",
     "text": [
      "                   all         65        195      0.957      0.953       0.98      0.897\n"
     ]
    },
    {
     "name": "stderr",
     "output_type": "stream",
     "text": [
      "\n"
     ]
    },
    {
     "name": "stdout",
     "output_type": "stream",
     "text": [
      "\n",
      "      Epoch    GPU_mem   box_loss   cls_loss   dfl_loss  Instances       Size\n"
     ]
    },
    {
     "name": "stderr",
     "output_type": "stream",
     "text": [
      "     95/100      1.48G     0.4909     0.6142     0.8703         33        480: 100%|██████████| 23/23 [00:04<00:00,  5.25it/s]\n",
      "                 Class     Images  Instances      Box(P          R      mAP50  mAP50-95): 100%|██████████| 3/3 [00:00<00:00,  3.29it/s]"
     ]
    },
    {
     "name": "stdout",
     "output_type": "stream",
     "text": [
      "                   all         65        195      0.959      0.951      0.982      0.899\n"
     ]
    },
    {
     "name": "stderr",
     "output_type": "stream",
     "text": [
      "\n"
     ]
    },
    {
     "name": "stdout",
     "output_type": "stream",
     "text": [
      "\n",
      "      Epoch    GPU_mem   box_loss   cls_loss   dfl_loss  Instances       Size\n"
     ]
    },
    {
     "name": "stderr",
     "output_type": "stream",
     "text": [
      "     96/100       1.5G     0.4882     0.6097     0.8745         32        480: 100%|██████████| 23/23 [00:04<00:00,  5.09it/s]\n",
      "                 Class     Images  Instances      Box(P          R      mAP50  mAP50-95): 100%|██████████| 3/3 [00:00<00:00,  3.84it/s]"
     ]
    },
    {
     "name": "stdout",
     "output_type": "stream",
     "text": [
      "                   all         65        195      0.954      0.951      0.984      0.898\n"
     ]
    },
    {
     "name": "stderr",
     "output_type": "stream",
     "text": [
      "\n"
     ]
    },
    {
     "name": "stdout",
     "output_type": "stream",
     "text": [
      "\n",
      "      Epoch    GPU_mem   box_loss   cls_loss   dfl_loss  Instances       Size\n"
     ]
    },
    {
     "name": "stderr",
     "output_type": "stream",
     "text": [
      "     97/100      1.48G     0.4606     0.5856     0.8641         34        480: 100%|██████████| 23/23 [00:04<00:00,  5.19it/s]\n",
      "                 Class     Images  Instances      Box(P          R      mAP50  mAP50-95): 100%|██████████| 3/3 [00:00<00:00,  4.63it/s]"
     ]
    },
    {
     "name": "stdout",
     "output_type": "stream",
     "text": [
      "                   all         65        195      0.957      0.948      0.985      0.897\n"
     ]
    },
    {
     "name": "stderr",
     "output_type": "stream",
     "text": [
      "\n"
     ]
    },
    {
     "name": "stdout",
     "output_type": "stream",
     "text": [
      "\n",
      "      Epoch    GPU_mem   box_loss   cls_loss   dfl_loss  Instances       Size\n"
     ]
    },
    {
     "name": "stderr",
     "output_type": "stream",
     "text": [
      "     98/100      1.48G     0.4822     0.6075     0.8766         36        480: 100%|██████████| 23/23 [00:04<00:00,  5.05it/s]\n",
      "                 Class     Images  Instances      Box(P          R      mAP50  mAP50-95): 100%|██████████| 3/3 [00:00<00:00,  4.57it/s]"
     ]
    },
    {
     "name": "stdout",
     "output_type": "stream",
     "text": [
      "                   all         65        195      0.958      0.949      0.983      0.895\n"
     ]
    },
    {
     "name": "stderr",
     "output_type": "stream",
     "text": [
      "\n"
     ]
    },
    {
     "name": "stdout",
     "output_type": "stream",
     "text": [
      "\n",
      "      Epoch    GPU_mem   box_loss   cls_loss   dfl_loss  Instances       Size\n"
     ]
    },
    {
     "name": "stderr",
     "output_type": "stream",
     "text": [
      "     99/100      1.48G     0.4635     0.5776       0.87         32        480: 100%|██████████| 23/23 [00:04<00:00,  5.21it/s]\n",
      "                 Class     Images  Instances      Box(P          R      mAP50  mAP50-95): 100%|██████████| 3/3 [00:00<00:00,  4.16it/s]"
     ]
    },
    {
     "name": "stdout",
     "output_type": "stream",
     "text": [
      "                   all         65        195      0.959      0.952      0.982      0.904\n"
     ]
    },
    {
     "name": "stderr",
     "output_type": "stream",
     "text": [
      "\n"
     ]
    },
    {
     "name": "stdout",
     "output_type": "stream",
     "text": [
      "\n",
      "      Epoch    GPU_mem   box_loss   cls_loss   dfl_loss  Instances       Size\n"
     ]
    },
    {
     "name": "stderr",
     "output_type": "stream",
     "text": [
      "    100/100       1.5G     0.4612     0.6088     0.8656         34        480: 100%|██████████| 23/23 [00:04<00:00,  5.05it/s]\n",
      "                 Class     Images  Instances      Box(P          R      mAP50  mAP50-95): 100%|██████████| 3/3 [00:00<00:00,  4.58it/s]"
     ]
    },
    {
     "name": "stdout",
     "output_type": "stream",
     "text": [
      "                   all         65        195      0.959      0.952      0.983      0.897\n"
     ]
    },
    {
     "name": "stderr",
     "output_type": "stream",
     "text": [
      "\n"
     ]
    },
    {
     "name": "stdout",
     "output_type": "stream",
     "text": [
      "\n",
      "100 epochs completed in 0.162 hours.\n",
      "Optimizer stripped from /home/rini-debian/git-stash/lvgl-ui-detector/runs/detect/train5/weights/last.pt, 6.2MB\n",
      "Optimizer stripped from /home/rini-debian/git-stash/lvgl-ui-detector/runs/detect/train5/weights/best.pt, 6.2MB\n",
      "\n",
      "Validating /home/rini-debian/git-stash/lvgl-ui-detector/runs/detect/train5/weights/best.pt...\n",
      "Ultralytics YOLOv8.1.47 🚀 Python-3.11.2 torch-2.2.2+cu121 CUDA:0 (NVIDIA GeForce RTX 2060 with Max-Q Design, 6144MiB)\n",
      "Model summary (fused): 168 layers, 3011303 parameters, 0 gradients, 8.1 GFLOPs\n"
     ]
    },
    {
     "name": "stderr",
     "output_type": "stream",
     "text": [
      "                 Class     Images  Instances      Box(P          R      mAP50  mAP50-95): 100%|██████████| 3/3 [00:01<00:00,  2.28it/s]\n"
     ]
    },
    {
     "name": "stdout",
     "output_type": "stream",
     "text": [
      "                   all         65        195      0.959      0.951      0.983      0.903\n",
      "                   arc         65         11      0.962          1      0.995      0.995\n",
      "                   bar         65         19          1      0.809      0.978      0.829\n",
      "                button         65          8      0.887      0.985      0.982      0.861\n",
      "              calendar         65          7      0.943          1      0.995      0.995\n",
      "              checkbox         65         15          1      0.778      0.941      0.798\n",
      "              dropdown         65         15      0.954          1      0.995      0.966\n",
      "                 label         65         20      0.939      0.765      0.922       0.62\n",
      "                   led         65          8      0.963          1      0.995      0.878\n",
      "                roller         65         22      0.979          1      0.995      0.919\n",
      "                 scale         65         16      0.973          1      0.995      0.969\n",
      "                slider         65         10      0.872          1      0.986      0.929\n",
      "               spinbox         65         16      0.968          1      0.995      0.972\n",
      "                switch         65         16          1      0.984      0.995      0.922\n",
      "                 table         65         12      0.992          1      0.995      0.987\n",
      "Speed: 0.4ms preprocess, 4.4ms inference, 0.0ms loss, 6.9ms postprocess per image\n",
      "Results saved to \u001b[1m/home/rini-debian/git-stash/lvgl-ui-detector/runs/detect/train5\u001b[0m\n"
     ]
    }
   ],
   "source": [
    "# Training inputs\n",
    "model_variant = \"yolov8n\"\n",
    "args = dict(\n",
    "    epochs=100, \n",
    "    imgsz=480\n",
    ")\n",
    "results = training_task(model_variant, dataset_choice, args)\n"
   ]
  },
  {
   "cell_type": "code",
   "execution_count": 16,
   "metadata": {},
   "outputs": [
    {
     "data": {
      "text/plain": [
       "0.902833864538582"
      ]
     },
     "execution_count": 16,
     "metadata": {},
     "output_type": "execute_result"
    }
   ],
   "source": [
    "results.box.map"
   ]
  },
  {
   "cell_type": "code",
   "execution_count": 17,
   "metadata": {},
   "outputs": [
    {
     "data": {
      "text/plain": [
       "0.9830693200725263"
      ]
     },
     "execution_count": 17,
     "metadata": {},
     "output_type": "execute_result"
    }
   ],
   "source": [
    "results.box.map50"
   ]
  },
  {
   "cell_type": "code",
   "execution_count": 18,
   "metadata": {},
   "outputs": [
    {
     "data": {
      "text/plain": [
       "0.9635186203486205"
      ]
     },
     "execution_count": 18,
     "metadata": {},
     "output_type": "execute_result"
    }
   ],
   "source": [
    "results.box.map75"
   ]
  },
  {
   "cell_type": "code",
   "execution_count": 19,
   "metadata": {},
   "outputs": [
    {
     "data": {
      "text/plain": [
       "array([      0.995,     0.82927,     0.86105,     0.90283,       0.995,     0.90283,     0.79785,     0.96603,     0.90283,     0.90283,     0.90283,     0.62012,     0.87767,     0.90283,     0.90283,     0.90283,     0.90283,     0.91869,     0.96924,     0.92874,     0.90283,     0.97235,     0.90283,     0.92165,\n",
       "           0.98702,     0.90283,     0.90283,     0.90283,     0.90283])"
      ]
     },
     "execution_count": 19,
     "metadata": {},
     "output_type": "execute_result"
    }
   ],
   "source": [
    "results.box.maps"
   ]
  }
 ],
 "metadata": {
  "kernelspec": {
   "display_name": "Python 3 (ipykernel)",
   "language": "python",
   "name": "python3"
  },
  "language_info": {
   "codemirror_mode": {
    "name": "ipython",
    "version": 3
   },
   "file_extension": ".py",
   "mimetype": "text/x-python",
   "name": "python",
   "nbconvert_exporter": "python",
   "pygments_lexer": "ipython3",
   "version": "3.11.2"
  }
 },
 "nbformat": 4,
 "nbformat_minor": 2
}
