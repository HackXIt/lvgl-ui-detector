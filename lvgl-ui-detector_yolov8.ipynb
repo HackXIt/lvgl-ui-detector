{
 "cells": [
  {
   "cell_type": "markdown",
   "metadata": {},
   "source": [
    "# General notebook preparation"
   ]
  },
  {
   "cell_type": "code",
   "execution_count": 84,
   "metadata": {},
   "outputs": [],
   "source": [
    "# Standard library imports\n",
    "import os\n",
    "import sys\n",
    "import yaml"
   ]
  },
  {
   "cell_type": "code",
   "execution_count": 85,
   "metadata": {},
   "outputs": [],
   "source": [
    "# Set constants for environment\n",
    "IN_COLAB = 'google.colab' in sys.modules\n",
    "IN_LOCAL_CONTAINER = 'HOMELAB' in os.environ\n",
    "env = {\n",
    "    'PROJECT_NAME': 'LVGL UI Detector',\n",
    "    'PROJECT_TAG': 'lvgl-ui-detector',\n",
    "    'IN_COLAB': IN_COLAB,\n",
    "    'IN_LOCAL_CONTAINER': IN_LOCAL_CONTAINER,\n",
    "    'DIRS': {},\n",
    "    'FILES': {},\n",
    "    'ENV': os.environ,\n",
    "}\n",
    "required_modules = ['ultralytics', 'clearml']"
   ]
  },
  {
   "cell_type": "markdown",
   "metadata": {},
   "source": [
    "# Environment setups"
   ]
  },
  {
   "cell_type": "code",
   "execution_count": 86,
   "metadata": {},
   "outputs": [],
   "source": [
    "if IN_COLAB:\n",
    "    from google.colab import drive\n",
    "    drive.mount('/content/drive') # Mount Google Drive\n",
    "    env['DIRS']['root'] = os.path.join(\"/content/drive/MyDrive/project\")\n",
    "elif IN_LOCAL_CONTAINER:\n",
    "    # Local container already comes with the required modules pre-installed\n",
    "    env['DIRS']['root'] = \"/usr/src\"\n",
    "else:\n",
    "    # Local development environment needs to have the required modules installed\n",
    "    env['DIRS']['root'] = os.path.curdir"
   ]
  },
  {
   "cell_type": "code",
   "execution_count": 87,
   "metadata": {},
   "outputs": [],
   "source": [
    "# Import all dependencies\n",
    "missing_deps = False\n",
    "try:\n",
    "    from ultralytics import YOLO\n",
    "    from clearml import Task, TaskTypes, Dataset, StorageManager, Logger\n",
    "    import yaml\n",
    "except ImportError as e:\n",
    "    print(f\"Failed to import required dependencies: {e}\")\n",
    "    missing_deps = True\n",
    "    print(\"Run the next cell to install the required dependencies and then restart the runtime.\")"
   ]
  },
  {
   "cell_type": "code",
   "execution_count": 88,
   "metadata": {},
   "outputs": [],
   "source": [
    "if missing_deps:\n",
    "    %pip install -q {*required_modules}"
   ]
  },
  {
   "cell_type": "code",
   "execution_count": 89,
   "metadata": {},
   "outputs": [
    {
     "name": "stdout",
     "output_type": "stream",
     "text": [
      "Name: ultralytics\n",
      "Version: 8.1.47\n",
      "Summary: Ultralytics YOLOv8 for SOTA object detection, multi-object tracking, instance segmentation, pose estimation and image classification.\n",
      "Home-page: \n",
      "Author: Glenn Jocher, Ayush Chaurasia, Jing Qiu\n",
      "Author-email: \n",
      "License: AGPL-3.0\n",
      "Location: /home/rini-debian/git-stash/lvgl-ui-detector/.venv/lib/python3.11/site-packages\n",
      "Requires: matplotlib, opencv-python, pandas, pillow, psutil, py-cpuinfo, pyyaml, requests, scipy, seaborn, thop, torch, torchvision, tqdm\n",
      "Required-by: \n",
      "Note: you may need to restart the kernel to use updated packages.\n",
      "Name: clearml\n",
      "Version: 1.15.0\n",
      "Summary: ClearML - Auto-Magical Experiment Manager, Version Control, and MLOps for AI\n",
      "Home-page: https://github.com/allegroai/clearml\n",
      "Author: ClearML\n",
      "Author-email: support@clear.ml\n",
      "License: Apache License 2.0\n",
      "Location: /home/rini-debian/git-stash/lvgl-ui-detector/.venv/lib/python3.11/site-packages\n",
      "Requires: attrs, furl, jsonschema, numpy, pathlib2, Pillow, psutil, pyjwt, pyparsing, python-dateutil, PyYAML, referencing, requests, six, urllib3\n",
      "Required-by: \n",
      "Note: you may need to restart the kernel to use updated packages.\n"
     ]
    }
   ],
   "source": [
    "# Show the used versions of the required modules\n",
    "for module in required_modules:\n",
    "    %pip show {module}"
   ]
  },
  {
   "cell_type": "code",
   "execution_count": 90,
   "metadata": {},
   "outputs": [],
   "source": [
    "# Configure folders\n",
    "env['DIRS']['data'] = os.path.join(env['DIRS']['root'], \"datasets\")"
   ]
  },
  {
   "cell_type": "code",
   "execution_count": 91,
   "metadata": {},
   "outputs": [],
   "source": [
    "# Query ClearML for available datasets\n",
    "datasets = Dataset.list_datasets(env['PROJECT_NAME'], partial_name=\"UI Randomizer\", tags=[env['PROJECT_TAG']], only_completed=True)\n",
    "# Store dataset filenames per dataset\n",
    "env['DATASETS'] = {}\n",
    "for dataset in datasets:\n",
    "    env['FILES'][dataset['id']] = Dataset.get(dataset['id']).list_files(\"*.yaml\")\n",
    "    env['DATASETS'][dataset['id']] = dataset\n"
   ]
  },
  {
   "cell_type": "code",
   "execution_count": 92,
   "metadata": {},
   "outputs": [
    {
     "name": "stdout",
     "output_type": "stream",
     "text": [
      "{'d1c4ec5c8f7e4492ab7b2a8d0b584c88': ['ui_randoms.yaml'], 'e7f05a856ca34cd88940c4b8774f4c45': ['ui_randoms.yaml'], 'e113a14fec574025a15a5c9868746c4b': ['dataset_upload_test.yaml'], 'c520737c392c47608ffd52f33fc593f6': ['dataset_upload_test.yaml'], '12f2a7ee7a7f45b8866d2c5f75e92413': ['dataset_upload_test.yaml'], '640fc2e67b3b4b498fe6d9b1da764911': ['dataset_upload_test.yaml'], 'cef7f5e021484b089a5eccf0c014d150': ['dataset_upload_test.yaml'], '28b1c17f1fef47a793f9ac086b2d6b10': ['dataset_upload_test.yaml'], 'abc76956f1de41b386fa805e8858c884': ['ui_widgets.yaml'], '326ea43fc9ff4e6db5209218b6020ca6': ['ui_widgets.yaml'], '172affc0c4bb4a369e75f685782b5ad8': ['ui_widgets.yaml']}\n",
      "{'d1c4ec5c8f7e4492ab7b2a8d0b584c88': {'name': 'UI Randomizer - ui_randoms', 'created': datetime.datetime(2024, 4, 14, 11, 22, 26, 188000, tzinfo=tzutc()), 'project': 'LVGL UI Detector', 'id': 'd1c4ec5c8f7e4492ab7b2a8d0b584c88', 'tags': ['lvgl-ui-detector', 'random'], 'version': '1.0.0'}, 'e7f05a856ca34cd88940c4b8774f4c45': {'name': 'UI Randomizer - ui_randoms', 'created': datetime.datetime(2024, 4, 14, 11, 27, 37, 196000, tzinfo=tzutc()), 'project': 'LVGL UI Detector', 'id': 'e7f05a856ca34cd88940c4b8774f4c45', 'tags': ['lvgl-ui-detector', 'random'], 'version': '1.0.1'}, 'e113a14fec574025a15a5c9868746c4b': {'name': 'UI Randomizer - dataset_upload_test', 'created': datetime.datetime(2024, 4, 8, 22, 57, 58, 314000, tzinfo=tzutc()), 'project': 'LVGL UI Detector', 'id': 'e113a14fec574025a15a5c9868746c4b', 'tags': ['lvgl-ui-detector', 'random'], 'version': '1.0.0'}, 'c520737c392c47608ffd52f33fc593f6': {'name': 'UI Randomizer - dataset_upload_test', 'created': datetime.datetime(2024, 4, 8, 23, 31, 19, 726000, tzinfo=tzutc()), 'project': 'LVGL UI Detector', 'id': 'c520737c392c47608ffd52f33fc593f6', 'tags': ['lvgl-ui-detector', 'random'], 'version': '1.0.1'}, '12f2a7ee7a7f45b8866d2c5f75e92413': {'name': 'UI Randomizer - dataset_upload_test', 'created': datetime.datetime(2024, 4, 8, 23, 33, 35, 792000, tzinfo=tzutc()), 'project': 'LVGL UI Detector', 'id': '12f2a7ee7a7f45b8866d2c5f75e92413', 'tags': ['lvgl-ui-detector', 'random'], 'version': '1.0.2'}, '640fc2e67b3b4b498fe6d9b1da764911': {'name': 'UI Randomizer - dataset_upload_test', 'created': datetime.datetime(2024, 4, 8, 23, 38, 33, 361000, tzinfo=tzutc()), 'project': 'LVGL UI Detector', 'id': '640fc2e67b3b4b498fe6d9b1da764911', 'tags': ['lvgl-ui-detector', 'random'], 'version': '1.0.3'}, 'cef7f5e021484b089a5eccf0c014d150': {'name': 'UI Randomizer - dataset_upload_test', 'created': datetime.datetime(2024, 4, 8, 23, 41, 2, 462000, tzinfo=tzutc()), 'project': 'LVGL UI Detector', 'id': 'cef7f5e021484b089a5eccf0c014d150', 'tags': ['lvgl-ui-detector', 'random'], 'version': '1.0.4'}, '28b1c17f1fef47a793f9ac086b2d6b10': {'name': 'UI Randomizer - dataset_upload_test', 'created': datetime.datetime(2024, 4, 14, 14, 43, 47, 138000, tzinfo=tzutc()), 'project': 'LVGL UI Detector', 'id': '28b1c17f1fef47a793f9ac086b2d6b10', 'tags': ['lvgl-ui-detector', 'random'], 'version': '1.0.5'}, 'abc76956f1de41b386fa805e8858c884': {'name': 'UI Randomizer - ui_widgets', 'created': datetime.datetime(2024, 4, 13, 14, 48, 17, 211000, tzinfo=tzutc()), 'project': 'LVGL UI Detector', 'id': 'abc76956f1de41b386fa805e8858c884', 'tags': ['lvgl-ui-detector', 'random'], 'version': '1.0.0'}, '326ea43fc9ff4e6db5209218b6020ca6': {'name': 'UI Randomizer - ui_widgets', 'created': datetime.datetime(2024, 4, 13, 15, 20, 13, 649000, tzinfo=tzutc()), 'project': 'LVGL UI Detector', 'id': '326ea43fc9ff4e6db5209218b6020ca6', 'tags': ['lvgl-ui-detector', 'random'], 'version': '1.0.1'}, '172affc0c4bb4a369e75f685782b5ad8': {'name': 'UI Randomizer - ui_widgets', 'created': datetime.datetime(2024, 4, 13, 16, 7, 33, 413000, tzinfo=tzutc()), 'project': 'LVGL UI Detector', 'id': '172affc0c4bb4a369e75f685782b5ad8', 'tags': ['lvgl-ui-detector', 'random'], 'version': '1.0.2'}}\n"
     ]
    }
   ],
   "source": [
    "# Debugging output\n",
    "\n",
    "print(env['FILES'])\n",
    "print(env['DATASETS'])"
   ]
  },
  {
   "cell_type": "markdown",
   "metadata": {},
   "source": [
    "# Helper functions"
   ]
  },
  {
   "cell_type": "code",
   "execution_count": 93,
   "metadata": {},
   "outputs": [],
   "source": [
    "def download_dataset(id: str, overwrite: bool = True):\n",
    "    dataset = Dataset.get(id)\n",
    "    return dataset.get_mutable_local_copy(env['DIRS']['data'], overwrite=overwrite)"
   ]
  },
  {
   "cell_type": "code",
   "execution_count": 94,
   "metadata": {},
   "outputs": [],
   "source": [
    "def fix_dataset_path(file: str, replacement_path: str):\n",
    "    # Replace path in dataset file to match current environment\n",
    "    with open(file, 'r+') as f:\n",
    "        dataset_content = yaml.safe_load(f)\n",
    "        dataset_content['path'] = replacement_path\n",
    "        print(f\"Original dataset:\\n{dataset_content}\")\n",
    "        f.seek(0)\n",
    "        yaml.dump(dataset_content, f)\n",
    "        f.truncate()\n",
    "        f.seek(0)\n",
    "        print(f\"Adjusted dataset:\\n{f.read()}\")\n",
    "        return dataset_content"
   ]
  },
  {
   "cell_type": "code",
   "execution_count": 95,
   "metadata": {},
   "outputs": [],
   "source": [
    "def training_task(model_variant: str, dataset_id: str, args: dict, project: str = \"LVGL UI Detector\"):\n",
    "    # Download & modify dataset\n",
    "    env['DIRS']['target'] = download_dataset(dataset_id)\n",
    "    dataset_file = os.path.join(env['DIRS']['target'], env['FILES'][dataset_id][0])\n",
    "    dataset_content = fix_dataset_path(dataset_file, env['DIRS']['target'])\n",
    "    args['data'] = os.path.join(env['DIRS']['target'], env['FILES'][dataset_id][0])\n",
    "    # Create a ClearML Task\n",
    "    task = Task.init(\n",
    "        project_name=\"LVGL UI Detector\",\n",
    "        task_name=f\"Train {model_variant} ({env['DATASETS'][dataset_id]['name']})\",\n",
    "        task_type=TaskTypes.training,\n",
    "    )\n",
    "    # Log \"model_variant\" parameter to task\n",
    "    task.set_parameter(\"model_variant\", model_variant)\n",
    "    task.connect_configuration(name=\"Dataset YAML\", configuration=args['data'])\n",
    "    task.connect_configuration(name=\"Dataset Content\", configuration=dataset_content)\n",
    "\n",
    "    # Load the YOLOv8 model\n",
    "    model = YOLO(f'{model_variant}.pt')\n",
    "    task.connect(args)\n",
    "\n",
    "    # Train the model \n",
    "    # If running remotely, the arguments may be overridden by ClearML if they were changed in the UI\n",
    "    try:\n",
    "        results = model.train(**args)\n",
    "    except Exception as e:\n",
    "        raise e\n",
    "    finally:\n",
    "        task.close()\n",
    "    return results"
   ]
  },
  {
   "cell_type": "markdown",
   "metadata": {},
   "source": [
    "# Choose dataset"
   ]
  },
  {
   "cell_type": "code",
   "execution_count": 96,
   "metadata": {},
   "outputs": [],
   "source": [
    "valid_choice = False\n",
    "while not valid_choice:\n",
    "    dataset_choice = input(\"Enter the dataset ID to download:\")\n",
    "    if dataset_choice in env['DATASETS'].keys():\n",
    "        valid_choice = True\n",
    "    else:\n",
    "        print(\"Dataset ID not found, please try again.\")"
   ]
  },
  {
   "cell_type": "markdown",
   "metadata": {},
   "source": [
    "# Model training"
   ]
  },
  {
   "cell_type": "code",
   "execution_count": 97,
   "metadata": {},
   "outputs": [
    {
     "name": "stdout",
     "output_type": "stream",
     "text": [
      "Original dataset:\n",
      "{'names': {0: 'arc', 1: 'bar', 2: 'button', 3: 'buttonmatrix', 4: 'calendar', 5: 'chart', 6: 'checkbox', 7: 'dropdown', 8: 'image', 9: 'imagebutton', 10: 'keyboard', 11: 'label', 12: 'led', 13: 'line', 14: 'list', 15: 'menu', 16: 'messagebox', 17: 'roller', 18: 'scale', 19: 'slider', 20: 'spangroup', 21: 'spinbox', 22: 'spinner', 23: 'switch', 24: 'table', 25: 'tabview', 26: 'textarea', 27: 'tileview', 28: 'window'}, 'path': '/home/rini-debian/git-stash/lvgl-ui-detector/datasets', 'test': 'images/test', 'train': 'images/train', 'val': 'images/val'}\n",
      "Adjusted dataset:\n",
      "names:\n",
      "  0: arc\n",
      "  1: bar\n",
      "  2: button\n",
      "  3: buttonmatrix\n",
      "  4: calendar\n",
      "  5: chart\n",
      "  6: checkbox\n",
      "  7: dropdown\n",
      "  8: image\n",
      "  9: imagebutton\n",
      "  10: keyboard\n",
      "  11: label\n",
      "  12: led\n",
      "  13: line\n",
      "  14: list\n",
      "  15: menu\n",
      "  16: messagebox\n",
      "  17: roller\n",
      "  18: scale\n",
      "  19: slider\n",
      "  20: spangroup\n",
      "  21: spinbox\n",
      "  22: spinner\n",
      "  23: switch\n",
      "  24: table\n",
      "  25: tabview\n",
      "  26: textarea\n",
      "  27: tileview\n",
      "  28: window\n",
      "path: /home/rini-debian/git-stash/lvgl-ui-detector/datasets\n",
      "test: images/test\n",
      "train: images/train\n",
      "val: images/val\n",
      "\n",
      "ClearML Task: created new task id=c51849c3a1224836949b46211894ab66\n",
      "ClearML results page: https://app.clear.ml/projects/5606a5f963624e2991df71add8ec09ce/experiments/c51849c3a1224836949b46211894ab66/output/log\n"
     ]
    },
    {
     "name": "stderr",
     "output_type": "stream",
     "text": [
      "Connecting multiple input models with the same name: `yolov8n`. This might result in the wrong model being used when executing remotely\n"
     ]
    },
    {
     "name": "stdout",
     "output_type": "stream",
     "text": [
      "Ultralytics YOLOv8.1.47 🚀 Python-3.11.2 torch-2.2.2+cu121 CUDA:0 (NVIDIA GeForce RTX 2060 with Max-Q Design, 6144MiB)\n",
      "\u001b[34m\u001b[1mengine/trainer: \u001b[0mtask=detect, mode=train, model=yolov8n.pt, data=/home/rini-debian/git-stash/lvgl-ui-detector/datasets/ui_randoms.yaml, epochs=25, time=None, patience=100, batch=16, imgsz=480, save=True, save_period=-1, cache=False, device=None, workers=8, project=None, name=train2, exist_ok=False, pretrained=True, optimizer=auto, verbose=True, seed=0, deterministic=True, single_cls=False, rect=False, cos_lr=False, close_mosaic=10, resume=False, amp=True, fraction=1.0, profile=False, freeze=None, multi_scale=False, overlap_mask=True, mask_ratio=4, dropout=0.0, val=True, split=val, save_json=False, save_hybrid=False, conf=None, iou=0.7, max_det=300, half=False, dnn=False, plots=True, source=None, vid_stride=1, stream_buffer=False, visualize=False, augment=False, agnostic_nms=False, classes=None, retina_masks=False, embed=None, show=False, save_frames=False, save_txt=False, save_conf=False, save_crop=False, show_labels=True, show_conf=True, show_boxes=True, line_width=None, format=torchscript, keras=False, optimize=False, int8=False, dynamic=False, simplify=False, opset=None, workspace=4, nms=False, lr0=0.01, lrf=0.01, momentum=0.937, weight_decay=0.0005, warmup_epochs=3.0, warmup_momentum=0.8, warmup_bias_lr=0.1, box=7.5, cls=0.5, dfl=1.5, pose=12.0, kobj=1.0, label_smoothing=0.0, nbs=64, hsv_h=0.015, hsv_s=0.7, hsv_v=0.4, degrees=0.0, translate=0.1, scale=0.5, shear=0.0, perspective=0.0, flipud=0.0, fliplr=0.5, bgr=0.0, mosaic=1.0, mixup=0.0, copy_paste=0.0, auto_augment=randaugment, erasing=0.4, crop_fraction=1.0, cfg=None, tracker=botsort.yaml, save_dir=/home/rini-debian/git-stash/lvgl-ui-detector/runs/detect/train2\n",
      "Downloading https://ultralytics.com/assets/Arial.ttf to '/home/rini-debian/.config/Ultralytics/Arial.ttf'...\n"
     ]
    },
    {
     "name": "stderr",
     "output_type": "stream",
     "text": [
      "100%|██████████| 755k/755k [00:00<00:00, 2.28MB/s]"
     ]
    },
    {
     "name": "stdout",
     "output_type": "stream",
     "text": [
      "Overriding model.yaml nc=80 with nc=29\n",
      "\n",
      "                   from  n    params  module                                       arguments                     \n",
      "  0                  -1  1       464  ultralytics.nn.modules.conv.Conv             [3, 16, 3, 2]                 \n",
      "  1                  -1  1      4672  ultralytics.nn.modules.conv.Conv             [16, 32, 3, 2]                \n",
      "  2                  -1  1      7360  ultralytics.nn.modules.block.C2f             [32, 32, 1, True]             \n",
      "  3                  -1  1     18560  ultralytics.nn.modules.conv.Conv             [32, 64, 3, 2]                \n",
      "  4                  -1  2     49664  ultralytics.nn.modules.block.C2f             [64, 64, 2, True]             \n",
      "  5                  -1  1     73984  ultralytics.nn.modules.conv.Conv             [64, 128, 3, 2]               \n"
     ]
    },
    {
     "name": "stderr",
     "output_type": "stream",
     "text": [
      "\n"
     ]
    },
    {
     "name": "stdout",
     "output_type": "stream",
     "text": [
      "  6                  -1  2    197632  ultralytics.nn.modules.block.C2f             [128, 128, 2, True]           \n",
      "  7                  -1  1    295424  ultralytics.nn.modules.conv.Conv             [128, 256, 3, 2]              \n",
      "  8                  -1  1    460288  ultralytics.nn.modules.block.C2f             [256, 256, 1, True]           \n",
      "  9                  -1  1    164608  ultralytics.nn.modules.block.SPPF            [256, 256, 5]                 \n",
      " 10                  -1  1         0  torch.nn.modules.upsampling.Upsample         [None, 2, 'nearest']          \n",
      " 11             [-1, 6]  1         0  ultralytics.nn.modules.conv.Concat           [1]                           \n",
      " 12                  -1  1    148224  ultralytics.nn.modules.block.C2f             [384, 128, 1]                 \n",
      " 13                  -1  1         0  torch.nn.modules.upsampling.Upsample         [None, 2, 'nearest']          \n",
      " 14             [-1, 4]  1         0  ultralytics.nn.modules.conv.Concat           [1]                           \n",
      " 15                  -1  1     37248  ultralytics.nn.modules.block.C2f             [192, 64, 1]                  \n",
      " 16                  -1  1     36992  ultralytics.nn.modules.conv.Conv             [64, 64, 3, 2]                \n",
      " 17            [-1, 12]  1         0  ultralytics.nn.modules.conv.Concat           [1]                           \n",
      " 18                  -1  1    123648  ultralytics.nn.modules.block.C2f             [192, 128, 1]                 \n",
      " 19                  -1  1    147712  ultralytics.nn.modules.conv.Conv             [128, 128, 3, 2]              \n",
      " 20             [-1, 9]  1         0  ultralytics.nn.modules.conv.Concat           [1]                           \n",
      " 21                  -1  1    493056  ultralytics.nn.modules.block.C2f             [384, 256, 1]                 \n",
      " 22        [15, 18, 21]  1    756967  ultralytics.nn.modules.head.Detect           [29, [64, 128, 256]]          \n",
      "Model summary: 225 layers, 3016503 parameters, 3016487 gradients, 8.2 GFLOPs\n",
      "\n",
      "Transferred 319/355 items from pretrained weights\n",
      "Freezing layer 'model.22.dfl.conv.weight'\n",
      "\u001b[34m\u001b[1mAMP: \u001b[0mrunning Automatic Mixed Precision (AMP) checks with YOLOv8n...\n",
      "WARNING ⚠️ NMS time limit 2.050s exceeded\n",
      "\u001b[34m\u001b[1mAMP: \u001b[0mchecks passed ✅\n"
     ]
    },
    {
     "name": "stderr",
     "output_type": "stream",
     "text": [
      "\u001b[34m\u001b[1mtrain: \u001b[0mScanning /home/rini-debian/git-stash/lvgl-ui-detector/datasets/labels/train... 84 images, 0 backgrounds, 5 corrupt: 100%|██████████| 84/84 [00:00<00:00, 393.17it/s]"
     ]
    },
    {
     "name": "stdout",
     "output_type": "stream",
     "text": [
      "\u001b[34m\u001b[1mtrain: \u001b[0mWARNING ⚠️ /home/rini-debian/git-stash/lvgl-ui-detector/datasets/images/train/ui_21.jpg: ignoring corrupt image/label: non-normalized or out of bounds coordinates [     1.0042]\n",
      "\u001b[34m\u001b[1mtrain: \u001b[0mWARNING ⚠️ /home/rini-debian/git-stash/lvgl-ui-detector/datasets/images/train/ui_5.jpg: ignoring corrupt image/label: non-normalized or out of bounds coordinates [     1.0083]\n",
      "\u001b[34m\u001b[1mtrain: \u001b[0mWARNING ⚠️ /home/rini-debian/git-stash/lvgl-ui-detector/datasets/images/train/ui_71.jpg: ignoring corrupt image/label: non-normalized or out of bounds coordinates [     1.0021]\n",
      "\u001b[34m\u001b[1mtrain: \u001b[0mWARNING ⚠️ /home/rini-debian/git-stash/lvgl-ui-detector/datasets/images/train/ui_89.jpg: ignoring corrupt image/label: non-normalized or out of bounds coordinates [     1.0187]\n",
      "\u001b[34m\u001b[1mtrain: \u001b[0mWARNING ⚠️ /home/rini-debian/git-stash/lvgl-ui-detector/datasets/images/train/ui_90.jpg: ignoring corrupt image/label: non-normalized or out of bounds coordinates [     1.0292]\n",
      "\u001b[34m\u001b[1mtrain: \u001b[0mNew cache created: /home/rini-debian/git-stash/lvgl-ui-detector/datasets/labels/train.cache\n"
     ]
    },
    {
     "name": "stderr",
     "output_type": "stream",
     "text": [
      "\n",
      "\u001b[34m\u001b[1mval: \u001b[0mScanning /home/rini-debian/git-stash/lvgl-ui-detector/datasets/labels/val... 16 images, 0 backgrounds, 0 corrupt: 100%|██████████| 16/16 [00:00<00:00, 13802.73it/s]"
     ]
    },
    {
     "name": "stdout",
     "output_type": "stream",
     "text": [
      "\u001b[34m\u001b[1mval: \u001b[0mNew cache created: /home/rini-debian/git-stash/lvgl-ui-detector/datasets/labels/val.cache\n"
     ]
    },
    {
     "name": "stderr",
     "output_type": "stream",
     "text": [
      "\n"
     ]
    },
    {
     "name": "stdout",
     "output_type": "stream",
     "text": [
      "Plotting labels to /home/rini-debian/git-stash/lvgl-ui-detector/runs/detect/train2/labels.jpg... \n",
      "\u001b[34m\u001b[1moptimizer:\u001b[0m 'optimizer=auto' found, ignoring 'lr0=0.01' and 'momentum=0.937' and determining best 'optimizer', 'lr0' and 'momentum' automatically... \n",
      "\u001b[34m\u001b[1moptimizer:\u001b[0m AdamW(lr=0.000303, momentum=0.9) with parameter groups 57 weight(decay=0.0), 64 weight(decay=0.0005), 63 bias(decay=0.0)\n",
      "Image sizes 480 train, 480 val\n",
      "Using 4 dataloader workers\n",
      "Logging results to \u001b[1m/home/rini-debian/git-stash/lvgl-ui-detector/runs/detect/train2\u001b[0m\n",
      "Starting training for 25 epochs...\n",
      "\n",
      "      Epoch    GPU_mem   box_loss   cls_loss   dfl_loss  Instances       Size\n"
     ]
    },
    {
     "name": "stderr",
     "output_type": "stream",
     "text": [
      "       1/25      1.46G       1.41      4.798      1.158         75        480: 100%|██████████| 5/5 [00:11<00:00,  2.36s/it]\n",
      "                 Class     Images  Instances      Box(P          R      mAP50  mAP50-95): 100%|██████████| 1/1 [00:00<00:00,  3.10it/s]"
     ]
    },
    {
     "name": "stdout",
     "output_type": "stream",
     "text": [
      "                   all         16         48          0          0          0          0\n"
     ]
    },
    {
     "name": "stderr",
     "output_type": "stream",
     "text": [
      "\n"
     ]
    },
    {
     "name": "stdout",
     "output_type": "stream",
     "text": [
      "\n",
      "      Epoch    GPU_mem   box_loss   cls_loss   dfl_loss  Instances       Size\n"
     ]
    },
    {
     "name": "stderr",
     "output_type": "stream",
     "text": [
      "       2/25      1.47G      1.319      4.697      1.156         76        480: 100%|██████████| 5/5 [00:02<00:00,  1.95it/s]\n",
      "                 Class     Images  Instances      Box(P          R      mAP50  mAP50-95): 100%|██████████| 1/1 [00:00<00:00,  6.29it/s]"
     ]
    },
    {
     "name": "stdout",
     "output_type": "stream",
     "text": [
      "                   all         16         48          0          0          0          0\n"
     ]
    },
    {
     "name": "stderr",
     "output_type": "stream",
     "text": [
      "\n"
     ]
    },
    {
     "name": "stdout",
     "output_type": "stream",
     "text": [
      "\n",
      "      Epoch    GPU_mem   box_loss   cls_loss   dfl_loss  Instances       Size\n"
     ]
    },
    {
     "name": "stderr",
     "output_type": "stream",
     "text": [
      "       3/25       1.5G      1.124      4.608      1.096         69        480: 100%|██████████| 5/5 [00:01<00:00,  3.03it/s]\n",
      "                 Class     Images  Instances      Box(P          R      mAP50  mAP50-95): 100%|██████████| 1/1 [00:00<00:00,  5.73it/s]"
     ]
    },
    {
     "name": "stdout",
     "output_type": "stream",
     "text": [
      "                   all         16         48          0          0          0          0\n"
     ]
    },
    {
     "name": "stderr",
     "output_type": "stream",
     "text": [
      "\n"
     ]
    },
    {
     "name": "stdout",
     "output_type": "stream",
     "text": [
      "\n",
      "      Epoch    GPU_mem   box_loss   cls_loss   dfl_loss  Instances       Size\n"
     ]
    },
    {
     "name": "stderr",
     "output_type": "stream",
     "text": [
      "       4/25      1.49G      1.099      4.525      1.092         73        480: 100%|██████████| 5/5 [00:01<00:00,  3.70it/s]\n",
      "                 Class     Images  Instances      Box(P          R      mAP50  mAP50-95): 100%|██████████| 1/1 [00:00<00:00,  6.73it/s]"
     ]
    },
    {
     "name": "stdout",
     "output_type": "stream",
     "text": [
      "                   all         16         48          0          0          0          0\n"
     ]
    },
    {
     "name": "stderr",
     "output_type": "stream",
     "text": [
      "\n"
     ]
    },
    {
     "name": "stdout",
     "output_type": "stream",
     "text": [
      "\n",
      "      Epoch    GPU_mem   box_loss   cls_loss   dfl_loss  Instances       Size\n"
     ]
    },
    {
     "name": "stderr",
     "output_type": "stream",
     "text": [
      "       5/25       1.5G     0.9558      4.323      1.069         80        480: 100%|██████████| 5/5 [00:01<00:00,  3.71it/s]\n",
      "                 Class     Images  Instances      Box(P          R      mAP50  mAP50-95): 100%|██████████| 1/1 [00:00<00:00,  8.69it/s]"
     ]
    },
    {
     "name": "stdout",
     "output_type": "stream",
     "text": [
      "                   all         16         48          0          0          0          0\n"
     ]
    },
    {
     "name": "stderr",
     "output_type": "stream",
     "text": [
      "\n"
     ]
    },
    {
     "name": "stdout",
     "output_type": "stream",
     "text": [
      "\n",
      "      Epoch    GPU_mem   box_loss   cls_loss   dfl_loss  Instances       Size\n"
     ]
    },
    {
     "name": "stderr",
     "output_type": "stream",
     "text": [
      "       6/25       1.5G     0.9791      4.198      1.056         52        480: 100%|██████████| 5/5 [00:01<00:00,  4.16it/s]\n",
      "                 Class     Images  Instances      Box(P          R      mAP50  mAP50-95): 100%|██████████| 1/1 [00:00<00:00,  8.11it/s]"
     ]
    },
    {
     "name": "stdout",
     "output_type": "stream",
     "text": [
      "                   all         16         48          0          0          0          0\n"
     ]
    },
    {
     "name": "stderr",
     "output_type": "stream",
     "text": [
      "\n"
     ]
    },
    {
     "name": "stdout",
     "output_type": "stream",
     "text": [
      "\n",
      "      Epoch    GPU_mem   box_loss   cls_loss   dfl_loss  Instances       Size\n"
     ]
    },
    {
     "name": "stderr",
     "output_type": "stream",
     "text": [
      "       7/25      1.49G     0.9158      4.056      1.014         93        480: 100%|██████████| 5/5 [00:01<00:00,  3.85it/s]\n",
      "                 Class     Images  Instances      Box(P          R      mAP50  mAP50-95): 100%|██████████| 1/1 [00:01<00:00,  1.67s/it]"
     ]
    },
    {
     "name": "stdout",
     "output_type": "stream",
     "text": [
      "                   all         16         48     0.0833     0.0833     0.0829     0.0746\n"
     ]
    },
    {
     "name": "stderr",
     "output_type": "stream",
     "text": [
      "\n"
     ]
    },
    {
     "name": "stdout",
     "output_type": "stream",
     "text": [
      "\n",
      "      Epoch    GPU_mem   box_loss   cls_loss   dfl_loss  Instances       Size\n"
     ]
    },
    {
     "name": "stderr",
     "output_type": "stream",
     "text": [
      "       8/25      1.49G     0.9554      3.838      1.036         40        480: 100%|██████████| 5/5 [00:01<00:00,  4.16it/s]\n",
      "                 Class     Images  Instances      Box(P          R      mAP50  mAP50-95): 100%|██████████| 1/1 [00:00<00:00,  7.25it/s]"
     ]
    },
    {
     "name": "stdout",
     "output_type": "stream",
     "text": [
      "                   all         16         48       0.05     0.0833     0.0829     0.0746\n"
     ]
    },
    {
     "name": "stderr",
     "output_type": "stream",
     "text": [
      "\n"
     ]
    },
    {
     "name": "stdout",
     "output_type": "stream",
     "text": [
      "\n",
      "      Epoch    GPU_mem   box_loss   cls_loss   dfl_loss  Instances       Size\n"
     ]
    },
    {
     "name": "stderr",
     "output_type": "stream",
     "text": [
      "       9/25       1.5G      1.002      3.656      1.079         80        480: 100%|██████████| 5/5 [00:01<00:00,  4.10it/s]\n",
      "                 Class     Images  Instances      Box(P          R      mAP50  mAP50-95): 100%|██████████| 1/1 [00:00<00:00,  4.46it/s]"
     ]
    },
    {
     "name": "stdout",
     "output_type": "stream",
     "text": [
      "                   all         16         48      0.137      0.315      0.197      0.188\n"
     ]
    },
    {
     "name": "stderr",
     "output_type": "stream",
     "text": [
      "\n"
     ]
    },
    {
     "name": "stdout",
     "output_type": "stream",
     "text": [
      "\n",
      "      Epoch    GPU_mem   box_loss   cls_loss   dfl_loss  Instances       Size\n"
     ]
    },
    {
     "name": "stderr",
     "output_type": "stream",
     "text": [
      "      10/25      1.49G     0.9921       3.53      1.079         78        480: 100%|██████████| 5/5 [00:01<00:00,  4.02it/s]\n",
      "                 Class     Images  Instances      Box(P          R      mAP50  mAP50-95): 100%|██████████| 1/1 [00:00<00:00,  3.82it/s]"
     ]
    },
    {
     "name": "stdout",
     "output_type": "stream",
     "text": [
      "                   all         16         48      0.171      0.445      0.303      0.279\n"
     ]
    },
    {
     "name": "stderr",
     "output_type": "stream",
     "text": [
      "\n"
     ]
    },
    {
     "name": "stdout",
     "output_type": "stream",
     "text": [
      "\n",
      "      Epoch    GPU_mem   box_loss   cls_loss   dfl_loss  Instances       Size\n"
     ]
    },
    {
     "name": "stderr",
     "output_type": "stream",
     "text": [
      "      11/25      1.49G      1.054      3.335      1.143         75        480: 100%|██████████| 5/5 [00:01<00:00,  4.05it/s]\n",
      "                 Class     Images  Instances      Box(P          R      mAP50  mAP50-95): 100%|██████████| 1/1 [00:00<00:00,  4.90it/s]"
     ]
    },
    {
     "name": "stdout",
     "output_type": "stream",
     "text": [
      "                   all         16         48      0.135      0.506       0.34      0.308\n"
     ]
    },
    {
     "name": "stderr",
     "output_type": "stream",
     "text": [
      "\n"
     ]
    },
    {
     "name": "stdout",
     "output_type": "stream",
     "text": [
      "\n",
      "      Epoch    GPU_mem   box_loss   cls_loss   dfl_loss  Instances       Size\n"
     ]
    },
    {
     "name": "stderr",
     "output_type": "stream",
     "text": [
      "      12/25      1.49G     0.9637      3.083      1.061         60        480: 100%|██████████| 5/5 [00:01<00:00,  4.47it/s]\n",
      "                 Class     Images  Instances      Box(P          R      mAP50  mAP50-95): 100%|██████████| 1/1 [00:00<00:00,  5.47it/s]"
     ]
    },
    {
     "name": "stdout",
     "output_type": "stream",
     "text": [
      "                   all         16         48      0.154      0.587       0.43       0.36\n"
     ]
    },
    {
     "name": "stderr",
     "output_type": "stream",
     "text": [
      "\n"
     ]
    },
    {
     "name": "stdout",
     "output_type": "stream",
     "text": [
      "\n",
      "      Epoch    GPU_mem   box_loss   cls_loss   dfl_loss  Instances       Size\n"
     ]
    },
    {
     "name": "stderr",
     "output_type": "stream",
     "text": [
      "      13/25      1.49G      1.026       3.08      1.086         49        480: 100%|██████████| 5/5 [00:01<00:00,  4.12it/s]\n",
      "                 Class     Images  Instances      Box(P          R      mAP50  mAP50-95): 100%|██████████| 1/1 [00:00<00:00,  6.05it/s]\n"
     ]
    },
    {
     "name": "stdout",
     "output_type": "stream",
     "text": [
      "                   all         16         48      0.149       0.61      0.439      0.373\n",
      "\n",
      "      Epoch    GPU_mem   box_loss   cls_loss   dfl_loss  Instances       Size\n"
     ]
    },
    {
     "name": "stderr",
     "output_type": "stream",
     "text": [
      "      14/25      1.51G      1.028      2.948      1.081         85        480: 100%|██████████| 5/5 [00:01<00:00,  3.70it/s]\n",
      "                 Class     Images  Instances      Box(P          R      mAP50  mAP50-95): 100%|██████████| 1/1 [00:00<00:00,  6.23it/s]"
     ]
    },
    {
     "name": "stdout",
     "output_type": "stream",
     "text": [
      "                   all         16         48      0.166      0.769      0.488      0.413\n"
     ]
    },
    {
     "name": "stderr",
     "output_type": "stream",
     "text": [
      "\n"
     ]
    },
    {
     "name": "stdout",
     "output_type": "stream",
     "text": [
      "\n",
      "      Epoch    GPU_mem   box_loss   cls_loss   dfl_loss  Instances       Size\n"
     ]
    },
    {
     "name": "stderr",
     "output_type": "stream",
     "text": [
      "      15/25      1.49G      0.993      2.828      1.092         65        480: 100%|██████████| 5/5 [00:01<00:00,  4.58it/s]\n",
      "                 Class     Images  Instances      Box(P          R      mAP50  mAP50-95): 100%|██████████| 1/1 [00:00<00:00,  4.64it/s]"
     ]
    },
    {
     "name": "stdout",
     "output_type": "stream",
     "text": [
      "                   all         16         48      0.161      0.821      0.504      0.429\n"
     ]
    },
    {
     "name": "stderr",
     "output_type": "stream",
     "text": [
      "\n"
     ]
    },
    {
     "name": "stdout",
     "output_type": "stream",
     "text": [
      "Closing dataloader mosaic\n",
      "\n",
      "      Epoch    GPU_mem   box_loss   cls_loss   dfl_loss  Instances       Size\n"
     ]
    },
    {
     "name": "stderr",
     "output_type": "stream",
     "text": [
      "      16/25      1.48G     0.9609      2.503      1.076         41        480: 100%|██████████| 5/5 [00:01<00:00,  2.81it/s]\n",
      "                 Class     Images  Instances      Box(P          R      mAP50  mAP50-95): 100%|██████████| 1/1 [00:00<00:00,  4.92it/s]"
     ]
    },
    {
     "name": "stdout",
     "output_type": "stream",
     "text": [
      "                   all         16         48      0.144      0.821      0.514      0.436\n"
     ]
    },
    {
     "name": "stderr",
     "output_type": "stream",
     "text": [
      "\n"
     ]
    },
    {
     "name": "stdout",
     "output_type": "stream",
     "text": [
      "\n",
      "      Epoch    GPU_mem   box_loss   cls_loss   dfl_loss  Instances       Size\n"
     ]
    },
    {
     "name": "stderr",
     "output_type": "stream",
     "text": [
      "      17/25      1.48G     0.9345      2.277      1.064         43        480: 100%|██████████| 5/5 [00:01<00:00,  4.42it/s]\n",
      "                 Class     Images  Instances      Box(P          R      mAP50  mAP50-95): 100%|██████████| 1/1 [00:00<00:00,  3.82it/s]"
     ]
    },
    {
     "name": "stdout",
     "output_type": "stream",
     "text": [
      "                   all         16         48      0.875      0.326      0.563      0.473\n"
     ]
    },
    {
     "name": "stderr",
     "output_type": "stream",
     "text": [
      "\n"
     ]
    },
    {
     "name": "stdout",
     "output_type": "stream",
     "text": [
      "\n",
      "      Epoch    GPU_mem   box_loss   cls_loss   dfl_loss  Instances       Size\n"
     ]
    },
    {
     "name": "stderr",
     "output_type": "stream",
     "text": [
      "      18/25      1.48G     0.8833      2.256      1.031         44        480: 100%|██████████| 5/5 [00:01<00:00,  3.95it/s]\n",
      "                 Class     Images  Instances      Box(P          R      mAP50  mAP50-95): 100%|██████████| 1/1 [00:00<00:00,  5.89it/s]"
     ]
    },
    {
     "name": "stdout",
     "output_type": "stream",
     "text": [
      "                   all         16         48      0.897      0.337       0.58      0.486\n"
     ]
    },
    {
     "name": "stderr",
     "output_type": "stream",
     "text": [
      "\n"
     ]
    },
    {
     "name": "stdout",
     "output_type": "stream",
     "text": [
      "\n",
      "      Epoch    GPU_mem   box_loss   cls_loss   dfl_loss  Instances       Size\n"
     ]
    },
    {
     "name": "stderr",
     "output_type": "stream",
     "text": [
      "      19/25      1.48G     0.9285       2.15       1.06         40        480: 100%|██████████| 5/5 [00:01<00:00,  4.46it/s]\n",
      "                 Class     Images  Instances      Box(P          R      mAP50  mAP50-95): 100%|██████████| 1/1 [00:00<00:00,  5.87it/s]\n"
     ]
    },
    {
     "name": "stdout",
     "output_type": "stream",
     "text": [
      "                   all         16         48      0.666      0.381      0.589      0.495\n",
      "\n",
      "      Epoch    GPU_mem   box_loss   cls_loss   dfl_loss  Instances       Size\n"
     ]
    },
    {
     "name": "stderr",
     "output_type": "stream",
     "text": [
      "      20/25      1.48G     0.9417      2.194      1.037         43        480: 100%|██████████| 5/5 [00:01<00:00,  4.59it/s]\n",
      "                 Class     Images  Instances      Box(P          R      mAP50  mAP50-95): 100%|██████████| 1/1 [00:00<00:00,  4.67it/s]"
     ]
    },
    {
     "name": "stdout",
     "output_type": "stream",
     "text": [
      "                   all         16         48      0.689      0.494      0.605      0.502\n"
     ]
    },
    {
     "name": "stderr",
     "output_type": "stream",
     "text": [
      "\n"
     ]
    },
    {
     "name": "stdout",
     "output_type": "stream",
     "text": [
      "\n",
      "      Epoch    GPU_mem   box_loss   cls_loss   dfl_loss  Instances       Size\n"
     ]
    },
    {
     "name": "stderr",
     "output_type": "stream",
     "text": [
      "      21/25      1.48G     0.8679      2.133      1.028         39        480: 100%|██████████| 5/5 [00:01<00:00,  4.45it/s]\n",
      "                 Class     Images  Instances      Box(P          R      mAP50  mAP50-95): 100%|██████████| 1/1 [00:00<00:00,  4.30it/s]"
     ]
    },
    {
     "name": "stdout",
     "output_type": "stream",
     "text": [
      "                   all         16         48      0.683      0.512      0.631      0.518\n"
     ]
    },
    {
     "name": "stderr",
     "output_type": "stream",
     "text": [
      "\n"
     ]
    },
    {
     "name": "stdout",
     "output_type": "stream",
     "text": [
      "\n",
      "      Epoch    GPU_mem   box_loss   cls_loss   dfl_loss  Instances       Size\n"
     ]
    },
    {
     "name": "stderr",
     "output_type": "stream",
     "text": [
      "      22/25      1.48G     0.9419       2.22      1.071         41        480: 100%|██████████| 5/5 [00:01<00:00,  4.32it/s]\n",
      "                 Class     Images  Instances      Box(P          R      mAP50  mAP50-95): 100%|██████████| 1/1 [00:00<00:00,  6.01it/s]\n"
     ]
    },
    {
     "name": "stdout",
     "output_type": "stream",
     "text": [
      "                   all         16         48       0.59      0.581      0.631      0.515\n",
      "\n",
      "      Epoch    GPU_mem   box_loss   cls_loss   dfl_loss  Instances       Size\n"
     ]
    },
    {
     "name": "stderr",
     "output_type": "stream",
     "text": [
      "      23/25      1.48G     0.9524      2.069      1.114         45        480: 100%|██████████| 5/5 [00:01<00:00,  4.98it/s]\n",
      "                 Class     Images  Instances      Box(P          R      mAP50  mAP50-95): 100%|██████████| 1/1 [00:00<00:00,  5.81it/s]"
     ]
    },
    {
     "name": "stdout",
     "output_type": "stream",
     "text": [
      "                   all         16         48      0.581      0.593      0.632      0.519\n"
     ]
    },
    {
     "name": "stderr",
     "output_type": "stream",
     "text": [
      "\n"
     ]
    },
    {
     "name": "stdout",
     "output_type": "stream",
     "text": [
      "\n",
      "      Epoch    GPU_mem   box_loss   cls_loss   dfl_loss  Instances       Size\n"
     ]
    },
    {
     "name": "stderr",
     "output_type": "stream",
     "text": [
      "      24/25      1.48G       0.87       2.05      1.029         42        480: 100%|██████████| 5/5 [00:01<00:00,  4.69it/s]\n",
      "                 Class     Images  Instances      Box(P          R      mAP50  mAP50-95): 100%|██████████| 1/1 [00:00<00:00,  5.19it/s]\n"
     ]
    },
    {
     "name": "stdout",
     "output_type": "stream",
     "text": [
      "                   all         16         48      0.593      0.507      0.621      0.513\n",
      "\n",
      "      Epoch    GPU_mem   box_loss   cls_loss   dfl_loss  Instances       Size\n"
     ]
    },
    {
     "name": "stderr",
     "output_type": "stream",
     "text": [
      "      25/25      1.48G     0.8165      2.028      1.014         44        480: 100%|██████████| 5/5 [00:01<00:00,  4.50it/s]\n",
      "                 Class     Images  Instances      Box(P          R      mAP50  mAP50-95): 100%|██████████| 1/1 [00:00<00:00,  5.72it/s]"
     ]
    },
    {
     "name": "stdout",
     "output_type": "stream",
     "text": [
      "                   all         16         48      0.573      0.598      0.619      0.514\n"
     ]
    },
    {
     "name": "stderr",
     "output_type": "stream",
     "text": [
      "\n"
     ]
    },
    {
     "name": "stdout",
     "output_type": "stream",
     "text": [
      "\n",
      "25 epochs completed in 0.018 hours.\n",
      "Optimizer stripped from /home/rini-debian/git-stash/lvgl-ui-detector/runs/detect/train2/weights/last.pt, 6.2MB\n",
      "Optimizer stripped from /home/rini-debian/git-stash/lvgl-ui-detector/runs/detect/train2/weights/best.pt, 6.2MB\n",
      "\n",
      "Validating /home/rini-debian/git-stash/lvgl-ui-detector/runs/detect/train2/weights/best.pt...\n",
      "Ultralytics YOLOv8.1.47 🚀 Python-3.11.2 torch-2.2.2+cu121 CUDA:0 (NVIDIA GeForce RTX 2060 with Max-Q Design, 6144MiB)\n",
      "Model summary (fused): 168 layers, 3011303 parameters, 0 gradients, 8.1 GFLOPs\n"
     ]
    },
    {
     "name": "stderr",
     "output_type": "stream",
     "text": [
      "                 Class     Images  Instances      Box(P          R      mAP50  mAP50-95): 100%|██████████| 1/1 [00:00<00:00,  5.91it/s]\n"
     ]
    },
    {
     "name": "stdout",
     "output_type": "stream",
     "text": [
      "                   all         16         48      0.582      0.593      0.631      0.517\n",
      "                   arc         16          3      0.652          1      0.995      0.913\n",
      "                   bar         16          7       0.82      0.656       0.86      0.518\n",
      "              checkbox         16          3      0.273      0.333      0.486       0.26\n",
      "              dropdown         16          9      0.898      0.889      0.984      0.893\n",
      "                 label         16          4          1          0          0          0\n",
      "                   led         16          2          1      0.772      0.995      0.722\n",
      "                roller         16          5      0.836        0.8      0.886      0.735\n",
      "                 scale         16          3      0.458      0.667       0.71       0.71\n",
      "                slider         16          1      0.198          1      0.199      0.139\n",
      "               spinbox         16          1          0          0     0.0995     0.0995\n",
      "                switch         16          7          0          0      0.368      0.326\n",
      "                 table         16          3      0.848          1      0.995      0.885\n",
      "Speed: 0.2ms preprocess, 1.9ms inference, 0.0ms loss, 1.8ms postprocess per image\n",
      "Results saved to \u001b[1m/home/rini-debian/git-stash/lvgl-ui-detector/runs/detect/train2\u001b[0m\n"
     ]
    }
   ],
   "source": [
    "# Training inputs\n",
    "model_variant = \"yolov8n\"\n",
    "args = dict(\n",
    "    epochs=25, \n",
    "    imgsz=480\n",
    ")\n",
    "results = training_task(model_variant, dataset_choice, args)\n"
   ]
  },
  {
   "cell_type": "code",
   "execution_count": 98,
   "metadata": {},
   "outputs": [
    {
     "data": {
      "text/plain": [
       "0.5167399056845642"
      ]
     },
     "execution_count": 98,
     "metadata": {},
     "output_type": "execute_result"
    }
   ],
   "source": [
    "results.box.map"
   ]
  },
  {
   "cell_type": "code",
   "execution_count": 99,
   "metadata": {},
   "outputs": [
    {
     "data": {
      "text/plain": [
       "0.6314966115185627"
      ]
     },
     "execution_count": 99,
     "metadata": {},
     "output_type": "execute_result"
    }
   ],
   "source": [
    "results.box.map50"
   ]
  },
  {
   "cell_type": "code",
   "execution_count": 100,
   "metadata": {},
   "outputs": [
    {
     "data": {
      "text/plain": [
       "0.5589333009373979"
      ]
     },
     "execution_count": 100,
     "metadata": {},
     "output_type": "execute_result"
    }
   ],
   "source": [
    "results.box.map75"
   ]
  },
  {
   "cell_type": "code",
   "execution_count": 101,
   "metadata": {},
   "outputs": [
    {
     "data": {
      "text/plain": [
       "array([     0.9132,     0.51756,     0.51674,     0.51674,     0.51674,     0.51674,     0.25993,     0.89302,     0.51674,     0.51674,     0.51674,           0,     0.72198,     0.51674,     0.51674,     0.51674,     0.51674,     0.73543,        0.71,      0.1393,     0.51674,      0.0995,     0.51674,     0.32558,\n",
       "           0.88538,     0.51674,     0.51674,     0.51674,     0.51674])"
      ]
     },
     "execution_count": 101,
     "metadata": {},
     "output_type": "execute_result"
    }
   ],
   "source": [
    "results.box.maps"
   ]
  }
 ],
 "metadata": {
  "kernelspec": {
   "display_name": "Python 3 (ipykernel)",
   "language": "python",
   "name": "python3"
  },
  "language_info": {
   "codemirror_mode": {
    "name": "ipython",
    "version": 3
   },
   "file_extension": ".py",
   "mimetype": "text/x-python",
   "name": "python",
   "nbconvert_exporter": "python",
   "pygments_lexer": "ipython3",
   "version": "3.11.2"
  }
 },
 "nbformat": 4,
 "nbformat_minor": 2
}
