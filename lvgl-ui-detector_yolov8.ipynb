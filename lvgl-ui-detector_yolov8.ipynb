{
 "cells": [
  {
   "cell_type": "markdown",
   "metadata": {},
   "source": [
    "# General notebook preparation"
   ]
  },
  {
   "cell_type": "code",
   "execution_count": 1,
   "metadata": {},
   "outputs": [],
   "source": [
    "# Standard library imports\n",
    "import os\n",
    "import sys\n",
    "import yaml"
   ]
  },
  {
   "cell_type": "code",
   "execution_count": 2,
   "metadata": {},
   "outputs": [],
   "source": [
    "# Set constants for environment\n",
    "IN_COLAB = 'google.colab' in sys.modules\n",
    "IN_LOCAL_CONTAINER = 'HOMELAB' in os.environ\n",
    "env = {\n",
    "    'PROJECT_NAME': 'LVGL UI Detector',\n",
    "    'PROJECT_TAG': 'lvgl-ui-detector',\n",
    "    'IN_COLAB': IN_COLAB,\n",
    "    'IN_LOCAL_CONTAINER': IN_LOCAL_CONTAINER,\n",
    "    'DIRS': {},\n",
    "    'FILES': {},\n",
    "    'ENV': os.environ,\n",
    "}\n",
    "required_modules = ['ultralytics', 'clearml']"
   ]
  },
  {
   "cell_type": "markdown",
   "metadata": {},
   "source": [
    "# Environment setups"
   ]
  },
  {
   "cell_type": "code",
   "execution_count": 3,
   "metadata": {},
   "outputs": [],
   "source": [
    "if IN_COLAB:\n",
    "    # from google.colab import drive\n",
    "    # drive.mount('/content/drive') # Mount Google Drive\n",
    "    env['DIRS']['root'] = os.path.join(\"/tmp\")\n",
    "elif IN_LOCAL_CONTAINER:\n",
    "    # Local container already comes with the required modules pre-installed\n",
    "    env['DIRS']['root'] = \"/usr/src\"\n",
    "else:\n",
    "    # Local development environment needs to have the required modules installed\n",
    "    env['DIRS']['root'] = os.path.curdir"
   ]
  },
  {
   "cell_type": "code",
   "execution_count": 4,
   "metadata": {},
   "outputs": [],
   "source": [
    "# Import all dependencies\n",
    "missing_deps = False\n",
    "try:\n",
    "    from ultralytics import YOLO\n",
    "    from clearml import Task, TaskTypes, Dataset, StorageManager, Logger\n",
    "    import yaml\n",
    "except ImportError as e:\n",
    "    print(f\"Failed to import required dependencies: {e}\")\n",
    "    missing_deps = True\n",
    "    print(\"Run the next cell to install the required dependencies and then restart the runtime.\")"
   ]
  },
  {
   "cell_type": "code",
   "execution_count": 5,
   "metadata": {},
   "outputs": [],
   "source": [
    "if missing_deps and not IN_COLAB:\n",
    "    %pip install -q {*required_modules}\n",
    "    print(\"Installed required dependencies. Please restart the runtime.\")"
   ]
  },
  {
   "cell_type": "code",
   "execution_count": 6,
   "metadata": {},
   "outputs": [
    {
     "name": "stdout",
     "output_type": "stream",
     "text": [
      "Module: ultralytics\n"
     ]
    },
    {
     "name": "stdout",
     "output_type": "stream",
     "text": [
      "Name: ultralytics\n",
      "Version: 8.2.2\n",
      "Summary: Ultralytics YOLOv8 for SOTA object detection, multi-object tracking, instance segmentation, pose estimation and image classification.\n",
      "Home-page: \n",
      "Author: Glenn Jocher, Ayush Chaurasia, Jing Qiu\n",
      "Author-email: \n",
      "License: AGPL-3.0\n",
      "Location: /home/rini-debian/git-stash/lvgl-ui-detector/.venv/lib/python3.11/site-packages\n",
      "Requires: matplotlib, opencv-python, pandas, pillow, psutil, py-cpuinfo, pyyaml, requests, scipy, seaborn, thop, torch, torchvision, tqdm\n",
      "Required-by: \n",
      "Note: you may need to restart the kernel to use updated packages.\n",
      "Module: clearml\n",
      "Name: clearml\n",
      "Version: 1.15.1\n",
      "Summary: ClearML - Auto-Magical Experiment Manager, Version Control, and MLOps for AI\n",
      "Home-page: https://github.com/allegroai/clearml\n",
      "Author: ClearML\n",
      "Author-email: support@clear.ml\n",
      "License: Apache License 2.0\n",
      "Location: /home/rini-debian/git-stash/lvgl-ui-detector/.venv/lib/python3.11/site-packages\n",
      "Requires: attrs, furl, jsonschema, numpy, pathlib2, Pillow, psutil, pyjwt, pyparsing, python-dateutil, PyYAML, referencing, requests, six, urllib3\n",
      "Required-by: \n",
      "Note: you may need to restart the kernel to use updated packages.\n"
     ]
    }
   ],
   "source": [
    "# Show the used versions of the required modules\n",
    "if not IN_COLAB:\n",
    "    for module in required_modules:\n",
    "        print(f\"Module: {module}\")\n",
    "        %pip show {module}"
   ]
  },
  {
   "cell_type": "code",
   "execution_count": 7,
   "metadata": {},
   "outputs": [],
   "source": [
    "# Configure folders\n",
    "env['DIRS']['data'] = os.path.join(env['DIRS']['root'], \"datasets\")"
   ]
  },
  {
   "cell_type": "code",
   "execution_count": 8,
   "metadata": {},
   "outputs": [
    {
     "name": "stdout",
     "output_type": "stream",
     "text": [
      "2024-04-27 21:13:05,842 - clearml - WARNING - Reopening aborted Dataset, any change will clear and overwrite current state\n"
     ]
    }
   ],
   "source": [
    "# Query ClearML for available datasets\n",
    "datasets = Dataset.list_datasets(env['PROJECT_NAME'], partial_name=\"UI Randomizer\", tags=[env['PROJECT_TAG']], only_completed=True)\n",
    "# Store dataset filenames per dataset\n",
    "env['DATASETS'] = {}\n",
    "for dataset in datasets:\n",
    "    env['FILES'][dataset['id']] = Dataset.get(dataset['id']).list_files(\"*.yaml\")\n",
    "    env['DATASETS'][dataset['id']] = dataset\n"
   ]
  },
  {
   "cell_type": "code",
   "execution_count": 9,
   "metadata": {},
   "outputs": [
    {
     "name": "stdout",
     "output_type": "stream",
     "text": [
      "{'d1c4ec5c8f7e4492ab7b2a8d0b584c88': ['ui_randoms.yaml'], 'e7f05a856ca34cd88940c4b8774f4c45': ['ui_randoms.yaml'], '50e10f640d7548458d9c38ab9aac571b': ['ui_randoms.yaml'], 'e113a14fec574025a15a5c9868746c4b': ['dataset_upload_test.yaml'], 'c520737c392c47608ffd52f33fc593f6': ['dataset_upload_test.yaml'], '12f2a7ee7a7f45b8866d2c5f75e92413': ['dataset_upload_test.yaml'], '640fc2e67b3b4b498fe6d9b1da764911': ['dataset_upload_test.yaml'], 'cef7f5e021484b089a5eccf0c014d150': ['dataset_upload_test.yaml'], '28b1c17f1fef47a793f9ac086b2d6b10': ['dataset_upload_test.yaml'], 'af33141c123843d4bf0c50db76635bba': ['dataset_upload_test.yaml'], '2b561087cf974658b576fbd17a87bc87': ['dataset_upload_test.yaml'], '366058db107e485ca273a11601e68e7a': ['dataset_upload_test.yaml'], 'f4d7bdcb58534f1ebbc5c5578b6801a5': ['dataset_upload_test.yaml'], '90648781cf4f4848a2a66ca572e1edf5': ['dataset_upload_test.yaml'], 'a4b6cc7161334df1ad94143a819842d6': ['dataset_upload_test.yaml'], '853a677148c5417e8cc003d6761236e3': ['dataset_upload_test.yaml'], 'b4f89b652b1940848f186c5ab9e2de3f': ['dataset_upload_test.yaml'], '231b526d445b416fa487fc902a1ebb0e': ['dataset_upload_test.yaml'], '55a19d9bd15c4c67a6931e3eba7b454a': ['dataset_upload_test.yaml'], 'e8289fd5259c4e78830fd2e2d88a6d51': ['dataset_upload_test.yaml'], 'fe2deefa4b9747a49895f661c83c7684': ['dataset_upload_test.yaml'], '55fba0728c3d4af1953fa0fe04b30ce6': ['dataset_upload_test.yaml'], 'abc76956f1de41b386fa805e8858c884': ['ui_widgets.yaml'], '326ea43fc9ff4e6db5209218b6020ca6': ['ui_widgets.yaml'], '172affc0c4bb4a369e75f685782b5ad8': ['ui_widgets.yaml']}\n",
      "{'d1c4ec5c8f7e4492ab7b2a8d0b584c88': {'name': 'UI Randomizer - ui_randoms', 'created': datetime.datetime(2024, 4, 14, 11, 22, 26, 188000, tzinfo=tzutc()), 'project': 'LVGL UI Detector', 'id': 'd1c4ec5c8f7e4492ab7b2a8d0b584c88', 'tags': ['lvgl-ui-detector', 'random'], 'version': '1.0.0'}, 'e7f05a856ca34cd88940c4b8774f4c45': {'name': 'UI Randomizer - ui_randoms', 'created': datetime.datetime(2024, 4, 14, 11, 27, 37, 196000, tzinfo=tzutc()), 'project': 'LVGL UI Detector', 'id': 'e7f05a856ca34cd88940c4b8774f4c45', 'tags': ['lvgl-ui-detector', 'random'], 'version': '1.0.1'}, '50e10f640d7548458d9c38ab9aac571b': {'name': 'UI Randomizer - ui_randoms', 'created': datetime.datetime(2024, 4, 15, 20, 42, 11, 688000, tzinfo=tzutc()), 'project': 'LVGL UI Detector', 'id': '50e10f640d7548458d9c38ab9aac571b', 'tags': ['lvgl-ui-detector', 'random'], 'version': '1.0.2'}, 'e113a14fec574025a15a5c9868746c4b': {'name': 'UI Randomizer - dataset_upload_test', 'created': datetime.datetime(2024, 4, 8, 22, 57, 58, 314000, tzinfo=tzutc()), 'project': 'LVGL UI Detector', 'id': 'e113a14fec574025a15a5c9868746c4b', 'tags': ['lvgl-ui-detector', 'random'], 'version': '1.0.0'}, 'c520737c392c47608ffd52f33fc593f6': {'name': 'UI Randomizer - dataset_upload_test', 'created': datetime.datetime(2024, 4, 8, 23, 31, 19, 726000, tzinfo=tzutc()), 'project': 'LVGL UI Detector', 'id': 'c520737c392c47608ffd52f33fc593f6', 'tags': ['lvgl-ui-detector', 'random'], 'version': '1.0.1'}, '12f2a7ee7a7f45b8866d2c5f75e92413': {'name': 'UI Randomizer - dataset_upload_test', 'created': datetime.datetime(2024, 4, 8, 23, 33, 35, 792000, tzinfo=tzutc()), 'project': 'LVGL UI Detector', 'id': '12f2a7ee7a7f45b8866d2c5f75e92413', 'tags': ['lvgl-ui-detector', 'random'], 'version': '1.0.2'}, '640fc2e67b3b4b498fe6d9b1da764911': {'name': 'UI Randomizer - dataset_upload_test', 'created': datetime.datetime(2024, 4, 8, 23, 38, 33, 361000, tzinfo=tzutc()), 'project': 'LVGL UI Detector', 'id': '640fc2e67b3b4b498fe6d9b1da764911', 'tags': ['lvgl-ui-detector', 'random'], 'version': '1.0.3'}, 'cef7f5e021484b089a5eccf0c014d150': {'name': 'UI Randomizer - dataset_upload_test', 'created': datetime.datetime(2024, 4, 8, 23, 41, 2, 462000, tzinfo=tzutc()), 'project': 'LVGL UI Detector', 'id': 'cef7f5e021484b089a5eccf0c014d150', 'tags': ['lvgl-ui-detector', 'random'], 'version': '1.0.4'}, '28b1c17f1fef47a793f9ac086b2d6b10': {'name': 'UI Randomizer - dataset_upload_test', 'created': datetime.datetime(2024, 4, 14, 14, 43, 47, 138000, tzinfo=tzutc()), 'project': 'LVGL UI Detector', 'id': '28b1c17f1fef47a793f9ac086b2d6b10', 'tags': ['lvgl-ui-detector', 'random'], 'version': '1.0.5'}, 'af33141c123843d4bf0c50db76635bba': {'name': 'UI Randomizer - dataset_upload_test', 'created': datetime.datetime(2024, 4, 14, 18, 25, 16, 614000, tzinfo=tzutc()), 'project': 'LVGL UI Detector', 'id': 'af33141c123843d4bf0c50db76635bba', 'tags': ['lvgl-ui-detector', 'random'], 'version': '1.0.6'}, '2b561087cf974658b576fbd17a87bc87': {'name': 'UI Randomizer - dataset_upload_test', 'created': datetime.datetime(2024, 4, 14, 18, 36, 40, 142000, tzinfo=tzutc()), 'project': 'LVGL UI Detector', 'id': '2b561087cf974658b576fbd17a87bc87', 'tags': ['lvgl-ui-detector', 'random'], 'version': '1.0.7'}, '366058db107e485ca273a11601e68e7a': {'name': 'UI Randomizer - dataset_upload_test', 'created': datetime.datetime(2024, 4, 14, 19, 40, 59, 124000, tzinfo=tzutc()), 'project': 'LVGL UI Detector', 'id': '366058db107e485ca273a11601e68e7a', 'tags': ['lvgl-ui-detector', 'random'], 'version': '1.0.8'}, 'f4d7bdcb58534f1ebbc5c5578b6801a5': {'name': 'UI Randomizer - dataset_upload_test', 'created': datetime.datetime(2024, 4, 14, 19, 44, 19, 717000, tzinfo=tzutc()), 'project': 'LVGL UI Detector', 'id': 'f4d7bdcb58534f1ebbc5c5578b6801a5', 'tags': ['lvgl-ui-detector', 'random'], 'version': '1.0.9'}, '90648781cf4f4848a2a66ca572e1edf5': {'name': 'UI Randomizer - dataset_upload_test', 'created': datetime.datetime(2024, 4, 14, 21, 56, 9, 275000, tzinfo=tzutc()), 'project': 'LVGL UI Detector', 'id': '90648781cf4f4848a2a66ca572e1edf5', 'tags': ['lvgl-ui-detector', 'random'], 'version': '1.0.10'}, 'a4b6cc7161334df1ad94143a819842d6': {'name': 'UI Randomizer - dataset_upload_test', 'created': datetime.datetime(2024, 4, 14, 22, 10, 22, 980000, tzinfo=tzutc()), 'project': 'LVGL UI Detector', 'id': 'a4b6cc7161334df1ad94143a819842d6', 'tags': ['lvgl-ui-detector', 'random'], 'version': '1.0.11'}, '853a677148c5417e8cc003d6761236e3': {'name': 'UI Randomizer - dataset_upload_test', 'created': datetime.datetime(2024, 4, 14, 23, 30, 48, 998000, tzinfo=tzutc()), 'project': 'LVGL UI Detector', 'id': '853a677148c5417e8cc003d6761236e3', 'tags': ['lvgl-ui-detector', 'random'], 'version': '1.0.12'}, 'b4f89b652b1940848f186c5ab9e2de3f': {'name': 'UI Randomizer - dataset_upload_test', 'created': datetime.datetime(2024, 4, 14, 23, 49, 37, 994000, tzinfo=tzutc()), 'project': 'LVGL UI Detector', 'id': 'b4f89b652b1940848f186c5ab9e2de3f', 'tags': ['lvgl-ui-detector', 'random'], 'version': '1.0.13'}, '231b526d445b416fa487fc902a1ebb0e': {'name': 'UI Randomizer - dataset_upload_test', 'created': datetime.datetime(2024, 4, 14, 23, 54, 50, 828000, tzinfo=tzutc()), 'project': 'LVGL UI Detector', 'id': '231b526d445b416fa487fc902a1ebb0e', 'tags': ['lvgl-ui-detector', 'random'], 'version': '1.0.14'}, '55a19d9bd15c4c67a6931e3eba7b454a': {'name': 'UI Randomizer - dataset_upload_test', 'created': datetime.datetime(2024, 4, 15, 0, 38, 34, 542000, tzinfo=tzutc()), 'project': 'LVGL UI Detector', 'id': '55a19d9bd15c4c67a6931e3eba7b454a', 'tags': ['lvgl-ui-detector', 'random'], 'version': '1.0.15'}, 'e8289fd5259c4e78830fd2e2d88a6d51': {'name': 'UI Randomizer - dataset_upload_test', 'created': datetime.datetime(2024, 4, 15, 0, 56, 6, 270000, tzinfo=tzutc()), 'project': 'LVGL UI Detector', 'id': 'e8289fd5259c4e78830fd2e2d88a6d51', 'tags': ['lvgl-ui-detector', 'random'], 'version': '1.0.16'}, 'fe2deefa4b9747a49895f661c83c7684': {'name': 'UI Randomizer - dataset_upload_test', 'created': datetime.datetime(2024, 4, 15, 1, 42, 38, 266000, tzinfo=tzutc()), 'project': 'LVGL UI Detector', 'id': 'fe2deefa4b9747a49895f661c83c7684', 'tags': ['lvgl-ui-detector', 'random'], 'version': '1.0.17'}, '55fba0728c3d4af1953fa0fe04b30ce6': {'name': 'UI Randomizer - dataset_upload_test', 'created': datetime.datetime(2024, 4, 15, 1, 53, 57, 715000, tzinfo=tzutc()), 'project': 'LVGL UI Detector', 'id': '55fba0728c3d4af1953fa0fe04b30ce6', 'tags': ['lvgl-ui-detector', 'random'], 'version': '1.0.18'}, 'abc76956f1de41b386fa805e8858c884': {'name': 'UI Randomizer - ui_widgets', 'created': datetime.datetime(2024, 4, 13, 14, 48, 17, 211000, tzinfo=tzutc()), 'project': 'LVGL UI Detector', 'id': 'abc76956f1de41b386fa805e8858c884', 'tags': ['lvgl-ui-detector', 'random'], 'version': '1.0.0'}, '326ea43fc9ff4e6db5209218b6020ca6': {'name': 'UI Randomizer - ui_widgets', 'created': datetime.datetime(2024, 4, 13, 15, 20, 13, 649000, tzinfo=tzutc()), 'project': 'LVGL UI Detector', 'id': '326ea43fc9ff4e6db5209218b6020ca6', 'tags': ['lvgl-ui-detector', 'random'], 'version': '1.0.1'}, '172affc0c4bb4a369e75f685782b5ad8': {'name': 'UI Randomizer - ui_widgets', 'created': datetime.datetime(2024, 4, 13, 16, 7, 33, 413000, tzinfo=tzutc()), 'project': 'LVGL UI Detector', 'id': '172affc0c4bb4a369e75f685782b5ad8', 'tags': ['lvgl-ui-detector', 'random'], 'version': '1.0.2'}}\n"
     ]
    }
   ],
   "source": [
    "# Debugging output\n",
    "\n",
    "print(env['FILES'])\n",
    "print(env['DATASETS'])"
   ]
  },
  {
   "cell_type": "markdown",
   "metadata": {},
   "source": [
    "# Helper functions"
   ]
  },
  {
   "cell_type": "code",
   "execution_count": 10,
   "metadata": {},
   "outputs": [],
   "source": [
    "def download_dataset(id: str, overwrite: bool = True):\n",
    "    dataset = Dataset.get(id)\n",
    "    return dataset.get_mutable_local_copy(env['DIRS']['data'], overwrite=overwrite)"
   ]
  },
  {
   "cell_type": "code",
   "execution_count": 11,
   "metadata": {},
   "outputs": [],
   "source": [
    "def fix_dataset_path(file: str, replacement_path: str):\n",
    "    # Replace path in dataset file to match current environment\n",
    "    with open(file, 'r+') as f:\n",
    "        dataset_content = yaml.safe_load(f)\n",
    "        dataset_content['path'] = replacement_path\n",
    "        print(f\"Original dataset:\\n{dataset_content}\")\n",
    "        f.seek(0)\n",
    "        yaml.dump(dataset_content, f)\n",
    "        f.truncate()\n",
    "        f.seek(0)\n",
    "        print(f\"Adjusted dataset:\\n{f.read()}\")\n",
    "        return dataset_content"
   ]
  },
  {
   "cell_type": "code",
   "execution_count": 12,
   "metadata": {},
   "outputs": [],
   "source": [
    "def training_task(model_variant: str, dataset_id: str, args: dict, project: str = \"LVGL UI Detector\"):\n",
    "    # Create a ClearML Task\n",
    "    task = Task.init(\n",
    "        project_name=\"LVGL UI Detector\",\n",
    "        task_name=f\"Train {model_variant} ({env['DATASETS'][dataset_id]['name']})\",\n",
    "        task_type=TaskTypes.training\n",
    "    )\n",
    "    task.connect(args)\n",
    "    # Download & modify dataset\n",
    "    env['DIRS']['target'] = download_dataset(dataset_id)\n",
    "    dataset_file = os.path.join(env['DIRS']['target'], env['FILES'][dataset_id][0])\n",
    "    dataset_content = fix_dataset_path(dataset_file, env['DIRS']['target'])\n",
    "    args['data'] = os.path.join(env['DIRS']['target'], env['FILES'][dataset_id][0])\n",
    "    # Log \"model_variant\" parameter to task\n",
    "    task.set_parameter(\"model_variant\", model_variant)\n",
    "    task.connect_configuration(name=\"Dataset YAML\", configuration=args['data'])\n",
    "    task.connect_configuration(name=\"Dataset Content\", configuration=dataset_content)\n",
    "\n",
    "    # Load the YOLOv8 model\n",
    "    model = YOLO(f'{model_variant}.pt')\n",
    "\n",
    "    # Train the model \n",
    "    # If running remotely, the arguments may be overridden by ClearML if they were changed in the UI\n",
    "    try:\n",
    "        results = model.train(**args)\n",
    "    except Exception as e:\n",
    "        raise e\n",
    "    finally:\n",
    "        task.close()\n",
    "    return results, task.id"
   ]
  },
  {
   "cell_type": "markdown",
   "metadata": {},
   "source": [
    "# Choose dataset"
   ]
  },
  {
   "cell_type": "code",
   "execution_count": 13,
   "metadata": {},
   "outputs": [],
   "source": [
    "valid_choice = False\n",
    "while not valid_choice:\n",
    "    dataset_choice = '50e10f640d7548458d9c38ab9aac571b'#@param {type:\"string\"}\n",
    "    if dataset_choice in env['DATASETS'].keys():\n",
    "        valid_choice = True\n",
    "    else:\n",
    "        print(\"Dataset ID not found, please try again.\")"
   ]
  },
  {
   "cell_type": "markdown",
   "metadata": {},
   "source": [
    "# Model training"
   ]
  },
  {
   "cell_type": "code",
   "execution_count": 14,
   "metadata": {},
   "outputs": [
    {
     "name": "stdout",
     "output_type": "stream",
     "text": [
      "ClearML Task: created new task id=423648e8ed394b7d897ffa395c503ada\n",
      "2024-04-27 18:20:04,677 - clearml.Task - INFO - Storing jupyter notebook directly as code\n",
      "ClearML results page: https://app.clear.ml/projects/5606a5f963624e2991df71add8ec09ce/experiments/423648e8ed394b7d897ffa395c503ada/output/log\n",
      "2024-04-27 18:20:09,868 - clearml - INFO - Dataset.get() did not specify alias. Dataset information will not be automatically logged in ClearML Server.\n",
      "Original dataset:\n",
      "{'names': {0: 'arc', 1: 'bar', 2: 'button', 3: 'buttonmatrix', 4: 'calendar', 5: 'chart', 6: 'checkbox', 7: 'dropdown', 8: 'image', 9: 'imagebutton', 10: 'keyboard', 11: 'label', 12: 'led', 13: 'line', 14: 'list', 15: 'menu', 16: 'messagebox', 17: 'roller', 18: 'scale', 19: 'slider', 20: 'spangroup', 21: 'spinbox', 22: 'spinner', 23: 'switch', 24: 'table', 25: 'tabview', 26: 'textarea', 27: 'tileview', 28: 'window'}, 'path': '/home/rini-debian/git-stash/lvgl-ui-detector/datasets', 'test': 'images/test', 'train': 'images/train', 'val': 'images/val'}\n",
      "Adjusted dataset:\n",
      "names:\n",
      "  0: arc\n",
      "  1: bar\n",
      "  2: button\n",
      "  3: buttonmatrix\n",
      "  4: calendar\n",
      "  5: chart\n",
      "  6: checkbox\n",
      "  7: dropdown\n",
      "  8: image\n",
      "  9: imagebutton\n",
      "  10: keyboard\n",
      "  11: label\n",
      "  12: led\n",
      "  13: line\n",
      "  14: list\n",
      "  15: menu\n",
      "  16: messagebox\n",
      "  17: roller\n",
      "  18: scale\n",
      "  19: slider\n",
      "  20: spangroup\n",
      "  21: spinbox\n",
      "  22: spinner\n",
      "  23: switch\n",
      "  24: table\n",
      "  25: tabview\n",
      "  26: textarea\n",
      "  27: tileview\n",
      "  28: window\n",
      "path: /home/rini-debian/git-stash/lvgl-ui-detector/datasets\n",
      "test: images/test\n",
      "train: images/train\n",
      "val: images/val\n",
      "\n",
      "2024-04-27 18:20:22,404 - clearml.model - INFO - Selected model id: 40c589e1df76473abf94d430ece7f2dd\n",
      "New https://pypi.org/project/ultralytics/8.2.3 available 😃 Update with 'pip install -U ultralytics'\n",
      "Ultralytics YOLOv8.2.2 🚀 Python-3.11.2 torch-2.2.2+cu121 CUDA:0 (NVIDIA GeForce RTX 2060 with Max-Q Design, 6144MiB)\n",
      "\u001b[34m\u001b[1mengine/trainer: \u001b[0mtask=detect, mode=train, model=yolov8n.pt, data=/home/rini-debian/git-stash/lvgl-ui-detector/datasets/ui_randoms.yaml, epochs=10, time=None, patience=100, batch=16, imgsz=480, save=True, save_period=-1, cache=False, device=None, workers=8, project=None, name=train10, exist_ok=False, pretrained=True, optimizer=auto, verbose=True, seed=0, deterministic=True, single_cls=False, rect=False, cos_lr=False, close_mosaic=10, resume=False, amp=True, fraction=1.0, profile=False, freeze=None, multi_scale=False, overlap_mask=True, mask_ratio=4, dropout=0.0, val=True, split=val, save_json=False, save_hybrid=False, conf=None, iou=0.7, max_det=300, half=False, dnn=False, plots=True, source=None, vid_stride=1, stream_buffer=False, visualize=False, augment=False, agnostic_nms=False, classes=None, retina_masks=False, embed=None, show=False, save_frames=False, save_txt=False, save_conf=False, save_crop=False, show_labels=True, show_conf=True, show_boxes=True, line_width=None, format=torchscript, keras=False, optimize=False, int8=False, dynamic=False, simplify=False, opset=None, workspace=4, nms=False, lr0=0.01, lrf=0.01, momentum=0.937, weight_decay=0.0005, warmup_epochs=3.0, warmup_momentum=0.8, warmup_bias_lr=0.1, box=7.5, cls=0.5, dfl=1.5, pose=12.0, kobj=1.0, label_smoothing=0.0, nbs=64, hsv_h=0.015, hsv_s=0.7, hsv_v=0.4, degrees=0.0, translate=0.1, scale=0.5, shear=0.0, perspective=0.0, flipud=0.0, fliplr=0.5, bgr=0.0, mosaic=1.0, mixup=0.0, copy_paste=0.0, auto_augment=randaugment, erasing=0.4, crop_fraction=1.0, cfg=None, tracker=botsort.yaml, save_dir=/home/rini-debian/git-stash/lvgl-ui-detector/runs/detect/train10\n",
      "Overriding model.yaml nc=80 with nc=29\n",
      "\n",
      "                   from  n    params  module                                       arguments                     \n",
      "  0                  -1  1       464  ultralytics.nn.modules.conv.Conv             [3, 16, 3, 2]                 \n",
      "  1                  -1  1      4672  ultralytics.nn.modules.conv.Conv             [16, 32, 3, 2]                \n",
      "  2                  -1  1      7360  ultralytics.nn.modules.block.C2f             [32, 32, 1, True]             \n",
      "  3                  -1  1     18560  ultralytics.nn.modules.conv.Conv             [32, 64, 3, 2]                \n",
      "  4                  -1  2     49664  ultralytics.nn.modules.block.C2f             [64, 64, 2, True]             \n",
      "  5                  -1  1     73984  ultralytics.nn.modules.conv.Conv             [64, 128, 3, 2]               \n",
      "  6                  -1  2    197632  ultralytics.nn.modules.block.C2f             [128, 128, 2, True]           \n",
      "  7                  -1  1    295424  ultralytics.nn.modules.conv.Conv             [128, 256, 3, 2]              \n",
      "  8                  -1  1    460288  ultralytics.nn.modules.block.C2f             [256, 256, 1, True]           \n",
      "  9                  -1  1    164608  ultralytics.nn.modules.block.SPPF            [256, 256, 5]                 \n",
      " 10                  -1  1         0  torch.nn.modules.upsampling.Upsample         [None, 2, 'nearest']          \n",
      " 11             [-1, 6]  1         0  ultralytics.nn.modules.conv.Concat           [1]                           \n",
      " 12                  -1  1    148224  ultralytics.nn.modules.block.C2f             [384, 128, 1]                 \n",
      " 13                  -1  1         0  torch.nn.modules.upsampling.Upsample         [None, 2, 'nearest']          \n",
      " 14             [-1, 4]  1         0  ultralytics.nn.modules.conv.Concat           [1]                           \n",
      " 15                  -1  1     37248  ultralytics.nn.modules.block.C2f             [192, 64, 1]                  \n",
      " 16                  -1  1     36992  ultralytics.nn.modules.conv.Conv             [64, 64, 3, 2]                \n",
      " 17            [-1, 12]  1         0  ultralytics.nn.modules.conv.Concat           [1]                           \n",
      " 18                  -1  1    123648  ultralytics.nn.modules.block.C2f             [192, 128, 1]                 \n",
      " 19                  -1  1    147712  ultralytics.nn.modules.conv.Conv             [128, 128, 3, 2]              \n",
      " 20             [-1, 9]  1         0  ultralytics.nn.modules.conv.Concat           [1]                           \n",
      " 21                  -1  1    493056  ultralytics.nn.modules.block.C2f             [384, 256, 1]                 \n",
      " 22        [15, 18, 21]  1    756967  ultralytics.nn.modules.head.Detect           [29, [64, 128, 256]]          \n",
      "Model summary: 225 layers, 3016503 parameters, 3016487 gradients, 8.2 GFLOPs\n",
      "\n",
      "Transferred 319/355 items from pretrained weights\n",
      "Freezing layer 'model.22.dfl.conv.weight'\n",
      "\u001b[34m\u001b[1mAMP: \u001b[0mrunning Automatic Mixed Precision (AMP) checks with YOLOv8n...\n",
      "\u001b[34m\u001b[1mAMP: \u001b[0mchecks passed ✅\n"
     ]
    },
    {
     "name": "stderr",
     "output_type": "stream",
     "text": [
      "\u001b[34m\u001b[1mtrain: \u001b[0mScanning /home/rini-debian/git-stash/lvgl-ui-detector/datasets/labels/train... 370 images, 0 backgrounds, 6 corrupt: 100%|██████████| 370/370 [00:00<00:00, 519.28it/s]"
     ]
    },
    {
     "name": "stdout",
     "output_type": "stream",
     "text": [
      "\u001b[34m\u001b[1mtrain: \u001b[0mWARNING ⚠️ /home/rini-debian/git-stash/lvgl-ui-detector/datasets/images/train/ui_21.jpg: ignoring corrupt image/label: non-normalized or out of bounds coordinates [     1.0042]\n",
      "\u001b[34m\u001b[1mtrain: \u001b[0mWARNING ⚠️ /home/rini-debian/git-stash/lvgl-ui-detector/datasets/images/train/ui_236.jpg: ignoring corrupt image/label: non-normalized or out of bounds coordinates [     1.0063]\n",
      "\u001b[34m\u001b[1mtrain: \u001b[0mWARNING ⚠️ /home/rini-debian/git-stash/lvgl-ui-detector/datasets/images/train/ui_252.jpg: ignoring corrupt image/label: non-normalized or out of bounds coordinates [     1.0125]\n",
      "\u001b[34m\u001b[1mtrain: \u001b[0mWARNING ⚠️ /home/rini-debian/git-stash/lvgl-ui-detector/datasets/images/train/ui_294.jpg: ignoring corrupt image/label: non-normalized or out of bounds coordinates [     1.0187]\n",
      "\u001b[34m\u001b[1mtrain: \u001b[0mWARNING ⚠️ /home/rini-debian/git-stash/lvgl-ui-detector/datasets/images/train/ui_475.jpg: ignoring corrupt image/label: non-normalized or out of bounds coordinates [     1.0063]\n",
      "\u001b[34m\u001b[1mtrain: \u001b[0mWARNING ⚠️ /home/rini-debian/git-stash/lvgl-ui-detector/datasets/images/train/ui_91.jpg: ignoring corrupt image/label: non-normalized or out of bounds coordinates [     1.0146]\n",
      "\u001b[34m\u001b[1mtrain: \u001b[0mNew cache created: /home/rini-debian/git-stash/lvgl-ui-detector/datasets/labels/train.cache\n"
     ]
    },
    {
     "name": "stderr",
     "output_type": "stream",
     "text": [
      "\n",
      "\u001b[34m\u001b[1mval: \u001b[0mScanning /home/rini-debian/git-stash/lvgl-ui-detector/datasets/labels/val... 65 images, 0 backgrounds, 0 corrupt: 100%|██████████| 65/65 [00:00<00:00, 485.55it/s]"
     ]
    },
    {
     "name": "stdout",
     "output_type": "stream",
     "text": [
      "\u001b[34m\u001b[1mval: \u001b[0mNew cache created: /home/rini-debian/git-stash/lvgl-ui-detector/datasets/labels/val.cache\n"
     ]
    },
    {
     "name": "stderr",
     "output_type": "stream",
     "text": [
      "\n"
     ]
    },
    {
     "name": "stdout",
     "output_type": "stream",
     "text": [
      "Plotting labels to /home/rini-debian/git-stash/lvgl-ui-detector/runs/detect/train10/labels.jpg... \n",
      "\u001b[34m\u001b[1moptimizer:\u001b[0m 'optimizer=auto' found, ignoring 'lr0=0.01' and 'momentum=0.937' and determining best 'optimizer', 'lr0' and 'momentum' automatically... \n",
      "\u001b[34m\u001b[1moptimizer:\u001b[0m AdamW(lr=0.000303, momentum=0.9) with parameter groups 57 weight(decay=0.0), 64 weight(decay=0.0005), 63 bias(decay=0.0)\n",
      "Image sizes 480 train, 480 val\n",
      "Using 4 dataloader workers\n",
      "Logging results to \u001b[1m/home/rini-debian/git-stash/lvgl-ui-detector/runs/detect/train10\u001b[0m\n",
      "Starting training for 10 epochs...\n",
      "Closing dataloader mosaic\n",
      "\n",
      "      Epoch    GPU_mem   box_loss   cls_loss   dfl_loss  Instances       Size\n"
     ]
    },
    {
     "name": "stderr",
     "output_type": "stream",
     "text": [
      "       1/10      1.48G      1.181      4.588      1.114         34        480: 100%|██████████| 23/23 [00:08<00:00,  2.66it/s]\n",
      "                 Class     Images  Instances      Box(P          R      mAP50  mAP50-95): 100%|██████████| 3/3 [00:00<00:00,  3.35it/s]"
     ]
    },
    {
     "name": "stdout",
     "output_type": "stream",
     "text": [
      "                   all         65        195          0          0          0          0\n"
     ]
    },
    {
     "name": "stderr",
     "output_type": "stream",
     "text": [
      "\n"
     ]
    },
    {
     "name": "stdout",
     "output_type": "stream",
     "text": [
      "\n",
      "      Epoch    GPU_mem   box_loss   cls_loss   dfl_loss  Instances       Size\n"
     ]
    },
    {
     "name": "stderr",
     "output_type": "stream",
     "text": [
      "       2/10      1.47G      1.006      3.781      1.061         33        480: 100%|██████████| 23/23 [00:05<00:00,  4.34it/s]\n",
      "                 Class     Images  Instances      Box(P          R      mAP50  mAP50-95): 100%|██████████| 3/3 [00:00<00:00,  3.66it/s]"
     ]
    },
    {
     "name": "stdout",
     "output_type": "stream",
     "text": [
      "                   all         65        195      0.134       0.41      0.291      0.267\n"
     ]
    },
    {
     "name": "stderr",
     "output_type": "stream",
     "text": [
      "\n"
     ]
    },
    {
     "name": "stdout",
     "output_type": "stream",
     "text": [
      "\n",
      "      Epoch    GPU_mem   box_loss   cls_loss   dfl_loss  Instances       Size\n"
     ]
    },
    {
     "name": "stderr",
     "output_type": "stream",
     "text": [
      "       3/10      1.47G     0.9941      2.719      1.057         34        480: 100%|██████████| 23/23 [00:05<00:00,  4.44it/s]\n",
      "                 Class     Images  Instances      Box(P          R      mAP50  mAP50-95): 100%|██████████| 3/3 [00:00<00:00,  4.36it/s]"
     ]
    },
    {
     "name": "stdout",
     "output_type": "stream",
     "text": [
      "                   all         65        195      0.827      0.281      0.552      0.456\n"
     ]
    },
    {
     "name": "stderr",
     "output_type": "stream",
     "text": [
      "\n"
     ]
    },
    {
     "name": "stdout",
     "output_type": "stream",
     "text": [
      "\n",
      "      Epoch    GPU_mem   box_loss   cls_loss   dfl_loss  Instances       Size\n"
     ]
    },
    {
     "name": "stderr",
     "output_type": "stream",
     "text": [
      "       4/10      1.47G     0.9885      2.141      1.055         36        480: 100%|██████████| 23/23 [00:04<00:00,  4.81it/s]\n",
      "                 Class     Images  Instances      Box(P          R      mAP50  mAP50-95): 100%|██████████| 3/3 [00:00<00:00,  4.30it/s]"
     ]
    },
    {
     "name": "stdout",
     "output_type": "stream",
     "text": [
      "                   all         65        195      0.682      0.546       0.72       0.59\n"
     ]
    },
    {
     "name": "stderr",
     "output_type": "stream",
     "text": [
      "\n"
     ]
    },
    {
     "name": "stdout",
     "output_type": "stream",
     "text": [
      "\n",
      "      Epoch    GPU_mem   box_loss   cls_loss   dfl_loss  Instances       Size\n"
     ]
    },
    {
     "name": "stderr",
     "output_type": "stream",
     "text": [
      "       5/10      1.47G     0.9109      1.849      1.032         31        480: 100%|██████████| 23/23 [00:04<00:00,  4.74it/s]\n",
      "                 Class     Images  Instances      Box(P          R      mAP50  mAP50-95): 100%|██████████| 3/3 [00:00<00:00,  3.90it/s]"
     ]
    },
    {
     "name": "stdout",
     "output_type": "stream",
     "text": [
      "                   all         65        195      0.687      0.702       0.78       0.65\n"
     ]
    },
    {
     "name": "stderr",
     "output_type": "stream",
     "text": [
      "\n"
     ]
    },
    {
     "name": "stdout",
     "output_type": "stream",
     "text": [
      "\n",
      "      Epoch    GPU_mem   box_loss   cls_loss   dfl_loss  Instances       Size\n"
     ]
    },
    {
     "name": "stderr",
     "output_type": "stream",
     "text": [
      "       6/10      1.47G     0.8677      1.701      1.026         34        480: 100%|██████████| 23/23 [00:04<00:00,  4.69it/s]\n",
      "                 Class     Images  Instances      Box(P          R      mAP50  mAP50-95): 100%|██████████| 3/3 [00:00<00:00,  4.21it/s]"
     ]
    },
    {
     "name": "stdout",
     "output_type": "stream",
     "text": [
      "                   all         65        195      0.683      0.756        0.8      0.667\n"
     ]
    },
    {
     "name": "stderr",
     "output_type": "stream",
     "text": [
      "\n"
     ]
    },
    {
     "name": "stdout",
     "output_type": "stream",
     "text": [
      "\n",
      "      Epoch    GPU_mem   box_loss   cls_loss   dfl_loss  Instances       Size\n"
     ]
    },
    {
     "name": "stderr",
     "output_type": "stream",
     "text": [
      "       7/10      1.47G     0.8638      1.568      1.013         34        480: 100%|██████████| 23/23 [00:05<00:00,  4.38it/s]\n",
      "                 Class     Images  Instances      Box(P          R      mAP50  mAP50-95): 100%|██████████| 3/3 [00:00<00:00,  3.60it/s]"
     ]
    },
    {
     "name": "stdout",
     "output_type": "stream",
     "text": [
      "                   all         65        195       0.77      0.795       0.82      0.689\n"
     ]
    },
    {
     "name": "stderr",
     "output_type": "stream",
     "text": [
      "\n"
     ]
    },
    {
     "name": "stdout",
     "output_type": "stream",
     "text": [
      "\n",
      "      Epoch    GPU_mem   box_loss   cls_loss   dfl_loss  Instances       Size\n"
     ]
    },
    {
     "name": "stderr",
     "output_type": "stream",
     "text": [
      "       8/10      1.47G      0.797      1.498     0.9886         35        480: 100%|██████████| 23/23 [00:05<00:00,  3.92it/s]\n",
      "                 Class     Images  Instances      Box(P          R      mAP50  mAP50-95): 100%|██████████| 3/3 [00:01<00:00,  2.22it/s]"
     ]
    },
    {
     "name": "stdout",
     "output_type": "stream",
     "text": [
      "                   all         65        195      0.747      0.805      0.841      0.713\n"
     ]
    },
    {
     "name": "stderr",
     "output_type": "stream",
     "text": [
      "\n"
     ]
    },
    {
     "name": "stdout",
     "output_type": "stream",
     "text": [
      "\n",
      "      Epoch    GPU_mem   box_loss   cls_loss   dfl_loss  Instances       Size\n"
     ]
    },
    {
     "name": "stderr",
     "output_type": "stream",
     "text": [
      "       9/10      1.47G     0.7528       1.39     0.9632         34        480: 100%|██████████| 23/23 [00:05<00:00,  4.25it/s]\n",
      "                 Class     Images  Instances      Box(P          R      mAP50  mAP50-95): 100%|██████████| 3/3 [00:00<00:00,  4.62it/s]"
     ]
    },
    {
     "name": "stdout",
     "output_type": "stream",
     "text": [
      "                   all         65        195      0.771      0.835      0.855      0.731\n"
     ]
    },
    {
     "name": "stderr",
     "output_type": "stream",
     "text": [
      "\n"
     ]
    },
    {
     "name": "stdout",
     "output_type": "stream",
     "text": [
      "\n",
      "      Epoch    GPU_mem   box_loss   cls_loss   dfl_loss  Instances       Size\n"
     ]
    },
    {
     "name": "stderr",
     "output_type": "stream",
     "text": [
      "      10/10      1.47G     0.7562      1.378     0.9777         35        480: 100%|██████████| 23/23 [00:04<00:00,  4.85it/s]\n",
      "                 Class     Images  Instances      Box(P          R      mAP50  mAP50-95): 100%|██████████| 3/3 [00:00<00:00,  4.10it/s]"
     ]
    },
    {
     "name": "stdout",
     "output_type": "stream",
     "text": [
      "                   all         65        195       0.78      0.866      0.861      0.737\n"
     ]
    },
    {
     "name": "stderr",
     "output_type": "stream",
     "text": [
      "\n"
     ]
    },
    {
     "name": "stdout",
     "output_type": "stream",
     "text": [
      "\n",
      "10 epochs completed in 0.020 hours.\n",
      "Optimizer stripped from /home/rini-debian/git-stash/lvgl-ui-detector/runs/detect/train10/weights/last.pt, 6.2MB\n",
      "Optimizer stripped from /home/rini-debian/git-stash/lvgl-ui-detector/runs/detect/train10/weights/best.pt, 6.2MB\n",
      "\n",
      "Validating /home/rini-debian/git-stash/lvgl-ui-detector/runs/detect/train10/weights/best.pt...\n",
      "Ultralytics YOLOv8.2.2 🚀 Python-3.11.2 torch-2.2.2+cu121 CUDA:0 (NVIDIA GeForce RTX 2060 with Max-Q Design, 6144MiB)\n",
      "Model summary (fused): 168 layers, 3011303 parameters, 0 gradients, 8.1 GFLOPs\n"
     ]
    },
    {
     "name": "stderr",
     "output_type": "stream",
     "text": [
      "                 Class     Images  Instances      Box(P          R      mAP50  mAP50-95): 100%|██████████| 3/3 [00:01<00:00,  2.11it/s]\n"
     ]
    },
    {
     "name": "stdout",
     "output_type": "stream",
     "text": [
      "                   all         65        195      0.787      0.865      0.861      0.736\n",
      "                   arc         65         11      0.873          1      0.988      0.957\n",
      "                   bar         65         19      0.752        0.8      0.827      0.593\n",
      "                button         65          8      0.566      0.875      0.751      0.645\n",
      "              calendar         65          7      0.915          1      0.995      0.995\n",
      "              checkbox         65         15      0.856       0.79       0.85      0.564\n",
      "              dropdown         65         15      0.522          1      0.894       0.84\n",
      "                 label         65         20      0.913      0.525      0.723      0.426\n",
      "                   led         65          8      0.907          1      0.995      0.788\n",
      "                roller         65         22      0.993          1      0.995      0.872\n",
      "                 scale         65         16          1      0.973      0.995      0.856\n",
      "                slider         65         10      0.281      0.626      0.328       0.28\n",
      "               spinbox         65         16      0.869      0.875      0.925      0.845\n",
      "                switch         65         16      0.758      0.812      0.886      0.769\n",
      "                 table         65         12      0.813      0.833      0.909      0.876\n",
      "Speed: 0.7ms preprocess, 3.0ms inference, 0.0ms loss, 9.0ms postprocess per image\n",
      "Results saved to \u001b[1m/home/rini-debian/git-stash/lvgl-ui-detector/runs/detect/train10\u001b[0m\n"
     ]
    }
   ],
   "source": [
    "# Training inputs\n",
    "model_variant = \"yolov8n\"\n",
    "args = dict(\n",
    "    epochs=10, \n",
    "    imgsz=480\n",
    ")\n",
    "results, id = training_task(model_variant, dataset_choice, args)\n"
   ]
  },
  {
   "cell_type": "code",
   "execution_count": 15,
   "metadata": {},
   "outputs": [
    {
     "name": "stdout",
     "output_type": "stream",
     "text": [
      "Task to optimize: 423648e8ed394b7d897ffa395c503ada\n"
     ]
    }
   ],
   "source": [
    "print(f\"Task to optimize: {id}\")"
   ]
  },
  {
   "cell_type": "markdown",
   "metadata": {},
   "source": [
    "# Hyperparameter Optimization"
   ]
  },
  {
   "cell_type": "code",
   "execution_count": 16,
   "metadata": {},
   "outputs": [
    {
     "name": "stderr",
     "output_type": "stream",
     "text": [
      "/home/rini-debian/git-stash/lvgl-ui-detector/.venv/lib/python3.11/site-packages/clearml/binding/import_bind.py:54: TqdmWarning:\n",
      "\n",
      "IProgress not found. Please update jupyter and ipywidgets. See https://ipywidgets.readthedocs.io/en/stable/user_install.html\n",
      "\n"
     ]
    }
   ],
   "source": [
    "from clearml.automation import UniformParameterRange, UniformIntegerParameterRange, DiscreteParameterRange\n",
    "from clearml.automation import HyperParameterOptimizer\n",
    "from clearml.automation.optuna import OptimizerOptuna"
   ]
  },
  {
   "cell_type": "code",
   "execution_count": 17,
   "metadata": {},
   "outputs": [],
   "source": [
    "def job_complete_callback(\n",
    "    job_id,                 # type: str\n",
    "    objective_value,        # type: float\n",
    "    objective_iteration,    # type: int\n",
    "    job_parameters,         # type: dict\n",
    "    top_performance_job_id  # type: str\n",
    "):\n",
    "    print('Job completed!', job_id, objective_value, objective_iteration, job_parameters)\n",
    "    if job_id == top_performance_job_id:\n",
    "        print('WOOT WOOT we broke the record! Objective reached {}'.format(objective_value))"
   ]
  },
  {
   "cell_type": "code",
   "execution_count": 18,
   "metadata": {},
   "outputs": [
    {
     "name": "stdout",
     "output_type": "stream",
     "text": [
      "ClearML Task: created new task id=4fb47fa004534e88bd9d94bc948adb1d\n",
      "ClearML results page: https://app.clear.ml/projects/a22811de525b4f098c08fb5ccef9ade0/experiments/4fb47fa004534e88bd9d94bc948adb1d/output/log\n"
     ]
    }
   ],
   "source": [
    "# Hyperparameter optimization\n",
    "from clearml import Task\n",
    "\n",
    "task = Task.init(\n",
    "    project_name='Hyper-Parameter Optimization (UI Detector)',\n",
    "    task_name='Automatic Hyper-Parameter Optimization (UI Detector)',\n",
    "    task_type=Task.TaskTypes.optimizer,\n",
    "    reuse_last_task_id=True\n",
    ")"
   ]
  },
  {
   "cell_type": "code",
   "execution_count": null,
   "metadata": {},
   "outputs": [],
   "source": [
    "from clearml.automation import ClearmlJob\n",
    "job = ClearmlJob(\n",
    "    base_task_id=id,\n",
    "    parameter_override={'data': ''},\n",
    ")"
   ]
  },
  {
   "cell_type": "code",
   "execution_count": 19,
   "metadata": {},
   "outputs": [],
   "source": [
    "# experiment template to optimize in the hyperparameter optimization\n",
    "args = {\n",
    "    'template_task_id': id if id else '',\n",
    "    'run_as_service': False,\n",
    "}\n",
    "args = task.connect(args)"
   ]
  },
  {
   "cell_type": "code",
   "execution_count": 20,
   "metadata": {},
   "outputs": [],
   "source": [
    "an_optimizer = HyperParameterOptimizer(\n",
    "    # This is the experiment we want to optimize\n",
    "    base_task_id=args['template_task_id'],\n",
    "    hyper_parameters=[\n",
    "        # Other hyperparameters we want to optimize\n",
    "        DiscreteParameterRange('General/batch', values=[16,32,64,128,256]),\n",
    "        DiscreteParameterRange('General/epochs', values=[25,50,75,100,125,150]),\n",
    "        UniformParameterRange('General/lr0', min_value=0.001, max_value=0.1),\n",
    "        UniformParameterRange('General/momentum', min_value=0.85, max_value=0.95),\n",
    "        UniformParameterRange('General/weight_decay', min_value=0.0001, max_value=0.001),\n",
    "        DiscreteParameterRange('General/imgsz', values=[320, 480, 640]),\n",
    "        DiscreteParameterRange('General/warmup_epochs', values=[1, 3, 5])\n",
    "    ],\n",
    "    objective_metric_title='val',\n",
    "    objective_metric_series='metrics/mAP50-95(B)',\n",
    "    objective_metric_sign='max',\n",
    "    optimizer_class=OptimizerOptuna,\n",
    "    execution_queue='training',\n",
    "    pool_period_min=5,\n",
    "    max_iteration_per_job=30,\n",
    "    total_max_jobs=1,\n",
    ")"
   ]
  },
  {
   "cell_type": "code",
   "execution_count": 21,
   "metadata": {},
   "outputs": [],
   "source": [
    "#task.execute_remotely(queue_name='training', exit_process=True)"
   ]
  },
  {
   "cell_type": "code",
   "execution_count": 22,
   "metadata": {},
   "outputs": [
    {
     "name": "stderr",
     "output_type": "stream",
     "text": [
      "[I 2024-04-27 18:22:44,406] A new study created in memory with name: 4fb47fa004534e88bd9d94bc948adb1d\n"
     ]
    },
    {
     "data": {
      "text/plain": [
       "True"
      ]
     },
     "execution_count": 22,
     "metadata": {},
     "output_type": "execute_result"
    },
    {
     "name": "stdout",
     "output_type": "stream",
     "text": [
      "Progress report #0 completed, sleeping for 0.25 minutes\n",
      "Progress report #1 completed, sleeping for 2.0 minutes\n",
      "Progress report #2 completed, sleeping for 2.0 minutes\n",
      "Progress report #3 completed, sleeping for 2.0 minutes\n",
      "Progress report #4 completed, sleeping for 2.0 minutes\n",
      "Progress report #5 completed, sleeping for 2.0 minutes\n"
     ]
    },
    {
     "ename": "",
     "evalue": "",
     "output_type": "error",
     "traceback": [
      "\u001b[1;31mThe Kernel crashed while executing code in the current cell or a previous cell. \n",
      "\u001b[1;31mPlease review the code in the cell(s) to identify a possible cause of the failure. \n",
      "\u001b[1;31mClick <a href='https://aka.ms/vscodeJupyterKernelCrash'>here</a> for more info. \n",
      "\u001b[1;31mView Jupyter <a href='command:jupyter.viewOutput'>log</a> for further details."
     ]
    }
   ],
   "source": [
    "# report every 12 seconds, this is way too often, but we are testing here J\n",
    "an_optimizer.set_report_period(2)\n",
    "# start the optimization process, callback function to be called every time an experiment is completed\n",
    "# this function returns immediately\n",
    "an_optimizer.start(job_complete_callback=job_complete_callback)\n",
    "# set the time limit for the optimization process (2 hours)"
   ]
  }
 ],
 "metadata": {
  "kernelspec": {
   "display_name": "Python 3 (ipykernel)",
   "language": "python",
   "name": "python3"
  },
  "language_info": {
   "codemirror_mode": {
    "name": "ipython",
    "version": 3
   },
   "file_extension": ".py",
   "mimetype": "text/x-python",
   "name": "python",
   "nbconvert_exporter": "python",
   "pygments_lexer": "ipython3",
   "version": "3.11.2"
  }
 },
 "nbformat": 4,
 "nbformat_minor": 2
}
