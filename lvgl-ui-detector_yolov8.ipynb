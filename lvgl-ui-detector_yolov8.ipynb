{
 "cells": [
  {
   "cell_type": "code",
   "execution_count": 2,
   "metadata": {},
   "outputs": [],
   "source": [
    "# Set constants for environment\n",
    "import os\n",
    "import sys\n",
    "\n",
    "PROJECT_NAME = 'lvgl-ui-detector'\n",
    "\n",
    "IN_COLAB = 'google.colab' in sys.modules\n",
    "IN_LOCAL_CONTAINER = 'HOMELAB' in os.environ\n",
    "if IN_COLAB:\n",
    "    from google.colab import drive\n",
    "    drive.mount('/content/drive/project') # Mount Google Drive\n",
    "    root_dir = os.path.join(\"/content/drive/project\")\n",
    "elif IN_LOCAL_CONTAINER:\n",
    "    root_dir = os.path.join(os.environ['HOME'], 'project')\n",
    "else:\n",
    "    root_dir = os.path.curdir"
   ]
  },
  {
   "cell_type": "code",
   "execution_count": 5,
   "metadata": {},
   "outputs": [
    {
     "name": "stdout",
     "output_type": "stream",
     "text": [
      "\u001b[33mWARNING: Package(s) not found: ultralytics\u001b[0m\u001b[33m\n",
      "\u001b[0mNote: you may need to restart the kernel to use updated packages.\n"
     ]
    }
   ],
   "source": [
    "if IN_COLAB and 'ultralytics' not in sys.modules:\n",
    "    %pip install ultralytics\n",
    "%pip show ultralytics"
   ]
  },
  {
   "cell_type": "markdown",
   "metadata": {},
   "source": [
    "# Note on using tensorboard\n",
    "`! tensorboard --logdir ${ULTRALYTICS_DIR}/runs --port 6006 --host 0.0.0.0 # needs '--host 0.0.0.0'`"
   ]
  },
  {
   "cell_type": "markdown",
   "metadata": {},
   "source": [
    "# Data preparation"
   ]
  },
  {
   "cell_type": "code",
   "execution_count": 6,
   "metadata": {},
   "outputs": [
    {
     "name": "stdout",
     "output_type": "stream",
     "text": [
      "Datasets: ['./tmp/designs.yaml', './tmp/random_widgets.yaml', './tmp/random_uis.yaml']\n"
     ]
    }
   ],
   "source": [
    "import glob\n",
    "if IN_COLAB:\n",
    "    repository_dir = os.path.join(root_dir, PROJECT_NAME)\n",
    "    dataset_dir = os.path.join(root_dir, 'datasets')\n",
    "    dataset_files = glob.glob(os.path.join(dataset_dir, '*.yaml'))\n",
    "    print(f\"Datasets: {dataset_files}\")\n",
    "    # The following command will fail if the repository does not exist\n",
    "    % cd repository_dir && git pull\n",
    "else:\n",
    "    datasets_dir = os.path.join(root_dir, 'tmp')\n",
    "    dataset_files = glob.glob(os.path.join(datasets_dir, '*.yaml'))\n",
    "    print(f\"Datasets: {dataset_files}\")"
   ]
  },
  {
   "cell_type": "markdown",
   "metadata": {},
   "source": [
    "# Model training"
   ]
  },
  {
   "cell_type": "code",
   "execution_count": null,
   "metadata": {},
   "outputs": [],
   "source": [
    "from ultralytics import YOLO\n",
    "model = YOLO('yolov8n.pt')\n",
    "\n",
    "results = model.train(data=f\"/workspace/project/tmp/random_widgets.yaml\", epochs=100, imgsz=480, device=[0])"
   ]
  },
  {
   "cell_type": "code",
   "execution_count": null,
   "metadata": {},
   "outputs": [],
   "source": [
    "# Perform validation using the validate function\n",
    "model = YOLO('/usr/src/ultralytics/runs/detect/train7/weights/best.pt')\n",
    "results = model.val()"
   ]
  },
  {
   "cell_type": "code",
   "execution_count": null,
   "metadata": {},
   "outputs": [],
   "source": [
    "results.box.map"
   ]
  },
  {
   "cell_type": "code",
   "execution_count": null,
   "metadata": {},
   "outputs": [],
   "source": [
    "results.box.map50"
   ]
  },
  {
   "cell_type": "code",
   "execution_count": null,
   "metadata": {},
   "outputs": [],
   "source": [
    "results.box.map75"
   ]
  },
  {
   "cell_type": "code",
   "execution_count": null,
   "metadata": {},
   "outputs": [],
   "source": [
    "results.box.maps"
   ]
  },
  {
   "cell_type": "code",
   "execution_count": null,
   "metadata": {},
   "outputs": [],
   "source": [
    "from ultralytics.utils.benchmarks import benchmark\n",
    "\n",
    "# Benchmark on GPU\n",
    "benchmark(model='/usr/src/ultralytics/runs/detect/train7/weights/best.pt', data='/workspace/project/tmp/custom/custom.yaml', imgsz=416, half=False, device=[0])"
   ]
  }
 ],
 "metadata": {
  "kernelspec": {
   "display_name": "Python 3 (ipykernel)",
   "language": "python",
   "name": "python3"
  },
  "language_info": {
   "codemirror_mode": {
    "name": "ipython",
    "version": 3
   },
   "file_extension": ".py",
   "mimetype": "text/x-python",
   "name": "python",
   "nbconvert_exporter": "python",
   "pygments_lexer": "ipython3",
   "version": "3.11.2"
  }
 },
 "nbformat": 4,
 "nbformat_minor": 2
}
