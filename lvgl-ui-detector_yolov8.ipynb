{
 "cells": [
  {
   "cell_type": "code",
   "execution_count": 47,
   "metadata": {},
   "outputs": [],
   "source": [
    "# Set constants for environment\n",
    "import os\n",
    "import sys\n",
    "\n",
    "PROJECT_NAME = 'lvgl-ui-detector'\n",
    "\n",
    "IN_COLAB = 'google.colab' in sys.modules\n",
    "IN_LOCAL_CONTAINER = 'HOMELAB' in os.environ\n",
    "if IN_COLAB:\n",
    "    from google.colab import drive\n",
    "    drive.mount('/content/drive/project') # Mount Google Drive\n",
    "    root_dir = os.path.join(\"/content/drive/project\")\n",
    "elif IN_LOCAL_CONTAINER:\n",
    "    root_dir = \"/usr/src\"\n",
    "else:\n",
    "    root_dir = os.path.curdir"
   ]
  },
  {
   "cell_type": "code",
   "execution_count": 48,
   "metadata": {},
   "outputs": [
    {
     "name": "stdout",
     "output_type": "stream",
     "text": [
      "Name: ultralytics\n",
      "Version: 8.1.45\n",
      "Summary: Ultralytics YOLOv8 for SOTA object detection, multi-object tracking, instance segmentation, pose estimation and image classification.\n",
      "Home-page: \n",
      "Author: Glenn Jocher, Ayush Chaurasia, Jing Qiu\n",
      "Author-email: \n",
      "License: AGPL-3.0\n",
      "Location: /opt/conda/lib/python3.10/site-packages\n",
      "Editable project location: /usr/src/ultralytics\n",
      "Requires: matplotlib, opencv-python, pandas, pillow, psutil, py-cpuinfo, pyyaml, requests, scipy, seaborn, thop, torch, torchvision, tqdm\n",
      "Required-by: \n",
      "Note: you may need to restart the kernel to use updated packages.\n"
     ]
    }
   ],
   "source": [
    "if IN_COLAB and 'ultralytics' not in sys.modules:\n",
    "    %pip install ultralytics\n",
    "%pip show ultralytics"
   ]
  },
  {
   "cell_type": "markdown",
   "metadata": {},
   "source": [
    "# Data preparation"
   ]
  },
  {
   "cell_type": "code",
   "execution_count": 49,
   "metadata": {},
   "outputs": [
    {
     "name": "stdout",
     "output_type": "stream",
     "text": [
      "Dataset directory: /workspace/project/dataset\n"
     ]
    }
   ],
   "source": [
    "# import glob\n",
    "# if IN_COLAB:\n",
    "#     repository_dir = os.path.join(root_dir, PROJECT_NAME)\n",
    "#     dataset_dir = os.path.join(root_dir, 'datasets')\n",
    "#     dataset_files = glob.glob(os.path.join(dataset_dir, '*.yaml'))\n",
    "# else:\n",
    "#     datasets_dir = os.path.join(root_dir, 'tmp')\n",
    "#     dataset_files = glob.glob(os.path.join(datasets_dir, '*.yaml'))\n",
    "\n",
    "# print(f\"Datasets: {dataset_files}\")\n",
    "from clearml import Dataset\n",
    "dataset_choice = 'ui_widgets'\n",
    "target_folder = os.path.join(root_dir, 'dataset')\n",
    "dataset = Dataset.get(dataset_project='LVGL UI Detector', dataset_name=dataset_choice, auto_create=True, dataset_tags=['lvgl-ui-detector'])\n",
    "dataset_dir = dataset.get_mutable_local_copy(target_folder, overwrite=True)\n",
    "dataset_file = os.path.join(dataset_dir, f\"{dataset_choice}.yaml\")\n",
    "print(f\"Dataset directory: {dataset_dir}\")"
   ]
  },
  {
   "cell_type": "code",
   "execution_count": 50,
   "metadata": {},
   "outputs": [
    {
     "name": "stdout",
     "output_type": "stream",
     "text": [
      "Original dataset:\n",
      "{'names': {0: 'arc', 1: 'bar', 2: 'button', 3: 'buttonmatrix', 4: 'calendar', 5: 'checkbox', 6: 'dropdown', 7: 'label', 8: 'led', 9: 'roller', 10: 'scale', 11: 'slider', 12: 'spinbox', 13: 'switch', 14: 'table', 15: 'textarea'}, 'path': '/workspace/project/dataset', 'test': 'images/test', 'train': 'images/train', 'val': 'images/val'}\n",
      "Adjusted dataset:\n",
      "names:\n",
      "  0: arc\n",
      "  1: bar\n",
      "  2: button\n",
      "  3: buttonmatrix\n",
      "  4: calendar\n",
      "  5: checkbox\n",
      "  6: dropdown\n",
      "  7: label\n",
      "  8: led\n",
      "  9: roller\n",
      "  10: scale\n",
      "  11: slider\n",
      "  12: spinbox\n",
      "  13: switch\n",
      "  14: table\n",
      "  15: textarea\n",
      "path: /workspace/project/dataset\n",
      "test: images/test\n",
      "train: images/train\n",
      "val: images/val\n",
      "\n"
     ]
    },
    {
     "data": {
      "text/plain": [
       "['labels', 'ui_widgets.yaml', 'images']"
      ]
     },
     "execution_count": 50,
     "metadata": {},
     "output_type": "execute_result"
    }
   ],
   "source": [
    "import yaml\n",
    "\n",
    "with open(dataset_file, 'r+') as f:\n",
    "    dataset_content = yaml.safe_load(f)\n",
    "    dataset_content['path'] = dataset_dir\n",
    "    print(f\"Original dataset:\\n{dataset_content}\")\n",
    "    f.seek(0)\n",
    "    yaml.dump(dataset_content, f)\n",
    "    f.truncate()\n",
    "    f.seek(0)\n",
    "    print(f\"Adjusted dataset:\\n{f.read()}\")\n",
    "os.listdir(dataset_dir)\n"
   ]
  },
  {
   "cell_type": "markdown",
   "metadata": {},
   "source": [
    "# Model training"
   ]
  },
  {
   "cell_type": "code",
   "execution_count": 51,
   "metadata": {},
   "outputs": [
    {
     "name": "stderr",
     "output_type": "stream",
     "text": [
      "Jupyter Notebook auto-logging failed, could not access: /workspace/project/lvgl-ui-detector_yolov8-jvsc-85350928-bb0c-430e-b34b-b9ddbfd9b21fad5ae19c-9704-4cb4-b817-3a8206d876d9.ipynb\n"
     ]
    },
    {
     "name": "stdout",
     "output_type": "stream",
     "text": [
      "ClearML Task: overwriting (reusing) task id=fadfb35fb6b04861b3c01263770b45fa\n",
      "ClearML results page: https://app.clear.ml/projects/5606a5f963624e2991df71add8ec09ce/experiments/fadfb35fb6b04861b3c01263770b45fa/output/log\n",
      "Ultralytics YOLOv8.1.45 🚀 Python-3.10.14 torch-2.2.2 CUDA:0 (NVIDIA GeForce RTX 2060 with Max-Q Design, 6144MiB)\n",
      "\u001b[34m\u001b[1mengine/trainer: \u001b[0mtask=detect, mode=train, model=yolov8n.pt, data=/workspace/project/dataset/ui_widgets.yaml, epochs=100, time=None, patience=100, batch=16, imgsz=480, save=True, save_period=-1, cache=False, device=None, workers=8, project=None, name=train13, exist_ok=False, pretrained=True, optimizer=auto, verbose=True, seed=0, deterministic=True, single_cls=False, rect=False, cos_lr=False, close_mosaic=10, resume=False, amp=True, fraction=1.0, profile=False, freeze=None, multi_scale=False, overlap_mask=True, mask_ratio=4, dropout=0.0, val=True, split=val, save_json=False, save_hybrid=False, conf=None, iou=0.7, max_det=300, half=False, dnn=False, plots=True, source=None, vid_stride=1, stream_buffer=False, visualize=False, augment=False, agnostic_nms=False, classes=None, retina_masks=False, embed=None, show=False, save_frames=False, save_txt=False, save_conf=False, save_crop=False, show_labels=True, show_conf=True, show_boxes=True, line_width=None, format=torchscript, keras=False, optimize=False, int8=False, dynamic=False, simplify=False, opset=None, workspace=4, nms=False, lr0=0.01, lrf=0.01, momentum=0.937, weight_decay=0.0005, warmup_epochs=3.0, warmup_momentum=0.8, warmup_bias_lr=0.1, box=7.5, cls=0.5, dfl=1.5, pose=12.0, kobj=1.0, label_smoothing=0.0, nbs=64, hsv_h=0.015, hsv_s=0.7, hsv_v=0.4, degrees=0.0, translate=0.1, scale=0.5, shear=0.0, perspective=0.0, flipud=0.0, fliplr=0.5, bgr=0.0, mosaic=1.0, mixup=0.0, copy_paste=0.0, auto_augment=randaugment, erasing=0.4, crop_fraction=1.0, cfg=None, tracker=botsort.yaml, save_dir=/usr/src/ultralytics/runs/detect/train13\n",
      "Overriding model.yaml nc=80 with nc=16\n",
      "\n",
      "                   from  n    params  module                                       arguments                     \n",
      "  0                  -1  1       464  ultralytics.nn.modules.conv.Conv             [3, 16, 3, 2]                 \n",
      "  1                  -1  1      4672  ultralytics.nn.modules.conv.Conv             [16, 32, 3, 2]                \n",
      "  2                  -1  1      7360  ultralytics.nn.modules.block.C2f             [32, 32, 1, True]             \n",
      "  3                  -1  1     18560  ultralytics.nn.modules.conv.Conv             [32, 64, 3, 2]                \n",
      "  4                  -1  2     49664  ultralytics.nn.modules.block.C2f             [64, 64, 2, True]             \n",
      "  5                  -1  1     73984  ultralytics.nn.modules.conv.Conv             [64, 128, 3, 2]               \n",
      "  6                  -1  2    197632  ultralytics.nn.modules.block.C2f             [128, 128, 2, True]           \n",
      "  7                  -1  1    295424  ultralytics.nn.modules.conv.Conv             [128, 256, 3, 2]              \n",
      "  8                  -1  1    460288  ultralytics.nn.modules.block.C2f             [256, 256, 1, True]           \n",
      "  9                  -1  1    164608  ultralytics.nn.modules.block.SPPF            [256, 256, 5]                 \n",
      " 10                  -1  1         0  torch.nn.modules.upsampling.Upsample         [None, 2, 'nearest']          \n",
      " 11             [-1, 6]  1         0  ultralytics.nn.modules.conv.Concat           [1]                           \n",
      " 12                  -1  1    148224  ultralytics.nn.modules.block.C2f             [384, 128, 1]                 \n",
      " 13                  -1  1         0  torch.nn.modules.upsampling.Upsample         [None, 2, 'nearest']          \n",
      " 14             [-1, 4]  1         0  ultralytics.nn.modules.conv.Concat           [1]                           \n",
      " 15                  -1  1     37248  ultralytics.nn.modules.block.C2f             [192, 64, 1]                  \n",
      " 16                  -1  1     36992  ultralytics.nn.modules.conv.Conv             [64, 64, 3, 2]                \n",
      " 17            [-1, 12]  1         0  ultralytics.nn.modules.conv.Concat           [1]                           \n",
      " 18                  -1  1    123648  ultralytics.nn.modules.block.C2f             [192, 128, 1]                 \n",
      " 19                  -1  1    147712  ultralytics.nn.modules.conv.Conv             [128, 128, 3, 2]              \n",
      " 20             [-1, 9]  1         0  ultralytics.nn.modules.conv.Concat           [1]                           \n",
      " 21                  -1  1    493056  ultralytics.nn.modules.block.C2f             [384, 256, 1]                 \n",
      " 22        [15, 18, 21]  1    754432  ultralytics.nn.modules.head.Detect           [16, [64, 128, 256]]          \n",
      "Model summary: 225 layers, 3013968 parameters, 3013952 gradients, 8.2 GFLOPs\n",
      "\n",
      "Transferred 319/355 items from pretrained weights\n",
      "\u001b[34m\u001b[1mTensorBoard: \u001b[0mStart with 'tensorboard --logdir /usr/src/ultralytics/runs/detect/train13', view at http://localhost:6006/\n",
      "Freezing layer 'model.22.dfl.conv.weight'\n",
      "\u001b[34m\u001b[1mAMP: \u001b[0mrunning Automatic Mixed Precision (AMP) checks with YOLOv8n...\n",
      "\u001b[34m\u001b[1mAMP: \u001b[0mchecks passed ✅\n"
     ]
    },
    {
     "name": "stderr",
     "output_type": "stream",
     "text": [
      "\u001b[34m\u001b[1mtrain: \u001b[0mScanning /workspace/project/dataset/labels/train... 534 images, 0 backgrounds, 229 corrupt: 100%|██████████| 534/534 [00:00<00:00, 632.05it/s]"
     ]
    },
    {
     "name": "stdout",
     "output_type": "stream",
     "text": [
      "\u001b[34m\u001b[1mtrain: \u001b[0mWARNING ⚠️ /workspace/project/dataset/images/train/roller_0.jpg: ignoring corrupt image/label: Label class 17 exceeds dataset class count 16. Possible class labels are 0-15\n",
      "\u001b[34m\u001b[1mtrain: \u001b[0mWARNING ⚠️ /workspace/project/dataset/images/train/roller_1.jpg: ignoring corrupt image/label: Label class 17 exceeds dataset class count 16. Possible class labels are 0-15\n",
      "\u001b[34m\u001b[1mtrain: \u001b[0mWARNING ⚠️ /workspace/project/dataset/images/train/roller_10.jpg: ignoring corrupt image/label: Label class 17 exceeds dataset class count 16. Possible class labels are 0-15\n",
      "\u001b[34m\u001b[1mtrain: \u001b[0mWARNING ⚠️ /workspace/project/dataset/images/train/roller_13.jpg: ignoring corrupt image/label: Label class 17 exceeds dataset class count 16. Possible class labels are 0-15\n",
      "\u001b[34m\u001b[1mtrain: \u001b[0mWARNING ⚠️ /workspace/project/dataset/images/train/roller_14.jpg: ignoring corrupt image/label: Label class 17 exceeds dataset class count 16. Possible class labels are 0-15\n",
      "\u001b[34m\u001b[1mtrain: \u001b[0mWARNING ⚠️ /workspace/project/dataset/images/train/roller_15.jpg: ignoring corrupt image/label: Label class 17 exceeds dataset class count 16. Possible class labels are 0-15\n",
      "\u001b[34m\u001b[1mtrain: \u001b[0mWARNING ⚠️ /workspace/project/dataset/images/train/roller_16.jpg: ignoring corrupt image/label: Label class 17 exceeds dataset class count 16. Possible class labels are 0-15\n",
      "\u001b[34m\u001b[1mtrain: \u001b[0mWARNING ⚠️ /workspace/project/dataset/images/train/roller_17.jpg: ignoring corrupt image/label: Label class 17 exceeds dataset class count 16. Possible class labels are 0-15\n",
      "\u001b[34m\u001b[1mtrain: \u001b[0mWARNING ⚠️ /workspace/project/dataset/images/train/roller_19.jpg: ignoring corrupt image/label: Label class 17 exceeds dataset class count 16. Possible class labels are 0-15\n",
      "\u001b[34m\u001b[1mtrain: \u001b[0mWARNING ⚠️ /workspace/project/dataset/images/train/roller_21.jpg: ignoring corrupt image/label: Label class 17 exceeds dataset class count 16. Possible class labels are 0-15\n",
      "\u001b[34m\u001b[1mtrain: \u001b[0mWARNING ⚠️ /workspace/project/dataset/images/train/roller_22.jpg: ignoring corrupt image/label: Label class 17 exceeds dataset class count 16. Possible class labels are 0-15\n",
      "\u001b[34m\u001b[1mtrain: \u001b[0mWARNING ⚠️ /workspace/project/dataset/images/train/roller_23.jpg: ignoring corrupt image/label: Label class 17 exceeds dataset class count 16. Possible class labels are 0-15\n",
      "\u001b[34m\u001b[1mtrain: \u001b[0mWARNING ⚠️ /workspace/project/dataset/images/train/roller_25.jpg: ignoring corrupt image/label: Label class 17 exceeds dataset class count 16. Possible class labels are 0-15\n",
      "\u001b[34m\u001b[1mtrain: \u001b[0mWARNING ⚠️ /workspace/project/dataset/images/train/roller_27.jpg: ignoring corrupt image/label: Label class 17 exceeds dataset class count 16. Possible class labels are 0-15\n",
      "\u001b[34m\u001b[1mtrain: \u001b[0mWARNING ⚠️ /workspace/project/dataset/images/train/roller_29.jpg: ignoring corrupt image/label: Label class 17 exceeds dataset class count 16. Possible class labels are 0-15\n",
      "\u001b[34m\u001b[1mtrain: \u001b[0mWARNING ⚠️ /workspace/project/dataset/images/train/roller_3.jpg: ignoring corrupt image/label: Label class 17 exceeds dataset class count 16. Possible class labels are 0-15\n",
      "\u001b[34m\u001b[1mtrain: \u001b[0mWARNING ⚠️ /workspace/project/dataset/images/train/roller_30.jpg: ignoring corrupt image/label: Label class 17 exceeds dataset class count 16. Possible class labels are 0-15\n",
      "\u001b[34m\u001b[1mtrain: \u001b[0mWARNING ⚠️ /workspace/project/dataset/images/train/roller_31.jpg: ignoring corrupt image/label: Label class 17 exceeds dataset class count 16. Possible class labels are 0-15\n",
      "\u001b[34m\u001b[1mtrain: \u001b[0mWARNING ⚠️ /workspace/project/dataset/images/train/roller_32.jpg: ignoring corrupt image/label: Label class 17 exceeds dataset class count 16. Possible class labels are 0-15\n",
      "\u001b[34m\u001b[1mtrain: \u001b[0mWARNING ⚠️ /workspace/project/dataset/images/train/roller_33.jpg: ignoring corrupt image/label: Label class 17 exceeds dataset class count 16. Possible class labels are 0-15\n",
      "\u001b[34m\u001b[1mtrain: \u001b[0mWARNING ⚠️ /workspace/project/dataset/images/train/roller_34.jpg: ignoring corrupt image/label: Label class 17 exceeds dataset class count 16. Possible class labels are 0-15\n",
      "\u001b[34m\u001b[1mtrain: \u001b[0mWARNING ⚠️ /workspace/project/dataset/images/train/roller_36.jpg: ignoring corrupt image/label: Label class 17 exceeds dataset class count 16. Possible class labels are 0-15\n",
      "\u001b[34m\u001b[1mtrain: \u001b[0mWARNING ⚠️ /workspace/project/dataset/images/train/roller_37.jpg: ignoring corrupt image/label: Label class 17 exceeds dataset class count 16. Possible class labels are 0-15\n",
      "\u001b[34m\u001b[1mtrain: \u001b[0mWARNING ⚠️ /workspace/project/dataset/images/train/roller_38.jpg: ignoring corrupt image/label: Label class 17 exceeds dataset class count 16. Possible class labels are 0-15\n",
      "\u001b[34m\u001b[1mtrain: \u001b[0mWARNING ⚠️ /workspace/project/dataset/images/train/roller_39.jpg: ignoring corrupt image/label: Label class 17 exceeds dataset class count 16. Possible class labels are 0-15\n",
      "\u001b[34m\u001b[1mtrain: \u001b[0mWARNING ⚠️ /workspace/project/dataset/images/train/roller_4.jpg: ignoring corrupt image/label: Label class 17 exceeds dataset class count 16. Possible class labels are 0-15\n",
      "\u001b[34m\u001b[1mtrain: \u001b[0mWARNING ⚠️ /workspace/project/dataset/images/train/roller_41.jpg: ignoring corrupt image/label: Label class 17 exceeds dataset class count 16. Possible class labels are 0-15\n",
      "\u001b[34m\u001b[1mtrain: \u001b[0mWARNING ⚠️ /workspace/project/dataset/images/train/roller_42.jpg: ignoring corrupt image/label: Label class 17 exceeds dataset class count 16. Possible class labels are 0-15\n",
      "\u001b[34m\u001b[1mtrain: \u001b[0mWARNING ⚠️ /workspace/project/dataset/images/train/roller_43.jpg: ignoring corrupt image/label: Label class 17 exceeds dataset class count 16. Possible class labels are 0-15\n",
      "\u001b[34m\u001b[1mtrain: \u001b[0mWARNING ⚠️ /workspace/project/dataset/images/train/roller_44.jpg: ignoring corrupt image/label: Label class 17 exceeds dataset class count 16. Possible class labels are 0-15\n",
      "\u001b[34m\u001b[1mtrain: \u001b[0mWARNING ⚠️ /workspace/project/dataset/images/train/roller_45.jpg: ignoring corrupt image/label: Label class 17 exceeds dataset class count 16. Possible class labels are 0-15\n",
      "\u001b[34m\u001b[1mtrain: \u001b[0mWARNING ⚠️ /workspace/project/dataset/images/train/roller_48.jpg: ignoring corrupt image/label: Label class 17 exceeds dataset class count 16. Possible class labels are 0-15\n",
      "\u001b[34m\u001b[1mtrain: \u001b[0mWARNING ⚠️ /workspace/project/dataset/images/train/scale_0.jpg: ignoring corrupt image/label: Label class 18 exceeds dataset class count 16. Possible class labels are 0-15\n",
      "\u001b[34m\u001b[1mtrain: \u001b[0mWARNING ⚠️ /workspace/project/dataset/images/train/scale_1.jpg: ignoring corrupt image/label: Label class 18 exceeds dataset class count 16. Possible class labels are 0-15\n",
      "\u001b[34m\u001b[1mtrain: \u001b[0mWARNING ⚠️ /workspace/project/dataset/images/train/scale_11.jpg: ignoring corrupt image/label: Label class 18 exceeds dataset class count 16. Possible class labels are 0-15\n",
      "\u001b[34m\u001b[1mtrain: \u001b[0mWARNING ⚠️ /workspace/project/dataset/images/train/scale_12.jpg: ignoring corrupt image/label: Label class 18 exceeds dataset class count 16. Possible class labels are 0-15\n",
      "\u001b[34m\u001b[1mtrain: \u001b[0mWARNING ⚠️ /workspace/project/dataset/images/train/scale_13.jpg: ignoring corrupt image/label: Label class 18 exceeds dataset class count 16. Possible class labels are 0-15\n",
      "\u001b[34m\u001b[1mtrain: \u001b[0mWARNING ⚠️ /workspace/project/dataset/images/train/scale_14.jpg: ignoring corrupt image/label: Label class 18 exceeds dataset class count 16. Possible class labels are 0-15\n",
      "\u001b[34m\u001b[1mtrain: \u001b[0mWARNING ⚠️ /workspace/project/dataset/images/train/scale_15.jpg: ignoring corrupt image/label: Label class 18 exceeds dataset class count 16. Possible class labels are 0-15\n",
      "\u001b[34m\u001b[1mtrain: \u001b[0mWARNING ⚠️ /workspace/project/dataset/images/train/scale_16.jpg: ignoring corrupt image/label: Label class 18 exceeds dataset class count 16. Possible class labels are 0-15\n",
      "\u001b[34m\u001b[1mtrain: \u001b[0mWARNING ⚠️ /workspace/project/dataset/images/train/scale_17.jpg: ignoring corrupt image/label: Label class 18 exceeds dataset class count 16. Possible class labels are 0-15\n",
      "\u001b[34m\u001b[1mtrain: \u001b[0mWARNING ⚠️ /workspace/project/dataset/images/train/scale_20.jpg: ignoring corrupt image/label: Label class 18 exceeds dataset class count 16. Possible class labels are 0-15\n",
      "\u001b[34m\u001b[1mtrain: \u001b[0mWARNING ⚠️ /workspace/project/dataset/images/train/scale_25.jpg: ignoring corrupt image/label: Label class 18 exceeds dataset class count 16. Possible class labels are 0-15\n",
      "\u001b[34m\u001b[1mtrain: \u001b[0mWARNING ⚠️ /workspace/project/dataset/images/train/scale_27.jpg: ignoring corrupt image/label: Label class 18 exceeds dataset class count 16. Possible class labels are 0-15\n",
      "\u001b[34m\u001b[1mtrain: \u001b[0mWARNING ⚠️ /workspace/project/dataset/images/train/scale_28.jpg: ignoring corrupt image/label: Label class 18 exceeds dataset class count 16. Possible class labels are 0-15\n",
      "\u001b[34m\u001b[1mtrain: \u001b[0mWARNING ⚠️ /workspace/project/dataset/images/train/scale_29.jpg: ignoring corrupt image/label: Label class 18 exceeds dataset class count 16. Possible class labels are 0-15\n",
      "\u001b[34m\u001b[1mtrain: \u001b[0mWARNING ⚠️ /workspace/project/dataset/images/train/scale_30.jpg: ignoring corrupt image/label: Label class 18 exceeds dataset class count 16. Possible class labels are 0-15\n",
      "\u001b[34m\u001b[1mtrain: \u001b[0mWARNING ⚠️ /workspace/project/dataset/images/train/scale_32.jpg: ignoring corrupt image/label: Label class 18 exceeds dataset class count 16. Possible class labels are 0-15\n",
      "\u001b[34m\u001b[1mtrain: \u001b[0mWARNING ⚠️ /workspace/project/dataset/images/train/scale_33.jpg: ignoring corrupt image/label: Label class 18 exceeds dataset class count 16. Possible class labels are 0-15\n",
      "\u001b[34m\u001b[1mtrain: \u001b[0mWARNING ⚠️ /workspace/project/dataset/images/train/scale_34.jpg: ignoring corrupt image/label: Label class 18 exceeds dataset class count 16. Possible class labels are 0-15\n",
      "\u001b[34m\u001b[1mtrain: \u001b[0mWARNING ⚠️ /workspace/project/dataset/images/train/scale_35.jpg: ignoring corrupt image/label: Label class 18 exceeds dataset class count 16. Possible class labels are 0-15\n",
      "\u001b[34m\u001b[1mtrain: \u001b[0mWARNING ⚠️ /workspace/project/dataset/images/train/scale_36.jpg: ignoring corrupt image/label: Label class 18 exceeds dataset class count 16. Possible class labels are 0-15\n",
      "\u001b[34m\u001b[1mtrain: \u001b[0mWARNING ⚠️ /workspace/project/dataset/images/train/scale_37.jpg: ignoring corrupt image/label: Label class 18 exceeds dataset class count 16. Possible class labels are 0-15\n",
      "\u001b[34m\u001b[1mtrain: \u001b[0mWARNING ⚠️ /workspace/project/dataset/images/train/scale_38.jpg: ignoring corrupt image/label: Label class 18 exceeds dataset class count 16. Possible class labels are 0-15\n",
      "\u001b[34m\u001b[1mtrain: \u001b[0mWARNING ⚠️ /workspace/project/dataset/images/train/scale_39.jpg: ignoring corrupt image/label: Label class 18 exceeds dataset class count 16. Possible class labels are 0-15\n",
      "\u001b[34m\u001b[1mtrain: \u001b[0mWARNING ⚠️ /workspace/project/dataset/images/train/scale_4.jpg: ignoring corrupt image/label: Label class 18 exceeds dataset class count 16. Possible class labels are 0-15\n",
      "\u001b[34m\u001b[1mtrain: \u001b[0mWARNING ⚠️ /workspace/project/dataset/images/train/scale_41.jpg: ignoring corrupt image/label: Label class 18 exceeds dataset class count 16. Possible class labels are 0-15\n",
      "\u001b[34m\u001b[1mtrain: \u001b[0mWARNING ⚠️ /workspace/project/dataset/images/train/scale_43.jpg: ignoring corrupt image/label: Label class 18 exceeds dataset class count 16. Possible class labels are 0-15\n",
      "\u001b[34m\u001b[1mtrain: \u001b[0mWARNING ⚠️ /workspace/project/dataset/images/train/scale_44.jpg: ignoring corrupt image/label: Label class 18 exceeds dataset class count 16. Possible class labels are 0-15\n",
      "\u001b[34m\u001b[1mtrain: \u001b[0mWARNING ⚠️ /workspace/project/dataset/images/train/scale_45.jpg: ignoring corrupt image/label: Label class 18 exceeds dataset class count 16. Possible class labels are 0-15\n",
      "\u001b[34m\u001b[1mtrain: \u001b[0mWARNING ⚠️ /workspace/project/dataset/images/train/scale_48.jpg: ignoring corrupt image/label: Label class 18 exceeds dataset class count 16. Possible class labels are 0-15\n",
      "\u001b[34m\u001b[1mtrain: \u001b[0mWARNING ⚠️ /workspace/project/dataset/images/train/scale_49.jpg: ignoring corrupt image/label: Label class 18 exceeds dataset class count 16. Possible class labels are 0-15\n",
      "\u001b[34m\u001b[1mtrain: \u001b[0mWARNING ⚠️ /workspace/project/dataset/images/train/scale_5.jpg: ignoring corrupt image/label: Label class 18 exceeds dataset class count 16. Possible class labels are 0-15\n",
      "\u001b[34m\u001b[1mtrain: \u001b[0mWARNING ⚠️ /workspace/project/dataset/images/train/scale_7.jpg: ignoring corrupt image/label: Label class 18 exceeds dataset class count 16. Possible class labels are 0-15\n",
      "\u001b[34m\u001b[1mtrain: \u001b[0mWARNING ⚠️ /workspace/project/dataset/images/train/scale_9.jpg: ignoring corrupt image/label: Label class 18 exceeds dataset class count 16. Possible class labels are 0-15\n",
      "\u001b[34m\u001b[1mtrain: \u001b[0mWARNING ⚠️ /workspace/project/dataset/images/train/slider_0.jpg: ignoring corrupt image/label: Label class 19 exceeds dataset class count 16. Possible class labels are 0-15\n",
      "\u001b[34m\u001b[1mtrain: \u001b[0mWARNING ⚠️ /workspace/project/dataset/images/train/slider_1.jpg: ignoring corrupt image/label: Label class 19 exceeds dataset class count 16. Possible class labels are 0-15\n",
      "\u001b[34m\u001b[1mtrain: \u001b[0mWARNING ⚠️ /workspace/project/dataset/images/train/slider_11.jpg: ignoring corrupt image/label: Label class 19 exceeds dataset class count 16. Possible class labels are 0-15\n",
      "\u001b[34m\u001b[1mtrain: \u001b[0mWARNING ⚠️ /workspace/project/dataset/images/train/slider_12.jpg: ignoring corrupt image/label: Label class 19 exceeds dataset class count 16. Possible class labels are 0-15\n",
      "\u001b[34m\u001b[1mtrain: \u001b[0mWARNING ⚠️ /workspace/project/dataset/images/train/slider_13.jpg: ignoring corrupt image/label: Label class 19 exceeds dataset class count 16. Possible class labels are 0-15\n",
      "\u001b[34m\u001b[1mtrain: \u001b[0mWARNING ⚠️ /workspace/project/dataset/images/train/slider_16.jpg: ignoring corrupt image/label: Label class 19 exceeds dataset class count 16. Possible class labels are 0-15\n",
      "\u001b[34m\u001b[1mtrain: \u001b[0mWARNING ⚠️ /workspace/project/dataset/images/train/slider_17.jpg: ignoring corrupt image/label: Label class 19 exceeds dataset class count 16. Possible class labels are 0-15\n",
      "\u001b[34m\u001b[1mtrain: \u001b[0mWARNING ⚠️ /workspace/project/dataset/images/train/slider_2.jpg: ignoring corrupt image/label: Label class 19 exceeds dataset class count 16. Possible class labels are 0-15\n",
      "\u001b[34m\u001b[1mtrain: \u001b[0mWARNING ⚠️ /workspace/project/dataset/images/train/slider_20.jpg: ignoring corrupt image/label: Label class 19 exceeds dataset class count 16. Possible class labels are 0-15\n",
      "\u001b[34m\u001b[1mtrain: \u001b[0mWARNING ⚠️ /workspace/project/dataset/images/train/slider_21.jpg: ignoring corrupt image/label: Label class 19 exceeds dataset class count 16. Possible class labels are 0-15\n",
      "\u001b[34m\u001b[1mtrain: \u001b[0mWARNING ⚠️ /workspace/project/dataset/images/train/slider_22.jpg: ignoring corrupt image/label: Label class 19 exceeds dataset class count 16. Possible class labels are 0-15\n",
      "\u001b[34m\u001b[1mtrain: \u001b[0mWARNING ⚠️ /workspace/project/dataset/images/train/slider_23.jpg: ignoring corrupt image/label: Label class 19 exceeds dataset class count 16. Possible class labels are 0-15\n",
      "\u001b[34m\u001b[1mtrain: \u001b[0mWARNING ⚠️ /workspace/project/dataset/images/train/slider_24.jpg: ignoring corrupt image/label: Label class 19 exceeds dataset class count 16. Possible class labels are 0-15\n",
      "\u001b[34m\u001b[1mtrain: \u001b[0mWARNING ⚠️ /workspace/project/dataset/images/train/slider_25.jpg: ignoring corrupt image/label: Label class 19 exceeds dataset class count 16. Possible class labels are 0-15\n",
      "\u001b[34m\u001b[1mtrain: \u001b[0mWARNING ⚠️ /workspace/project/dataset/images/train/slider_26.jpg: ignoring corrupt image/label: Label class 19 exceeds dataset class count 16. Possible class labels are 0-15\n",
      "\u001b[34m\u001b[1mtrain: \u001b[0mWARNING ⚠️ /workspace/project/dataset/images/train/slider_30.jpg: ignoring corrupt image/label: Label class 19 exceeds dataset class count 16. Possible class labels are 0-15\n",
      "\u001b[34m\u001b[1mtrain: \u001b[0mWARNING ⚠️ /workspace/project/dataset/images/train/slider_31.jpg: ignoring corrupt image/label: Label class 19 exceeds dataset class count 16. Possible class labels are 0-15\n",
      "\u001b[34m\u001b[1mtrain: \u001b[0mWARNING ⚠️ /workspace/project/dataset/images/train/slider_35.jpg: ignoring corrupt image/label: Label class 19 exceeds dataset class count 16. Possible class labels are 0-15\n",
      "\u001b[34m\u001b[1mtrain: \u001b[0mWARNING ⚠️ /workspace/project/dataset/images/train/slider_36.jpg: ignoring corrupt image/label: Label class 19 exceeds dataset class count 16. Possible class labels are 0-15\n",
      "\u001b[34m\u001b[1mtrain: \u001b[0mWARNING ⚠️ /workspace/project/dataset/images/train/slider_37.jpg: ignoring corrupt image/label: Label class 19 exceeds dataset class count 16. Possible class labels are 0-15\n",
      "\u001b[34m\u001b[1mtrain: \u001b[0mWARNING ⚠️ /workspace/project/dataset/images/train/slider_38.jpg: ignoring corrupt image/label: Label class 19 exceeds dataset class count 16. Possible class labels are 0-15\n",
      "\u001b[34m\u001b[1mtrain: \u001b[0mWARNING ⚠️ /workspace/project/dataset/images/train/slider_4.jpg: ignoring corrupt image/label: Label class 19 exceeds dataset class count 16. Possible class labels are 0-15\n",
      "\u001b[34m\u001b[1mtrain: \u001b[0mWARNING ⚠️ /workspace/project/dataset/images/train/slider_40.jpg: ignoring corrupt image/label: Label class 19 exceeds dataset class count 16. Possible class labels are 0-15\n",
      "\u001b[34m\u001b[1mtrain: \u001b[0mWARNING ⚠️ /workspace/project/dataset/images/train/slider_41.jpg: ignoring corrupt image/label: Label class 19 exceeds dataset class count 16. Possible class labels are 0-15\n",
      "\u001b[34m\u001b[1mtrain: \u001b[0mWARNING ⚠️ /workspace/project/dataset/images/train/slider_43.jpg: ignoring corrupt image/label: Label class 19 exceeds dataset class count 16. Possible class labels are 0-15\n",
      "\u001b[34m\u001b[1mtrain: \u001b[0mWARNING ⚠️ /workspace/project/dataset/images/train/slider_46.jpg: ignoring corrupt image/label: Label class 19 exceeds dataset class count 16. Possible class labels are 0-15\n",
      "\u001b[34m\u001b[1mtrain: \u001b[0mWARNING ⚠️ /workspace/project/dataset/images/train/slider_48.jpg: ignoring corrupt image/label: Label class 19 exceeds dataset class count 16. Possible class labels are 0-15\n",
      "\u001b[34m\u001b[1mtrain: \u001b[0mWARNING ⚠️ /workspace/project/dataset/images/train/slider_5.jpg: ignoring corrupt image/label: Label class 19 exceeds dataset class count 16. Possible class labels are 0-15\n",
      "\u001b[34m\u001b[1mtrain: \u001b[0mWARNING ⚠️ /workspace/project/dataset/images/train/slider_6.jpg: ignoring corrupt image/label: Label class 19 exceeds dataset class count 16. Possible class labels are 0-15\n",
      "\u001b[34m\u001b[1mtrain: \u001b[0mWARNING ⚠️ /workspace/project/dataset/images/train/slider_7.jpg: ignoring corrupt image/label: Label class 19 exceeds dataset class count 16. Possible class labels are 0-15\n",
      "\u001b[34m\u001b[1mtrain: \u001b[0mWARNING ⚠️ /workspace/project/dataset/images/train/slider_8.jpg: ignoring corrupt image/label: Label class 19 exceeds dataset class count 16. Possible class labels are 0-15\n",
      "\u001b[34m\u001b[1mtrain: \u001b[0mWARNING ⚠️ /workspace/project/dataset/images/train/spinbox_0.jpg: ignoring corrupt image/label: Label class 21 exceeds dataset class count 16. Possible class labels are 0-15\n",
      "\u001b[34m\u001b[1mtrain: \u001b[0mWARNING ⚠️ /workspace/project/dataset/images/train/spinbox_1.jpg: ignoring corrupt image/label: Label class 21 exceeds dataset class count 16. Possible class labels are 0-15\n",
      "\u001b[34m\u001b[1mtrain: \u001b[0mWARNING ⚠️ /workspace/project/dataset/images/train/spinbox_10.jpg: ignoring corrupt image/label: Label class 21 exceeds dataset class count 16. Possible class labels are 0-15\n",
      "\u001b[34m\u001b[1mtrain: \u001b[0mWARNING ⚠️ /workspace/project/dataset/images/train/spinbox_11.jpg: ignoring corrupt image/label: Label class 21 exceeds dataset class count 16. Possible class labels are 0-15\n",
      "\u001b[34m\u001b[1mtrain: \u001b[0mWARNING ⚠️ /workspace/project/dataset/images/train/spinbox_12.jpg: ignoring corrupt image/label: Label class 21 exceeds dataset class count 16. Possible class labels are 0-15\n",
      "\u001b[34m\u001b[1mtrain: \u001b[0mWARNING ⚠️ /workspace/project/dataset/images/train/spinbox_13.jpg: ignoring corrupt image/label: Label class 21 exceeds dataset class count 16. Possible class labels are 0-15\n",
      "\u001b[34m\u001b[1mtrain: \u001b[0mWARNING ⚠️ /workspace/project/dataset/images/train/spinbox_15.jpg: ignoring corrupt image/label: Label class 21 exceeds dataset class count 16. Possible class labels are 0-15\n",
      "\u001b[34m\u001b[1mtrain: \u001b[0mWARNING ⚠️ /workspace/project/dataset/images/train/spinbox_16.jpg: ignoring corrupt image/label: Label class 21 exceeds dataset class count 16. Possible class labels are 0-15\n",
      "\u001b[34m\u001b[1mtrain: \u001b[0mWARNING ⚠️ /workspace/project/dataset/images/train/spinbox_18.jpg: ignoring corrupt image/label: Label class 21 exceeds dataset class count 16. Possible class labels are 0-15\n",
      "\u001b[34m\u001b[1mtrain: \u001b[0mWARNING ⚠️ /workspace/project/dataset/images/train/spinbox_20.jpg: ignoring corrupt image/label: Label class 21 exceeds dataset class count 16. Possible class labels are 0-15\n",
      "\u001b[34m\u001b[1mtrain: \u001b[0mWARNING ⚠️ /workspace/project/dataset/images/train/spinbox_21.jpg: ignoring corrupt image/label: Label class 21 exceeds dataset class count 16. Possible class labels are 0-15\n",
      "\u001b[34m\u001b[1mtrain: \u001b[0mWARNING ⚠️ /workspace/project/dataset/images/train/spinbox_23.jpg: ignoring corrupt image/label: Label class 21 exceeds dataset class count 16. Possible class labels are 0-15\n",
      "\u001b[34m\u001b[1mtrain: \u001b[0mWARNING ⚠️ /workspace/project/dataset/images/train/spinbox_24.jpg: ignoring corrupt image/label: Label class 21 exceeds dataset class count 16. Possible class labels are 0-15\n",
      "\u001b[34m\u001b[1mtrain: \u001b[0mWARNING ⚠️ /workspace/project/dataset/images/train/spinbox_27.jpg: ignoring corrupt image/label: Label class 21 exceeds dataset class count 16. Possible class labels are 0-15\n",
      "\u001b[34m\u001b[1mtrain: \u001b[0mWARNING ⚠️ /workspace/project/dataset/images/train/spinbox_28.jpg: ignoring corrupt image/label: Label class 21 exceeds dataset class count 16. Possible class labels are 0-15\n",
      "\u001b[34m\u001b[1mtrain: \u001b[0mWARNING ⚠️ /workspace/project/dataset/images/train/spinbox_3.jpg: ignoring corrupt image/label: Label class 21 exceeds dataset class count 16. Possible class labels are 0-15\n",
      "\u001b[34m\u001b[1mtrain: \u001b[0mWARNING ⚠️ /workspace/project/dataset/images/train/spinbox_30.jpg: ignoring corrupt image/label: Label class 21 exceeds dataset class count 16. Possible class labels are 0-15\n",
      "\u001b[34m\u001b[1mtrain: \u001b[0mWARNING ⚠️ /workspace/project/dataset/images/train/spinbox_31.jpg: ignoring corrupt image/label: Label class 21 exceeds dataset class count 16. Possible class labels are 0-15\n",
      "\u001b[34m\u001b[1mtrain: \u001b[0mWARNING ⚠️ /workspace/project/dataset/images/train/spinbox_32.jpg: ignoring corrupt image/label: Label class 21 exceeds dataset class count 16. Possible class labels are 0-15\n",
      "\u001b[34m\u001b[1mtrain: \u001b[0mWARNING ⚠️ /workspace/project/dataset/images/train/spinbox_34.jpg: ignoring corrupt image/label: Label class 21 exceeds dataset class count 16. Possible class labels are 0-15\n",
      "\u001b[34m\u001b[1mtrain: \u001b[0mWARNING ⚠️ /workspace/project/dataset/images/train/spinbox_35.jpg: ignoring corrupt image/label: Label class 21 exceeds dataset class count 16. Possible class labels are 0-15\n",
      "\u001b[34m\u001b[1mtrain: \u001b[0mWARNING ⚠️ /workspace/project/dataset/images/train/spinbox_37.jpg: ignoring corrupt image/label: Label class 21 exceeds dataset class count 16. Possible class labels are 0-15\n",
      "\u001b[34m\u001b[1mtrain: \u001b[0mWARNING ⚠️ /workspace/project/dataset/images/train/spinbox_38.jpg: ignoring corrupt image/label: Label class 21 exceeds dataset class count 16. Possible class labels are 0-15\n",
      "\u001b[34m\u001b[1mtrain: \u001b[0mWARNING ⚠️ /workspace/project/dataset/images/train/spinbox_39.jpg: ignoring corrupt image/label: Label class 21 exceeds dataset class count 16. Possible class labels are 0-15\n",
      "\u001b[34m\u001b[1mtrain: \u001b[0mWARNING ⚠️ /workspace/project/dataset/images/train/spinbox_4.jpg: ignoring corrupt image/label: Label class 21 exceeds dataset class count 16. Possible class labels are 0-15\n",
      "\u001b[34m\u001b[1mtrain: \u001b[0mWARNING ⚠️ /workspace/project/dataset/images/train/spinbox_40.jpg: ignoring corrupt image/label: Label class 21 exceeds dataset class count 16. Possible class labels are 0-15\n",
      "\u001b[34m\u001b[1mtrain: \u001b[0mWARNING ⚠️ /workspace/project/dataset/images/train/spinbox_41.jpg: ignoring corrupt image/label: Label class 21 exceeds dataset class count 16. Possible class labels are 0-15\n",
      "\u001b[34m\u001b[1mtrain: \u001b[0mWARNING ⚠️ /workspace/project/dataset/images/train/spinbox_44.jpg: ignoring corrupt image/label: Label class 21 exceeds dataset class count 16. Possible class labels are 0-15\n",
      "\u001b[34m\u001b[1mtrain: \u001b[0mWARNING ⚠️ /workspace/project/dataset/images/train/spinbox_45.jpg: ignoring corrupt image/label: Label class 21 exceeds dataset class count 16. Possible class labels are 0-15\n",
      "\u001b[34m\u001b[1mtrain: \u001b[0mWARNING ⚠️ /workspace/project/dataset/images/train/spinbox_47.jpg: ignoring corrupt image/label: Label class 21 exceeds dataset class count 16. Possible class labels are 0-15\n",
      "\u001b[34m\u001b[1mtrain: \u001b[0mWARNING ⚠️ /workspace/project/dataset/images/train/spinbox_48.jpg: ignoring corrupt image/label: Label class 21 exceeds dataset class count 16. Possible class labels are 0-15\n",
      "\u001b[34m\u001b[1mtrain: \u001b[0mWARNING ⚠️ /workspace/project/dataset/images/train/spinbox_49.jpg: ignoring corrupt image/label: Label class 21 exceeds dataset class count 16. Possible class labels are 0-15\n",
      "\u001b[34m\u001b[1mtrain: \u001b[0mWARNING ⚠️ /workspace/project/dataset/images/train/spinbox_5.jpg: ignoring corrupt image/label: Label class 21 exceeds dataset class count 16. Possible class labels are 0-15\n",
      "\u001b[34m\u001b[1mtrain: \u001b[0mWARNING ⚠️ /workspace/project/dataset/images/train/spinbox_6.jpg: ignoring corrupt image/label: Label class 21 exceeds dataset class count 16. Possible class labels are 0-15\n",
      "\u001b[34m\u001b[1mtrain: \u001b[0mWARNING ⚠️ /workspace/project/dataset/images/train/spinbox_7.jpg: ignoring corrupt image/label: Label class 21 exceeds dataset class count 16. Possible class labels are 0-15\n",
      "\u001b[34m\u001b[1mtrain: \u001b[0mWARNING ⚠️ /workspace/project/dataset/images/train/switch_0.jpg: ignoring corrupt image/label: Label class 23 exceeds dataset class count 16. Possible class labels are 0-15\n",
      "\u001b[34m\u001b[1mtrain: \u001b[0mWARNING ⚠️ /workspace/project/dataset/images/train/switch_10.jpg: ignoring corrupt image/label: Label class 23 exceeds dataset class count 16. Possible class labels are 0-15\n",
      "\u001b[34m\u001b[1mtrain: \u001b[0mWARNING ⚠️ /workspace/project/dataset/images/train/switch_12.jpg: ignoring corrupt image/label: Label class 23 exceeds dataset class count 16. Possible class labels are 0-15\n",
      "\u001b[34m\u001b[1mtrain: \u001b[0mWARNING ⚠️ /workspace/project/dataset/images/train/switch_13.jpg: ignoring corrupt image/label: Label class 23 exceeds dataset class count 16. Possible class labels are 0-15\n",
      "\u001b[34m\u001b[1mtrain: \u001b[0mWARNING ⚠️ /workspace/project/dataset/images/train/switch_14.jpg: ignoring corrupt image/label: Label class 23 exceeds dataset class count 16. Possible class labels are 0-15\n",
      "\u001b[34m\u001b[1mtrain: \u001b[0mWARNING ⚠️ /workspace/project/dataset/images/train/switch_15.jpg: ignoring corrupt image/label: Label class 23 exceeds dataset class count 16. Possible class labels are 0-15\n",
      "\u001b[34m\u001b[1mtrain: \u001b[0mWARNING ⚠️ /workspace/project/dataset/images/train/switch_16.jpg: ignoring corrupt image/label: Label class 23 exceeds dataset class count 16. Possible class labels are 0-15\n",
      "\u001b[34m\u001b[1mtrain: \u001b[0mWARNING ⚠️ /workspace/project/dataset/images/train/switch_17.jpg: ignoring corrupt image/label: Label class 23 exceeds dataset class count 16. Possible class labels are 0-15\n",
      "\u001b[34m\u001b[1mtrain: \u001b[0mWARNING ⚠️ /workspace/project/dataset/images/train/switch_18.jpg: ignoring corrupt image/label: Label class 23 exceeds dataset class count 16. Possible class labels are 0-15\n",
      "\u001b[34m\u001b[1mtrain: \u001b[0mWARNING ⚠️ /workspace/project/dataset/images/train/switch_19.jpg: ignoring corrupt image/label: Label class 23 exceeds dataset class count 16. Possible class labels are 0-15\n",
      "\u001b[34m\u001b[1mtrain: \u001b[0mWARNING ⚠️ /workspace/project/dataset/images/train/switch_2.jpg: ignoring corrupt image/label: Label class 23 exceeds dataset class count 16. Possible class labels are 0-15\n",
      "\u001b[34m\u001b[1mtrain: \u001b[0mWARNING ⚠️ /workspace/project/dataset/images/train/switch_22.jpg: ignoring corrupt image/label: Label class 23 exceeds dataset class count 16. Possible class labels are 0-15\n",
      "\u001b[34m\u001b[1mtrain: \u001b[0mWARNING ⚠️ /workspace/project/dataset/images/train/switch_23.jpg: ignoring corrupt image/label: Label class 23 exceeds dataset class count 16. Possible class labels are 0-15\n",
      "\u001b[34m\u001b[1mtrain: \u001b[0mWARNING ⚠️ /workspace/project/dataset/images/train/switch_24.jpg: ignoring corrupt image/label: Label class 23 exceeds dataset class count 16. Possible class labels are 0-15\n",
      "\u001b[34m\u001b[1mtrain: \u001b[0mWARNING ⚠️ /workspace/project/dataset/images/train/switch_25.jpg: ignoring corrupt image/label: Label class 23 exceeds dataset class count 16. Possible class labels are 0-15\n",
      "\u001b[34m\u001b[1mtrain: \u001b[0mWARNING ⚠️ /workspace/project/dataset/images/train/switch_26.jpg: ignoring corrupt image/label: Label class 23 exceeds dataset class count 16. Possible class labels are 0-15\n",
      "\u001b[34m\u001b[1mtrain: \u001b[0mWARNING ⚠️ /workspace/project/dataset/images/train/switch_28.jpg: ignoring corrupt image/label: Label class 23 exceeds dataset class count 16. Possible class labels are 0-15\n",
      "\u001b[34m\u001b[1mtrain: \u001b[0mWARNING ⚠️ /workspace/project/dataset/images/train/switch_30.jpg: ignoring corrupt image/label: Label class 23 exceeds dataset class count 16. Possible class labels are 0-15\n",
      "\u001b[34m\u001b[1mtrain: \u001b[0mWARNING ⚠️ /workspace/project/dataset/images/train/switch_31.jpg: ignoring corrupt image/label: Label class 23 exceeds dataset class count 16. Possible class labels are 0-15\n",
      "\u001b[34m\u001b[1mtrain: \u001b[0mWARNING ⚠️ /workspace/project/dataset/images/train/switch_33.jpg: ignoring corrupt image/label: Label class 23 exceeds dataset class count 16. Possible class labels are 0-15\n",
      "\u001b[34m\u001b[1mtrain: \u001b[0mWARNING ⚠️ /workspace/project/dataset/images/train/switch_34.jpg: ignoring corrupt image/label: Label class 23 exceeds dataset class count 16. Possible class labels are 0-15\n",
      "\u001b[34m\u001b[1mtrain: \u001b[0mWARNING ⚠️ /workspace/project/dataset/images/train/switch_36.jpg: ignoring corrupt image/label: Label class 23 exceeds dataset class count 16. Possible class labels are 0-15\n",
      "\u001b[34m\u001b[1mtrain: \u001b[0mWARNING ⚠️ /workspace/project/dataset/images/train/switch_37.jpg: ignoring corrupt image/label: Label class 23 exceeds dataset class count 16. Possible class labels are 0-15\n",
      "\u001b[34m\u001b[1mtrain: \u001b[0mWARNING ⚠️ /workspace/project/dataset/images/train/switch_38.jpg: ignoring corrupt image/label: Label class 23 exceeds dataset class count 16. Possible class labels are 0-15\n",
      "\u001b[34m\u001b[1mtrain: \u001b[0mWARNING ⚠️ /workspace/project/dataset/images/train/switch_39.jpg: ignoring corrupt image/label: Label class 23 exceeds dataset class count 16. Possible class labels are 0-15\n",
      "\u001b[34m\u001b[1mtrain: \u001b[0mWARNING ⚠️ /workspace/project/dataset/images/train/switch_4.jpg: ignoring corrupt image/label: Label class 23 exceeds dataset class count 16. Possible class labels are 0-15\n",
      "\u001b[34m\u001b[1mtrain: \u001b[0mWARNING ⚠️ /workspace/project/dataset/images/train/switch_40.jpg: ignoring corrupt image/label: Label class 23 exceeds dataset class count 16. Possible class labels are 0-15\n",
      "\u001b[34m\u001b[1mtrain: \u001b[0mWARNING ⚠️ /workspace/project/dataset/images/train/switch_41.jpg: ignoring corrupt image/label: Label class 23 exceeds dataset class count 16. Possible class labels are 0-15\n",
      "\u001b[34m\u001b[1mtrain: \u001b[0mWARNING ⚠️ /workspace/project/dataset/images/train/switch_42.jpg: ignoring corrupt image/label: Label class 23 exceeds dataset class count 16. Possible class labels are 0-15\n",
      "\u001b[34m\u001b[1mtrain: \u001b[0mWARNING ⚠️ /workspace/project/dataset/images/train/switch_43.jpg: ignoring corrupt image/label: Label class 23 exceeds dataset class count 16. Possible class labels are 0-15\n",
      "\u001b[34m\u001b[1mtrain: \u001b[0mWARNING ⚠️ /workspace/project/dataset/images/train/switch_44.jpg: ignoring corrupt image/label: Label class 23 exceeds dataset class count 16. Possible class labels are 0-15\n",
      "\u001b[34m\u001b[1mtrain: \u001b[0mWARNING ⚠️ /workspace/project/dataset/images/train/switch_45.jpg: ignoring corrupt image/label: Label class 23 exceeds dataset class count 16. Possible class labels are 0-15\n",
      "\u001b[34m\u001b[1mtrain: \u001b[0mWARNING ⚠️ /workspace/project/dataset/images/train/switch_46.jpg: ignoring corrupt image/label: Label class 23 exceeds dataset class count 16. Possible class labels are 0-15\n",
      "\u001b[34m\u001b[1mtrain: \u001b[0mWARNING ⚠️ /workspace/project/dataset/images/train/switch_47.jpg: ignoring corrupt image/label: Label class 23 exceeds dataset class count 16. Possible class labels are 0-15\n",
      "\u001b[34m\u001b[1mtrain: \u001b[0mWARNING ⚠️ /workspace/project/dataset/images/train/switch_48.jpg: ignoring corrupt image/label: Label class 23 exceeds dataset class count 16. Possible class labels are 0-15\n",
      "\u001b[34m\u001b[1mtrain: \u001b[0mWARNING ⚠️ /workspace/project/dataset/images/train/switch_49.jpg: ignoring corrupt image/label: Label class 23 exceeds dataset class count 16. Possible class labels are 0-15\n",
      "\u001b[34m\u001b[1mtrain: \u001b[0mWARNING ⚠️ /workspace/project/dataset/images/train/switch_5.jpg: ignoring corrupt image/label: Label class 23 exceeds dataset class count 16. Possible class labels are 0-15\n",
      "\u001b[34m\u001b[1mtrain: \u001b[0mWARNING ⚠️ /workspace/project/dataset/images/train/table_1.jpg: ignoring corrupt image/label: Label class 24 exceeds dataset class count 16. Possible class labels are 0-15\n",
      "\u001b[34m\u001b[1mtrain: \u001b[0mWARNING ⚠️ /workspace/project/dataset/images/train/table_10.jpg: ignoring corrupt image/label: Label class 24 exceeds dataset class count 16. Possible class labels are 0-15\n",
      "\u001b[34m\u001b[1mtrain: \u001b[0mWARNING ⚠️ /workspace/project/dataset/images/train/table_11.jpg: ignoring corrupt image/label: Label class 24 exceeds dataset class count 16. Possible class labels are 0-15\n",
      "\u001b[34m\u001b[1mtrain: \u001b[0mWARNING ⚠️ /workspace/project/dataset/images/train/table_13.jpg: ignoring corrupt image/label: Label class 24 exceeds dataset class count 16. Possible class labels are 0-15\n",
      "\u001b[34m\u001b[1mtrain: \u001b[0mWARNING ⚠️ /workspace/project/dataset/images/train/table_15.jpg: ignoring corrupt image/label: Label class 24 exceeds dataset class count 16. Possible class labels are 0-15\n",
      "\u001b[34m\u001b[1mtrain: \u001b[0mWARNING ⚠️ /workspace/project/dataset/images/train/table_16.jpg: ignoring corrupt image/label: Label class 24 exceeds dataset class count 16. Possible class labels are 0-15\n",
      "\u001b[34m\u001b[1mtrain: \u001b[0mWARNING ⚠️ /workspace/project/dataset/images/train/table_18.jpg: ignoring corrupt image/label: Label class 24 exceeds dataset class count 16. Possible class labels are 0-15\n",
      "\u001b[34m\u001b[1mtrain: \u001b[0mWARNING ⚠️ /workspace/project/dataset/images/train/table_2.jpg: ignoring corrupt image/label: Label class 24 exceeds dataset class count 16. Possible class labels are 0-15\n",
      "\u001b[34m\u001b[1mtrain: \u001b[0mWARNING ⚠️ /workspace/project/dataset/images/train/table_20.jpg: ignoring corrupt image/label: Label class 24 exceeds dataset class count 16. Possible class labels are 0-15\n",
      "\u001b[34m\u001b[1mtrain: \u001b[0mWARNING ⚠️ /workspace/project/dataset/images/train/table_21.jpg: ignoring corrupt image/label: Label class 24 exceeds dataset class count 16. Possible class labels are 0-15\n",
      "\u001b[34m\u001b[1mtrain: \u001b[0mWARNING ⚠️ /workspace/project/dataset/images/train/table_23.jpg: ignoring corrupt image/label: Label class 24 exceeds dataset class count 16. Possible class labels are 0-15\n",
      "\u001b[34m\u001b[1mtrain: \u001b[0mWARNING ⚠️ /workspace/project/dataset/images/train/table_24.jpg: ignoring corrupt image/label: Label class 24 exceeds dataset class count 16. Possible class labels are 0-15\n",
      "\u001b[34m\u001b[1mtrain: \u001b[0mWARNING ⚠️ /workspace/project/dataset/images/train/table_25.jpg: ignoring corrupt image/label: Label class 24 exceeds dataset class count 16. Possible class labels are 0-15\n",
      "\u001b[34m\u001b[1mtrain: \u001b[0mWARNING ⚠️ /workspace/project/dataset/images/train/table_26.jpg: ignoring corrupt image/label: Label class 24 exceeds dataset class count 16. Possible class labels are 0-15\n",
      "\u001b[34m\u001b[1mtrain: \u001b[0mWARNING ⚠️ /workspace/project/dataset/images/train/table_27.jpg: ignoring corrupt image/label: Label class 24 exceeds dataset class count 16. Possible class labels are 0-15\n",
      "\u001b[34m\u001b[1mtrain: \u001b[0mWARNING ⚠️ /workspace/project/dataset/images/train/table_29.jpg: ignoring corrupt image/label: Label class 24 exceeds dataset class count 16. Possible class labels are 0-15\n",
      "\u001b[34m\u001b[1mtrain: \u001b[0mWARNING ⚠️ /workspace/project/dataset/images/train/table_3.jpg: ignoring corrupt image/label: Label class 24 exceeds dataset class count 16. Possible class labels are 0-15\n",
      "\u001b[34m\u001b[1mtrain: \u001b[0mWARNING ⚠️ /workspace/project/dataset/images/train/table_30.jpg: ignoring corrupt image/label: Label class 24 exceeds dataset class count 16. Possible class labels are 0-15\n",
      "\u001b[34m\u001b[1mtrain: \u001b[0mWARNING ⚠️ /workspace/project/dataset/images/train/table_31.jpg: ignoring corrupt image/label: Label class 24 exceeds dataset class count 16. Possible class labels are 0-15\n",
      "\u001b[34m\u001b[1mtrain: \u001b[0mWARNING ⚠️ /workspace/project/dataset/images/train/table_32.jpg: ignoring corrupt image/label: Label class 24 exceeds dataset class count 16. Possible class labels are 0-15\n",
      "\u001b[34m\u001b[1mtrain: \u001b[0mWARNING ⚠️ /workspace/project/dataset/images/train/table_33.jpg: ignoring corrupt image/label: Label class 24 exceeds dataset class count 16. Possible class labels are 0-15\n",
      "\u001b[34m\u001b[1mtrain: \u001b[0mWARNING ⚠️ /workspace/project/dataset/images/train/table_34.jpg: ignoring corrupt image/label: Label class 24 exceeds dataset class count 16. Possible class labels are 0-15\n",
      "\u001b[34m\u001b[1mtrain: \u001b[0mWARNING ⚠️ /workspace/project/dataset/images/train/table_37.jpg: ignoring corrupt image/label: Label class 24 exceeds dataset class count 16. Possible class labels are 0-15\n",
      "\u001b[34m\u001b[1mtrain: \u001b[0mWARNING ⚠️ /workspace/project/dataset/images/train/table_38.jpg: ignoring corrupt image/label: Label class 24 exceeds dataset class count 16. Possible class labels are 0-15\n",
      "\u001b[34m\u001b[1mtrain: \u001b[0mWARNING ⚠️ /workspace/project/dataset/images/train/table_39.jpg: ignoring corrupt image/label: Label class 24 exceeds dataset class count 16. Possible class labels are 0-15\n",
      "\u001b[34m\u001b[1mtrain: \u001b[0mWARNING ⚠️ /workspace/project/dataset/images/train/table_4.jpg: ignoring corrupt image/label: Label class 24 exceeds dataset class count 16. Possible class labels are 0-15\n",
      "\u001b[34m\u001b[1mtrain: \u001b[0mWARNING ⚠️ /workspace/project/dataset/images/train/table_40.jpg: ignoring corrupt image/label: Label class 24 exceeds dataset class count 16. Possible class labels are 0-15\n",
      "\u001b[34m\u001b[1mtrain: \u001b[0mWARNING ⚠️ /workspace/project/dataset/images/train/table_42.jpg: ignoring corrupt image/label: Label class 24 exceeds dataset class count 16. Possible class labels are 0-15\n",
      "\u001b[34m\u001b[1mtrain: \u001b[0mWARNING ⚠️ /workspace/project/dataset/images/train/table_44.jpg: ignoring corrupt image/label: Label class 24 exceeds dataset class count 16. Possible class labels are 0-15\n",
      "\u001b[34m\u001b[1mtrain: \u001b[0mWARNING ⚠️ /workspace/project/dataset/images/train/table_46.jpg: ignoring corrupt image/label: Label class 24 exceeds dataset class count 16. Possible class labels are 0-15\n",
      "\u001b[34m\u001b[1mtrain: \u001b[0mWARNING ⚠️ /workspace/project/dataset/images/train/table_47.jpg: ignoring corrupt image/label: Label class 24 exceeds dataset class count 16. Possible class labels are 0-15\n",
      "\u001b[34m\u001b[1mtrain: \u001b[0mWARNING ⚠️ /workspace/project/dataset/images/train/table_48.jpg: ignoring corrupt image/label: Label class 24 exceeds dataset class count 16. Possible class labels are 0-15\n",
      "\u001b[34m\u001b[1mtrain: \u001b[0mWARNING ⚠️ /workspace/project/dataset/images/train/table_49.jpg: ignoring corrupt image/label: Label class 24 exceeds dataset class count 16. Possible class labels are 0-15\n",
      "\u001b[34m\u001b[1mtrain: \u001b[0mWARNING ⚠️ /workspace/project/dataset/images/train/table_5.jpg: ignoring corrupt image/label: Label class 24 exceeds dataset class count 16. Possible class labels are 0-15\n",
      "\u001b[34m\u001b[1mtrain: \u001b[0mWARNING ⚠️ /workspace/project/dataset/images/train/table_6.jpg: ignoring corrupt image/label: Label class 24 exceeds dataset class count 16. Possible class labels are 0-15\n",
      "\u001b[34m\u001b[1mtrain: \u001b[0mWARNING ⚠️ /workspace/project/dataset/images/train/table_7.jpg: ignoring corrupt image/label: Label class 24 exceeds dataset class count 16. Possible class labels are 0-15\n",
      "\u001b[34m\u001b[1mtrain: \u001b[0mWARNING ⚠️ /workspace/project/dataset/images/train/table_9.jpg: ignoring corrupt image/label: Label class 24 exceeds dataset class count 16. Possible class labels are 0-15\n",
      "\u001b[34m\u001b[1mtrain: \u001b[0mWARNING ⚠️ /workspace/project/dataset/images/train/textarea_1.jpg: ignoring corrupt image/label: Label class 26 exceeds dataset class count 16. Possible class labels are 0-15\n",
      "\u001b[34m\u001b[1mtrain: \u001b[0mWARNING ⚠️ /workspace/project/dataset/images/train/textarea_10.jpg: ignoring corrupt image/label: Label class 26 exceeds dataset class count 16. Possible class labels are 0-15\n",
      "\u001b[34m\u001b[1mtrain: \u001b[0mWARNING ⚠️ /workspace/project/dataset/images/train/textarea_12.jpg: ignoring corrupt image/label: Label class 26 exceeds dataset class count 16. Possible class labels are 0-15\n",
      "\u001b[34m\u001b[1mtrain: \u001b[0mWARNING ⚠️ /workspace/project/dataset/images/train/textarea_14.jpg: ignoring corrupt image/label: Label class 26 exceeds dataset class count 16. Possible class labels are 0-15\n",
      "\u001b[34m\u001b[1mtrain: \u001b[0mWARNING ⚠️ /workspace/project/dataset/images/train/textarea_16.jpg: ignoring corrupt image/label: Label class 26 exceeds dataset class count 16. Possible class labels are 0-15\n",
      "\u001b[34m\u001b[1mtrain: \u001b[0mWARNING ⚠️ /workspace/project/dataset/images/train/textarea_17.jpg: ignoring corrupt image/label: Label class 26 exceeds dataset class count 16. Possible class labels are 0-15\n",
      "\u001b[34m\u001b[1mtrain: \u001b[0mWARNING ⚠️ /workspace/project/dataset/images/train/textarea_2.jpg: ignoring corrupt image/label: Label class 26 exceeds dataset class count 16. Possible class labels are 0-15\n",
      "\u001b[34m\u001b[1mtrain: \u001b[0mWARNING ⚠️ /workspace/project/dataset/images/train/textarea_20.jpg: ignoring corrupt image/label: Label class 26 exceeds dataset class count 16. Possible class labels are 0-15\n",
      "\u001b[34m\u001b[1mtrain: \u001b[0mWARNING ⚠️ /workspace/project/dataset/images/train/textarea_21.jpg: ignoring corrupt image/label: Label class 26 exceeds dataset class count 16. Possible class labels are 0-15\n",
      "\u001b[34m\u001b[1mtrain: \u001b[0mWARNING ⚠️ /workspace/project/dataset/images/train/textarea_25.jpg: ignoring corrupt image/label: Label class 26 exceeds dataset class count 16. Possible class labels are 0-15\n",
      "\u001b[34m\u001b[1mtrain: \u001b[0mWARNING ⚠️ /workspace/project/dataset/images/train/textarea_27.jpg: ignoring corrupt image/label: Label class 26 exceeds dataset class count 16. Possible class labels are 0-15\n",
      "\u001b[34m\u001b[1mtrain: \u001b[0mWARNING ⚠️ /workspace/project/dataset/images/train/textarea_29.jpg: ignoring corrupt image/label: Label class 26 exceeds dataset class count 16. Possible class labels are 0-15\n",
      "\u001b[34m\u001b[1mtrain: \u001b[0mWARNING ⚠️ /workspace/project/dataset/images/train/textarea_3.jpg: ignoring corrupt image/label: Label class 26 exceeds dataset class count 16. Possible class labels are 0-15\n",
      "\u001b[34m\u001b[1mtrain: \u001b[0mWARNING ⚠️ /workspace/project/dataset/images/train/textarea_31.jpg: ignoring corrupt image/label: Label class 26 exceeds dataset class count 16. Possible class labels are 0-15\n",
      "\u001b[34m\u001b[1mtrain: \u001b[0mWARNING ⚠️ /workspace/project/dataset/images/train/textarea_32.jpg: ignoring corrupt image/label: Label class 26 exceeds dataset class count 16. Possible class labels are 0-15\n",
      "\u001b[34m\u001b[1mtrain: \u001b[0mWARNING ⚠️ /workspace/project/dataset/images/train/textarea_35.jpg: ignoring corrupt image/label: Label class 26 exceeds dataset class count 16. Possible class labels are 0-15\n",
      "\u001b[34m\u001b[1mtrain: \u001b[0mWARNING ⚠️ /workspace/project/dataset/images/train/textarea_36.jpg: ignoring corrupt image/label: Label class 26 exceeds dataset class count 16. Possible class labels are 0-15\n",
      "\u001b[34m\u001b[1mtrain: \u001b[0mWARNING ⚠️ /workspace/project/dataset/images/train/textarea_37.jpg: ignoring corrupt image/label: Label class 26 exceeds dataset class count 16. Possible class labels are 0-15\n",
      "\u001b[34m\u001b[1mtrain: \u001b[0mWARNING ⚠️ /workspace/project/dataset/images/train/textarea_41.jpg: ignoring corrupt image/label: Label class 26 exceeds dataset class count 16. Possible class labels are 0-15\n",
      "\u001b[34m\u001b[1mtrain: \u001b[0mWARNING ⚠️ /workspace/project/dataset/images/train/textarea_42.jpg: ignoring corrupt image/label: Label class 26 exceeds dataset class count 16. Possible class labels are 0-15\n",
      "\u001b[34m\u001b[1mtrain: \u001b[0mWARNING ⚠️ /workspace/project/dataset/images/train/textarea_46.jpg: ignoring corrupt image/label: Label class 26 exceeds dataset class count 16. Possible class labels are 0-15\n",
      "\u001b[34m\u001b[1mtrain: \u001b[0mWARNING ⚠️ /workspace/project/dataset/images/train/textarea_47.jpg: ignoring corrupt image/label: Label class 26 exceeds dataset class count 16. Possible class labels are 0-15\n",
      "\u001b[34m\u001b[1mtrain: \u001b[0mWARNING ⚠️ /workspace/project/dataset/images/train/textarea_48.jpg: ignoring corrupt image/label: Label class 26 exceeds dataset class count 16. Possible class labels are 0-15\n",
      "\u001b[34m\u001b[1mtrain: \u001b[0mWARNING ⚠️ /workspace/project/dataset/images/train/textarea_5.jpg: ignoring corrupt image/label: Label class 26 exceeds dataset class count 16. Possible class labels are 0-15\n",
      "\u001b[34m\u001b[1mtrain: \u001b[0mNew cache created: /workspace/project/dataset/labels/train.cache\n"
     ]
    },
    {
     "name": "stderr",
     "output_type": "stream",
     "text": [
      "\n"
     ]
    },
    {
     "name": "stdout",
     "output_type": "stream",
     "text": [
      "\u001b[34m\u001b[1malbumentations: \u001b[0mBlur(p=0.01, blur_limit=(3, 7)), MedianBlur(p=0.01, blur_limit=(3, 7)), ToGray(p=0.01), CLAHE(p=0.01, clip_limit=(1, 4.0), tile_grid_size=(8, 8))\n"
     ]
    },
    {
     "name": "stderr",
     "output_type": "stream",
     "text": [
      "\u001b[34m\u001b[1mval: \u001b[0mScanning /workspace/project/dataset/labels/val... 76 images, 0 backgrounds, 38 corrupt: 100%|██████████| 76/76 [00:00<00:00, 1569.06it/s]"
     ]
    },
    {
     "name": "stdout",
     "output_type": "stream",
     "text": [
      "\u001b[34m\u001b[1mval: \u001b[0mWARNING ⚠️ /workspace/project/dataset/images/val/roller_11.jpg: ignoring corrupt image/label: Label class 17 exceeds dataset class count 16. Possible class labels are 0-15\n",
      "\u001b[34m\u001b[1mval: \u001b[0mWARNING ⚠️ /workspace/project/dataset/images/val/roller_12.jpg: ignoring corrupt image/label: Label class 17 exceeds dataset class count 16. Possible class labels are 0-15\n",
      "\u001b[34m\u001b[1mval: \u001b[0mWARNING ⚠️ /workspace/project/dataset/images/val/roller_24.jpg: ignoring corrupt image/label: Label class 17 exceeds dataset class count 16. Possible class labels are 0-15\n",
      "\u001b[34m\u001b[1mval: \u001b[0mWARNING ⚠️ /workspace/project/dataset/images/val/roller_35.jpg: ignoring corrupt image/label: Label class 17 exceeds dataset class count 16. Possible class labels are 0-15\n",
      "\u001b[34m\u001b[1mval: \u001b[0mWARNING ⚠️ /workspace/project/dataset/images/val/roller_40.jpg: ignoring corrupt image/label: Label class 17 exceeds dataset class count 16. Possible class labels are 0-15\n",
      "\u001b[34m\u001b[1mval: \u001b[0mWARNING ⚠️ /workspace/project/dataset/images/val/roller_47.jpg: ignoring corrupt image/label: Label class 17 exceeds dataset class count 16. Possible class labels are 0-15\n",
      "\u001b[34m\u001b[1mval: \u001b[0mWARNING ⚠️ /workspace/project/dataset/images/val/scale_18.jpg: ignoring corrupt image/label: Label class 18 exceeds dataset class count 16. Possible class labels are 0-15\n",
      "\u001b[34m\u001b[1mval: \u001b[0mWARNING ⚠️ /workspace/project/dataset/images/val/scale_19.jpg: ignoring corrupt image/label: Label class 18 exceeds dataset class count 16. Possible class labels are 0-15\n",
      "\u001b[34m\u001b[1mval: \u001b[0mWARNING ⚠️ /workspace/project/dataset/images/val/scale_26.jpg: ignoring corrupt image/label: Label class 18 exceeds dataset class count 16. Possible class labels are 0-15\n",
      "\u001b[34m\u001b[1mval: \u001b[0mWARNING ⚠️ /workspace/project/dataset/images/val/scale_31.jpg: ignoring corrupt image/label: Label class 18 exceeds dataset class count 16. Possible class labels are 0-15\n",
      "\u001b[34m\u001b[1mval: \u001b[0mWARNING ⚠️ /workspace/project/dataset/images/val/scale_8.jpg: ignoring corrupt image/label: Label class 18 exceeds dataset class count 16. Possible class labels are 0-15\n",
      "\u001b[34m\u001b[1mval: \u001b[0mWARNING ⚠️ /workspace/project/dataset/images/val/slider_14.jpg: ignoring corrupt image/label: Label class 19 exceeds dataset class count 16. Possible class labels are 0-15\n",
      "\u001b[34m\u001b[1mval: \u001b[0mWARNING ⚠️ /workspace/project/dataset/images/val/slider_19.jpg: ignoring corrupt image/label: Label class 19 exceeds dataset class count 16. Possible class labels are 0-15\n",
      "\u001b[34m\u001b[1mval: \u001b[0mWARNING ⚠️ /workspace/project/dataset/images/val/slider_27.jpg: ignoring corrupt image/label: Label class 19 exceeds dataset class count 16. Possible class labels are 0-15\n",
      "\u001b[34m\u001b[1mval: \u001b[0mWARNING ⚠️ /workspace/project/dataset/images/val/slider_3.jpg: ignoring corrupt image/label: Label class 19 exceeds dataset class count 16. Possible class labels are 0-15\n",
      "\u001b[34m\u001b[1mval: \u001b[0mWARNING ⚠️ /workspace/project/dataset/images/val/slider_34.jpg: ignoring corrupt image/label: Label class 19 exceeds dataset class count 16. Possible class labels are 0-15\n",
      "\u001b[34m\u001b[1mval: \u001b[0mWARNING ⚠️ /workspace/project/dataset/images/val/slider_39.jpg: ignoring corrupt image/label: Label class 19 exceeds dataset class count 16. Possible class labels are 0-15\n",
      "\u001b[34m\u001b[1mval: \u001b[0mWARNING ⚠️ /workspace/project/dataset/images/val/slider_42.jpg: ignoring corrupt image/label: Label class 19 exceeds dataset class count 16. Possible class labels are 0-15\n",
      "\u001b[34m\u001b[1mval: \u001b[0mWARNING ⚠️ /workspace/project/dataset/images/val/spinbox_14.jpg: ignoring corrupt image/label: Label class 21 exceeds dataset class count 16. Possible class labels are 0-15\n",
      "\u001b[34m\u001b[1mval: \u001b[0mWARNING ⚠️ /workspace/project/dataset/images/val/spinbox_17.jpg: ignoring corrupt image/label: Label class 21 exceeds dataset class count 16. Possible class labels are 0-15\n",
      "\u001b[34m\u001b[1mval: \u001b[0mWARNING ⚠️ /workspace/project/dataset/images/val/spinbox_19.jpg: ignoring corrupt image/label: Label class 21 exceeds dataset class count 16. Possible class labels are 0-15\n",
      "\u001b[34m\u001b[1mval: \u001b[0mWARNING ⚠️ /workspace/project/dataset/images/val/spinbox_33.jpg: ignoring corrupt image/label: Label class 21 exceeds dataset class count 16. Possible class labels are 0-15\n",
      "\u001b[34m\u001b[1mval: \u001b[0mWARNING ⚠️ /workspace/project/dataset/images/val/spinbox_36.jpg: ignoring corrupt image/label: Label class 21 exceeds dataset class count 16. Possible class labels are 0-15\n",
      "\u001b[34m\u001b[1mval: \u001b[0mWARNING ⚠️ /workspace/project/dataset/images/val/switch_1.jpg: ignoring corrupt image/label: Label class 23 exceeds dataset class count 16. Possible class labels are 0-15\n",
      "\u001b[34m\u001b[1mval: \u001b[0mWARNING ⚠️ /workspace/project/dataset/images/val/switch_29.jpg: ignoring corrupt image/label: Label class 23 exceeds dataset class count 16. Possible class labels are 0-15\n",
      "\u001b[34m\u001b[1mval: \u001b[0mWARNING ⚠️ /workspace/project/dataset/images/val/switch_3.jpg: ignoring corrupt image/label: Label class 23 exceeds dataset class count 16. Possible class labels are 0-15\n",
      "\u001b[34m\u001b[1mval: \u001b[0mWARNING ⚠️ /workspace/project/dataset/images/val/switch_32.jpg: ignoring corrupt image/label: Label class 23 exceeds dataset class count 16. Possible class labels are 0-15\n",
      "\u001b[34m\u001b[1mval: \u001b[0mWARNING ⚠️ /workspace/project/dataset/images/val/switch_6.jpg: ignoring corrupt image/label: Label class 23 exceeds dataset class count 16. Possible class labels are 0-15\n",
      "\u001b[34m\u001b[1mval: \u001b[0mWARNING ⚠️ /workspace/project/dataset/images/val/switch_9.jpg: ignoring corrupt image/label: Label class 23 exceeds dataset class count 16. Possible class labels are 0-15\n",
      "\u001b[34m\u001b[1mval: \u001b[0mWARNING ⚠️ /workspace/project/dataset/images/val/table_14.jpg: ignoring corrupt image/label: Label class 24 exceeds dataset class count 16. Possible class labels are 0-15\n",
      "\u001b[34m\u001b[1mval: \u001b[0mWARNING ⚠️ /workspace/project/dataset/images/val/table_19.jpg: ignoring corrupt image/label: Label class 24 exceeds dataset class count 16. Possible class labels are 0-15\n",
      "\u001b[34m\u001b[1mval: \u001b[0mWARNING ⚠️ /workspace/project/dataset/images/val/table_22.jpg: ignoring corrupt image/label: Label class 24 exceeds dataset class count 16. Possible class labels are 0-15\n",
      "\u001b[34m\u001b[1mval: \u001b[0mWARNING ⚠️ /workspace/project/dataset/images/val/table_28.jpg: ignoring corrupt image/label: Label class 24 exceeds dataset class count 16. Possible class labels are 0-15\n",
      "\u001b[34m\u001b[1mval: \u001b[0mWARNING ⚠️ /workspace/project/dataset/images/val/table_41.jpg: ignoring corrupt image/label: Label class 24 exceeds dataset class count 16. Possible class labels are 0-15\n",
      "\u001b[34m\u001b[1mval: \u001b[0mWARNING ⚠️ /workspace/project/dataset/images/val/textarea_19.jpg: ignoring corrupt image/label: Label class 26 exceeds dataset class count 16. Possible class labels are 0-15\n",
      "\u001b[34m\u001b[1mval: \u001b[0mWARNING ⚠️ /workspace/project/dataset/images/val/textarea_26.jpg: ignoring corrupt image/label: Label class 26 exceeds dataset class count 16. Possible class labels are 0-15\n",
      "\u001b[34m\u001b[1mval: \u001b[0mWARNING ⚠️ /workspace/project/dataset/images/val/textarea_4.jpg: ignoring corrupt image/label: Label class 26 exceeds dataset class count 16. Possible class labels are 0-15\n",
      "\u001b[34m\u001b[1mval: \u001b[0mWARNING ⚠️ /workspace/project/dataset/images/val/textarea_6.jpg: ignoring corrupt image/label: Label class 26 exceeds dataset class count 16. Possible class labels are 0-15\n",
      "\u001b[34m\u001b[1mval: \u001b[0mNew cache created: /workspace/project/dataset/labels/val.cache\n"
     ]
    },
    {
     "name": "stderr",
     "output_type": "stream",
     "text": [
      "\n"
     ]
    },
    {
     "name": "stdout",
     "output_type": "stream",
     "text": [
      "Plotting labels to /usr/src/ultralytics/runs/detect/train13/labels.jpg... \n",
      "\u001b[34m\u001b[1moptimizer:\u001b[0m 'optimizer=auto' found, ignoring 'lr0=0.01' and 'momentum=0.937' and determining best 'optimizer', 'lr0' and 'momentum' automatically... \n",
      "\u001b[34m\u001b[1moptimizer:\u001b[0m AdamW(lr=0.0005, momentum=0.9) with parameter groups 57 weight(decay=0.0), 64 weight(decay=0.0005), 63 bias(decay=0.0)\n",
      "\u001b[34m\u001b[1mTensorBoard: \u001b[0mmodel graph visualization added ✅\n",
      "Image sizes 480 train, 480 val\n",
      "Using 4 dataloader workers\n",
      "Logging results to \u001b[1m/usr/src/ultralytics/runs/detect/train13\u001b[0m\n",
      "Starting training for 100 epochs...\n",
      "\n",
      "      Epoch    GPU_mem   box_loss   cls_loss   dfl_loss  Instances       Size\n"
     ]
    },
    {
     "name": "stderr",
     "output_type": "stream",
     "text": [
      "      1/100      1.47G      3.717      5.652      2.959          2        480: 100%|██████████| 20/20 [00:14<00:00,  1.43it/s]\n",
      "                 Class     Images  Instances      Box(P          R      mAP50  mAP50-95): 100%|██████████| 2/2 [00:00<00:00,  2.60it/s]"
     ]
    },
    {
     "name": "stdout",
     "output_type": "stream",
     "text": [
      "                   all         38         75          0          0          0          0\n"
     ]
    },
    {
     "name": "stderr",
     "output_type": "stream",
     "text": [
      "\n"
     ]
    },
    {
     "name": "stdout",
     "output_type": "stream",
     "text": [
      "\n",
      "      Epoch    GPU_mem   box_loss   cls_loss   dfl_loss  Instances       Size\n"
     ]
    },
    {
     "name": "stderr",
     "output_type": "stream",
     "text": [
      "      2/100      1.49G      3.419      5.389      2.679          4        480: 100%|██████████| 20/20 [00:04<00:00,  4.18it/s]\n",
      "                 Class     Images  Instances      Box(P          R      mAP50  mAP50-95): 100%|██████████| 2/2 [00:00<00:00,  3.44it/s]"
     ]
    },
    {
     "name": "stdout",
     "output_type": "stream",
     "text": [
      "                   all         38         75    0.00146     0.0952     0.0257    0.00775\n"
     ]
    },
    {
     "name": "stderr",
     "output_type": "stream",
     "text": [
      "\n"
     ]
    },
    {
     "name": "stdout",
     "output_type": "stream",
     "text": [
      "\n",
      "      Epoch    GPU_mem   box_loss   cls_loss   dfl_loss  Instances       Size\n"
     ]
    },
    {
     "name": "stderr",
     "output_type": "stream",
     "text": [
      "      3/100       1.5G      2.966      4.916      2.307          6        480: 100%|██████████| 20/20 [00:04<00:00,  4.40it/s]\n",
      "                 Class     Images  Instances      Box(P          R      mAP50  mAP50-95): 100%|██████████| 2/2 [00:00<00:00,  4.75it/s]"
     ]
    },
    {
     "name": "stdout",
     "output_type": "stream",
     "text": [
      "                   all         38         75   0.000942      0.222    0.00766    0.00321\n"
     ]
    },
    {
     "name": "stderr",
     "output_type": "stream",
     "text": [
      "\n"
     ]
    },
    {
     "name": "stdout",
     "output_type": "stream",
     "text": [
      "\n",
      "      Epoch    GPU_mem   box_loss   cls_loss   dfl_loss  Instances       Size\n"
     ]
    },
    {
     "name": "stderr",
     "output_type": "stream",
     "text": [
      "      4/100       1.5G      2.714      4.241      2.118          3        480: 100%|██████████| 20/20 [00:04<00:00,  4.73it/s]\n",
      "                 Class     Images  Instances      Box(P          R      mAP50  mAP50-95): 100%|██████████| 2/2 [00:00<00:00,  5.00it/s]"
     ]
    },
    {
     "name": "stdout",
     "output_type": "stream",
     "text": [
      "                   all         38         75    0.00307      0.333     0.0986      0.067\n"
     ]
    },
    {
     "name": "stderr",
     "output_type": "stream",
     "text": [
      "\n"
     ]
    },
    {
     "name": "stdout",
     "output_type": "stream",
     "text": [
      "\n",
      "      Epoch    GPU_mem   box_loss   cls_loss   dfl_loss  Instances       Size\n"
     ]
    },
    {
     "name": "stderr",
     "output_type": "stream",
     "text": [
      "      5/100       1.5G      2.511      3.787      2.031          4        480: 100%|██████████| 20/20 [00:04<00:00,  4.51it/s]\n",
      "                 Class     Images  Instances      Box(P          R      mAP50  mAP50-95): 100%|██████████| 2/2 [00:00<00:00,  4.25it/s]"
     ]
    },
    {
     "name": "stdout",
     "output_type": "stream",
     "text": [
      "                   all         38         75      0.578      0.127      0.171     0.0626\n"
     ]
    },
    {
     "name": "stderr",
     "output_type": "stream",
     "text": [
      "\n"
     ]
    },
    {
     "name": "stdout",
     "output_type": "stream",
     "text": [
      "\n",
      "      Epoch    GPU_mem   box_loss   cls_loss   dfl_loss  Instances       Size\n"
     ]
    },
    {
     "name": "stderr",
     "output_type": "stream",
     "text": [
      "      6/100       1.5G      2.404      3.575      1.963          1        480: 100%|██████████| 20/20 [00:04<00:00,  4.60it/s]\n",
      "                 Class     Images  Instances      Box(P          R      mAP50  mAP50-95): 100%|██████████| 2/2 [00:00<00:00,  4.58it/s]"
     ]
    },
    {
     "name": "stdout",
     "output_type": "stream",
     "text": [
      "                   all         38         75      0.286        0.2        0.2     0.0747\n"
     ]
    },
    {
     "name": "stderr",
     "output_type": "stream",
     "text": [
      "\n"
     ]
    },
    {
     "name": "stdout",
     "output_type": "stream",
     "text": [
      "\n",
      "      Epoch    GPU_mem   box_loss   cls_loss   dfl_loss  Instances       Size\n"
     ]
    },
    {
     "name": "stderr",
     "output_type": "stream",
     "text": [
      "      7/100       1.5G      2.377      3.319      1.873          6        480: 100%|██████████| 20/20 [00:04<00:00,  4.88it/s]\n",
      "                 Class     Images  Instances      Box(P          R      mAP50  mAP50-95): 100%|██████████| 2/2 [00:00<00:00,  4.07it/s]"
     ]
    },
    {
     "name": "stdout",
     "output_type": "stream",
     "text": [
      "                   all         38         75      0.433      0.307      0.228      0.109\n"
     ]
    },
    {
     "name": "stderr",
     "output_type": "stream",
     "text": [
      "\n"
     ]
    },
    {
     "name": "stdout",
     "output_type": "stream",
     "text": [
      "\n",
      "      Epoch    GPU_mem   box_loss   cls_loss   dfl_loss  Instances       Size\n"
     ]
    },
    {
     "name": "stderr",
     "output_type": "stream",
     "text": [
      "      8/100       1.5G      2.224      3.059      1.832          5        480: 100%|██████████| 20/20 [00:04<00:00,  4.58it/s]\n",
      "                 Class     Images  Instances      Box(P          R      mAP50  mAP50-95): 100%|██████████| 2/2 [00:00<00:00,  4.88it/s]"
     ]
    },
    {
     "name": "stdout",
     "output_type": "stream",
     "text": [
      "                   all         38         75       0.31      0.514      0.299      0.175\n"
     ]
    },
    {
     "name": "stderr",
     "output_type": "stream",
     "text": [
      "\n"
     ]
    },
    {
     "name": "stdout",
     "output_type": "stream",
     "text": [
      "\n",
      "      Epoch    GPU_mem   box_loss   cls_loss   dfl_loss  Instances       Size\n"
     ]
    },
    {
     "name": "stderr",
     "output_type": "stream",
     "text": [
      "      9/100       1.5G      2.114      2.983      1.767          5        480: 100%|██████████| 20/20 [00:04<00:00,  4.44it/s]\n",
      "                 Class     Images  Instances      Box(P          R      mAP50  mAP50-95): 100%|██████████| 2/2 [00:00<00:00,  3.49it/s]"
     ]
    },
    {
     "name": "stdout",
     "output_type": "stream",
     "text": [
      "                   all         38         75      0.505      0.353      0.408      0.174\n"
     ]
    },
    {
     "name": "stderr",
     "output_type": "stream",
     "text": [
      "\n"
     ]
    },
    {
     "name": "stdout",
     "output_type": "stream",
     "text": [
      "\n",
      "      Epoch    GPU_mem   box_loss   cls_loss   dfl_loss  Instances       Size\n"
     ]
    },
    {
     "name": "stderr",
     "output_type": "stream",
     "text": [
      "     10/100       1.5G      2.146      2.902      1.751          7        480: 100%|██████████| 20/20 [00:04<00:00,  4.25it/s]\n",
      "                 Class     Images  Instances      Box(P          R      mAP50  mAP50-95): 100%|██████████| 2/2 [00:00<00:00,  4.85it/s]"
     ]
    },
    {
     "name": "stdout",
     "output_type": "stream",
     "text": [
      "                   all         38         75      0.492      0.516      0.438      0.208\n"
     ]
    },
    {
     "name": "stderr",
     "output_type": "stream",
     "text": [
      "\n"
     ]
    },
    {
     "name": "stdout",
     "output_type": "stream",
     "text": [
      "\n",
      "      Epoch    GPU_mem   box_loss   cls_loss   dfl_loss  Instances       Size\n"
     ]
    },
    {
     "name": "stderr",
     "output_type": "stream",
     "text": [
      "     11/100       1.5G      1.984       2.75      1.667          3        480: 100%|██████████| 20/20 [00:04<00:00,  4.23it/s]\n",
      "                 Class     Images  Instances      Box(P          R      mAP50  mAP50-95): 100%|██████████| 2/2 [00:00<00:00,  3.80it/s]"
     ]
    },
    {
     "name": "stdout",
     "output_type": "stream",
     "text": [
      "                   all         38         75      0.436      0.488      0.453       0.22\n"
     ]
    },
    {
     "name": "stderr",
     "output_type": "stream",
     "text": [
      "\n"
     ]
    },
    {
     "name": "stdout",
     "output_type": "stream",
     "text": [
      "\n",
      "      Epoch    GPU_mem   box_loss   cls_loss   dfl_loss  Instances       Size\n"
     ]
    },
    {
     "name": "stderr",
     "output_type": "stream",
     "text": [
      "     12/100       1.5G      1.814      2.657      1.623          2        480: 100%|██████████| 20/20 [00:04<00:00,  4.61it/s]\n",
      "                 Class     Images  Instances      Box(P          R      mAP50  mAP50-95): 100%|██████████| 2/2 [00:00<00:00,  4.49it/s]"
     ]
    },
    {
     "name": "stdout",
     "output_type": "stream",
     "text": [
      "                   all         38         75      0.371      0.583      0.397      0.252\n"
     ]
    },
    {
     "name": "stderr",
     "output_type": "stream",
     "text": [
      "\n"
     ]
    },
    {
     "name": "stdout",
     "output_type": "stream",
     "text": [
      "\n",
      "      Epoch    GPU_mem   box_loss   cls_loss   dfl_loss  Instances       Size\n"
     ]
    },
    {
     "name": "stderr",
     "output_type": "stream",
     "text": [
      "     13/100       1.5G       1.93      2.653      1.662          1        480: 100%|██████████| 20/20 [00:04<00:00,  4.67it/s]\n",
      "                 Class     Images  Instances      Box(P          R      mAP50  mAP50-95): 100%|██████████| 2/2 [00:00<00:00,  4.23it/s]"
     ]
    },
    {
     "name": "stdout",
     "output_type": "stream",
     "text": [
      "                   all         38         75      0.446      0.566      0.559       0.28\n"
     ]
    },
    {
     "name": "stderr",
     "output_type": "stream",
     "text": [
      "\n"
     ]
    },
    {
     "name": "stdout",
     "output_type": "stream",
     "text": [
      "\n",
      "      Epoch    GPU_mem   box_loss   cls_loss   dfl_loss  Instances       Size\n"
     ]
    },
    {
     "name": "stderr",
     "output_type": "stream",
     "text": [
      "     14/100       1.5G      1.965      2.636      1.693          1        480: 100%|██████████| 20/20 [00:04<00:00,  4.40it/s]\n",
      "                 Class     Images  Instances      Box(P          R      mAP50  mAP50-95): 100%|██████████| 2/2 [00:00<00:00,  3.45it/s]"
     ]
    },
    {
     "name": "stdout",
     "output_type": "stream",
     "text": [
      "                   all         38         75      0.511      0.472      0.424       0.24\n"
     ]
    },
    {
     "name": "stderr",
     "output_type": "stream",
     "text": [
      "\n"
     ]
    },
    {
     "name": "stdout",
     "output_type": "stream",
     "text": [
      "\n",
      "      Epoch    GPU_mem   box_loss   cls_loss   dfl_loss  Instances       Size\n"
     ]
    },
    {
     "name": "stderr",
     "output_type": "stream",
     "text": [
      "     15/100       1.5G      1.766      2.406      1.577          4        480: 100%|██████████| 20/20 [00:04<00:00,  4.17it/s]\n",
      "                 Class     Images  Instances      Box(P          R      mAP50  mAP50-95): 100%|██████████| 2/2 [00:00<00:00,  4.27it/s]"
     ]
    },
    {
     "name": "stdout",
     "output_type": "stream",
     "text": [
      "                   all         38         75      0.301      0.655       0.53      0.297\n"
     ]
    },
    {
     "name": "stderr",
     "output_type": "stream",
     "text": [
      "\n"
     ]
    },
    {
     "name": "stdout",
     "output_type": "stream",
     "text": [
      "\n",
      "      Epoch    GPU_mem   box_loss   cls_loss   dfl_loss  Instances       Size\n"
     ]
    },
    {
     "name": "stderr",
     "output_type": "stream",
     "text": [
      "     16/100       1.5G      1.826       2.46      1.589          2        480: 100%|██████████| 20/20 [00:04<00:00,  4.20it/s]\n",
      "                 Class     Images  Instances      Box(P          R      mAP50  mAP50-95): 100%|██████████| 2/2 [00:00<00:00,  4.35it/s]"
     ]
    },
    {
     "name": "stdout",
     "output_type": "stream",
     "text": [
      "                   all         38         75      0.243      0.493      0.391       0.21\n"
     ]
    },
    {
     "name": "stderr",
     "output_type": "stream",
     "text": [
      "\n"
     ]
    },
    {
     "name": "stdout",
     "output_type": "stream",
     "text": [
      "\n",
      "      Epoch    GPU_mem   box_loss   cls_loss   dfl_loss  Instances       Size\n"
     ]
    },
    {
     "name": "stderr",
     "output_type": "stream",
     "text": [
      "     17/100       1.5G       1.85       2.45      1.563          4        480: 100%|██████████| 20/20 [00:04<00:00,  4.54it/s]\n",
      "                 Class     Images  Instances      Box(P          R      mAP50  mAP50-95): 100%|██████████| 2/2 [00:00<00:00,  4.15it/s]"
     ]
    },
    {
     "name": "stdout",
     "output_type": "stream",
     "text": [
      "                   all         38         75        0.5      0.547      0.583      0.337\n"
     ]
    },
    {
     "name": "stderr",
     "output_type": "stream",
     "text": [
      "\n"
     ]
    },
    {
     "name": "stdout",
     "output_type": "stream",
     "text": [
      "\n",
      "      Epoch    GPU_mem   box_loss   cls_loss   dfl_loss  Instances       Size\n"
     ]
    },
    {
     "name": "stderr",
     "output_type": "stream",
     "text": [
      "     18/100       1.5G      1.791      2.469      1.583          3        480: 100%|██████████| 20/20 [00:04<00:00,  4.73it/s]\n",
      "                 Class     Images  Instances      Box(P          R      mAP50  mAP50-95): 100%|██████████| 2/2 [00:00<00:00,  4.72it/s]"
     ]
    },
    {
     "name": "stdout",
     "output_type": "stream",
     "text": [
      "                   all         38         75      0.563      0.614      0.635      0.394\n"
     ]
    },
    {
     "name": "stderr",
     "output_type": "stream",
     "text": [
      "\n"
     ]
    },
    {
     "name": "stdout",
     "output_type": "stream",
     "text": [
      "\n",
      "      Epoch    GPU_mem   box_loss   cls_loss   dfl_loss  Instances       Size\n"
     ]
    },
    {
     "name": "stderr",
     "output_type": "stream",
     "text": [
      "     19/100       1.5G       1.71      2.323      1.509          1        480: 100%|██████████| 20/20 [00:04<00:00,  4.68it/s]\n",
      "                 Class     Images  Instances      Box(P          R      mAP50  mAP50-95): 100%|██████████| 2/2 [00:00<00:00,  4.40it/s]"
     ]
    },
    {
     "name": "stdout",
     "output_type": "stream",
     "text": [
      "                   all         38         75      0.374      0.582      0.551      0.362\n"
     ]
    },
    {
     "name": "stderr",
     "output_type": "stream",
     "text": [
      "\n"
     ]
    },
    {
     "name": "stdout",
     "output_type": "stream",
     "text": [
      "\n",
      "      Epoch    GPU_mem   box_loss   cls_loss   dfl_loss  Instances       Size\n"
     ]
    },
    {
     "name": "stderr",
     "output_type": "stream",
     "text": [
      "     20/100       1.5G      1.653      2.433      1.449          0        480: 100%|██████████| 20/20 [00:04<00:00,  4.65it/s]\n",
      "                 Class     Images  Instances      Box(P          R      mAP50  mAP50-95): 100%|██████████| 2/2 [00:00<00:00,  4.83it/s]"
     ]
    },
    {
     "name": "stdout",
     "output_type": "stream",
     "text": [
      "                   all         38         75      0.387      0.672      0.624      0.386\n"
     ]
    },
    {
     "name": "stderr",
     "output_type": "stream",
     "text": [
      "\n"
     ]
    },
    {
     "name": "stdout",
     "output_type": "stream",
     "text": [
      "\n",
      "      Epoch    GPU_mem   box_loss   cls_loss   dfl_loss  Instances       Size\n"
     ]
    },
    {
     "name": "stderr",
     "output_type": "stream",
     "text": [
      "     21/100       1.5G      1.704      2.281      1.515          5        480: 100%|██████████| 20/20 [00:04<00:00,  4.81it/s]\n",
      "                 Class     Images  Instances      Box(P          R      mAP50  mAP50-95): 100%|██████████| 2/2 [00:00<00:00,  4.28it/s]"
     ]
    },
    {
     "name": "stdout",
     "output_type": "stream",
     "text": [
      "                   all         38         75      0.586      0.419      0.516      0.304\n"
     ]
    },
    {
     "name": "stderr",
     "output_type": "stream",
     "text": [
      "\n"
     ]
    },
    {
     "name": "stdout",
     "output_type": "stream",
     "text": [
      "\n",
      "      Epoch    GPU_mem   box_loss   cls_loss   dfl_loss  Instances       Size\n"
     ]
    },
    {
     "name": "stderr",
     "output_type": "stream",
     "text": [
      "     22/100       1.5G      1.767      2.356      1.521          2        480: 100%|██████████| 20/20 [00:04<00:00,  4.91it/s]\n",
      "                 Class     Images  Instances      Box(P          R      mAP50  mAP50-95): 100%|██████████| 2/2 [00:00<00:00,  4.99it/s]"
     ]
    },
    {
     "name": "stdout",
     "output_type": "stream",
     "text": [
      "                   all         38         75      0.309      0.537      0.526      0.318\n"
     ]
    },
    {
     "name": "stderr",
     "output_type": "stream",
     "text": [
      "\n"
     ]
    },
    {
     "name": "stdout",
     "output_type": "stream",
     "text": [
      "\n",
      "      Epoch    GPU_mem   box_loss   cls_loss   dfl_loss  Instances       Size\n"
     ]
    },
    {
     "name": "stderr",
     "output_type": "stream",
     "text": [
      "     23/100       1.5G       1.61      2.187      1.477          3        480: 100%|██████████| 20/20 [00:04<00:00,  4.79it/s]\n",
      "                 Class     Images  Instances      Box(P          R      mAP50  mAP50-95): 100%|██████████| 2/2 [00:00<00:00,  4.88it/s]"
     ]
    },
    {
     "name": "stdout",
     "output_type": "stream",
     "text": [
      "                   all         38         75      0.486      0.617      0.587      0.412\n"
     ]
    },
    {
     "name": "stderr",
     "output_type": "stream",
     "text": [
      "\n"
     ]
    },
    {
     "name": "stdout",
     "output_type": "stream",
     "text": [
      "\n",
      "      Epoch    GPU_mem   box_loss   cls_loss   dfl_loss  Instances       Size\n"
     ]
    },
    {
     "name": "stderr",
     "output_type": "stream",
     "text": [
      "     24/100       1.5G       1.69       2.19       1.51          1        480: 100%|██████████| 20/20 [00:04<00:00,  4.94it/s]\n",
      "                 Class     Images  Instances      Box(P          R      mAP50  mAP50-95): 100%|██████████| 2/2 [00:00<00:00,  5.17it/s]"
     ]
    },
    {
     "name": "stdout",
     "output_type": "stream",
     "text": [
      "                   all         38         75      0.656      0.585      0.622      0.366\n"
     ]
    },
    {
     "name": "stderr",
     "output_type": "stream",
     "text": [
      "\n"
     ]
    },
    {
     "name": "stdout",
     "output_type": "stream",
     "text": [
      "\n",
      "      Epoch    GPU_mem   box_loss   cls_loss   dfl_loss  Instances       Size\n"
     ]
    },
    {
     "name": "stderr",
     "output_type": "stream",
     "text": [
      "     25/100       1.5G      1.616      2.137      1.508          2        480: 100%|██████████| 20/20 [00:04<00:00,  4.76it/s]\n",
      "                 Class     Images  Instances      Box(P          R      mAP50  mAP50-95): 100%|██████████| 2/2 [00:00<00:00,  4.16it/s]\n"
     ]
    },
    {
     "name": "stdout",
     "output_type": "stream",
     "text": [
      "                   all         38         75      0.454      0.638      0.592      0.344\n",
      "\n",
      "      Epoch    GPU_mem   box_loss   cls_loss   dfl_loss  Instances       Size\n"
     ]
    },
    {
     "name": "stderr",
     "output_type": "stream",
     "text": [
      "     26/100       1.5G      1.554      1.975      1.403          4        480: 100%|██████████| 20/20 [00:04<00:00,  4.87it/s]\n",
      "                 Class     Images  Instances      Box(P          R      mAP50  mAP50-95): 100%|██████████| 2/2 [00:00<00:00,  5.22it/s]"
     ]
    },
    {
     "name": "stdout",
     "output_type": "stream",
     "text": [
      "                   all         38         75      0.457      0.635      0.622      0.398\n"
     ]
    },
    {
     "name": "stderr",
     "output_type": "stream",
     "text": [
      "\n"
     ]
    },
    {
     "name": "stdout",
     "output_type": "stream",
     "text": [
      "\n",
      "      Epoch    GPU_mem   box_loss   cls_loss   dfl_loss  Instances       Size\n"
     ]
    },
    {
     "name": "stderr",
     "output_type": "stream",
     "text": [
      "     27/100       1.5G      1.513       2.02      1.422          2        480: 100%|██████████| 20/20 [00:04<00:00,  4.11it/s]\n",
      "                 Class     Images  Instances      Box(P          R      mAP50  mAP50-95): 100%|██████████| 2/2 [00:00<00:00,  4.16it/s]"
     ]
    },
    {
     "name": "stdout",
     "output_type": "stream",
     "text": [
      "                   all         38         75      0.437      0.723      0.659      0.412\n"
     ]
    },
    {
     "name": "stderr",
     "output_type": "stream",
     "text": [
      "\n"
     ]
    },
    {
     "name": "stdout",
     "output_type": "stream",
     "text": [
      "\n",
      "      Epoch    GPU_mem   box_loss   cls_loss   dfl_loss  Instances       Size\n"
     ]
    },
    {
     "name": "stderr",
     "output_type": "stream",
     "text": [
      "     28/100       1.5G      1.616      2.032      1.398          5        480: 100%|██████████| 20/20 [00:04<00:00,  4.71it/s]\n",
      "                 Class     Images  Instances      Box(P          R      mAP50  mAP50-95): 100%|██████████| 2/2 [00:00<00:00,  4.82it/s]"
     ]
    },
    {
     "name": "stdout",
     "output_type": "stream",
     "text": [
      "                   all         38         75      0.548      0.707      0.702      0.489\n"
     ]
    },
    {
     "name": "stderr",
     "output_type": "stream",
     "text": [
      "\n"
     ]
    },
    {
     "name": "stdout",
     "output_type": "stream",
     "text": [
      "\n",
      "      Epoch    GPU_mem   box_loss   cls_loss   dfl_loss  Instances       Size\n"
     ]
    },
    {
     "name": "stderr",
     "output_type": "stream",
     "text": [
      "     29/100       1.5G      1.521      1.949      1.415          1        480: 100%|██████████| 20/20 [00:04<00:00,  4.84it/s]\n",
      "                 Class     Images  Instances      Box(P          R      mAP50  mAP50-95): 100%|██████████| 2/2 [00:00<00:00,  4.67it/s]"
     ]
    },
    {
     "name": "stdout",
     "output_type": "stream",
     "text": [
      "                   all         38         75      0.616      0.698      0.701       0.45\n"
     ]
    },
    {
     "name": "stderr",
     "output_type": "stream",
     "text": [
      "\n"
     ]
    },
    {
     "name": "stdout",
     "output_type": "stream",
     "text": [
      "\n",
      "      Epoch    GPU_mem   box_loss   cls_loss   dfl_loss  Instances       Size\n"
     ]
    },
    {
     "name": "stderr",
     "output_type": "stream",
     "text": [
      "     30/100       1.5G      1.532      1.957      1.399          4        480: 100%|██████████| 20/20 [00:04<00:00,  4.55it/s]\n",
      "                 Class     Images  Instances      Box(P          R      mAP50  mAP50-95): 100%|██████████| 2/2 [00:00<00:00,  4.26it/s]"
     ]
    },
    {
     "name": "stdout",
     "output_type": "stream",
     "text": [
      "                   all         38         75      0.436      0.704      0.635      0.427\n"
     ]
    },
    {
     "name": "stderr",
     "output_type": "stream",
     "text": [
      "\n"
     ]
    },
    {
     "name": "stdout",
     "output_type": "stream",
     "text": [
      "\n",
      "      Epoch    GPU_mem   box_loss   cls_loss   dfl_loss  Instances       Size\n"
     ]
    },
    {
     "name": "stderr",
     "output_type": "stream",
     "text": [
      "     31/100       1.5G      1.489      1.957      1.387          3        480: 100%|██████████| 20/20 [00:04<00:00,  4.75it/s]\n",
      "                 Class     Images  Instances      Box(P          R      mAP50  mAP50-95): 100%|██████████| 2/2 [00:00<00:00,  4.46it/s]"
     ]
    },
    {
     "name": "stdout",
     "output_type": "stream",
     "text": [
      "                   all         38         75      0.713      0.631      0.682      0.438\n"
     ]
    },
    {
     "name": "stderr",
     "output_type": "stream",
     "text": [
      "\n"
     ]
    },
    {
     "name": "stdout",
     "output_type": "stream",
     "text": [
      "\n",
      "      Epoch    GPU_mem   box_loss   cls_loss   dfl_loss  Instances       Size\n"
     ]
    },
    {
     "name": "stderr",
     "output_type": "stream",
     "text": [
      "     32/100       1.5G      1.617      1.926      1.455          1        480: 100%|██████████| 20/20 [00:04<00:00,  4.17it/s]\n",
      "                 Class     Images  Instances      Box(P          R      mAP50  mAP50-95): 100%|██████████| 2/2 [00:00<00:00,  4.47it/s]"
     ]
    },
    {
     "name": "stdout",
     "output_type": "stream",
     "text": [
      "                   all         38         75      0.413      0.746      0.652      0.466\n"
     ]
    },
    {
     "name": "stderr",
     "output_type": "stream",
     "text": [
      "\n"
     ]
    },
    {
     "name": "stdout",
     "output_type": "stream",
     "text": [
      "\n",
      "      Epoch    GPU_mem   box_loss   cls_loss   dfl_loss  Instances       Size\n"
     ]
    },
    {
     "name": "stderr",
     "output_type": "stream",
     "text": [
      "     33/100       1.5G      1.558      2.032      1.426          3        480: 100%|██████████| 20/20 [00:05<00:00,  3.51it/s]\n",
      "                 Class     Images  Instances      Box(P          R      mAP50  mAP50-95): 100%|██████████| 2/2 [00:00<00:00,  4.18it/s]"
     ]
    },
    {
     "name": "stdout",
     "output_type": "stream",
     "text": [
      "                   all         38         75      0.406      0.657       0.64      0.441\n"
     ]
    },
    {
     "name": "stderr",
     "output_type": "stream",
     "text": [
      "\n"
     ]
    },
    {
     "name": "stdout",
     "output_type": "stream",
     "text": [
      "\n",
      "      Epoch    GPU_mem   box_loss   cls_loss   dfl_loss  Instances       Size\n"
     ]
    },
    {
     "name": "stderr",
     "output_type": "stream",
     "text": [
      "     34/100       1.5G      1.473      1.964      1.371          3        480: 100%|██████████| 20/20 [00:05<00:00,  3.97it/s]\n",
      "                 Class     Images  Instances      Box(P          R      mAP50  mAP50-95): 100%|██████████| 2/2 [00:00<00:00,  3.52it/s]"
     ]
    },
    {
     "name": "stdout",
     "output_type": "stream",
     "text": [
      "                   all         38         75      0.439      0.788      0.595      0.393\n"
     ]
    },
    {
     "name": "stderr",
     "output_type": "stream",
     "text": [
      "\n"
     ]
    },
    {
     "name": "stdout",
     "output_type": "stream",
     "text": [
      "\n",
      "      Epoch    GPU_mem   box_loss   cls_loss   dfl_loss  Instances       Size\n"
     ]
    },
    {
     "name": "stderr",
     "output_type": "stream",
     "text": [
      "     35/100       1.5G      1.543       1.96      1.419          2        480: 100%|██████████| 20/20 [00:05<00:00,  3.60it/s]\n",
      "                 Class     Images  Instances      Box(P          R      mAP50  mAP50-95): 100%|██████████| 2/2 [00:00<00:00,  3.52it/s]"
     ]
    },
    {
     "name": "stdout",
     "output_type": "stream",
     "text": [
      "                   all         38         75      0.499      0.859      0.614      0.397\n"
     ]
    },
    {
     "name": "stderr",
     "output_type": "stream",
     "text": [
      "\n"
     ]
    },
    {
     "name": "stdout",
     "output_type": "stream",
     "text": [
      "\n",
      "      Epoch    GPU_mem   box_loss   cls_loss   dfl_loss  Instances       Size\n"
     ]
    },
    {
     "name": "stderr",
     "output_type": "stream",
     "text": [
      "     36/100       1.5G      1.428       1.82      1.355          4        480: 100%|██████████| 20/20 [00:04<00:00,  4.09it/s]\n",
      "                 Class     Images  Instances      Box(P          R      mAP50  mAP50-95): 100%|██████████| 2/2 [00:00<00:00,  3.56it/s]"
     ]
    },
    {
     "name": "stdout",
     "output_type": "stream",
     "text": [
      "                   all         38         75      0.447      0.783      0.615      0.424\n"
     ]
    },
    {
     "name": "stderr",
     "output_type": "stream",
     "text": [
      "\n"
     ]
    },
    {
     "name": "stdout",
     "output_type": "stream",
     "text": [
      "\n",
      "      Epoch    GPU_mem   box_loss   cls_loss   dfl_loss  Instances       Size\n"
     ]
    },
    {
     "name": "stderr",
     "output_type": "stream",
     "text": [
      "     37/100       1.5G      1.455      1.833      1.376          2        480: 100%|██████████| 20/20 [00:04<00:00,  4.01it/s]\n",
      "                 Class     Images  Instances      Box(P          R      mAP50  mAP50-95): 100%|██████████| 2/2 [00:00<00:00,  3.07it/s]"
     ]
    },
    {
     "name": "stdout",
     "output_type": "stream",
     "text": [
      "                   all         38         75      0.404      0.654      0.546      0.389\n"
     ]
    },
    {
     "name": "stderr",
     "output_type": "stream",
     "text": [
      "\n"
     ]
    },
    {
     "name": "stdout",
     "output_type": "stream",
     "text": [
      "\n",
      "      Epoch    GPU_mem   box_loss   cls_loss   dfl_loss  Instances       Size\n"
     ]
    },
    {
     "name": "stderr",
     "output_type": "stream",
     "text": [
      "     38/100       1.5G      1.413      1.911       1.36          2        480: 100%|██████████| 20/20 [00:04<00:00,  4.12it/s]\n",
      "                 Class     Images  Instances      Box(P          R      mAP50  mAP50-95): 100%|██████████| 2/2 [00:00<00:00,  5.07it/s]"
     ]
    },
    {
     "name": "stdout",
     "output_type": "stream",
     "text": [
      "                   all         38         75      0.448      0.752      0.612      0.423\n"
     ]
    },
    {
     "name": "stderr",
     "output_type": "stream",
     "text": [
      "\n"
     ]
    },
    {
     "name": "stdout",
     "output_type": "stream",
     "text": [
      "\n",
      "      Epoch    GPU_mem   box_loss   cls_loss   dfl_loss  Instances       Size\n"
     ]
    },
    {
     "name": "stderr",
     "output_type": "stream",
     "text": [
      "     39/100       1.5G      1.474       1.84      1.322          1        480: 100%|██████████| 20/20 [00:04<00:00,  4.72it/s]\n",
      "                 Class     Images  Instances      Box(P          R      mAP50  mAP50-95): 100%|██████████| 2/2 [00:00<00:00,  3.93it/s]"
     ]
    },
    {
     "name": "stdout",
     "output_type": "stream",
     "text": [
      "                   all         38         75       0.47      0.708       0.65      0.476\n"
     ]
    },
    {
     "name": "stderr",
     "output_type": "stream",
     "text": [
      "\n"
     ]
    },
    {
     "name": "stdout",
     "output_type": "stream",
     "text": [
      "\n",
      "      Epoch    GPU_mem   box_loss   cls_loss   dfl_loss  Instances       Size\n"
     ]
    },
    {
     "name": "stderr",
     "output_type": "stream",
     "text": [
      "     40/100       1.5G      1.364      1.797      1.291          2        480: 100%|██████████| 20/20 [00:04<00:00,  4.45it/s]\n",
      "                 Class     Images  Instances      Box(P          R      mAP50  mAP50-95): 100%|██████████| 2/2 [00:00<00:00,  4.74it/s]"
     ]
    },
    {
     "name": "stdout",
     "output_type": "stream",
     "text": [
      "                   all         38         75      0.506      0.769       0.69      0.496\n"
     ]
    },
    {
     "name": "stderr",
     "output_type": "stream",
     "text": [
      "\n"
     ]
    },
    {
     "name": "stdout",
     "output_type": "stream",
     "text": [
      "\n",
      "      Epoch    GPU_mem   box_loss   cls_loss   dfl_loss  Instances       Size\n"
     ]
    },
    {
     "name": "stderr",
     "output_type": "stream",
     "text": [
      "     41/100       1.5G      1.448      1.771      1.392          2        480: 100%|██████████| 20/20 [00:04<00:00,  4.72it/s]\n",
      "                 Class     Images  Instances      Box(P          R      mAP50  mAP50-95): 100%|██████████| 2/2 [00:00<00:00,  4.95it/s]"
     ]
    },
    {
     "name": "stdout",
     "output_type": "stream",
     "text": [
      "                   all         38         75      0.668      0.741      0.732      0.521\n"
     ]
    },
    {
     "name": "stderr",
     "output_type": "stream",
     "text": [
      "\n"
     ]
    },
    {
     "name": "stdout",
     "output_type": "stream",
     "text": [
      "\n",
      "      Epoch    GPU_mem   box_loss   cls_loss   dfl_loss  Instances       Size\n"
     ]
    },
    {
     "name": "stderr",
     "output_type": "stream",
     "text": [
      "     42/100       1.5G      1.368      1.731      1.323          7        480: 100%|██████████| 20/20 [00:04<00:00,  4.62it/s]\n",
      "                 Class     Images  Instances      Box(P          R      mAP50  mAP50-95): 100%|██████████| 2/2 [00:00<00:00,  4.95it/s]"
     ]
    },
    {
     "name": "stdout",
     "output_type": "stream",
     "text": [
      "                   all         38         75       0.54      0.779      0.766      0.544\n"
     ]
    },
    {
     "name": "stderr",
     "output_type": "stream",
     "text": [
      "\n"
     ]
    },
    {
     "name": "stdout",
     "output_type": "stream",
     "text": [
      "\n",
      "      Epoch    GPU_mem   box_loss   cls_loss   dfl_loss  Instances       Size\n"
     ]
    },
    {
     "name": "stderr",
     "output_type": "stream",
     "text": [
      "     43/100       1.5G      1.381      1.773      1.329          2        480: 100%|██████████| 20/20 [00:04<00:00,  4.66it/s]\n",
      "                 Class     Images  Instances      Box(P          R      mAP50  mAP50-95): 100%|██████████| 2/2 [00:00<00:00,  4.34it/s]"
     ]
    },
    {
     "name": "stdout",
     "output_type": "stream",
     "text": [
      "                   all         38         75        0.5      0.799      0.677      0.478\n"
     ]
    },
    {
     "name": "stderr",
     "output_type": "stream",
     "text": [
      "\n"
     ]
    },
    {
     "name": "stdout",
     "output_type": "stream",
     "text": [
      "\n",
      "      Epoch    GPU_mem   box_loss   cls_loss   dfl_loss  Instances       Size\n"
     ]
    },
    {
     "name": "stderr",
     "output_type": "stream",
     "text": [
      "     44/100       1.5G      1.465      1.793        1.4          1        480: 100%|██████████| 20/20 [00:04<00:00,  4.62it/s]\n",
      "                 Class     Images  Instances      Box(P          R      mAP50  mAP50-95): 100%|██████████| 2/2 [00:00<00:00,  4.87it/s]"
     ]
    },
    {
     "name": "stdout",
     "output_type": "stream",
     "text": [
      "                   all         38         75      0.552      0.804      0.758      0.461\n"
     ]
    },
    {
     "name": "stderr",
     "output_type": "stream",
     "text": [
      "\n"
     ]
    },
    {
     "name": "stdout",
     "output_type": "stream",
     "text": [
      "\n",
      "      Epoch    GPU_mem   box_loss   cls_loss   dfl_loss  Instances       Size\n"
     ]
    },
    {
     "name": "stderr",
     "output_type": "stream",
     "text": [
      "     45/100       1.5G      1.363      1.733        1.3          1        480: 100%|██████████| 20/20 [00:04<00:00,  4.68it/s]\n",
      "                 Class     Images  Instances      Box(P          R      mAP50  mAP50-95): 100%|██████████| 2/2 [00:00<00:00,  4.22it/s]"
     ]
    },
    {
     "name": "stdout",
     "output_type": "stream",
     "text": [
      "                   all         38         75      0.585      0.811      0.727       0.49\n"
     ]
    },
    {
     "name": "stderr",
     "output_type": "stream",
     "text": [
      "\n"
     ]
    },
    {
     "name": "stdout",
     "output_type": "stream",
     "text": [
      "\n",
      "      Epoch    GPU_mem   box_loss   cls_loss   dfl_loss  Instances       Size\n"
     ]
    },
    {
     "name": "stderr",
     "output_type": "stream",
     "text": [
      "     46/100       1.5G      1.335      1.741      1.316          4        480: 100%|██████████| 20/20 [00:04<00:00,  4.48it/s]\n",
      "                 Class     Images  Instances      Box(P          R      mAP50  mAP50-95): 100%|██████████| 2/2 [00:00<00:00,  4.79it/s]"
     ]
    },
    {
     "name": "stdout",
     "output_type": "stream",
     "text": [
      "                   all         38         75      0.577      0.771      0.664      0.449\n"
     ]
    },
    {
     "name": "stderr",
     "output_type": "stream",
     "text": [
      "\n"
     ]
    },
    {
     "name": "stdout",
     "output_type": "stream",
     "text": [
      "\n",
      "      Epoch    GPU_mem   box_loss   cls_loss   dfl_loss  Instances       Size\n"
     ]
    },
    {
     "name": "stderr",
     "output_type": "stream",
     "text": [
      "     47/100       1.5G       1.33      1.688      1.301          2        480: 100%|██████████| 20/20 [00:04<00:00,  4.97it/s]\n",
      "                 Class     Images  Instances      Box(P          R      mAP50  mAP50-95): 100%|██████████| 2/2 [00:00<00:00,  4.62it/s]"
     ]
    },
    {
     "name": "stdout",
     "output_type": "stream",
     "text": [
      "                   all         38         75      0.509      0.839      0.636      0.466\n"
     ]
    },
    {
     "name": "stderr",
     "output_type": "stream",
     "text": [
      "\n"
     ]
    },
    {
     "name": "stdout",
     "output_type": "stream",
     "text": [
      "\n",
      "      Epoch    GPU_mem   box_loss   cls_loss   dfl_loss  Instances       Size\n"
     ]
    },
    {
     "name": "stderr",
     "output_type": "stream",
     "text": [
      "     48/100       1.5G      1.293      1.689      1.256          1        480: 100%|██████████| 20/20 [00:04<00:00,  4.47it/s]\n",
      "                 Class     Images  Instances      Box(P          R      mAP50  mAP50-95): 100%|██████████| 2/2 [00:00<00:00,  3.84it/s]"
     ]
    },
    {
     "name": "stdout",
     "output_type": "stream",
     "text": [
      "                   all         38         75      0.497      0.821      0.639      0.476\n"
     ]
    },
    {
     "name": "stderr",
     "output_type": "stream",
     "text": [
      "\n"
     ]
    },
    {
     "name": "stdout",
     "output_type": "stream",
     "text": [
      "\n",
      "      Epoch    GPU_mem   box_loss   cls_loss   dfl_loss  Instances       Size\n"
     ]
    },
    {
     "name": "stderr",
     "output_type": "stream",
     "text": [
      "     49/100       1.5G      1.382      1.691      1.294          4        480: 100%|██████████| 20/20 [00:04<00:00,  4.64it/s]\n",
      "                 Class     Images  Instances      Box(P          R      mAP50  mAP50-95): 100%|██████████| 2/2 [00:00<00:00,  4.90it/s]"
     ]
    },
    {
     "name": "stdout",
     "output_type": "stream",
     "text": [
      "                   all         38         75      0.522      0.866      0.654      0.493\n"
     ]
    },
    {
     "name": "stderr",
     "output_type": "stream",
     "text": [
      "\n"
     ]
    },
    {
     "name": "stdout",
     "output_type": "stream",
     "text": [
      "\n",
      "      Epoch    GPU_mem   box_loss   cls_loss   dfl_loss  Instances       Size\n"
     ]
    },
    {
     "name": "stderr",
     "output_type": "stream",
     "text": [
      "     50/100       1.5G      1.322      1.682       1.29          3        480: 100%|██████████| 20/20 [00:04<00:00,  4.58it/s]\n",
      "                 Class     Images  Instances      Box(P          R      mAP50  mAP50-95): 100%|██████████| 2/2 [00:00<00:00,  4.09it/s]"
     ]
    },
    {
     "name": "stdout",
     "output_type": "stream",
     "text": [
      "                   all         38         75      0.457      0.809       0.61      0.465\n"
     ]
    },
    {
     "name": "stderr",
     "output_type": "stream",
     "text": [
      "\n"
     ]
    },
    {
     "name": "stdout",
     "output_type": "stream",
     "text": [
      "\n",
      "      Epoch    GPU_mem   box_loss   cls_loss   dfl_loss  Instances       Size\n"
     ]
    },
    {
     "name": "stderr",
     "output_type": "stream",
     "text": [
      "     51/100       1.5G       1.35      1.841      1.333          2        480: 100%|██████████| 20/20 [00:04<00:00,  4.63it/s]\n",
      "                 Class     Images  Instances      Box(P          R      mAP50  mAP50-95): 100%|██████████| 2/2 [00:00<00:00,  3.85it/s]"
     ]
    },
    {
     "name": "stdout",
     "output_type": "stream",
     "text": [
      "                   all         38         75      0.475       0.76      0.618      0.469\n"
     ]
    },
    {
     "name": "stderr",
     "output_type": "stream",
     "text": [
      "\n"
     ]
    },
    {
     "name": "stdout",
     "output_type": "stream",
     "text": [
      "\n",
      "      Epoch    GPU_mem   box_loss   cls_loss   dfl_loss  Instances       Size\n"
     ]
    },
    {
     "name": "stderr",
     "output_type": "stream",
     "text": [
      "     52/100       1.5G      1.226      1.625      1.239          1        480: 100%|██████████| 20/20 [00:04<00:00,  4.12it/s]\n",
      "                 Class     Images  Instances      Box(P          R      mAP50  mAP50-95): 100%|██████████| 2/2 [00:00<00:00,  4.13it/s]"
     ]
    },
    {
     "name": "stdout",
     "output_type": "stream",
     "text": [
      "                   all         38         75      0.486      0.815      0.611      0.481\n"
     ]
    },
    {
     "name": "stderr",
     "output_type": "stream",
     "text": [
      "\n"
     ]
    },
    {
     "name": "stdout",
     "output_type": "stream",
     "text": [
      "\n",
      "      Epoch    GPU_mem   box_loss   cls_loss   dfl_loss  Instances       Size\n"
     ]
    },
    {
     "name": "stderr",
     "output_type": "stream",
     "text": [
      "     53/100       1.5G      1.277      1.603      1.262          5        480: 100%|██████████| 20/20 [00:04<00:00,  4.28it/s]\n",
      "                 Class     Images  Instances      Box(P          R      mAP50  mAP50-95): 100%|██████████| 2/2 [00:00<00:00,  3.32it/s]"
     ]
    },
    {
     "name": "stdout",
     "output_type": "stream",
     "text": [
      "                   all         38         75      0.464      0.848      0.674      0.513\n"
     ]
    },
    {
     "name": "stderr",
     "output_type": "stream",
     "text": [
      "\n"
     ]
    },
    {
     "name": "stdout",
     "output_type": "stream",
     "text": [
      "\n",
      "      Epoch    GPU_mem   box_loss   cls_loss   dfl_loss  Instances       Size\n"
     ]
    },
    {
     "name": "stderr",
     "output_type": "stream",
     "text": [
      "     54/100       1.5G      1.139      1.574      1.173          0        480: 100%|██████████| 20/20 [00:04<00:00,  4.88it/s]\n",
      "                 Class     Images  Instances      Box(P          R      mAP50  mAP50-95): 100%|██████████| 2/2 [00:00<00:00,  5.04it/s]"
     ]
    },
    {
     "name": "stdout",
     "output_type": "stream",
     "text": [
      "                   all         38         75      0.506      0.861       0.71      0.533\n"
     ]
    },
    {
     "name": "stderr",
     "output_type": "stream",
     "text": [
      "\n"
     ]
    },
    {
     "name": "stdout",
     "output_type": "stream",
     "text": [
      "\n",
      "      Epoch    GPU_mem   box_loss   cls_loss   dfl_loss  Instances       Size\n"
     ]
    },
    {
     "name": "stderr",
     "output_type": "stream",
     "text": [
      "     55/100       1.5G      1.201      1.543      1.252          2        480: 100%|██████████| 20/20 [00:04<00:00,  4.62it/s]\n",
      "                 Class     Images  Instances      Box(P          R      mAP50  mAP50-95): 100%|██████████| 2/2 [00:00<00:00,  5.23it/s]"
     ]
    },
    {
     "name": "stdout",
     "output_type": "stream",
     "text": [
      "                   all         38         75      0.502      0.813      0.698      0.493\n"
     ]
    },
    {
     "name": "stderr",
     "output_type": "stream",
     "text": [
      "\n"
     ]
    },
    {
     "name": "stdout",
     "output_type": "stream",
     "text": [
      "\n",
      "      Epoch    GPU_mem   box_loss   cls_loss   dfl_loss  Instances       Size\n"
     ]
    },
    {
     "name": "stderr",
     "output_type": "stream",
     "text": [
      "     56/100       1.5G       1.23      1.609      1.229          4        480: 100%|██████████| 20/20 [00:04<00:00,  4.67it/s]\n",
      "                 Class     Images  Instances      Box(P          R      mAP50  mAP50-95): 100%|██████████| 2/2 [00:00<00:00,  4.95it/s]"
     ]
    },
    {
     "name": "stdout",
     "output_type": "stream",
     "text": [
      "                   all         38         75      0.552      0.855      0.672      0.499\n"
     ]
    },
    {
     "name": "stderr",
     "output_type": "stream",
     "text": [
      "\n"
     ]
    },
    {
     "name": "stdout",
     "output_type": "stream",
     "text": [
      "\n",
      "      Epoch    GPU_mem   box_loss   cls_loss   dfl_loss  Instances       Size\n"
     ]
    },
    {
     "name": "stderr",
     "output_type": "stream",
     "text": [
      "     57/100       1.5G      1.201      1.517      1.217          3        480: 100%|██████████| 20/20 [00:04<00:00,  4.73it/s]\n",
      "                 Class     Images  Instances      Box(P          R      mAP50  mAP50-95): 100%|██████████| 2/2 [00:00<00:00,  3.56it/s]"
     ]
    },
    {
     "name": "stdout",
     "output_type": "stream",
     "text": [
      "                   all         38         75      0.555      0.838      0.669      0.499\n"
     ]
    },
    {
     "name": "stderr",
     "output_type": "stream",
     "text": [
      "\n"
     ]
    },
    {
     "name": "stdout",
     "output_type": "stream",
     "text": [
      "\n",
      "      Epoch    GPU_mem   box_loss   cls_loss   dfl_loss  Instances       Size\n"
     ]
    },
    {
     "name": "stderr",
     "output_type": "stream",
     "text": [
      "     58/100       1.5G      1.261      1.688      1.242          1        480: 100%|██████████| 20/20 [00:07<00:00,  2.75it/s]\n",
      "                 Class     Images  Instances      Box(P          R      mAP50  mAP50-95): 100%|██████████| 2/2 [00:00<00:00,  3.04it/s]"
     ]
    },
    {
     "name": "stdout",
     "output_type": "stream",
     "text": [
      "                   all         38         75      0.485      0.778      0.599      0.479\n"
     ]
    },
    {
     "name": "stderr",
     "output_type": "stream",
     "text": [
      "\n"
     ]
    },
    {
     "name": "stdout",
     "output_type": "stream",
     "text": [
      "\n",
      "      Epoch    GPU_mem   box_loss   cls_loss   dfl_loss  Instances       Size\n"
     ]
    },
    {
     "name": "stderr",
     "output_type": "stream",
     "text": [
      "     59/100       1.5G      1.223      1.479       1.22          6        480: 100%|██████████| 20/20 [00:04<00:00,  4.51it/s]\n",
      "                 Class     Images  Instances      Box(P          R      mAP50  mAP50-95): 100%|██████████| 2/2 [00:00<00:00,  4.82it/s]"
     ]
    },
    {
     "name": "stdout",
     "output_type": "stream",
     "text": [
      "                   all         38         75      0.525      0.848      0.637      0.475\n"
     ]
    },
    {
     "name": "stderr",
     "output_type": "stream",
     "text": [
      "\n"
     ]
    },
    {
     "name": "stdout",
     "output_type": "stream",
     "text": [
      "\n",
      "      Epoch    GPU_mem   box_loss   cls_loss   dfl_loss  Instances       Size\n"
     ]
    },
    {
     "name": "stderr",
     "output_type": "stream",
     "text": [
      "     60/100       1.5G      1.268      1.625      1.273          4        480: 100%|██████████| 20/20 [00:06<00:00,  3.21it/s]\n",
      "                 Class     Images  Instances      Box(P          R      mAP50  mAP50-95): 100%|██████████| 2/2 [00:00<00:00,  2.17it/s]"
     ]
    },
    {
     "name": "stdout",
     "output_type": "stream",
     "text": [
      "                   all         38         75      0.519       0.85      0.653      0.508\n"
     ]
    },
    {
     "name": "stderr",
     "output_type": "stream",
     "text": [
      "\n"
     ]
    },
    {
     "name": "stdout",
     "output_type": "stream",
     "text": [
      "\n",
      "      Epoch    GPU_mem   box_loss   cls_loss   dfl_loss  Instances       Size\n"
     ]
    },
    {
     "name": "stderr",
     "output_type": "stream",
     "text": [
      "     61/100       1.5G      1.151      1.509      1.192          1        480: 100%|██████████| 20/20 [00:05<00:00,  3.83it/s]\n",
      "                 Class     Images  Instances      Box(P          R      mAP50  mAP50-95): 100%|██████████| 2/2 [00:00<00:00,  4.49it/s]"
     ]
    },
    {
     "name": "stdout",
     "output_type": "stream",
     "text": [
      "                   all         38         75      0.547      0.836      0.693      0.497\n"
     ]
    },
    {
     "name": "stderr",
     "output_type": "stream",
     "text": [
      "\n"
     ]
    },
    {
     "name": "stdout",
     "output_type": "stream",
     "text": [
      "\n",
      "      Epoch    GPU_mem   box_loss   cls_loss   dfl_loss  Instances       Size\n"
     ]
    },
    {
     "name": "stderr",
     "output_type": "stream",
     "text": [
      "     62/100       1.5G      1.139      1.518      1.209          4        480: 100%|██████████| 20/20 [00:04<00:00,  4.19it/s]\n",
      "                 Class     Images  Instances      Box(P          R      mAP50  mAP50-95): 100%|██████████| 2/2 [00:00<00:00,  4.31it/s]"
     ]
    },
    {
     "name": "stdout",
     "output_type": "stream",
     "text": [
      "                   all         38         75       0.55      0.867      0.729      0.537\n"
     ]
    },
    {
     "name": "stderr",
     "output_type": "stream",
     "text": [
      "\n"
     ]
    },
    {
     "name": "stdout",
     "output_type": "stream",
     "text": [
      "\n",
      "      Epoch    GPU_mem   box_loss   cls_loss   dfl_loss  Instances       Size\n"
     ]
    },
    {
     "name": "stderr",
     "output_type": "stream",
     "text": [
      "     63/100       1.5G      1.063      1.468      1.121          0        480: 100%|██████████| 20/20 [00:04<00:00,  4.86it/s]\n",
      "                 Class     Images  Instances      Box(P          R      mAP50  mAP50-95): 100%|██████████| 2/2 [00:00<00:00,  4.39it/s]"
     ]
    },
    {
     "name": "stdout",
     "output_type": "stream",
     "text": [
      "                   all         38         75      0.559      0.889      0.731      0.561\n"
     ]
    },
    {
     "name": "stderr",
     "output_type": "stream",
     "text": [
      "\n"
     ]
    },
    {
     "name": "stdout",
     "output_type": "stream",
     "text": [
      "\n",
      "      Epoch    GPU_mem   box_loss   cls_loss   dfl_loss  Instances       Size\n"
     ]
    },
    {
     "name": "stderr",
     "output_type": "stream",
     "text": [
      "     64/100       1.5G      1.233      1.591      1.267          3        480: 100%|██████████| 20/20 [00:04<00:00,  4.56it/s]\n",
      "                 Class     Images  Instances      Box(P          R      mAP50  mAP50-95): 100%|██████████| 2/2 [00:00<00:00,  5.06it/s]"
     ]
    },
    {
     "name": "stdout",
     "output_type": "stream",
     "text": [
      "                   all         38         75      0.533      0.903      0.702      0.544\n"
     ]
    },
    {
     "name": "stderr",
     "output_type": "stream",
     "text": [
      "\n"
     ]
    },
    {
     "name": "stdout",
     "output_type": "stream",
     "text": [
      "\n",
      "      Epoch    GPU_mem   box_loss   cls_loss   dfl_loss  Instances       Size\n"
     ]
    },
    {
     "name": "stderr",
     "output_type": "stream",
     "text": [
      "     65/100       1.5G      1.185      1.479      1.273          2        480: 100%|██████████| 20/20 [00:04<00:00,  4.72it/s]\n",
      "                 Class     Images  Instances      Box(P          R      mAP50  mAP50-95): 100%|██████████| 2/2 [00:00<00:00,  4.59it/s]"
     ]
    },
    {
     "name": "stdout",
     "output_type": "stream",
     "text": [
      "                   all         38         75      0.528      0.899      0.677      0.524\n"
     ]
    },
    {
     "name": "stderr",
     "output_type": "stream",
     "text": [
      "\n"
     ]
    },
    {
     "name": "stdout",
     "output_type": "stream",
     "text": [
      "\n",
      "      Epoch    GPU_mem   box_loss   cls_loss   dfl_loss  Instances       Size\n"
     ]
    },
    {
     "name": "stderr",
     "output_type": "stream",
     "text": [
      "     66/100       1.5G      1.265      1.723       1.29          1        480: 100%|██████████| 20/20 [00:04<00:00,  4.78it/s]\n",
      "                 Class     Images  Instances      Box(P          R      mAP50  mAP50-95): 100%|██████████| 2/2 [00:00<00:00,  4.70it/s]"
     ]
    },
    {
     "name": "stdout",
     "output_type": "stream",
     "text": [
      "                   all         38         75      0.524      0.871      0.664      0.472\n"
     ]
    },
    {
     "name": "stderr",
     "output_type": "stream",
     "text": [
      "\n"
     ]
    },
    {
     "name": "stdout",
     "output_type": "stream",
     "text": [
      "\n",
      "      Epoch    GPU_mem   box_loss   cls_loss   dfl_loss  Instances       Size\n"
     ]
    },
    {
     "name": "stderr",
     "output_type": "stream",
     "text": [
      "     67/100       1.5G      1.251      1.574       1.24          5        480: 100%|██████████| 20/20 [00:04<00:00,  4.87it/s]\n",
      "                 Class     Images  Instances      Box(P          R      mAP50  mAP50-95): 100%|██████████| 2/2 [00:00<00:00,  5.22it/s]"
     ]
    },
    {
     "name": "stdout",
     "output_type": "stream",
     "text": [
      "                   all         38         75      0.528      0.885       0.64      0.495\n"
     ]
    },
    {
     "name": "stderr",
     "output_type": "stream",
     "text": [
      "\n"
     ]
    },
    {
     "name": "stdout",
     "output_type": "stream",
     "text": [
      "\n",
      "      Epoch    GPU_mem   box_loss   cls_loss   dfl_loss  Instances       Size\n"
     ]
    },
    {
     "name": "stderr",
     "output_type": "stream",
     "text": [
      "     68/100       1.5G      1.177      1.495      1.209          6        480: 100%|██████████| 20/20 [00:04<00:00,  4.85it/s]\n",
      "                 Class     Images  Instances      Box(P          R      mAP50  mAP50-95): 100%|██████████| 2/2 [00:00<00:00,  4.11it/s]"
     ]
    },
    {
     "name": "stdout",
     "output_type": "stream",
     "text": [
      "                   all         38         75      0.532      0.877       0.66        0.5\n"
     ]
    },
    {
     "name": "stderr",
     "output_type": "stream",
     "text": [
      "\n"
     ]
    },
    {
     "name": "stdout",
     "output_type": "stream",
     "text": [
      "\n",
      "      Epoch    GPU_mem   box_loss   cls_loss   dfl_loss  Instances       Size\n"
     ]
    },
    {
     "name": "stderr",
     "output_type": "stream",
     "text": [
      "     69/100       1.5G      1.158      1.461      1.205          3        480: 100%|██████████| 20/20 [00:03<00:00,  5.12it/s]\n",
      "                 Class     Images  Instances      Box(P          R      mAP50  mAP50-95): 100%|██████████| 2/2 [00:00<00:00,  5.04it/s]"
     ]
    },
    {
     "name": "stdout",
     "output_type": "stream",
     "text": [
      "                   all         38         75      0.528      0.874       0.66      0.514\n"
     ]
    },
    {
     "name": "stderr",
     "output_type": "stream",
     "text": [
      "\n"
     ]
    },
    {
     "name": "stdout",
     "output_type": "stream",
     "text": [
      "\n",
      "      Epoch    GPU_mem   box_loss   cls_loss   dfl_loss  Instances       Size\n"
     ]
    },
    {
     "name": "stderr",
     "output_type": "stream",
     "text": [
      "     70/100       1.5G      1.201      1.535      1.218          3        480: 100%|██████████| 20/20 [00:04<00:00,  4.34it/s]\n",
      "                 Class     Images  Instances      Box(P          R      mAP50  mAP50-95): 100%|██████████| 2/2 [00:00<00:00,  5.03it/s]"
     ]
    },
    {
     "name": "stdout",
     "output_type": "stream",
     "text": [
      "                   all         38         75      0.516      0.872      0.662      0.521\n"
     ]
    },
    {
     "name": "stderr",
     "output_type": "stream",
     "text": [
      "\n"
     ]
    },
    {
     "name": "stdout",
     "output_type": "stream",
     "text": [
      "\n",
      "      Epoch    GPU_mem   box_loss   cls_loss   dfl_loss  Instances       Size\n"
     ]
    },
    {
     "name": "stderr",
     "output_type": "stream",
     "text": [
      "     71/100       1.5G      1.136      1.416      1.176          2        480: 100%|██████████| 20/20 [00:04<00:00,  4.52it/s]\n",
      "                 Class     Images  Instances      Box(P          R      mAP50  mAP50-95): 100%|██████████| 2/2 [00:00<00:00,  4.25it/s]"
     ]
    },
    {
     "name": "stdout",
     "output_type": "stream",
     "text": [
      "                   all         38         75      0.485      0.843       0.65      0.482\n"
     ]
    },
    {
     "name": "stderr",
     "output_type": "stream",
     "text": [
      "\n"
     ]
    },
    {
     "name": "stdout",
     "output_type": "stream",
     "text": [
      "\n",
      "      Epoch    GPU_mem   box_loss   cls_loss   dfl_loss  Instances       Size\n"
     ]
    },
    {
     "name": "stderr",
     "output_type": "stream",
     "text": [
      "     72/100       1.5G        1.2      1.562      1.231          3        480: 100%|██████████| 20/20 [00:04<00:00,  4.68it/s]\n",
      "                 Class     Images  Instances      Box(P          R      mAP50  mAP50-95): 100%|██████████| 2/2 [00:00<00:00,  4.64it/s]"
     ]
    },
    {
     "name": "stdout",
     "output_type": "stream",
     "text": [
      "                   all         38         75      0.531      0.907      0.728       0.56\n"
     ]
    },
    {
     "name": "stderr",
     "output_type": "stream",
     "text": [
      "\n"
     ]
    },
    {
     "name": "stdout",
     "output_type": "stream",
     "text": [
      "\n",
      "      Epoch    GPU_mem   box_loss   cls_loss   dfl_loss  Instances       Size\n"
     ]
    },
    {
     "name": "stderr",
     "output_type": "stream",
     "text": [
      "     73/100       1.5G       1.15      1.404      1.195          6        480: 100%|██████████| 20/20 [00:04<00:00,  4.41it/s]\n",
      "                 Class     Images  Instances      Box(P          R      mAP50  mAP50-95): 100%|██████████| 2/2 [00:00<00:00,  4.73it/s]"
     ]
    },
    {
     "name": "stdout",
     "output_type": "stream",
     "text": [
      "                   all         38         75      0.527      0.874      0.715      0.532\n"
     ]
    },
    {
     "name": "stderr",
     "output_type": "stream",
     "text": [
      "\n"
     ]
    },
    {
     "name": "stdout",
     "output_type": "stream",
     "text": [
      "\n",
      "      Epoch    GPU_mem   box_loss   cls_loss   dfl_loss  Instances       Size\n"
     ]
    },
    {
     "name": "stderr",
     "output_type": "stream",
     "text": [
      "     74/100       1.5G      1.161      1.527      1.245          3        480: 100%|██████████| 20/20 [00:04<00:00,  4.53it/s]\n",
      "                 Class     Images  Instances      Box(P          R      mAP50  mAP50-95): 100%|██████████| 2/2 [00:00<00:00,  4.52it/s]"
     ]
    },
    {
     "name": "stdout",
     "output_type": "stream",
     "text": [
      "                   all         38         75      0.521      0.868      0.694      0.544\n"
     ]
    },
    {
     "name": "stderr",
     "output_type": "stream",
     "text": [
      "\n"
     ]
    },
    {
     "name": "stdout",
     "output_type": "stream",
     "text": [
      "\n",
      "      Epoch    GPU_mem   box_loss   cls_loss   dfl_loss  Instances       Size\n"
     ]
    },
    {
     "name": "stderr",
     "output_type": "stream",
     "text": [
      "     75/100       1.5G      1.173      1.446      1.233          5        480: 100%|██████████| 20/20 [00:04<00:00,  4.52it/s]\n",
      "                 Class     Images  Instances      Box(P          R      mAP50  mAP50-95): 100%|██████████| 2/2 [00:00<00:00,  4.60it/s]"
     ]
    },
    {
     "name": "stdout",
     "output_type": "stream",
     "text": [
      "                   all         38         75       0.51      0.832       0.64      0.498\n"
     ]
    },
    {
     "name": "stderr",
     "output_type": "stream",
     "text": [
      "\n"
     ]
    },
    {
     "name": "stdout",
     "output_type": "stream",
     "text": [
      "\n",
      "      Epoch    GPU_mem   box_loss   cls_loss   dfl_loss  Instances       Size\n"
     ]
    },
    {
     "name": "stderr",
     "output_type": "stream",
     "text": [
      "     76/100       1.5G      1.239      1.462      1.224          2        480: 100%|██████████| 20/20 [00:04<00:00,  4.60it/s]\n",
      "                 Class     Images  Instances      Box(P          R      mAP50  mAP50-95): 100%|██████████| 2/2 [00:00<00:00,  5.04it/s]"
     ]
    },
    {
     "name": "stdout",
     "output_type": "stream",
     "text": [
      "                   all         38         75      0.529      0.878      0.628      0.503\n"
     ]
    },
    {
     "name": "stderr",
     "output_type": "stream",
     "text": [
      "\n"
     ]
    },
    {
     "name": "stdout",
     "output_type": "stream",
     "text": [
      "\n",
      "      Epoch    GPU_mem   box_loss   cls_loss   dfl_loss  Instances       Size\n"
     ]
    },
    {
     "name": "stderr",
     "output_type": "stream",
     "text": [
      "     77/100       1.5G      1.064      1.341       1.17          7        480: 100%|██████████| 20/20 [00:04<00:00,  4.60it/s]\n",
      "                 Class     Images  Instances      Box(P          R      mAP50  mAP50-95): 100%|██████████| 2/2 [00:00<00:00,  3.02it/s]"
     ]
    },
    {
     "name": "stdout",
     "output_type": "stream",
     "text": [
      "                   all         38         75      0.523      0.889      0.613      0.497\n"
     ]
    },
    {
     "name": "stderr",
     "output_type": "stream",
     "text": [
      "\n"
     ]
    },
    {
     "name": "stdout",
     "output_type": "stream",
     "text": [
      "\n",
      "      Epoch    GPU_mem   box_loss   cls_loss   dfl_loss  Instances       Size\n"
     ]
    },
    {
     "name": "stderr",
     "output_type": "stream",
     "text": [
      "     78/100       1.5G      1.056      1.419      1.172          1        480: 100%|██████████| 20/20 [00:04<00:00,  4.58it/s]\n",
      "                 Class     Images  Instances      Box(P          R      mAP50  mAP50-95): 100%|██████████| 2/2 [00:00<00:00,  4.83it/s]"
     ]
    },
    {
     "name": "stdout",
     "output_type": "stream",
     "text": [
      "                   all         38         75      0.526       0.84      0.637      0.514\n"
     ]
    },
    {
     "name": "stderr",
     "output_type": "stream",
     "text": [
      "\n"
     ]
    },
    {
     "name": "stdout",
     "output_type": "stream",
     "text": [
      "\n",
      "      Epoch    GPU_mem   box_loss   cls_loss   dfl_loss  Instances       Size\n"
     ]
    },
    {
     "name": "stderr",
     "output_type": "stream",
     "text": [
      "     79/100       1.5G      1.213      1.515      1.193          1        480: 100%|██████████| 20/20 [00:04<00:00,  4.79it/s]\n",
      "                 Class     Images  Instances      Box(P          R      mAP50  mAP50-95): 100%|██████████| 2/2 [00:00<00:00,  4.56it/s]"
     ]
    },
    {
     "name": "stdout",
     "output_type": "stream",
     "text": [
      "                   all         38         75      0.564      0.917      0.665      0.531\n"
     ]
    },
    {
     "name": "stderr",
     "output_type": "stream",
     "text": [
      "\n"
     ]
    },
    {
     "name": "stdout",
     "output_type": "stream",
     "text": [
      "\n",
      "      Epoch    GPU_mem   box_loss   cls_loss   dfl_loss  Instances       Size\n"
     ]
    },
    {
     "name": "stderr",
     "output_type": "stream",
     "text": [
      "     80/100       1.5G      1.042      1.375      1.214          1        480: 100%|██████████| 20/20 [00:04<00:00,  4.64it/s]\n",
      "                 Class     Images  Instances      Box(P          R      mAP50  mAP50-95): 100%|██████████| 2/2 [00:00<00:00,  5.10it/s]"
     ]
    },
    {
     "name": "stdout",
     "output_type": "stream",
     "text": [
      "                   all         38         75      0.554      0.914      0.648      0.517\n"
     ]
    },
    {
     "name": "stderr",
     "output_type": "stream",
     "text": [
      "\n"
     ]
    },
    {
     "name": "stdout",
     "output_type": "stream",
     "text": [
      "\n",
      "      Epoch    GPU_mem   box_loss   cls_loss   dfl_loss  Instances       Size\n"
     ]
    },
    {
     "name": "stderr",
     "output_type": "stream",
     "text": [
      "     81/100       1.5G      1.071      1.448       1.18          3        480: 100%|██████████| 20/20 [00:04<00:00,  4.32it/s]\n",
      "                 Class     Images  Instances      Box(P          R      mAP50  mAP50-95): 100%|██████████| 2/2 [00:00<00:00,  4.73it/s]"
     ]
    },
    {
     "name": "stdout",
     "output_type": "stream",
     "text": [
      "                   all         38         75      0.546      0.907      0.652      0.503\n"
     ]
    },
    {
     "name": "stderr",
     "output_type": "stream",
     "text": [
      "\n"
     ]
    },
    {
     "name": "stdout",
     "output_type": "stream",
     "text": [
      "\n",
      "      Epoch    GPU_mem   box_loss   cls_loss   dfl_loss  Instances       Size\n"
     ]
    },
    {
     "name": "stderr",
     "output_type": "stream",
     "text": [
      "     82/100       1.5G      1.045       1.34      1.159          5        480: 100%|██████████| 20/20 [00:04<00:00,  4.64it/s]\n",
      "                 Class     Images  Instances      Box(P          R      mAP50  mAP50-95): 100%|██████████| 2/2 [00:00<00:00,  4.27it/s]"
     ]
    },
    {
     "name": "stdout",
     "output_type": "stream",
     "text": [
      "                   all         38         75      0.549       0.89      0.653      0.521\n"
     ]
    },
    {
     "name": "stderr",
     "output_type": "stream",
     "text": [
      "\n"
     ]
    },
    {
     "name": "stdout",
     "output_type": "stream",
     "text": [
      "\n",
      "      Epoch    GPU_mem   box_loss   cls_loss   dfl_loss  Instances       Size\n"
     ]
    },
    {
     "name": "stderr",
     "output_type": "stream",
     "text": [
      "     83/100       1.5G      1.157      1.402       1.25          4        480: 100%|██████████| 20/20 [00:04<00:00,  4.61it/s]\n",
      "                 Class     Images  Instances      Box(P          R      mAP50  mAP50-95): 100%|██████████| 2/2 [00:00<00:00,  4.65it/s]"
     ]
    },
    {
     "name": "stdout",
     "output_type": "stream",
     "text": [
      "                   all         38         75      0.528      0.883      0.645      0.516\n"
     ]
    },
    {
     "name": "stderr",
     "output_type": "stream",
     "text": [
      "\n"
     ]
    },
    {
     "name": "stdout",
     "output_type": "stream",
     "text": [
      "\n",
      "      Epoch    GPU_mem   box_loss   cls_loss   dfl_loss  Instances       Size\n"
     ]
    },
    {
     "name": "stderr",
     "output_type": "stream",
     "text": [
      "     84/100       1.5G      1.021      1.339      1.173          3        480: 100%|██████████| 20/20 [00:04<00:00,  4.59it/s]\n",
      "                 Class     Images  Instances      Box(P          R      mAP50  mAP50-95): 100%|██████████| 2/2 [00:00<00:00,  4.84it/s]"
     ]
    },
    {
     "name": "stdout",
     "output_type": "stream",
     "text": [
      "                   all         38         75      0.532      0.892      0.666      0.553\n"
     ]
    },
    {
     "name": "stderr",
     "output_type": "stream",
     "text": [
      "\n"
     ]
    },
    {
     "name": "stdout",
     "output_type": "stream",
     "text": [
      "\n",
      "      Epoch    GPU_mem   box_loss   cls_loss   dfl_loss  Instances       Size\n"
     ]
    },
    {
     "name": "stderr",
     "output_type": "stream",
     "text": [
      "     85/100       1.5G      1.067      1.338      1.157          6        480: 100%|██████████| 20/20 [00:04<00:00,  4.23it/s]\n",
      "                 Class     Images  Instances      Box(P          R      mAP50  mAP50-95): 100%|██████████| 2/2 [00:00<00:00,  3.12it/s]"
     ]
    },
    {
     "name": "stdout",
     "output_type": "stream",
     "text": [
      "                   all         38         75      0.536      0.889      0.698      0.577\n"
     ]
    },
    {
     "name": "stderr",
     "output_type": "stream",
     "text": [
      "\n"
     ]
    },
    {
     "name": "stdout",
     "output_type": "stream",
     "text": [
      "\n",
      "      Epoch    GPU_mem   box_loss   cls_loss   dfl_loss  Instances       Size\n"
     ]
    },
    {
     "name": "stderr",
     "output_type": "stream",
     "text": [
      "     86/100       1.5G      1.057      1.419      1.179          2        480: 100%|██████████| 20/20 [00:04<00:00,  4.26it/s]\n",
      "                 Class     Images  Instances      Box(P          R      mAP50  mAP50-95): 100%|██████████| 2/2 [00:00<00:00,  3.73it/s]"
     ]
    },
    {
     "name": "stdout",
     "output_type": "stream",
     "text": [
      "                   all         38         75       0.54      0.911      0.711      0.578\n"
     ]
    },
    {
     "name": "stderr",
     "output_type": "stream",
     "text": [
      "\n"
     ]
    },
    {
     "name": "stdout",
     "output_type": "stream",
     "text": [
      "\n",
      "      Epoch    GPU_mem   box_loss   cls_loss   dfl_loss  Instances       Size\n"
     ]
    },
    {
     "name": "stderr",
     "output_type": "stream",
     "text": [
      "     87/100       1.5G      1.091      1.403      1.208          2        480: 100%|██████████| 20/20 [00:04<00:00,  4.66it/s]\n",
      "                 Class     Images  Instances      Box(P          R      mAP50  mAP50-95): 100%|██████████| 2/2 [00:00<00:00,  4.41it/s]"
     ]
    },
    {
     "name": "stdout",
     "output_type": "stream",
     "text": [
      "                   all         38         75      0.556      0.911      0.685      0.562\n"
     ]
    },
    {
     "name": "stderr",
     "output_type": "stream",
     "text": [
      "\n"
     ]
    },
    {
     "name": "stdout",
     "output_type": "stream",
     "text": [
      "\n",
      "      Epoch    GPU_mem   box_loss   cls_loss   dfl_loss  Instances       Size\n"
     ]
    },
    {
     "name": "stderr",
     "output_type": "stream",
     "text": [
      "     88/100       1.5G      1.022      1.349      1.175          2        480: 100%|██████████| 20/20 [00:04<00:00,  4.46it/s]\n",
      "                 Class     Images  Instances      Box(P          R      mAP50  mAP50-95): 100%|██████████| 2/2 [00:00<00:00,  4.35it/s]"
     ]
    },
    {
     "name": "stdout",
     "output_type": "stream",
     "text": [
      "                   all         38         75      0.551      0.894       0.67      0.549\n"
     ]
    },
    {
     "name": "stderr",
     "output_type": "stream",
     "text": [
      "\n"
     ]
    },
    {
     "name": "stdout",
     "output_type": "stream",
     "text": [
      "\n",
      "      Epoch    GPU_mem   box_loss   cls_loss   dfl_loss  Instances       Size\n"
     ]
    },
    {
     "name": "stderr",
     "output_type": "stream",
     "text": [
      "     89/100       1.5G      1.077      1.378      1.181          5        480: 100%|██████████| 20/20 [00:04<00:00,  4.71it/s]\n",
      "                 Class     Images  Instances      Box(P          R      mAP50  mAP50-95): 100%|██████████| 2/2 [00:00<00:00,  3.65it/s]"
     ]
    },
    {
     "name": "stdout",
     "output_type": "stream",
     "text": [
      "                   all         38         75      0.536      0.874      0.625      0.514\n"
     ]
    },
    {
     "name": "stderr",
     "output_type": "stream",
     "text": [
      "\n"
     ]
    },
    {
     "name": "stdout",
     "output_type": "stream",
     "text": [
      "\n",
      "      Epoch    GPU_mem   box_loss   cls_loss   dfl_loss  Instances       Size\n"
     ]
    },
    {
     "name": "stderr",
     "output_type": "stream",
     "text": [
      "     90/100       1.5G       1.18      1.402      1.222          7        480: 100%|██████████| 20/20 [00:04<00:00,  4.80it/s]\n",
      "                 Class     Images  Instances      Box(P          R      mAP50  mAP50-95): 100%|██████████| 2/2 [00:00<00:00,  3.58it/s]"
     ]
    },
    {
     "name": "stdout",
     "output_type": "stream",
     "text": [
      "                   all         38         75      0.537      0.872      0.622      0.518\n"
     ]
    },
    {
     "name": "stderr",
     "output_type": "stream",
     "text": [
      "\n"
     ]
    },
    {
     "name": "stdout",
     "output_type": "stream",
     "text": [
      "Closing dataloader mosaic\n",
      "\u001b[34m\u001b[1malbumentations: \u001b[0mBlur(p=0.01, blur_limit=(3, 7)), MedianBlur(p=0.01, blur_limit=(3, 7)), ToGray(p=0.01), CLAHE(p=0.01, clip_limit=(1, 4.0), tile_grid_size=(8, 8))\n",
      "\n",
      "      Epoch    GPU_mem   box_loss   cls_loss   dfl_loss  Instances       Size\n"
     ]
    },
    {
     "name": "stderr",
     "output_type": "stream",
     "text": [
      "     91/100       1.5G     0.8985      1.201      1.123          2        480: 100%|██████████| 20/20 [00:07<00:00,  2.80it/s]\n",
      "                 Class     Images  Instances      Box(P          R      mAP50  mAP50-95): 100%|██████████| 2/2 [00:00<00:00,  3.27it/s]"
     ]
    },
    {
     "name": "stdout",
     "output_type": "stream",
     "text": [
      "                   all         38         75      0.547      0.895      0.643      0.532\n"
     ]
    },
    {
     "name": "stderr",
     "output_type": "stream",
     "text": [
      "\n"
     ]
    },
    {
     "name": "stdout",
     "output_type": "stream",
     "text": [
      "\n",
      "      Epoch    GPU_mem   box_loss   cls_loss   dfl_loss  Instances       Size\n"
     ]
    },
    {
     "name": "stderr",
     "output_type": "stream",
     "text": [
      "     92/100       1.5G      0.871      1.185        1.1          2        480: 100%|██████████| 20/20 [00:04<00:00,  4.65it/s]\n",
      "                 Class     Images  Instances      Box(P          R      mAP50  mAP50-95): 100%|██████████| 2/2 [00:00<00:00,  5.16it/s]"
     ]
    },
    {
     "name": "stdout",
     "output_type": "stream",
     "text": [
      "                   all         38         75      0.553      0.897      0.662      0.546\n"
     ]
    },
    {
     "name": "stderr",
     "output_type": "stream",
     "text": [
      "\n"
     ]
    },
    {
     "name": "stdout",
     "output_type": "stream",
     "text": [
      "\n",
      "      Epoch    GPU_mem   box_loss   cls_loss   dfl_loss  Instances       Size\n"
     ]
    },
    {
     "name": "stderr",
     "output_type": "stream",
     "text": [
      "     93/100       1.5G     0.9044      1.231       1.09          2        480: 100%|██████████| 20/20 [00:04<00:00,  4.53it/s]\n",
      "                 Class     Images  Instances      Box(P          R      mAP50  mAP50-95): 100%|██████████| 2/2 [00:00<00:00,  3.54it/s]"
     ]
    },
    {
     "name": "stdout",
     "output_type": "stream",
     "text": [
      "                   all         38         75      0.534      0.892      0.668      0.553\n"
     ]
    },
    {
     "name": "stderr",
     "output_type": "stream",
     "text": [
      "\n"
     ]
    },
    {
     "name": "stdout",
     "output_type": "stream",
     "text": [
      "\n",
      "      Epoch    GPU_mem   box_loss   cls_loss   dfl_loss  Instances       Size\n"
     ]
    },
    {
     "name": "stderr",
     "output_type": "stream",
     "text": [
      "     94/100       1.5G     0.9457      1.231        1.1          2        480: 100%|██████████| 20/20 [00:05<00:00,  3.93it/s]\n",
      "                 Class     Images  Instances      Box(P          R      mAP50  mAP50-95): 100%|██████████| 2/2 [00:00<00:00,  5.00it/s]"
     ]
    },
    {
     "name": "stdout",
     "output_type": "stream",
     "text": [
      "                   all         38         75      0.534      0.873      0.656      0.537\n"
     ]
    },
    {
     "name": "stderr",
     "output_type": "stream",
     "text": [
      "\n"
     ]
    },
    {
     "name": "stdout",
     "output_type": "stream",
     "text": [
      "\n",
      "      Epoch    GPU_mem   box_loss   cls_loss   dfl_loss  Instances       Size\n"
     ]
    },
    {
     "name": "stderr",
     "output_type": "stream",
     "text": [
      "     95/100       1.5G     0.8514      1.243      1.092          2        480: 100%|██████████| 20/20 [00:03<00:00,  5.06it/s]\n",
      "                 Class     Images  Instances      Box(P          R      mAP50  mAP50-95): 100%|██████████| 2/2 [00:00<00:00,  3.83it/s]"
     ]
    },
    {
     "name": "stdout",
     "output_type": "stream",
     "text": [
      "                   all         38         75      0.529      0.863      0.659       0.55\n"
     ]
    },
    {
     "name": "stderr",
     "output_type": "stream",
     "text": [
      "\n"
     ]
    },
    {
     "name": "stdout",
     "output_type": "stream",
     "text": [
      "\n",
      "      Epoch    GPU_mem   box_loss   cls_loss   dfl_loss  Instances       Size\n"
     ]
    },
    {
     "name": "stderr",
     "output_type": "stream",
     "text": [
      "     96/100       1.5G     0.8571      1.192      1.095          2        480: 100%|██████████| 20/20 [00:03<00:00,  5.31it/s]\n",
      "                 Class     Images  Instances      Box(P          R      mAP50  mAP50-95): 100%|██████████| 2/2 [00:00<00:00,  3.67it/s]"
     ]
    },
    {
     "name": "stdout",
     "output_type": "stream",
     "text": [
      "                   all         38         75      0.524      0.878      0.656      0.554\n"
     ]
    },
    {
     "name": "stderr",
     "output_type": "stream",
     "text": [
      "\n"
     ]
    },
    {
     "name": "stdout",
     "output_type": "stream",
     "text": [
      "\n",
      "      Epoch    GPU_mem   box_loss   cls_loss   dfl_loss  Instances       Size\n"
     ]
    },
    {
     "name": "stderr",
     "output_type": "stream",
     "text": [
      "     97/100       1.5G      1.008      1.323      1.126          2        480: 100%|██████████| 20/20 [00:04<00:00,  4.48it/s]\n",
      "                 Class     Images  Instances      Box(P          R      mAP50  mAP50-95): 100%|██████████| 2/2 [00:00<00:00,  4.04it/s]"
     ]
    },
    {
     "name": "stdout",
     "output_type": "stream",
     "text": [
      "                   all         38         75      0.522      0.856      0.659      0.549\n"
     ]
    },
    {
     "name": "stderr",
     "output_type": "stream",
     "text": [
      "\n"
     ]
    },
    {
     "name": "stdout",
     "output_type": "stream",
     "text": [
      "\n",
      "      Epoch    GPU_mem   box_loss   cls_loss   dfl_loss  Instances       Size\n"
     ]
    },
    {
     "name": "stderr",
     "output_type": "stream",
     "text": [
      "     98/100       1.5G     0.8381      1.207      1.054          2        480: 100%|██████████| 20/20 [00:04<00:00,  4.92it/s]\n",
      "                 Class     Images  Instances      Box(P          R      mAP50  mAP50-95): 100%|██████████| 2/2 [00:00<00:00,  4.33it/s]"
     ]
    },
    {
     "name": "stdout",
     "output_type": "stream",
     "text": [
      "                   all         38         75      0.549      0.865      0.644      0.534\n"
     ]
    },
    {
     "name": "stderr",
     "output_type": "stream",
     "text": [
      "\n"
     ]
    },
    {
     "name": "stdout",
     "output_type": "stream",
     "text": [
      "\n",
      "      Epoch    GPU_mem   box_loss   cls_loss   dfl_loss  Instances       Size\n"
     ]
    },
    {
     "name": "stderr",
     "output_type": "stream",
     "text": [
      "     99/100       1.5G      0.853      1.157      1.089          2        480: 100%|██████████| 20/20 [00:04<00:00,  4.58it/s]\n",
      "                 Class     Images  Instances      Box(P          R      mAP50  mAP50-95): 100%|██████████| 2/2 [00:00<00:00,  4.56it/s]"
     ]
    },
    {
     "name": "stdout",
     "output_type": "stream",
     "text": [
      "                   all         38         75      0.535      0.867      0.646       0.54\n"
     ]
    },
    {
     "name": "stderr",
     "output_type": "stream",
     "text": [
      "\n"
     ]
    },
    {
     "name": "stdout",
     "output_type": "stream",
     "text": [
      "\n",
      "      Epoch    GPU_mem   box_loss   cls_loss   dfl_loss  Instances       Size\n"
     ]
    },
    {
     "name": "stderr",
     "output_type": "stream",
     "text": [
      "    100/100       1.5G     0.8874      1.168      1.088          2        480: 100%|██████████| 20/20 [00:04<00:00,  4.79it/s]\n",
      "                 Class     Images  Instances      Box(P          R      mAP50  mAP50-95): 100%|██████████| 2/2 [00:00<00:00,  5.02it/s]"
     ]
    },
    {
     "name": "stdout",
     "output_type": "stream",
     "text": [
      "                   all         38         75      0.542      0.865       0.64      0.541\n"
     ]
    },
    {
     "name": "stderr",
     "output_type": "stream",
     "text": [
      "\n"
     ]
    },
    {
     "name": "stdout",
     "output_type": "stream",
     "text": [
      "\n",
      "100 epochs completed in 0.159 hours.\n",
      "Optimizer stripped from /usr/src/ultralytics/runs/detect/train13/weights/last.pt, 6.2MB\n",
      "Optimizer stripped from /usr/src/ultralytics/runs/detect/train13/weights/best.pt, 6.2MB\n",
      "\n",
      "Validating /usr/src/ultralytics/runs/detect/train13/weights/best.pt...\n",
      "Ultralytics YOLOv8.1.45 🚀 Python-3.10.14 torch-2.2.2 CUDA:0 (NVIDIA GeForce RTX 2060 with Max-Q Design, 6144MiB)\n",
      "Model summary (fused): 168 layers, 3008768 parameters, 0 gradients, 8.1 GFLOPs\n"
     ]
    },
    {
     "name": "stderr",
     "output_type": "stream",
     "text": [
      "                 Class     Images  Instances      Box(P          R      mAP50  mAP50-95): 100%|██████████| 2/2 [00:00<00:00,  2.74it/s]"
     ]
    },
    {
     "ename": "",
     "evalue": "",
     "output_type": "error",
     "traceback": [
      "\u001b[1;31mThe Kernel crashed while executing code in the current cell or a previous cell. \n",
      "\u001b[1;31mPlease review the code in the cell(s) to identify a possible cause of the failure. \n",
      "\u001b[1;31mClick <a href='https://aka.ms/vscodeJupyterKernelCrash'>here</a> for more info. \n",
      "\u001b[1;31mView Jupyter <a href='command:jupyter.viewOutput'>log</a> for further details."
     ]
    },
    {
     "ename": "",
     "evalue": "",
     "output_type": "error",
     "traceback": [
      "\u001b[1;31mCanceled future for execute_request message before replies were done"
     ]
    },
    {
     "ename": "",
     "evalue": "",
     "output_type": "error",
     "traceback": [
      "\u001b[1;31mCanceled future for execute_request message before replies were done. \n",
      "\u001b[1;31mView Jupyter <a href='command:jupyter.viewOutput'>log</a> for further details."
     ]
    }
   ],
   "source": [
    "from clearml import Task, TaskTypes\n",
    "from ultralytics import YOLO \n",
    "\n",
    "# Create a ClearML Task\n",
    "task = Task.init(\n",
    "    project_name=\"LVGL UI Detector\",\n",
    "    task_name=f\"train (ui_widgets)\",\n",
    "    task_type=TaskTypes.training,\n",
    ")\n",
    "\n",
    "# Load a model\n",
    "model_variant = \"yolov8n\"\n",
    "# Log \"model_variant\" parameter to task\n",
    "task.set_parameter(\"model_variant\", model_variant)\n",
    "\n",
    "# Load the YOLOv8 model\n",
    "model = YOLO(f'{model_variant}.pt') \n",
    "\n",
    "# Put all YOLOv8 arguments in a dictionary and pass it to ClearML\n",
    "# When the arguments are later changed in UI, they will be overridden here!\n",
    "args = dict(data=dataset_file, epochs=100, imgsz=480)\n",
    "task.connect(args)\n",
    "\n",
    "# Train the model \n",
    "# If running remotely, the arguments may be overridden by ClearML if they were changed in the UI\n",
    "try:\n",
    "    results = model.train(**args)\n",
    "except Exception as e:\n",
    "    raise e\n",
    "finally:\n",
    "    task.close()"
   ]
  },
  {
   "cell_type": "code",
   "execution_count": null,
   "metadata": {},
   "outputs": [],
   "source": [
    "from ultralytics import YOLO\n",
    "model = YOLO('yolov8n.pt')\n",
    "\n",
    "results = model.train(data=f\"/workspace/project/tmp/random_widgets.yaml\", epochs=100, imgsz=480, device=[0])"
   ]
  },
  {
   "cell_type": "code",
   "execution_count": null,
   "metadata": {},
   "outputs": [],
   "source": [
    "# Perform validation using the validate function\n",
    "model = YOLO('/usr/src/ultralytics/runs/detect/train7/weights/best.pt')\n",
    "results = model.val()"
   ]
  },
  {
   "cell_type": "code",
   "execution_count": null,
   "metadata": {},
   "outputs": [],
   "source": [
    "results.box.map"
   ]
  },
  {
   "cell_type": "code",
   "execution_count": null,
   "metadata": {},
   "outputs": [],
   "source": [
    "results.box.map50"
   ]
  },
  {
   "cell_type": "code",
   "execution_count": null,
   "metadata": {},
   "outputs": [],
   "source": [
    "results.box.map75"
   ]
  },
  {
   "cell_type": "code",
   "execution_count": null,
   "metadata": {},
   "outputs": [],
   "source": [
    "results.box.maps"
   ]
  },
  {
   "cell_type": "code",
   "execution_count": null,
   "metadata": {},
   "outputs": [],
   "source": [
    "from ultralytics.utils.benchmarks import benchmark\n",
    "\n",
    "# Benchmark on GPU\n",
    "benchmark(model='/usr/src/ultralytics/runs/detect/train7/weights/best.pt', data='/workspace/project/tmp/custom/custom.yaml', imgsz=416, half=False, device=[0])"
   ]
  }
 ],
 "metadata": {
  "kernelspec": {
   "display_name": "Python 3 (ipykernel)",
   "language": "python",
   "name": "python3"
  },
  "language_info": {
   "codemirror_mode": {
    "name": "ipython",
    "version": 3
   },
   "file_extension": ".py",
   "mimetype": "text/x-python",
   "name": "python",
   "nbconvert_exporter": "python",
   "pygments_lexer": "ipython3",
   "version": "3.10.14"
  }
 },
 "nbformat": 4,
 "nbformat_minor": 2
}
